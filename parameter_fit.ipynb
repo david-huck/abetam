{
 "cells": [
  {
   "cell_type": "markdown",
   "metadata": {},
   "source": [
    "# The parameter fit"
   ]
  },
  {
   "cell_type": "code",
   "execution_count": null,
   "id": "01J5NQMSZS5FE02GQAR55S2M79",
   "metadata": {},
   "outputs": [],
   "source": [
    "import pandas as pd\n",
    "import numpy as np\n",
    "\n",
    "from scipy.optimize import minimize\n",
    "from data.canada import nrcan_tech_shares_df\n",
    "\n",
    "from batch import BatchResult\n",
    "\n",
    "historic_tech_shares = nrcan_tech_shares_df.copy()\n",
    "historic_tech_shares.index = historic_tech_shares.index.swaplevel()\n",
    "\n",
    "province = \"Ontario\"\n",
    "\n",
    "h_tech_shares = historic_tech_shares.loc[province, :] / 100\n",
    "att_mode_table = h_tech_shares.copy()\n"
   ]
  },
  {
   "cell_type": "code",
   "execution_count": null,
   "id": "01J5NQMSZSGG6VA82AQJNS0N7V",
   "metadata": {},
   "outputs": [],
   "source": [
    "from parameter_fit import fit_attitudes\n",
    "\n",
    "results = fit_attitudes(\n",
    "    0.6, 0.2, att_mode_table=att_mode_table, N=80, n_fit_iterations=20, ts_step_length=\"Q\"\n",
    "    )"
   ]
  },
  {
   "cell_type": "code",
   "execution_count": null,
   "id": "01J5NQMSZTZXZYNS9QVSPH7PPY",
   "metadata": {},
   "outputs": [],
   "source": [
    "shares_df, fitted_tech_shares, all_att_modes, best_modes = results"
   ]
  },
  {
   "cell_type": "code",
   "execution_count": null,
   "id": "01J5NQMSZT82WSBS23XEN5BY61",
   "metadata": {},
   "outputs": [],
   "source": [
    "historic_tech_shares_l = (historic_tech_shares.loc[\"Ontario\",:]/100).melt(ignore_index=False).reset_index()\n",
    "historic_tech_shares_l[\"iteration\"] = \"historic\"\n",
    "tech_shares_df = pd.concat([historic_tech_shares_l, fitted_tech_shares])\n",
    "tech_shares_df[\"var_type\"] = \"tech_share\"\n",
    "tech_shares_df"
   ]
  },
  {
   "cell_type": "code",
   "execution_count": null,
   "id": "01J5NQMSZT33PVZE3NXBNTSHKP",
   "metadata": {},
   "outputs": [],
   "source": [
    "att_modes = all_att_modes.melt(ignore_index=False, id_vars=[\"province\",\"iteration\", \"p_mode\", \"peer_eff\",]).reset_index()\n",
    "att_modes[\"var_type\"] = \"att_mode\"\n",
    "\n",
    "data = pd.concat([tech_shares_df, att_modes])"
   ]
  },
  {
   "cell_type": "code",
   "execution_count": null,
   "id": "01J5NQMSZTP2C4W84KC9V78K84",
   "metadata": {},
   "outputs": [],
   "source": [
    "import plotly.express as px\n",
    "# fig = px.line(fitted_tech_shares, x=\"year\", y=\"value\", color=\"variable\", line_dash=\"iteration\", template=\"plotly\")\n",
    "fig = px.line(data, x=\"year\", y=\"value\", color=\"variable\", line_dash=\"iteration\", template=\"plotly\", facet_row=\"var_type\")\n",
    "fig.update_traces(opacity=.2, )\n",
    "def historic_trace(trace):\n",
    "    return \"historic\" in trace.name\n",
    "fig.update_traces(line=dict(width=3, dash=\"solid\"), opacity=1, selector = historic_trace)\n",
    "fig.update_yaxes(matches=None)"
   ]
  },
  {
   "cell_type": "code",
   "execution_count": null,
   "id": "01J5NQMSZVDCB74QT8P333WQM4",
   "metadata": {},
   "outputs": [],
   "source": [
    "\n",
    "\n",
    "def diff_btwn_model_historic(att_modes_array, N=100, province=\"Ontario\", p_mode=0.5, peer_eff=0.2):\n",
    "    att_modes = flat_array_2_table(att_modes_array)\n",
    "    batch_parameters = {\n",
    "        \"N\": [N],\n",
    "        \"province\": [province],\n",
    "        \"random_seed\": range(20, 25),\n",
    "        \"start_year\": 2000,\n",
    "        \"tech_att_mode_table\": [att_modes],\n",
    "        \"n_segregation_steps\": [40],\n",
    "        \"interact\": [False],\n",
    "        \"price_weight_mode\": [p_mode],\n",
    "        \"ts_step_length\":[\"W\"],\n",
    "        \"peer_effect_weight\": [peer_eff]\n",
    "    }\n",
    "    b_result = BatchResult.from_parameters(batch_parameters, display_progress=False)\n",
    "    model_shares = (\n",
    "        b_result.tech_shares_df.groupby([\"province\", \"year\"])\n",
    "        .mean()\n",
    "        .drop(\"RunId\", axis=1)\n",
    "    )\n",
    "    full_years = range(2000, 2021)\n",
    "    diff = (h_tech_shares - model_shares.loc[(province, full_years), :]).loc[\n",
    "        province, :\n",
    "    ]\n",
    "    abs_diff = diff.abs().sum().sum()\n",
    "    print(abs_diff)\n",
    "    return abs_diff\n",
    "\n",
    "def flatten_table(table):\n",
    "    return table.values.flatten()\n",
    "\n",
    "def flat_array_2_table(array):\n",
    "    cols = ['Electric furnace', 'Gas furnace', 'Heat pump', 'Oil furnace',\n",
    "       'Wood or wood pellets furnace']\n",
    "    return pd.DataFrame(array.reshape((21,5)), columns=cols, index=range(2000,2021))\n",
    "\n",
    "\n",
    "x0=flatten_table(h_tech_shares.copy())\n",
    "bounds = [*[(0.05, 0.95)]*len(x0)]\n",
    "# other methods to try:\n",
    "# L-BFGS-T is the default and doesn't appear to converge after > 10 iterations\n",
    "# [ ] Powell\n",
    "# [ ] TNC\n",
    "# [ ] trust-constr\n",
    "# [ ] COBYLA\n",
    "\n",
    "# res = minimize(diff_btwn_model_historic, x0=x0, bounds=bounds, options={\"maxiter\":10, \"disp\":True}, method=\"SLSQP\")"
   ]
  },
  {
   "cell_type": "code",
   "execution_count": null,
   "id": "01J5DDKHRRVHWQS0RG4KFB1QFJ",
   "metadata": {},
   "outputs": [],
   "source": []
  },
  {
   "cell_type": "markdown",
   "metadata": {},
   "source": [
    "# Analysing parameter fit results"
   ]
  },
  {
   "cell_type": "code",
   "execution_count": null,
   "metadata": {},
   "outputs": [],
   "source": [
    "import pandas as pd\n",
    "import plotly.express as px\n",
    "from pathlib import Path\n",
    "results_dir = \"results/fitting/2024.08.27-10.33\"\n",
    "\n",
    "def file_in_dir_like(dir, name_frag, suffix=\".csv\"):\n",
    "    matches = list(Path(results_dir).glob(f\"*{name_frag}*{suffix}\"))\n",
    "    if len(matches) != 1:\n",
    "        raise ValueError(f\"found {matches}, proceeding not defined\")\n",
    "    return matches[0]\n",
    "att_mode_table = pd.read_csv(file_in_dir_like(results_dir,\"all_attitude_modes\"))\n",
    "\n",
    "# att_mode_table[[\"p_mode\",\"gut\"]] = att_mode_table[[\"p_mode\",\"gut\"]].round(2)\n",
    "att_mode_table[\"p_mode\"] = att_mode_table[\"p_mode\"].round(2)\n",
    "\n",
    "att_mode_table.head()"
   ]
  },
  {
   "cell_type": "code",
   "execution_count": null,
   "metadata": {},
   "outputs": [],
   "source": [
    "best_modes = pd.read_csv(file_in_dir_like(results_dir, \"best_modes\"))\n",
    "best_modes[[\"p_mode\"]] = best_modes[[\"p_mode\"]].round(2)\n",
    "\n",
    "best_modes.set_index([\"p_mode\",\"peer_eff\"]).loc[(0.65, 0.2),:]"
   ]
  },
  {
   "cell_type": "code",
   "execution_count": null,
   "metadata": {},
   "outputs": [],
   "source": [
    "# best_modes[[\"best_abs_diff\", \"province\", \"p_mode\",]].groupby([\"province\",\"p_mode\"]).mean().reset_index().pivot(index=[\"province\"], columns=\"p_mode\", values=\"best_abs_diff\")\n",
    "best_modes[[\"best_abs_diff_sum\", \"province\", \"p_mode\",\"peer_eff\"]].groupby([\"province\",\"p_mode\",\"peer_eff\"]).mean().reset_index().pivot(index=[\"peer_eff\"], columns=\"p_mode\", values=\"best_abs_diff_sum\")"
   ]
  },
  {
   "cell_type": "code",
   "execution_count": null,
   "metadata": {},
   "outputs": [],
   "source": [
    "# top_12 = best_modes.groupby([\"p_mode\"])[[\"best_abs_diff\"]].min().sort_values(by=\"best_abs_diff\").reset_index().loc[:4,:]\n",
    "top_12 = best_modes.groupby([\"p_mode\",\"peer_eff\"])[[\"best_abs_diff_sum\"]].min().sort_values(by=\"best_abs_diff_sum\").reset_index().loc[:4,:]\n",
    "top_12"
   ]
  },
  {
   "cell_type": "code",
   "execution_count": null,
   "metadata": {},
   "outputs": [],
   "source": [
    "# gut = top_12['gut'][0]\n",
    "p_mode = top_12['p_mode'][0]\n",
    "# best_modes.query(f\"gut=={gut} and p_mode=={p_mode}\").iloc[:,:-4].set_index(\"year\").loc[2020,:]\n",
    "best_modes.query(f\"p_mode=={p_mode}\").iloc[:,:].set_index(\"year\").loc[2020,:]"
   ]
  },
  {
   "cell_type": "code",
   "execution_count": null,
   "metadata": {},
   "outputs": [],
   "source": [
    "top_p_modes = top_12['p_mode'].to_list()\n",
    "# top_guts = top_12['gut'].to_list()\n",
    "asc_p_mode = sorted(top_12[\"p_mode\"].unique())\n",
    "# asc_gut = sorted(top_12[\"gut\"].unique())\n",
    "asc_p_mode"
   ]
  },
  {
   "cell_type": "code",
   "execution_count": null,
   "metadata": {},
   "outputs": [],
   "source": [
    "# att_mode_table[\"gut and p_mode\"] = att_mode_table[[\"gut\",\"p_mode\"]].values.tolist()\n",
    "# att_mode_table[\"gut and p_mode\"] = att_mode_table[\"gut and p_mode\"].apply(tuple)\n",
    "att_mode_table.head()"
   ]
  },
  {
   "cell_type": "code",
   "execution_count": null,
   "metadata": {},
   "outputs": [],
   "source": [
    "\n",
    "atts = att_mode_table.query(f\"variable!='province'\").set_index([\"p_mode\",\"year\"]).loc[asc_p_mode,:,:].reset_index()\n",
    "atts[\"value\"] = atts[\"value\"].astype(float)\n",
    "fig = px.line(atts, x=\"year\", y=\"value\", color=\"variable\", facet_col=\"p_mode\", facet_row=\"peer_eff\", line_dash=\"iteration\", template=\"plotly\", height=700, category_orders={\"p_mode\":asc_p_mode, })#\"gut\":asc_gut})\n",
    "# fig = px.line(atts, x=\"year\", y=\"value\", color=\"variable\", facet_col=\"p_mode\", line_dash=\"iteration\", template=\"plotly\", height=700,)# category_orders={\"p_mode\":asc_p_mode, \"gut\":asc_gut})\n",
    "fig.update_traces(opacity=.2, )\n",
    "fig.update_layout(yaxis_title=\"Mode\")\n",
    "fig.write_html(f\"{results_dir}/fitted_att_modes.html\")\n",
    "fig"
   ]
  },
  {
   "cell_type": "code",
   "execution_count": null,
   "metadata": {},
   "outputs": [],
   "source": [
    "# best_modes[\"gut and p_mode\"] = best_modes[[\"gut\",\"p_mode\"]].values.tolist()\n",
    "# best_modes[\"gut and p_mode\"] = best_modes[\"gut and p_mode\"].apply(tuple)\n",
    "\n",
    "# best_modes_long = best_modes.melt(id_vars=[\"year\",\"province\",\"p_mode\",\"peer_eff\",\"best_abs_diff\",\"gut and p_mode\"])#.set_index([\"gut and p_mode\",\"year\"]).loc[top_gut_p_modes,:,:].reset_index()\n",
    "best_modes_long = best_modes.melt(id_vars=[\"year\",\"province\",\"p_mode\",\"peer_eff\",\"best_abs_diff_sum\"]).reset_index()#.set_index([\"gut and p_mode\",\"year\"]).loc[top_gut_p_modes,:,:].reset_index()\n",
    "# best_modes_long = best_modes.melt(id_vars=[\"year\",\"province\",\"p_mode\",\"best_abs_diff\"]).set_index([\"p_mode\",\"year\"]).loc[asc_p_mode,:,:].reset_index()\n",
    "fig = px.line(best_modes_long, x=\"year\", y=\"value\", color=\"variable\", facet_col=\"p_mode\", facet_row=\"peer_eff\", template=\"plotly\", height=700)\n",
    "# fig = px.line(best_modes_long, x=\"year\", y=\"value\", color=\"variable\", facet_col=\"p_mode\", template=\"plotly\", height=700)\n",
    "fig.update_layout(yaxis_title=\"Mode\")\n",
    "fig.write_html(f\"{results_dir}/fitted_att_modes_best_only.html\")\n",
    "fig\n"
   ]
  },
  {
   "cell_type": "code",
   "execution_count": null,
   "metadata": {},
   "outputs": [],
   "source": [
    "tech_shares = pd.read_csv(file_in_dir_like(results_dir, \"historic_tech\"), index_col=0)\n",
    "# tech_shares[[\"gut\",\"p_mode\"]] = tech_shares[[\"gut\",\"p_mode\"]].round(2)\n",
    "# tech_shares[\"gut and p_mode\"] = tech_shares[[\"gut\",\"p_mode\"]].values.tolist()\n",
    "# tech_shares[\"gut and p_mode\"] = tech_shares[\"gut and p_mode\"].apply(tuple)\n",
    "# tech_shares = tech_shares.set_index([\"gut and p_mode\",\"year\"]).loc[top_gut_p_modes,:,:].reset_index()\n",
    "tech_shares.head()"
   ]
  },
  {
   "cell_type": "code",
   "execution_count": null,
   "metadata": {},
   "outputs": [],
   "source": [
    "import numpy as np\n",
    "contains_val = ~top_12.pivot(columns=\"p_mode\",index=\"peer_eff\").isna().values\n",
    "# contains_val = ~top_12.pivot(columns=\"p_mode\",index=\"gut\").isna().values\n",
    "indcs = list(zip(*np.where(contains_val)))\n",
    "indcs"
   ]
  },
  {
   "cell_type": "code",
   "execution_count": null,
   "metadata": {},
   "outputs": [],
   "source": [
    "from data.canada import nrcan_tech_shares_df\n",
    "from config import TECHNOLOGY_COLORS\n",
    "# fig = px.line(tech_shares, x=\"year\", y=\"value\", color=\"variable\", facet_col=\"p_mode\",  line_dash=\"iteration\", template=\"plotly\", height=700, color_discrete_map=TECHNOLOGY_COLORS)\n",
    "fig = px.line(tech_shares, x=\"year\", y=\"value\", color=\"variable\", facet_col=\"p_mode\", facet_row=\"peer_eff\", line_dash=\"iteration\", template=\"plotly\",  height=700, color_discrete_map=TECHNOLOGY_COLORS)#category_orders={\"p_mode\":asc_p_mode, \"gut\":asc_gut},\n",
    "fig.for_each_trace(lambda t: t.update(showlegend=False))\n",
    "\n",
    "fig.update_traces(opacity=0.2)\n",
    "\n",
    "province=\"Ontario\"\n",
    "historic_tech_shares = nrcan_tech_shares_df.copy()\n",
    "historic_tech_shares.index = historic_tech_shares.index.swaplevel()\n",
    "h_tech_shares = historic_tech_shares.loc[province, :] / 100\n",
    "\n",
    "h_tech_shares_long = h_tech_shares.melt(ignore_index=False)\n",
    "\n",
    "hist_fig = px.line(h_tech_shares_long.reset_index(), x=\"year\", y=\"value\", color=\"variable\", template=\"plotly\", color_discrete_map=TECHNOLOGY_COLORS)\n",
    "\n",
    "\n",
    "legend_names = []\n",
    "# for idx in indcs:\n",
    "for i,idx in enumerate(indcs):\n",
    "    for trace in hist_fig.data:\n",
    "        if trace.name in legend_names:\n",
    "            showlegend = False\n",
    "        else: \n",
    "            showlegend = True\n",
    "            legend_names.append(trace.name)\n",
    "        trace.showlegend = showlegend\n",
    "        # print(np.array(indcs).max(axis=0)[0]+1-idx[0])\n",
    "        # fig.add_trace(trace, row=1, col=i+1)\n",
    "        print(indcs)\n",
    "        fig.add_trace(trace, row=np.array(indcs).max(axis=0)[0]+1-idx[0], col=idx[1]+1)\n",
    "fig.update_layout(yaxis_title=\"Adoption Levels\")\n",
    "fig.write_html(f\"{results_dir}/fitted_adoption_levels.html\")\n",
    "fig"
   ]
  },
  {
   "cell_type": "markdown",
   "metadata": {},
   "source": [
    "# Overlay batch run with historic adoption"
   ]
  },
  {
   "cell_type": "code",
   "execution_count": null,
   "metadata": {},
   "outputs": [],
   "source": [
    "top_12"
   ]
  },
  {
   "cell_type": "code",
   "execution_count": null,
   "metadata": {},
   "outputs": [],
   "source": [
    "from data.canada import nrcan_tech_shares_df\n",
    "from matplotlib.lines import Line2D\n",
    "import matplotlib.pyplot as plt\n",
    "from config import TECHNOLOGY_COLORS\n",
    "import seaborn as sns\n",
    "# ax = result.tech_shares_fig()\n",
    "# added_historic_traces = False\n",
    "top_12[\"p_mode\"] = top_12[\"p_mode\"].round(2)\n",
    "tech_shares[\"p_mode\"] = tech_shares[\"p_mode\"].round(2)\n",
    "best_mode, best_peer_eff = top_12.loc[0,[\"p_mode\",\"peer_eff\"]]\n",
    "# tech_shares_2_plot = tech_shares.query(f\"p_mode=={best_mode} and peer_eff=={best_peer_eff} and year%2==0\")\n",
    "tech_shares_2_plot = tech_shares.query(f\"p_mode.isin({top_12['p_mode'][:4].to_list()}) and peer_eff.isin({top_12['peer_eff'][:4].to_list()}) and year%2==0\")\n",
    "tech_shares_2_plot[\"param_set\"] = tech_shares_2_plot[\"p_mode\"].astype(str)+ \",\"+ tech_shares_2_plot[\"peer_eff\"].astype(str)\n",
    "tech_shares_2_plot"
   ]
  },
  {
   "cell_type": "code",
   "execution_count": null,
   "metadata": {},
   "outputs": [],
   "source": [
    "g = sns.relplot(tech_shares_2_plot, x=\"year\", y=\"value\", hue=\"variable\", palette=TECHNOLOGY_COLORS, kind=\"line\", errorbar=(\"ci\",99), col=\"param_set\", col_wrap=4)\n",
    "\n",
    "\n",
    "historic_tech_shares = nrcan_tech_shares_df.copy()\n",
    "historic_tech_shares.index = historic_tech_shares.index.swaplevel()\n",
    "# flatten axes into a 1-d array\n",
    "axes = g.axes.flatten()\n",
    "\n",
    "# iterate through the axes\n",
    "for i, ax in enumerate(axes):\n",
    "    \n",
    "    for tech in historic_tech_shares.columns:\n",
    "        y = historic_tech_shares.loc[province, tech]/100\n",
    "        _=ax.plot(y.index,y.values, \"--\", color=TECHNOLOGY_COLORS[tech],)\n",
    "\n",
    "# new_title = 'Heating technologies'\n",
    "# _=ax.legend()\n",
    "\n",
    "\n",
    "# custom_lines = [Line2D([0], [0], linestyle=\"--\", color=\"black\", lw=1),\n",
    "#                 Line2D([0], [0], color=\"black\", lw=1),\n",
    "#                 ]\n",
    "# ax.legend(custom_lines, ['historic', 'modelled'],)\n",
    "# ax.set_xticks(range(2000,2021,5), labels=range(2000,2021,5))\n",
    "# ax.figure.savefig(f\"{results_dir}/fitted_vs_historic_adoption.svg\")\n",
    "g.figure"
   ]
  },
  {
   "cell_type": "code",
   "execution_count": null,
   "metadata": {},
   "outputs": [],
   "source": [
    "plt.rcParams.keys()"
   ]
  },
  {
   "cell_type": "code",
   "execution_count": null,
   "metadata": {},
   "outputs": [],
   "source": [
    "plt.rcParams[\"text.usetex\"] = False\n",
    "plt.rcParams[\"font.family\"]=\"cm\"\n",
    "plt.rcParams[\"font.size\"]=\"16\"\n",
    "\n",
    "chosen_tech_shares = tech_shares_2_plot.query(\"p_mode==0.6 and peer_eff==0.2\")\n",
    "chosen_tech_shares[\"value\"] *= 100\n",
    "chosen_tech_shares.to_csv(f\"{results_dir}/chosen_tech_shares.csv\")\n"
   ]
  },
  {
   "cell_type": "code",
   "execution_count": null,
   "metadata": {},
   "outputs": [],
   "source": [
    "\n",
    "g = sns.lineplot(chosen_tech_shares, x=\"year\", y=\"value\", hue=\"variable\", palette=TECHNOLOGY_COLORS, errorbar=(\"ci\",99), )\n",
    "\n",
    "\n",
    "historic_tech_shares = nrcan_tech_shares_df.copy()\n",
    "historic_tech_shares.index = historic_tech_shares.index.swaplevel()\n",
    "# flatten axes into a 1-d array\n",
    "\n",
    "\n",
    "ax = g.axes\n",
    "for tech in historic_tech_shares.columns:\n",
    "    y = historic_tech_shares.loc[province, tech]\n",
    "    ax.plot(y.index,y.values, \"--\", color=TECHNOLOGY_COLORS[tech],)\n",
    "\n",
    "handles, labels = ax.get_legend_handles_labels()\n",
    "ax.legend(handles, labels, title=\"Heating technologies\")\n",
    "\n",
    "custom_lines = [Line2D([0], [0], linestyle=\"--\", color=\"black\", lw=1),\n",
    "                Line2D([0], [0], color=\"black\", lw=1),\n",
    "                ]\n",
    "ax.figure.legend(custom_lines, ['historic', 'modelled'],loc=(0.15, 0.5))\n",
    "\n",
    "ax.set_ylabel(\"Technology share (%)\")\n",
    "ax.set_xticks(range(2000,2021,5), labels=range(2000,2021,5))\n"
   ]
  },
  {
   "cell_type": "code",
   "execution_count": null,
   "metadata": {},
   "outputs": [],
   "source": [
    "import seaborn as sns\n",
    "future_shares = pd.read_csv(file_in_dir_like(results_dir, \"future\"), index_col=0)\n",
    "# future_shares[[\"gut\",\"p_mode\"]] = future_shares[[\"gut\",\"p_mode\"]].round(2)\n",
    "future_shares[[\"p_mode\"]] = future_shares[[\"p_mode\"]].round(2)\n",
    "# future_shares[\"gut and p_mode\"] = future_shares[[\"gut\",\"p_mode\"]].values.tolist()\n",
    "# future_shares[\"gut and p_mode\"] = future_shares[\"gut and p_mode\"].apply(tuple)\n",
    "# future_shares = future_shares.set_index([\"gut and p_mode\",\"year\"]).loc[top_gut_p_modes,:,:].melt(ignore_index=False, id_vars=[\"RunId\",\"province\",\"p_mode\",\"gut\"]).reset_index()\n",
    "\n",
    "future_shares_l = future_shares.drop(\"province\",axis=1).melt(id_vars=[\"RunId\",\"p_mode\",\"year\", \"peer_eff\"])\n",
    "ax = sns.relplot(future_shares_l, x=\"year\", y=\"value\", hue=\"variable\", col=\"p_mode\", row=\"peer_eff\")\n",
    "# ax = sns.relplot(future_shares_l, x=\"year\", y=\"value\", hue=\"variable\", col=\"p_mode\", col_wrap=4)#,row=\"gut\")\n",
    "ax.figure.savefig(f\"{results_dir}/fitted_future_adoptions.png\")"
   ]
  },
  {
   "cell_type": "code",
   "execution_count": null,
   "metadata": {},
   "outputs": [],
   "source": []
  }
 ],
 "metadata": {
  "kernelspec": {
   "display_name": "cando",
   "language": "python",
   "name": "python3"
  },
  "language_info": {
   "codemirror_mode": {
    "name": "ipython",
    "version": 3
   },
   "file_extension": ".py",
   "mimetype": "text/x-python",
   "name": "python",
   "nbconvert_exporter": "python",
   "pygments_lexer": "ipython3",
   "version": "3.10.13"
  }
 },
 "nbformat": 4,
 "nbformat_minor": 2
}
