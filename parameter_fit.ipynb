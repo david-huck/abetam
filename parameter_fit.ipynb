{
 "cells": [
  {
   "cell_type": "code",
   "execution_count": 20,
   "metadata": {},
   "outputs": [],
   "source": [
    "import pandas as pd\n",
    "\n",
    "from components.model import TechnologyAdoptionModel\n",
    "from components.technologies import Technologies\n",
    "from components.probability import beta_with_mode_at\n",
    "from data.canada import nrcan_tech_shares_df\n",
    "\n",
    "from batch import BatchResult\n",
    "\n",
    "historic_tech_shares = nrcan_tech_shares_df.copy()\n",
    "historic_tech_shares.index = historic_tech_shares.index.swaplevel()\n",
    "tech_mode_map = dict(zip(Technologies, [0.5] * len(Technologies)))\n",
    "\n",
    "province = \"Ontario\"\n",
    "gut = 0.33\n",
    "p_mode = 0.33\n",
    "\n",
    "h_tech_shares = historic_tech_shares.loc[province, :] / 100\n",
    "att_mode_table = h_tech_shares.copy()\n"
   ]
  },
  {
   "cell_type": "code",
   "execution_count": 21,
   "metadata": {},
   "outputs": [
    {
     "name": "stdout",
     "output_type": "stream",
     "text": [
      "price weight mode: 0.33\n"
     ]
    }
   ],
   "source": [
    "\n",
    "\n",
    "batch_parameters = {\n",
    "    \"N\": [50],\n",
    "    \"province\": [province],  # , \"Alberta\", \"Ontario\"],\n",
    "    \"random_seed\": range(20, 23),\n",
    "    \"start_year\": 2000,\n",
    "    \"tech_att_mode_table\": [att_mode_table.copy()],\n",
    "    \"n_segregation_steps\": [60],\n",
    "    \"interact\": [False],\n",
    "    \"global_util_thresh\": [gut]\n",
    "}\n",
    "print(\"price weight mode:\", p_mode)\n",
    "batch_parameters[\"price_weight_mode\"] = p_mode\n",
    "\n",
    "full_years = range(2000,2021)\n",
    "scale = 2"
   ]
  },
  {
   "cell_type": "code",
   "execution_count": 22,
   "metadata": {},
   "outputs": [
    {
     "name": "stdout",
     "output_type": "stream",
     "text": [
      "results_dir=WindowsPath('c:/src/canadopt/abetam/results/feature_temporal_attitudes/2cb145f260ba6716f57c3e73865f33a2') does not exist. Running model.\n"
     ]
    },
    {
     "name": "stderr",
     "output_type": "stream",
     "text": [
      "100%|██████████| 3/3 [00:12<00:00,  4.08s/it]\n"
     ]
    },
    {
     "name": "stdout",
     "output_type": "stream",
     "text": [
      "0 3.7657760607672013\n",
      "0 Electric furnace                1.131700\n",
      "Gas furnace                     1.616274\n",
      "Heat pump                       0.554670\n",
      "Oil furnace                     0.284110\n",
      "Wood or wood pellets furnace    0.179021\n",
      "dtype: float64\n",
      "results_dir=WindowsPath('c:/src/canadopt/abetam/results/feature_temporal_attitudes/2cb145f260ba6716f57c3e73865f33a2') does not exist. Running model.\n"
     ]
    },
    {
     "name": "stderr",
     "output_type": "stream",
     "text": [
      "100%|██████████| 3/3 [00:11<00:00,  3.95s/it]\n"
     ]
    },
    {
     "name": "stdout",
     "output_type": "stream",
     "text": [
      "1 3.752442727433868\n",
      "1 Electric furnace                1.125034\n",
      "Gas furnace                     1.609607\n",
      "Heat pump                       0.554670\n",
      "Oil furnace                     0.284110\n",
      "Wood or wood pellets furnace    0.179021\n",
      "dtype: float64\n",
      "results_dir=WindowsPath('c:/src/canadopt/abetam/results/feature_temporal_attitudes/2cb145f260ba6716f57c3e73865f33a2') does not exist. Running model.\n"
     ]
    },
    {
     "name": "stderr",
     "output_type": "stream",
     "text": [
      "100%|██████████| 3/3 [00:12<00:00,  4.07s/it]"
     ]
    },
    {
     "name": "stdout",
     "output_type": "stream",
     "text": [
      "2 3.405776060767201\n",
      "2 Electric furnace                0.951700\n",
      "Gas furnace                     1.436274\n",
      "Heat pump                       0.554670\n",
      "Oil furnace                     0.284110\n",
      "Wood or wood pellets furnace    0.179021\n",
      "dtype: float64\n"
     ]
    },
    {
     "name": "stderr",
     "output_type": "stream",
     "text": [
      "\n"
     ]
    }
   ],
   "source": [
    "\n",
    "att_mode_tables = []\n",
    "adoption_share_dfs = []\n",
    "adoption_detail_dfs = []\n",
    "mode_shift = 0.2\n",
    "best_abs_diff = 1e12\n",
    "greatest_diff_sum = None\n",
    "\n",
    "n_fit_iterations = 3\n",
    "\n",
    "for i in range(n_fit_iterations):\n",
    "    \n",
    "    b_result = BatchResult.from_parameters(batch_parameters)\n",
    "    model_shares = b_result.tech_shares_df.groupby([\"province\",\"year\"]).mean().drop(\"RunId\",axis=1)\n",
    "    diff = (h_tech_shares - model_shares.loc[(province,full_years),:]).loc[province,:]\n",
    "    \n",
    "    tech_share_abs_diff = diff.abs().sum()\n",
    "    current_abs_diff = tech_share_abs_diff.sum()\n",
    "    print(i, current_abs_diff)\n",
    "    \n",
    "    # if current is not smallest diff\n",
    "    if best_abs_diff <= current_abs_diff:\n",
    "        print(\"Performance degradation. Scaling down mode_shift\")\n",
    "        scale /= 2\n",
    "        att_update = diff * scale\n",
    "    else:\n",
    "        best_abs_diff = current_abs_diff\n",
    "        best_modes = att_mode_table.copy()\n",
    "        att_update = diff * scale\n",
    "    # print(\"applying cumulative update of:\", att_update.abs().sum())\n",
    "    att_mode_table = att_mode_table + att_update\n",
    "    \n",
    "    # adjust modes to where distributions are sensible\n",
    "    att_mode_table[att_mode_table<0.05] = 0.05\n",
    "    att_mode_table[att_mode_table>0.95] = 0.95\n",
    "    \n",
    "    protocol_table = att_mode_table.copy()\n",
    "    protocol_table[\"iteration\"] = i\n",
    "    att_mode_tables.append(protocol_table)\n",
    "    \n",
    "    model_shares[\"iteration\"] = i\n",
    "    adoption_share_dfs.append(model_shares)\n",
    "\n",
    "\n",
    "    print(i, diff.abs().sum())\n",
    "    batch_parameters[\"tech_att_mode_table\"] = [att_mode_table]\n"
   ]
  },
  {
   "cell_type": "code",
   "execution_count": 24,
   "metadata": {},
   "outputs": [
    {
     "data": {
      "application/vnd.plotly.v1+json": {
       "config": {
        "plotlyServerURL": "https://plot.ly"
       },
       "data": [
        {
         "hovertemplate": "variable=Electric furnace<br>iteration=0<br>year=%{x}<br>value=%{y}<extra></extra>",
         "legendgroup": "Electric furnace, 0",
         "line": {
          "color": "#636efa",
          "dash": "solid"
         },
         "marker": {
          "symbol": "circle"
         },
         "mode": "lines",
         "name": "Electric furnace, 0",
         "orientation": "v",
         "showlegend": true,
         "type": "scatter",
         "x": [
          2000,
          2001,
          2002,
          2003,
          2004,
          2005,
          2006,
          2007,
          2008,
          2009,
          2010,
          2011,
          2012,
          2013,
          2014,
          2015,
          2016,
          2017,
          2018,
          2019,
          2020
         ],
         "xaxis": "x",
         "y": [
          0.12248970138774296,
          0.12867403557092402,
          0.12420862091208731,
          0.12040736187378354,
          0.11691062624087331,
          0.14252039495607632,
          0.14403993792974043,
          0.17360524473342442,
          0.2059705337759117,
          0.23986580476473998,
          0.26109004080023024,
          0.2686283239713467,
          0.2894509797726582,
          0.2969660474370544,
          0.34150834544987096,
          0.34728250628135127,
          0.37956136959606157,
          0.3989966346943775,
          0.4013308658362881,
          0.4169455950203753,
          0.41981644059210543
         ],
         "yaxis": "y"
        },
        {
         "hovertemplate": "variable=Electric furnace<br>iteration=1<br>year=%{x}<br>value=%{y}<extra></extra>",
         "legendgroup": "Electric furnace, 1",
         "line": {
          "color": "#636efa",
          "dash": "dot"
         },
         "marker": {
          "symbol": "circle"
         },
         "mode": "lines",
         "name": "Electric furnace, 1",
         "orientation": "v",
         "showlegend": true,
         "type": "scatter",
         "x": [
          2000,
          2001,
          2002,
          2003,
          2004,
          2005,
          2006,
          2007,
          2008,
          2009,
          2010,
          2011,
          2012,
          2013,
          2014,
          2015,
          2016,
          2017,
          2018,
          2019,
          2020
         ],
         "xaxis": "x",
         "y": [
          0.08414950231290491,
          0.09890117039598448,
          0.09145881263125663,
          0.08512338090075033,
          0.07929548817923329,
          0.13086732492679387,
          0.13339989654956738,
          0.19156429677792958,
          0.25439533407096393,
          0.31977634127456667,
          0.3595945124448282,
          0.3721583177300223,
          0.41130718850998593,
          0.42383230128397953,
          0.5114027979720072,
          0.5210263993578077,
          0.5837133937712138,
          0.6205499467128515,
          0.624440331949369,
          0.6549093250339588,
          0.6463607343201757
         ],
         "yaxis": "y"
        },
        {
         "hovertemplate": "variable=Electric furnace<br>iteration=2<br>year=%{x}<br>value=%{y}<extra></extra>",
         "legendgroup": "Electric furnace, 2",
         "line": {
          "color": "#636efa",
          "dash": "dash"
         },
         "marker": {
          "symbol": "circle"
         },
         "mode": "lines",
         "name": "Electric furnace, 2",
         "orientation": "v",
         "showlegend": true,
         "type": "scatter",
         "x": [
          2000,
          2001,
          2002,
          2003,
          2004,
          2005,
          2006,
          2007,
          2008,
          2009,
          2010,
          2011,
          2012,
          2013,
          2014,
          2015,
          2016,
          2017,
          2018,
          2019,
          2020
         ],
         "xaxis": "x",
         "y": [
          0.05,
          0.06912830522104493,
          0.05870900435042595,
          0.05,
          0.05,
          0.11921425489751142,
          0.12275985516939433,
          0.20952334882243473,
          0.3028201343660162,
          0.3996868777843933,
          0.4580989840894262,
          0.47568831148869783,
          0.5331633972473137,
          0.5506985551309047,
          0.66796391716081,
          0.6814369591009307,
          0.747865417946366,
          0.7887699253979921,
          0.7675497980624499,
          0.8262063883808757,
          0.792905028048246
         ],
         "yaxis": "y"
        },
        {
         "hovertemplate": "variable=Gas furnace<br>iteration=0<br>year=%{x}<br>value=%{y}<extra></extra>",
         "legendgroup": "Gas furnace, 0",
         "line": {
          "color": "#EF553B",
          "dash": "solid"
         },
         "marker": {
          "symbol": "circle"
         },
         "mode": "lines",
         "name": "Gas furnace, 0",
         "orientation": "v",
         "showlegend": true,
         "type": "scatter",
         "x": [
          2000,
          2001,
          2002,
          2003,
          2004,
          2005,
          2006,
          2007,
          2008,
          2009,
          2010,
          2011,
          2012,
          2013,
          2014,
          2015,
          2016,
          2017,
          2018,
          2019,
          2020
         ],
         "xaxis": "x",
         "y": [
          0.7321650706850809,
          0.7213603589583428,
          0.7314987034539767,
          0.7300624047052373,
          0.7373311638486781,
          0.6970408259184256,
          0.7025545247751976,
          0.675469562709514,
          0.6439602694265403,
          0.6086407190950727,
          0.5603344349402591,
          0.5503433454253217,
          0.526756827511525,
          0.5038980276745926,
          0.4359075327612607,
          0.4343490517790837,
          0.3913693014647942,
          0.3740641631775806,
          0.37608621780222695,
          0.3508491460287041,
          0.35197261644702516
         ],
         "yaxis": "y"
        },
        {
         "hovertemplate": "variable=Gas furnace<br>iteration=1<br>year=%{x}<br>value=%{y}<extra></extra>",
         "legendgroup": "Gas furnace, 1",
         "line": {
          "color": "#EF553B",
          "dash": "dot"
         },
         "marker": {
          "symbol": "circle"
         },
         "mode": "lines",
         "name": "Gas furnace, 1",
         "orientation": "v",
         "showlegend": true,
         "type": "scatter",
         "x": [
          2000,
          2001,
          2002,
          2003,
          2004,
          2005,
          2006,
          2007,
          2008,
          2009,
          2010,
          2011,
          2012,
          2013,
          2014,
          2015,
          2016,
          2017,
          2018,
          2019,
          2020
         ],
         "xaxis": "x",
         "y": [
          0.7669417844751347,
          0.7400450427083491,
          0.7524978390899612,
          0.7456595633976177,
          0.7577741619700191,
          0.6772902654195984,
          0.6864797635142184,
          0.6324492711825234,
          0.5710448934886783,
          0.5032900873806767,
          0.4094462804559874,
          0.39279446459775835,
          0.34903915696365273,
          0.30649671279098767,
          0.1709569990465456,
          0.1683595307429172,
          0.08339328021910142,
          0.050106938629301045,
          0.05347702967037826,
          0.05,
          0.05
         ],
         "yaxis": "y"
        },
        {
         "hovertemplate": "variable=Gas furnace<br>iteration=2<br>year=%{x}<br>value=%{y}<extra></extra>",
         "legendgroup": "Gas furnace, 2",
         "line": {
          "color": "#EF553B",
          "dash": "dash"
         },
         "marker": {
          "symbol": "circle"
         },
         "mode": "lines",
         "name": "Gas furnace, 2",
         "orientation": "v",
         "showlegend": true,
         "type": "scatter",
         "x": [
          2000,
          2001,
          2002,
          2003,
          2004,
          2005,
          2006,
          2007,
          2008,
          2009,
          2010,
          2011,
          2012,
          2013,
          2014,
          2015,
          2016,
          2017,
          2018,
          2019,
          2020
         ],
         "xaxis": "x",
         "y": [
          0.8017184982651886,
          0.7587297264583555,
          0.7734969747259456,
          0.7612567220899982,
          0.7782171600913601,
          0.6575397049207711,
          0.6704050022532391,
          0.5894289796555328,
          0.49812951755081625,
          0.39793945566628075,
          0.2585581259717157,
          0.235245583770195,
          0.1713214864157805,
          0.10909539790738276,
          0.05,
          0.05,
          0.05,
          0.05,
          0.05,
          0.05,
          0.05
         ],
         "yaxis": "y"
        },
        {
         "hovertemplate": "variable=Heat pump<br>iteration=0<br>year=%{x}<br>value=%{y}<extra></extra>",
         "legendgroup": "Heat pump, 0",
         "line": {
          "color": "#00cc96",
          "dash": "solid"
         },
         "marker": {
          "symbol": "circle"
         },
         "mode": "lines",
         "name": "Heat pump, 0",
         "orientation": "v",
         "showlegend": true,
         "type": "scatter",
         "x": [
          2000,
          2001,
          2002,
          2003,
          2004,
          2005,
          2006,
          2007,
          2008,
          2009,
          2010,
          2011,
          2012,
          2013,
          2014,
          2015,
          2016,
          2017,
          2018,
          2019,
          2020
         ],
         "xaxis": "x",
         "y": [
          0.05,
          0.05,
          0.052439427096086295,
          0.05814743173876072,
          0.0632677158154421,
          0.08156154649644384,
          0.08580169068662184,
          0.09054162470975285,
          0.09493223740486714,
          0.09943255537725573,
          0.10316314321096397,
          0.10695569243157405,
          0.11100057019419268,
          0.12806026453794173,
          0.15668532730875814,
          0.1581798295565529,
          0.160946893807896,
          0.16379241046125956,
          0.16800671339085377,
          0.17256156378799364,
          0.17653010256023813
         ],
         "yaxis": "y"
        },
        {
         "hovertemplate": "variable=Heat pump<br>iteration=1<br>year=%{x}<br>value=%{y}<extra></extra>",
         "legendgroup": "Heat pump, 1",
         "line": {
          "color": "#00cc96",
          "dash": "dot"
         },
         "marker": {
          "symbol": "circle"
         },
         "mode": "lines",
         "name": "Heat pump, 1",
         "orientation": "v",
         "showlegend": true,
         "type": "scatter",
         "x": [
          2000,
          2001,
          2002,
          2003,
          2004,
          2005,
          2006,
          2007,
          2008,
          2009,
          2010,
          2011,
          2012,
          2013,
          2014,
          2015,
          2016,
          2017,
          2018,
          2019,
          2020
         ],
         "xaxis": "x",
         "y": [
          0.05,
          0.05,
          0.05628793404903271,
          0.06580127512015675,
          0.07433508191462573,
          0.10926924416073974,
          0.11633615114436974,
          0.12423604118292142,
          0.1315537290081119,
          0.1390542589620929,
          0.1452719053516066,
          0.1515928207192901,
          0.15833428365698782,
          0.19121155200768064,
          0.24780887884793024,
          0.25029971592758815,
          0.2549114896798267,
          0.2596540174354326,
          0.26667785565142293,
          0.2742692729799894,
          0.28088350426706354
         ],
         "yaxis": "y"
        },
        {
         "hovertemplate": "variable=Heat pump<br>iteration=2<br>year=%{x}<br>value=%{y}<extra></extra>",
         "legendgroup": "Heat pump, 2",
         "line": {
          "color": "#00cc96",
          "dash": "dash"
         },
         "marker": {
          "symbol": "circle"
         },
         "mode": "lines",
         "name": "Heat pump, 2",
         "orientation": "v",
         "showlegend": true,
         "type": "scatter",
         "x": [
          2000,
          2001,
          2002,
          2003,
          2004,
          2005,
          2006,
          2007,
          2008,
          2009,
          2010,
          2011,
          2012,
          2013,
          2014,
          2015,
          2016,
          2017,
          2018,
          2019,
          2020
         ],
         "xaxis": "x",
         "y": [
          0.05,
          0.05,
          0.06013644100197913,
          0.07345511850155279,
          0.08540244801380936,
          0.13697694182503564,
          0.14687061160211762,
          0.15793045765608998,
          0.16817522061135667,
          0.17867596254693005,
          0.18738066749224924,
          0.19622994900700613,
          0.20566799711978295,
          0.25436283947741956,
          0.3389324303871023,
          0.34241960229862345,
          0.34887608555175736,
          0.3555156244096056,
          0.3653489979119921,
          0.37597698217198516,
          0.38523690597388893
         ],
         "yaxis": "y"
        },
        {
         "hovertemplate": "variable=Oil furnace<br>iteration=0<br>year=%{x}<br>value=%{y}<extra></extra>",
         "legendgroup": "Oil furnace, 0",
         "line": {
          "color": "#ab63fa",
          "dash": "solid"
         },
         "marker": {
          "symbol": "circle"
         },
         "mode": "lines",
         "name": "Oil furnace, 0",
         "orientation": "v",
         "showlegend": true,
         "type": "scatter",
         "x": [
          2000,
          2001,
          2002,
          2003,
          2004,
          2005,
          2006,
          2007,
          2008,
          2009,
          2010,
          2011,
          2012,
          2013,
          2014,
          2015,
          2016,
          2017,
          2018,
          2019,
          2020
         ],
         "xaxis": "x",
         "y": [
          0.10072832861800599,
          0.08761560201598124,
          0.06203582809125416,
          0.05894664005618119,
          0.050364875895415884,
          0.05,
          0.05,
          0.05,
          0.05,
          0.05,
          0.05,
          0.05,
          0.05,
          0.05,
          0.05,
          0.05,
          0.05,
          0.05,
          0.05,
          0.05,
          0.05
         ],
         "yaxis": "y"
        },
        {
         "hovertemplate": "variable=Oil furnace<br>iteration=1<br>year=%{x}<br>value=%{y}<extra></extra>",
         "legendgroup": "Oil furnace, 1",
         "line": {
          "color": "#ab63fa",
          "dash": "dot"
         },
         "marker": {
          "symbol": "circle"
         },
         "mode": "lines",
         "name": "Oil furnace, 1",
         "orientation": "v",
         "showlegend": true,
         "type": "scatter",
         "x": [
          2000,
          2001,
          2002,
          2003,
          2004,
          2005,
          2006,
          2007,
          2008,
          2009,
          2010,
          2011,
          2012,
          2013,
          2014,
          2015,
          2016,
          2017,
          2018,
          2019,
          2020
         ],
         "xaxis": "x",
         "y": [
          0.11454721436334331,
          0.09269267002663541,
          0.050059713485423596,
          0.05,
          0.05,
          0.05,
          0.05,
          0.05,
          0.05,
          0.05,
          0.05,
          0.05,
          0.05,
          0.05,
          0.05,
          0.05,
          0.05,
          0.05,
          0.05,
          0.05,
          0.05
         ],
         "yaxis": "y"
        },
        {
         "hovertemplate": "variable=Oil furnace<br>iteration=2<br>year=%{x}<br>value=%{y}<extra></extra>",
         "legendgroup": "Oil furnace, 2",
         "line": {
          "color": "#ab63fa",
          "dash": "dash"
         },
         "marker": {
          "symbol": "circle"
         },
         "mode": "lines",
         "name": "Oil furnace, 2",
         "orientation": "v",
         "showlegend": true,
         "type": "scatter",
         "x": [
          2000,
          2001,
          2002,
          2003,
          2004,
          2005,
          2006,
          2007,
          2008,
          2009,
          2010,
          2011,
          2012,
          2013,
          2014,
          2015,
          2016,
          2017,
          2018,
          2019,
          2020
         ],
         "xaxis": "x",
         "y": [
          0.12836610010868063,
          0.09776973803728957,
          0.05,
          0.05,
          0.05,
          0.05,
          0.05,
          0.05,
          0.05,
          0.05,
          0.05,
          0.05,
          0.05,
          0.05,
          0.05,
          0.05,
          0.05,
          0.05,
          0.05,
          0.05,
          0.05
         ],
         "yaxis": "y"
        },
        {
         "hovertemplate": "variable=Wood or wood pellets furnace<br>iteration=0<br>year=%{x}<br>value=%{y}<extra></extra>",
         "legendgroup": "Wood or wood pellets furnace, 0",
         "line": {
          "color": "#FFA15A",
          "dash": "solid"
         },
         "marker": {
          "symbol": "circle"
         },
         "mode": "lines",
         "name": "Wood or wood pellets furnace, 0",
         "orientation": "v",
         "showlegend": true,
         "type": "scatter",
         "x": [
          2000,
          2001,
          2002,
          2003,
          2004,
          2005,
          2006,
          2007,
          2008,
          2009,
          2010,
          2011,
          2012,
          2013,
          2014,
          2015,
          2016,
          2017,
          2018,
          2019,
          2020
         ],
         "xaxis": "x",
         "y": [
          0.05,
          0.05,
          0.05,
          0.05,
          0.05,
          0.05,
          0.05,
          0.05,
          0.05,
          0.05,
          0.05,
          0.05,
          0.05,
          0.05,
          0.05,
          0.05,
          0.05,
          0.05,
          0.05,
          0.05,
          0.05
         ],
         "yaxis": "y"
        },
        {
         "hovertemplate": "variable=Wood or wood pellets furnace<br>iteration=1<br>year=%{x}<br>value=%{y}<extra></extra>",
         "legendgroup": "Wood or wood pellets furnace, 1",
         "line": {
          "color": "#FFA15A",
          "dash": "dot"
         },
         "marker": {
          "symbol": "circle"
         },
         "mode": "lines",
         "name": "Wood or wood pellets furnace, 1",
         "orientation": "v",
         "showlegend": true,
         "type": "scatter",
         "x": [
          2000,
          2001,
          2002,
          2003,
          2004,
          2005,
          2006,
          2007,
          2008,
          2009,
          2010,
          2011,
          2012,
          2013,
          2014,
          2015,
          2016,
          2017,
          2018,
          2019,
          2020
         ],
         "xaxis": "x",
         "y": [
          0.07001001629034775,
          0.06918102523520245,
          0.06965918995706787,
          0.0710532090874993,
          0.07084240161268252,
          0.07204851923492792,
          0.07113415915782895,
          0.07207987884814368,
          0.07143543772917976,
          0.07035676523348183,
          0.06895341720517748,
          0.06762931143981185,
          0.06636553397053051,
          0.06520936971446956,
          0.06412104810701293,
          0.06318017432016991,
          0.062206766802529866,
          0.06130369960180336,
          0.06086381111308695,
          0.060398134732767644,
          0.06001099614483829
         ],
         "yaxis": "y"
        },
        {
         "hovertemplate": "variable=Wood or wood pellets furnace<br>iteration=2<br>year=%{x}<br>value=%{y}<extra></extra>",
         "legendgroup": "Wood or wood pellets furnace, 2",
         "line": {
          "color": "#FFA15A",
          "dash": "dash"
         },
         "marker": {
          "symbol": "circle"
         },
         "mode": "lines",
         "name": "Wood or wood pellets furnace, 2",
         "orientation": "v",
         "showlegend": true,
         "type": "scatter",
         "x": [
          2000,
          2001,
          2002,
          2003,
          2004,
          2005,
          2006,
          2007,
          2008,
          2009,
          2010,
          2011,
          2012,
          2013,
          2014,
          2015,
          2016,
          2017,
          2018,
          2019,
          2020
         ],
         "xaxis": "x",
         "y": [
          0.0900200325806955,
          0.0883620504704049,
          0.08931837991413573,
          0.09210641817499861,
          0.09168480322536504,
          0.09409703846985583,
          0.09226831831565789,
          0.09415975769628737,
          0.09287087545835951,
          0.09071353046696366,
          0.08790683441035495,
          0.0852586228796237,
          0.08273106794106101,
          0.08041873942893911,
          0.07824209621402585,
          0.07636034864033982,
          0.07441353360505973,
          0.07260739920360672,
          0.0717276222261739,
          0.07079626946553529,
          0.07002199228967658
         ],
         "yaxis": "y"
        }
       ],
       "layout": {
        "legend": {
         "title": {
          "text": "variable, iteration"
         },
         "tracegroupgap": 0
        },
        "margin": {
         "t": 60
        },
        "template": {
         "data": {
          "bar": [
           {
            "error_x": {
             "color": "#2a3f5f"
            },
            "error_y": {
             "color": "#2a3f5f"
            },
            "marker": {
             "line": {
              "color": "#E5ECF6",
              "width": 0.5
             },
             "pattern": {
              "fillmode": "overlay",
              "size": 10,
              "solidity": 0.2
             }
            },
            "type": "bar"
           }
          ],
          "barpolar": [
           {
            "marker": {
             "line": {
              "color": "#E5ECF6",
              "width": 0.5
             },
             "pattern": {
              "fillmode": "overlay",
              "size": 10,
              "solidity": 0.2
             }
            },
            "type": "barpolar"
           }
          ],
          "carpet": [
           {
            "aaxis": {
             "endlinecolor": "#2a3f5f",
             "gridcolor": "white",
             "linecolor": "white",
             "minorgridcolor": "white",
             "startlinecolor": "#2a3f5f"
            },
            "baxis": {
             "endlinecolor": "#2a3f5f",
             "gridcolor": "white",
             "linecolor": "white",
             "minorgridcolor": "white",
             "startlinecolor": "#2a3f5f"
            },
            "type": "carpet"
           }
          ],
          "choropleth": [
           {
            "colorbar": {
             "outlinewidth": 0,
             "ticks": ""
            },
            "type": "choropleth"
           }
          ],
          "contour": [
           {
            "colorbar": {
             "outlinewidth": 0,
             "ticks": ""
            },
            "colorscale": [
             [
              0,
              "#0d0887"
             ],
             [
              0.1111111111111111,
              "#46039f"
             ],
             [
              0.2222222222222222,
              "#7201a8"
             ],
             [
              0.3333333333333333,
              "#9c179e"
             ],
             [
              0.4444444444444444,
              "#bd3786"
             ],
             [
              0.5555555555555556,
              "#d8576b"
             ],
             [
              0.6666666666666666,
              "#ed7953"
             ],
             [
              0.7777777777777778,
              "#fb9f3a"
             ],
             [
              0.8888888888888888,
              "#fdca26"
             ],
             [
              1,
              "#f0f921"
             ]
            ],
            "type": "contour"
           }
          ],
          "contourcarpet": [
           {
            "colorbar": {
             "outlinewidth": 0,
             "ticks": ""
            },
            "type": "contourcarpet"
           }
          ],
          "heatmap": [
           {
            "colorbar": {
             "outlinewidth": 0,
             "ticks": ""
            },
            "colorscale": [
             [
              0,
              "#0d0887"
             ],
             [
              0.1111111111111111,
              "#46039f"
             ],
             [
              0.2222222222222222,
              "#7201a8"
             ],
             [
              0.3333333333333333,
              "#9c179e"
             ],
             [
              0.4444444444444444,
              "#bd3786"
             ],
             [
              0.5555555555555556,
              "#d8576b"
             ],
             [
              0.6666666666666666,
              "#ed7953"
             ],
             [
              0.7777777777777778,
              "#fb9f3a"
             ],
             [
              0.8888888888888888,
              "#fdca26"
             ],
             [
              1,
              "#f0f921"
             ]
            ],
            "type": "heatmap"
           }
          ],
          "heatmapgl": [
           {
            "colorbar": {
             "outlinewidth": 0,
             "ticks": ""
            },
            "colorscale": [
             [
              0,
              "#0d0887"
             ],
             [
              0.1111111111111111,
              "#46039f"
             ],
             [
              0.2222222222222222,
              "#7201a8"
             ],
             [
              0.3333333333333333,
              "#9c179e"
             ],
             [
              0.4444444444444444,
              "#bd3786"
             ],
             [
              0.5555555555555556,
              "#d8576b"
             ],
             [
              0.6666666666666666,
              "#ed7953"
             ],
             [
              0.7777777777777778,
              "#fb9f3a"
             ],
             [
              0.8888888888888888,
              "#fdca26"
             ],
             [
              1,
              "#f0f921"
             ]
            ],
            "type": "heatmapgl"
           }
          ],
          "histogram": [
           {
            "marker": {
             "pattern": {
              "fillmode": "overlay",
              "size": 10,
              "solidity": 0.2
             }
            },
            "type": "histogram"
           }
          ],
          "histogram2d": [
           {
            "colorbar": {
             "outlinewidth": 0,
             "ticks": ""
            },
            "colorscale": [
             [
              0,
              "#0d0887"
             ],
             [
              0.1111111111111111,
              "#46039f"
             ],
             [
              0.2222222222222222,
              "#7201a8"
             ],
             [
              0.3333333333333333,
              "#9c179e"
             ],
             [
              0.4444444444444444,
              "#bd3786"
             ],
             [
              0.5555555555555556,
              "#d8576b"
             ],
             [
              0.6666666666666666,
              "#ed7953"
             ],
             [
              0.7777777777777778,
              "#fb9f3a"
             ],
             [
              0.8888888888888888,
              "#fdca26"
             ],
             [
              1,
              "#f0f921"
             ]
            ],
            "type": "histogram2d"
           }
          ],
          "histogram2dcontour": [
           {
            "colorbar": {
             "outlinewidth": 0,
             "ticks": ""
            },
            "colorscale": [
             [
              0,
              "#0d0887"
             ],
             [
              0.1111111111111111,
              "#46039f"
             ],
             [
              0.2222222222222222,
              "#7201a8"
             ],
             [
              0.3333333333333333,
              "#9c179e"
             ],
             [
              0.4444444444444444,
              "#bd3786"
             ],
             [
              0.5555555555555556,
              "#d8576b"
             ],
             [
              0.6666666666666666,
              "#ed7953"
             ],
             [
              0.7777777777777778,
              "#fb9f3a"
             ],
             [
              0.8888888888888888,
              "#fdca26"
             ],
             [
              1,
              "#f0f921"
             ]
            ],
            "type": "histogram2dcontour"
           }
          ],
          "mesh3d": [
           {
            "colorbar": {
             "outlinewidth": 0,
             "ticks": ""
            },
            "type": "mesh3d"
           }
          ],
          "parcoords": [
           {
            "line": {
             "colorbar": {
              "outlinewidth": 0,
              "ticks": ""
             }
            },
            "type": "parcoords"
           }
          ],
          "pie": [
           {
            "automargin": true,
            "type": "pie"
           }
          ],
          "scatter": [
           {
            "fillpattern": {
             "fillmode": "overlay",
             "size": 10,
             "solidity": 0.2
            },
            "type": "scatter"
           }
          ],
          "scatter3d": [
           {
            "line": {
             "colorbar": {
              "outlinewidth": 0,
              "ticks": ""
             }
            },
            "marker": {
             "colorbar": {
              "outlinewidth": 0,
              "ticks": ""
             }
            },
            "type": "scatter3d"
           }
          ],
          "scattercarpet": [
           {
            "marker": {
             "colorbar": {
              "outlinewidth": 0,
              "ticks": ""
             }
            },
            "type": "scattercarpet"
           }
          ],
          "scattergeo": [
           {
            "marker": {
             "colorbar": {
              "outlinewidth": 0,
              "ticks": ""
             }
            },
            "type": "scattergeo"
           }
          ],
          "scattergl": [
           {
            "marker": {
             "colorbar": {
              "outlinewidth": 0,
              "ticks": ""
             }
            },
            "type": "scattergl"
           }
          ],
          "scattermapbox": [
           {
            "marker": {
             "colorbar": {
              "outlinewidth": 0,
              "ticks": ""
             }
            },
            "type": "scattermapbox"
           }
          ],
          "scatterpolar": [
           {
            "marker": {
             "colorbar": {
              "outlinewidth": 0,
              "ticks": ""
             }
            },
            "type": "scatterpolar"
           }
          ],
          "scatterpolargl": [
           {
            "marker": {
             "colorbar": {
              "outlinewidth": 0,
              "ticks": ""
             }
            },
            "type": "scatterpolargl"
           }
          ],
          "scatterternary": [
           {
            "marker": {
             "colorbar": {
              "outlinewidth": 0,
              "ticks": ""
             }
            },
            "type": "scatterternary"
           }
          ],
          "surface": [
           {
            "colorbar": {
             "outlinewidth": 0,
             "ticks": ""
            },
            "colorscale": [
             [
              0,
              "#0d0887"
             ],
             [
              0.1111111111111111,
              "#46039f"
             ],
             [
              0.2222222222222222,
              "#7201a8"
             ],
             [
              0.3333333333333333,
              "#9c179e"
             ],
             [
              0.4444444444444444,
              "#bd3786"
             ],
             [
              0.5555555555555556,
              "#d8576b"
             ],
             [
              0.6666666666666666,
              "#ed7953"
             ],
             [
              0.7777777777777778,
              "#fb9f3a"
             ],
             [
              0.8888888888888888,
              "#fdca26"
             ],
             [
              1,
              "#f0f921"
             ]
            ],
            "type": "surface"
           }
          ],
          "table": [
           {
            "cells": {
             "fill": {
              "color": "#EBF0F8"
             },
             "line": {
              "color": "white"
             }
            },
            "header": {
             "fill": {
              "color": "#C8D4E3"
             },
             "line": {
              "color": "white"
             }
            },
            "type": "table"
           }
          ]
         },
         "layout": {
          "annotationdefaults": {
           "arrowcolor": "#2a3f5f",
           "arrowhead": 0,
           "arrowwidth": 1
          },
          "autotypenumbers": "strict",
          "coloraxis": {
           "colorbar": {
            "outlinewidth": 0,
            "ticks": ""
           }
          },
          "colorscale": {
           "diverging": [
            [
             0,
             "#8e0152"
            ],
            [
             0.1,
             "#c51b7d"
            ],
            [
             0.2,
             "#de77ae"
            ],
            [
             0.3,
             "#f1b6da"
            ],
            [
             0.4,
             "#fde0ef"
            ],
            [
             0.5,
             "#f7f7f7"
            ],
            [
             0.6,
             "#e6f5d0"
            ],
            [
             0.7,
             "#b8e186"
            ],
            [
             0.8,
             "#7fbc41"
            ],
            [
             0.9,
             "#4d9221"
            ],
            [
             1,
             "#276419"
            ]
           ],
           "sequential": [
            [
             0,
             "#0d0887"
            ],
            [
             0.1111111111111111,
             "#46039f"
            ],
            [
             0.2222222222222222,
             "#7201a8"
            ],
            [
             0.3333333333333333,
             "#9c179e"
            ],
            [
             0.4444444444444444,
             "#bd3786"
            ],
            [
             0.5555555555555556,
             "#d8576b"
            ],
            [
             0.6666666666666666,
             "#ed7953"
            ],
            [
             0.7777777777777778,
             "#fb9f3a"
            ],
            [
             0.8888888888888888,
             "#fdca26"
            ],
            [
             1,
             "#f0f921"
            ]
           ],
           "sequentialminus": [
            [
             0,
             "#0d0887"
            ],
            [
             0.1111111111111111,
             "#46039f"
            ],
            [
             0.2222222222222222,
             "#7201a8"
            ],
            [
             0.3333333333333333,
             "#9c179e"
            ],
            [
             0.4444444444444444,
             "#bd3786"
            ],
            [
             0.5555555555555556,
             "#d8576b"
            ],
            [
             0.6666666666666666,
             "#ed7953"
            ],
            [
             0.7777777777777778,
             "#fb9f3a"
            ],
            [
             0.8888888888888888,
             "#fdca26"
            ],
            [
             1,
             "#f0f921"
            ]
           ]
          },
          "colorway": [
           "#636efa",
           "#EF553B",
           "#00cc96",
           "#ab63fa",
           "#FFA15A",
           "#19d3f3",
           "#FF6692",
           "#B6E880",
           "#FF97FF",
           "#FECB52"
          ],
          "font": {
           "color": "#2a3f5f"
          },
          "geo": {
           "bgcolor": "white",
           "lakecolor": "white",
           "landcolor": "#E5ECF6",
           "showlakes": true,
           "showland": true,
           "subunitcolor": "white"
          },
          "hoverlabel": {
           "align": "left"
          },
          "hovermode": "closest",
          "mapbox": {
           "style": "light"
          },
          "paper_bgcolor": "white",
          "plot_bgcolor": "#E5ECF6",
          "polar": {
           "angularaxis": {
            "gridcolor": "white",
            "linecolor": "white",
            "ticks": ""
           },
           "bgcolor": "#E5ECF6",
           "radialaxis": {
            "gridcolor": "white",
            "linecolor": "white",
            "ticks": ""
           }
          },
          "scene": {
           "xaxis": {
            "backgroundcolor": "#E5ECF6",
            "gridcolor": "white",
            "gridwidth": 2,
            "linecolor": "white",
            "showbackground": true,
            "ticks": "",
            "zerolinecolor": "white"
           },
           "yaxis": {
            "backgroundcolor": "#E5ECF6",
            "gridcolor": "white",
            "gridwidth": 2,
            "linecolor": "white",
            "showbackground": true,
            "ticks": "",
            "zerolinecolor": "white"
           },
           "zaxis": {
            "backgroundcolor": "#E5ECF6",
            "gridcolor": "white",
            "gridwidth": 2,
            "linecolor": "white",
            "showbackground": true,
            "ticks": "",
            "zerolinecolor": "white"
           }
          },
          "shapedefaults": {
           "line": {
            "color": "#2a3f5f"
           }
          },
          "ternary": {
           "aaxis": {
            "gridcolor": "white",
            "linecolor": "white",
            "ticks": ""
           },
           "baxis": {
            "gridcolor": "white",
            "linecolor": "white",
            "ticks": ""
           },
           "bgcolor": "#E5ECF6",
           "caxis": {
            "gridcolor": "white",
            "linecolor": "white",
            "ticks": ""
           }
          },
          "title": {
           "x": 0.05
          },
          "xaxis": {
           "automargin": true,
           "gridcolor": "white",
           "linecolor": "white",
           "ticks": "",
           "title": {
            "standoff": 15
           },
           "zerolinecolor": "white",
           "zerolinewidth": 2
          },
          "yaxis": {
           "automargin": true,
           "gridcolor": "white",
           "linecolor": "white",
           "ticks": "",
           "title": {
            "standoff": 15
           },
           "zerolinecolor": "white",
           "zerolinewidth": 2
          }
         }
        },
        "xaxis": {
         "anchor": "y",
         "domain": [
          0,
          1
         ],
         "title": {
          "text": "year"
         }
        },
        "yaxis": {
         "anchor": "x",
         "domain": [
          0,
          1
         ],
         "title": {
          "text": "value"
         }
        }
       }
      }
     },
     "metadata": {},
     "output_type": "display_data"
    }
   ],
   "source": [
    "import plotly.express as px\n",
    "all_attitude_modes = pd.concat(att_mode_tables)\n",
    "all_attitude_modes = all_attitude_modes.melt(id_vars=[\"iteration\"], ignore_index=False).reset_index()\n",
    "px.line(all_attitude_modes, x=\"year\", y=\"value\", color=\"variable\", line_dash=\"iteration\", template=\"plotly\")"
   ]
  },
  {
   "cell_type": "code",
   "execution_count": 25,
   "metadata": {},
   "outputs": [
    {
     "data": {
      "application/vnd.plotly.v1+json": {
       "config": {
        "plotlyServerURL": "https://plot.ly"
       },
       "data": [
        {
         "hovertemplate": "variable=Electric furnace<br>iteration=0<br>year=%{x}<br>value=%{y}<extra></extra>",
         "legendgroup": "Electric furnace, 0",
         "line": {
          "color": "#636efa",
          "dash": "solid"
         },
         "marker": {
          "symbol": "circle"
         },
         "mode": "lines",
         "name": "Electric furnace, 0",
         "showlegend": true,
         "type": "scattergl",
         "x": [
          2000,
          2000.25,
          2000.5,
          2000.75,
          2001,
          2001.25,
          2001.5,
          2001.75,
          2002,
          2002.25,
          2002.5,
          2002.75,
          2003,
          2003.25,
          2003.5,
          2003.75,
          2004,
          2004.25,
          2004.5,
          2004.75,
          2005,
          2005.25,
          2005.5,
          2005.75,
          2006,
          2006.25,
          2006.5,
          2006.75,
          2007,
          2007.25,
          2007.5,
          2007.75,
          2008,
          2008.25,
          2008.5,
          2008.75,
          2009,
          2009.25,
          2009.5,
          2009.75,
          2010,
          2010.25,
          2010.5,
          2010.75,
          2011,
          2011.25,
          2011.5,
          2011.75,
          2012,
          2012.25,
          2012.5,
          2012.75,
          2013,
          2013.25,
          2013.5,
          2013.75,
          2014,
          2014.25,
          2014.5,
          2014.75,
          2015,
          2015.25,
          2015.5,
          2015.75,
          2016,
          2016.25,
          2016.5,
          2016.75,
          2017,
          2017.25,
          2017.5,
          2017.75,
          2018,
          2018.25,
          2018.5,
          2018.75,
          2019,
          2019.25,
          2019.5,
          2019.75,
          2020
         ],
         "xaxis": "x",
         "y": [
          0.18000000000000002,
          0.18000000000000002,
          0.18000000000000002,
          0.18000000000000002,
          0.17333333333333334,
          0.17333333333333334,
          0.17333333333333334,
          0.17333333333333334,
          0.17333333333333334,
          0.17333333333333334,
          0.17333333333333334,
          0.17333333333333334,
          0.17333333333333334,
          0.17333333333333334,
          0.17333333333333334,
          0.17333333333333334,
          0.17333333333333334,
          0.16666666666666666,
          0.16666666666666666,
          0.16666666666666666,
          0.16,
          0.16,
          0.16,
          0.16,
          0.16,
          0.15333333333333335,
          0.15333333333333335,
          0.15333333333333335,
          0.1466666666666667,
          0.14,
          0.14,
          0.14,
          0.13333333333333333,
          0.12666666666666668,
          0.12666666666666668,
          0.12,
          0.12,
          0.12,
          0.11333333333333333,
          0.11333333333333333,
          0.11333333333333333,
          0.11333333333333333,
          0.11333333333333333,
          0.11333333333333333,
          0.11333333333333333,
          0.11333333333333333,
          0.10666666666666667,
          0.10666666666666667,
          0.10666666666666667,
          0.10666666666666667,
          0.10666666666666667,
          0.10666666666666667,
          0.10666666666666667,
          0.10666666666666667,
          0.09333333333333334,
          0.08666666666666667,
          0.08666666666666667,
          0.08666666666666667,
          0.08666666666666667,
          0.08666666666666667,
          0.08666666666666667,
          0.08666666666666667,
          0.08666666666666667,
          0.08,
          0.07333333333333333,
          0.07333333333333333,
          0.07333333333333333,
          0.06666666666666667,
          0.06666666666666667,
          0.06666666666666667,
          0.06666666666666667,
          0.06666666666666667,
          0.06666666666666667,
          0.06666666666666667,
          0.06666666666666667,
          0.06666666666666667,
          0.06,
          0.06,
          0.06,
          0.06,
          0.06
         ],
         "yaxis": "y"
        },
        {
         "hovertemplate": "variable=Electric furnace<br>iteration=1<br>year=%{x}<br>value=%{y}<extra></extra>",
         "legendgroup": "Electric furnace, 1",
         "line": {
          "color": "#636efa",
          "dash": "dot"
         },
         "marker": {
          "symbol": "circle"
         },
         "mode": "lines",
         "name": "Electric furnace, 1",
         "showlegend": true,
         "type": "scattergl",
         "x": [
          2000,
          2000.25,
          2000.5,
          2000.75,
          2001,
          2001.25,
          2001.5,
          2001.75,
          2002,
          2002.25,
          2002.5,
          2002.75,
          2003,
          2003.25,
          2003.5,
          2003.75,
          2004,
          2004.25,
          2004.5,
          2004.75,
          2005,
          2005.25,
          2005.5,
          2005.75,
          2006,
          2006.25,
          2006.5,
          2006.75,
          2007,
          2007.25,
          2007.5,
          2007.75,
          2008,
          2008.25,
          2008.5,
          2008.75,
          2009,
          2009.25,
          2009.5,
          2009.75,
          2010,
          2010.25,
          2010.5,
          2010.75,
          2011,
          2011.25,
          2011.5,
          2011.75,
          2012,
          2012.25,
          2012.5,
          2012.75,
          2013,
          2013.25,
          2013.5,
          2013.75,
          2014,
          2014.25,
          2014.5,
          2014.75,
          2015,
          2015.25,
          2015.5,
          2015.75,
          2016,
          2016.25,
          2016.5,
          2016.75,
          2017,
          2017.25,
          2017.5,
          2017.75,
          2018,
          2018.25,
          2018.5,
          2018.75,
          2019,
          2019.25,
          2019.5,
          2019.75,
          2020
         ],
         "xaxis": "x",
         "y": [
          0.18000000000000002,
          0.18000000000000002,
          0.18000000000000002,
          0.18000000000000002,
          0.17333333333333334,
          0.17333333333333334,
          0.17333333333333334,
          0.17333333333333334,
          0.17333333333333334,
          0.17333333333333334,
          0.17333333333333334,
          0.17333333333333334,
          0.17333333333333334,
          0.17333333333333334,
          0.17333333333333334,
          0.17333333333333334,
          0.17333333333333334,
          0.16666666666666666,
          0.16666666666666666,
          0.16666666666666666,
          0.16,
          0.16,
          0.16,
          0.16,
          0.16,
          0.15333333333333335,
          0.15333333333333335,
          0.15333333333333335,
          0.1466666666666667,
          0.14,
          0.14,
          0.14,
          0.13333333333333333,
          0.12666666666666668,
          0.12666666666666668,
          0.12,
          0.12,
          0.12,
          0.11333333333333333,
          0.11333333333333333,
          0.11333333333333333,
          0.11333333333333333,
          0.11333333333333333,
          0.11333333333333333,
          0.11333333333333333,
          0.11333333333333333,
          0.10666666666666667,
          0.10666666666666667,
          0.10666666666666667,
          0.10666666666666667,
          0.10666666666666667,
          0.10666666666666667,
          0.10666666666666667,
          0.10666666666666667,
          0.09333333333333334,
          0.08666666666666667,
          0.08666666666666667,
          0.08666666666666667,
          0.08666666666666667,
          0.08666666666666667,
          0.08666666666666667,
          0.08666666666666667,
          0.08666666666666667,
          0.08,
          0.07333333333333333,
          0.07333333333333333,
          0.07333333333333333,
          0.06666666666666667,
          0.06666666666666667,
          0.06666666666666667,
          0.06666666666666667,
          0.06666666666666667,
          0.06666666666666667,
          0.06666666666666667,
          0.06666666666666667,
          0.06666666666666667,
          0.06,
          0.06,
          0.06,
          0.06666666666666667,
          0.06666666666666667
         ],
         "yaxis": "y"
        },
        {
         "hovertemplate": "variable=Electric furnace<br>iteration=2<br>year=%{x}<br>value=%{y}<extra></extra>",
         "legendgroup": "Electric furnace, 2",
         "line": {
          "color": "#636efa",
          "dash": "dash"
         },
         "marker": {
          "symbol": "circle"
         },
         "mode": "lines",
         "name": "Electric furnace, 2",
         "showlegend": true,
         "type": "scattergl",
         "x": [
          2000,
          2000.25,
          2000.5,
          2000.75,
          2001,
          2001.25,
          2001.5,
          2001.75,
          2002,
          2002.25,
          2002.5,
          2002.75,
          2003,
          2003.25,
          2003.5,
          2003.75,
          2004,
          2004.25,
          2004.5,
          2004.75,
          2005,
          2005.25,
          2005.5,
          2005.75,
          2006,
          2006.25,
          2006.5,
          2006.75,
          2007,
          2007.25,
          2007.5,
          2007.75,
          2008,
          2008.25,
          2008.5,
          2008.75,
          2009,
          2009.25,
          2009.5,
          2009.75,
          2010,
          2010.25,
          2010.5,
          2010.75,
          2011,
          2011.25,
          2011.5,
          2011.75,
          2012,
          2012.25,
          2012.5,
          2012.75,
          2013,
          2013.25,
          2013.5,
          2013.75,
          2014,
          2014.25,
          2014.5,
          2014.75,
          2015,
          2015.25,
          2015.5,
          2015.75,
          2016,
          2016.25,
          2016.5,
          2016.75,
          2017,
          2017.25,
          2017.5,
          2017.75,
          2018,
          2018.25,
          2018.5,
          2018.75,
          2019,
          2019.25,
          2019.5,
          2019.75,
          2020
         ],
         "xaxis": "x",
         "y": [
          0.18000000000000002,
          0.18000000000000002,
          0.18000000000000002,
          0.18000000000000002,
          0.17333333333333334,
          0.17333333333333334,
          0.17333333333333334,
          0.17333333333333334,
          0.17333333333333334,
          0.17333333333333334,
          0.17333333333333334,
          0.17333333333333334,
          0.17333333333333334,
          0.17333333333333334,
          0.17333333333333334,
          0.17333333333333334,
          0.17333333333333334,
          0.16666666666666666,
          0.16666666666666666,
          0.16666666666666666,
          0.16,
          0.16,
          0.16,
          0.16,
          0.16,
          0.15333333333333335,
          0.15333333333333335,
          0.15333333333333335,
          0.1466666666666667,
          0.14,
          0.14,
          0.14,
          0.13333333333333333,
          0.12666666666666668,
          0.12666666666666668,
          0.12,
          0.12,
          0.12,
          0.11333333333333333,
          0.11333333333333333,
          0.11333333333333333,
          0.11333333333333333,
          0.11333333333333333,
          0.11333333333333333,
          0.11333333333333333,
          0.11333333333333333,
          0.10666666666666667,
          0.10666666666666667,
          0.10666666666666667,
          0.10666666666666667,
          0.10666666666666667,
          0.10666666666666667,
          0.10666666666666667,
          0.11333333333333333,
          0.09999999999999999,
          0.09333333333333334,
          0.09333333333333334,
          0.09333333333333334,
          0.09333333333333334,
          0.09333333333333334,
          0.09333333333333334,
          0.09333333333333334,
          0.09333333333333334,
          0.09333333333333334,
          0.09333333333333334,
          0.09333333333333334,
          0.09333333333333334,
          0.08666666666666667,
          0.09333333333333334,
          0.09999999999999999,
          0.10666666666666667,
          0.10666666666666667,
          0.10666666666666667,
          0.10000000000000002,
          0.10666666666666667,
          0.09999999999999999,
          0.09333333333333334,
          0.09333333333333334,
          0.09999999999999999,
          0.09999999999999999,
          0.10666666666666667
         ],
         "yaxis": "y"
        },
        {
         "hovertemplate": "variable=Gas furnace<br>iteration=0<br>year=%{x}<br>value=%{y}<extra></extra>",
         "legendgroup": "Gas furnace, 0",
         "line": {
          "color": "#EF553B",
          "dash": "solid"
         },
         "marker": {
          "symbol": "circle"
         },
         "mode": "lines",
         "name": "Gas furnace, 0",
         "showlegend": true,
         "type": "scattergl",
         "x": [
          2000,
          2000.25,
          2000.5,
          2000.75,
          2001,
          2001.25,
          2001.5,
          2001.75,
          2002,
          2002.25,
          2002.5,
          2002.75,
          2003,
          2003.25,
          2003.5,
          2003.75,
          2004,
          2004.25,
          2004.5,
          2004.75,
          2005,
          2005.25,
          2005.5,
          2005.75,
          2006,
          2006.25,
          2006.5,
          2006.75,
          2007,
          2007.25,
          2007.5,
          2007.75,
          2008,
          2008.25,
          2008.5,
          2008.75,
          2009,
          2009.25,
          2009.5,
          2009.75,
          2010,
          2010.25,
          2010.5,
          2010.75,
          2011,
          2011.25,
          2011.5,
          2011.75,
          2012,
          2012.25,
          2012.5,
          2012.75,
          2013,
          2013.25,
          2013.5,
          2013.75,
          2014,
          2014.25,
          2014.5,
          2014.75,
          2015,
          2015.25,
          2015.5,
          2015.75,
          2016,
          2016.25,
          2016.5,
          2016.75,
          2017,
          2017.25,
          2017.5,
          2017.75,
          2018,
          2018.25,
          2018.5,
          2018.75,
          2019,
          2019.25,
          2019.5,
          2019.75,
          2020
         ],
         "xaxis": "x",
         "y": [
          0.68,
          0.68,
          0.6866666666666666,
          0.6866666666666666,
          0.6933333333333334,
          0.6933333333333334,
          0.7000000000000001,
          0.7000000000000001,
          0.7000000000000001,
          0.7000000000000001,
          0.7066666666666667,
          0.7066666666666667,
          0.7066666666666667,
          0.7066666666666667,
          0.7066666666666667,
          0.7066666666666667,
          0.7066666666666667,
          0.7133333333333334,
          0.7133333333333334,
          0.7133333333333334,
          0.7266666666666666,
          0.7266666666666666,
          0.7266666666666666,
          0.7266666666666666,
          0.7266666666666666,
          0.7333333333333334,
          0.7333333333333334,
          0.7333333333333334,
          0.7399999999999999,
          0.7466666666666667,
          0.7466666666666667,
          0.7466666666666667,
          0.7533333333333333,
          0.7600000000000001,
          0.7600000000000001,
          0.7666666666666666,
          0.7666666666666666,
          0.7666666666666666,
          0.7733333333333334,
          0.7799999999999999,
          0.7866666666666667,
          0.7866666666666667,
          0.7866666666666667,
          0.7866666666666667,
          0.7866666666666667,
          0.7866666666666667,
          0.7933333333333333,
          0.7933333333333333,
          0.7933333333333333,
          0.7933333333333333,
          0.7933333333333333,
          0.7933333333333333,
          0.7999999999999999,
          0.8066666666666666,
          0.82,
          0.8333333333333334,
          0.8333333333333334,
          0.8333333333333334,
          0.8333333333333334,
          0.8333333333333334,
          0.8333333333333334,
          0.8333333333333334,
          0.8333333333333334,
          0.84,
          0.8533333333333334,
          0.8533333333333334,
          0.8533333333333334,
          0.86,
          0.86,
          0.86,
          0.86,
          0.86,
          0.86,
          0.86,
          0.8666666666666667,
          0.8666666666666667,
          0.8733333333333334,
          0.8733333333333334,
          0.8733333333333334,
          0.8733333333333334,
          0.8733333333333334
         ],
         "yaxis": "y"
        },
        {
         "hovertemplate": "variable=Gas furnace<br>iteration=1<br>year=%{x}<br>value=%{y}<extra></extra>",
         "legendgroup": "Gas furnace, 1",
         "line": {
          "color": "#EF553B",
          "dash": "dot"
         },
         "marker": {
          "symbol": "circle"
         },
         "mode": "lines",
         "name": "Gas furnace, 1",
         "showlegend": true,
         "type": "scattergl",
         "x": [
          2000,
          2000.25,
          2000.5,
          2000.75,
          2001,
          2001.25,
          2001.5,
          2001.75,
          2002,
          2002.25,
          2002.5,
          2002.75,
          2003,
          2003.25,
          2003.5,
          2003.75,
          2004,
          2004.25,
          2004.5,
          2004.75,
          2005,
          2005.25,
          2005.5,
          2005.75,
          2006,
          2006.25,
          2006.5,
          2006.75,
          2007,
          2007.25,
          2007.5,
          2007.75,
          2008,
          2008.25,
          2008.5,
          2008.75,
          2009,
          2009.25,
          2009.5,
          2009.75,
          2010,
          2010.25,
          2010.5,
          2010.75,
          2011,
          2011.25,
          2011.5,
          2011.75,
          2012,
          2012.25,
          2012.5,
          2012.75,
          2013,
          2013.25,
          2013.5,
          2013.75,
          2014,
          2014.25,
          2014.5,
          2014.75,
          2015,
          2015.25,
          2015.5,
          2015.75,
          2016,
          2016.25,
          2016.5,
          2016.75,
          2017,
          2017.25,
          2017.5,
          2017.75,
          2018,
          2018.25,
          2018.5,
          2018.75,
          2019,
          2019.25,
          2019.5,
          2019.75,
          2020
         ],
         "xaxis": "x",
         "y": [
          0.68,
          0.68,
          0.6866666666666666,
          0.6866666666666666,
          0.6933333333333334,
          0.6933333333333334,
          0.7000000000000001,
          0.7000000000000001,
          0.7000000000000001,
          0.7000000000000001,
          0.7066666666666667,
          0.7066666666666667,
          0.7066666666666667,
          0.7066666666666667,
          0.7066666666666667,
          0.7066666666666667,
          0.7066666666666667,
          0.7133333333333334,
          0.7133333333333334,
          0.7133333333333334,
          0.7266666666666666,
          0.7266666666666666,
          0.7266666666666666,
          0.7266666666666666,
          0.7266666666666666,
          0.7333333333333334,
          0.7333333333333334,
          0.7333333333333334,
          0.7399999999999999,
          0.7466666666666667,
          0.7466666666666667,
          0.7466666666666667,
          0.7533333333333333,
          0.7600000000000001,
          0.7600000000000001,
          0.7666666666666666,
          0.7666666666666666,
          0.7666666666666666,
          0.7733333333333334,
          0.7799999999999999,
          0.7866666666666667,
          0.7866666666666667,
          0.7866666666666667,
          0.7866666666666667,
          0.7866666666666667,
          0.7866666666666667,
          0.7933333333333333,
          0.7933333333333333,
          0.7933333333333333,
          0.7933333333333333,
          0.7933333333333333,
          0.7933333333333333,
          0.7999999999999999,
          0.8066666666666666,
          0.82,
          0.8333333333333334,
          0.8333333333333334,
          0.8333333333333334,
          0.8333333333333334,
          0.8333333333333334,
          0.8333333333333334,
          0.8333333333333334,
          0.8333333333333334,
          0.84,
          0.8533333333333334,
          0.8533333333333334,
          0.8533333333333334,
          0.86,
          0.86,
          0.86,
          0.86,
          0.86,
          0.86,
          0.86,
          0.8666666666666667,
          0.8666666666666667,
          0.8733333333333334,
          0.8733333333333334,
          0.8733333333333334,
          0.8666666666666667,
          0.8666666666666667
         ],
         "yaxis": "y"
        },
        {
         "hovertemplate": "variable=Gas furnace<br>iteration=2<br>year=%{x}<br>value=%{y}<extra></extra>",
         "legendgroup": "Gas furnace, 2",
         "line": {
          "color": "#EF553B",
          "dash": "dash"
         },
         "marker": {
          "symbol": "circle"
         },
         "mode": "lines",
         "name": "Gas furnace, 2",
         "showlegend": true,
         "type": "scattergl",
         "x": [
          2000,
          2000.25,
          2000.5,
          2000.75,
          2001,
          2001.25,
          2001.5,
          2001.75,
          2002,
          2002.25,
          2002.5,
          2002.75,
          2003,
          2003.25,
          2003.5,
          2003.75,
          2004,
          2004.25,
          2004.5,
          2004.75,
          2005,
          2005.25,
          2005.5,
          2005.75,
          2006,
          2006.25,
          2006.5,
          2006.75,
          2007,
          2007.25,
          2007.5,
          2007.75,
          2008,
          2008.25,
          2008.5,
          2008.75,
          2009,
          2009.25,
          2009.5,
          2009.75,
          2010,
          2010.25,
          2010.5,
          2010.75,
          2011,
          2011.25,
          2011.5,
          2011.75,
          2012,
          2012.25,
          2012.5,
          2012.75,
          2013,
          2013.25,
          2013.5,
          2013.75,
          2014,
          2014.25,
          2014.5,
          2014.75,
          2015,
          2015.25,
          2015.5,
          2015.75,
          2016,
          2016.25,
          2016.5,
          2016.75,
          2017,
          2017.25,
          2017.5,
          2017.75,
          2018,
          2018.25,
          2018.5,
          2018.75,
          2019,
          2019.25,
          2019.5,
          2019.75,
          2020
         ],
         "xaxis": "x",
         "y": [
          0.68,
          0.68,
          0.6866666666666666,
          0.6866666666666666,
          0.6933333333333334,
          0.6933333333333334,
          0.7000000000000001,
          0.7000000000000001,
          0.7000000000000001,
          0.7000000000000001,
          0.7066666666666667,
          0.7066666666666667,
          0.7066666666666667,
          0.7066666666666667,
          0.7066666666666667,
          0.7066666666666667,
          0.7066666666666667,
          0.7133333333333334,
          0.7133333333333334,
          0.7133333333333334,
          0.7266666666666666,
          0.7266666666666666,
          0.7266666666666666,
          0.7266666666666666,
          0.7266666666666666,
          0.7333333333333334,
          0.7333333333333334,
          0.7333333333333334,
          0.7399999999999999,
          0.7466666666666667,
          0.7466666666666667,
          0.7466666666666667,
          0.7533333333333333,
          0.7600000000000001,
          0.7600000000000001,
          0.7666666666666666,
          0.7666666666666666,
          0.7666666666666666,
          0.7733333333333334,
          0.7799999999999999,
          0.7866666666666667,
          0.7866666666666667,
          0.7866666666666667,
          0.7866666666666667,
          0.7866666666666667,
          0.7866666666666667,
          0.7933333333333333,
          0.7933333333333333,
          0.7933333333333333,
          0.7933333333333333,
          0.7933333333333333,
          0.7933333333333333,
          0.7999999999999999,
          0.7999999999999999,
          0.8133333333333334,
          0.8266666666666667,
          0.8266666666666667,
          0.8266666666666667,
          0.8266666666666667,
          0.8266666666666667,
          0.8266666666666667,
          0.8266666666666667,
          0.8266666666666667,
          0.8266666666666667,
          0.8333333333333334,
          0.8333333333333334,
          0.8333333333333334,
          0.84,
          0.8333333333333334,
          0.8266666666666667,
          0.82,
          0.82,
          0.82,
          0.8266666666666667,
          0.8266666666666667,
          0.8333333333333334,
          0.84,
          0.84,
          0.8333333333333334,
          0.8333333333333334,
          0.8266666666666667
         ],
         "yaxis": "y"
        },
        {
         "hovertemplate": "variable=Heat pump<br>iteration=0<br>year=%{x}<br>value=%{y}<extra></extra>",
         "legendgroup": "Heat pump, 0",
         "line": {
          "color": "#00cc96",
          "dash": "solid"
         },
         "marker": {
          "symbol": "circle"
         },
         "mode": "lines",
         "name": "Heat pump, 0",
         "showlegend": true,
         "type": "scattergl",
         "x": [
          2000,
          2000.25,
          2000.5,
          2000.75,
          2001,
          2001.25,
          2001.5,
          2001.75,
          2002,
          2002.25,
          2002.5,
          2002.75,
          2003,
          2003.25,
          2003.5,
          2003.75,
          2004,
          2004.25,
          2004.5,
          2004.75,
          2005,
          2005.25,
          2005.5,
          2005.75,
          2006,
          2006.25,
          2006.5,
          2006.75,
          2007,
          2007.25,
          2007.5,
          2007.75,
          2008,
          2008.25,
          2008.5,
          2008.75,
          2009,
          2009.25,
          2009.5,
          2009.75,
          2010,
          2010.25,
          2010.5,
          2010.75,
          2011,
          2011.25,
          2011.5,
          2011.75,
          2012,
          2012.25,
          2012.5,
          2012.75,
          2013,
          2013.25,
          2013.5,
          2013.75,
          2014,
          2014.25,
          2014.5,
          2014.75,
          2015,
          2015.25,
          2015.5,
          2015.75,
          2016,
          2016.25,
          2016.5,
          2016.75,
          2017,
          2017.25,
          2017.5,
          2017.75,
          2018,
          2018.25,
          2018.5,
          2018.75,
          2019,
          2019.25,
          2019.5,
          2019.75,
          2020
         ],
         "xaxis": "x",
         "y": [
          0.06,
          0.06,
          0.05333333333333334,
          0.05333333333333334,
          0.05333333333333334,
          0.05333333333333334,
          0.04666666666666667,
          0.04666666666666667,
          0.04666666666666667,
          0.04666666666666667,
          0.04666666666666667,
          0.04666666666666667,
          0.04666666666666667,
          0.04666666666666667,
          0.04666666666666667,
          0.04666666666666667,
          0.04666666666666667,
          0.04666666666666667,
          0.04666666666666667,
          0.04666666666666667,
          0.04,
          0.04,
          0.04,
          0.04,
          0.04,
          0.04,
          0.04,
          0.04,
          0.04,
          0.04,
          0.04,
          0.04,
          0.04,
          0.04,
          0.04,
          0.04,
          0.04,
          0.04,
          0.04,
          0.04,
          0.04,
          0.04,
          0.04,
          0.04,
          0.04,
          0.04,
          0.04,
          0.04,
          0.04,
          0.04,
          0.04,
          0.04,
          0.03333333333333333,
          0.02666666666666667,
          0.02666666666666667,
          0.02,
          0.02,
          0.02,
          0.02,
          0.02,
          0.02,
          0.02,
          0.02,
          0.02,
          0.02,
          0.02,
          0.02,
          0.02,
          0.02,
          0.02,
          0.02,
          0.02,
          0.02,
          0.02,
          0.02,
          0.02,
          0.02,
          0.02,
          0.02,
          0.02,
          0.02
         ],
         "yaxis": "y"
        },
        {
         "hovertemplate": "variable=Heat pump<br>iteration=1<br>year=%{x}<br>value=%{y}<extra></extra>",
         "legendgroup": "Heat pump, 1",
         "line": {
          "color": "#00cc96",
          "dash": "dot"
         },
         "marker": {
          "symbol": "circle"
         },
         "mode": "lines",
         "name": "Heat pump, 1",
         "showlegend": true,
         "type": "scattergl",
         "x": [
          2000,
          2000.25,
          2000.5,
          2000.75,
          2001,
          2001.25,
          2001.5,
          2001.75,
          2002,
          2002.25,
          2002.5,
          2002.75,
          2003,
          2003.25,
          2003.5,
          2003.75,
          2004,
          2004.25,
          2004.5,
          2004.75,
          2005,
          2005.25,
          2005.5,
          2005.75,
          2006,
          2006.25,
          2006.5,
          2006.75,
          2007,
          2007.25,
          2007.5,
          2007.75,
          2008,
          2008.25,
          2008.5,
          2008.75,
          2009,
          2009.25,
          2009.5,
          2009.75,
          2010,
          2010.25,
          2010.5,
          2010.75,
          2011,
          2011.25,
          2011.5,
          2011.75,
          2012,
          2012.25,
          2012.5,
          2012.75,
          2013,
          2013.25,
          2013.5,
          2013.75,
          2014,
          2014.25,
          2014.5,
          2014.75,
          2015,
          2015.25,
          2015.5,
          2015.75,
          2016,
          2016.25,
          2016.5,
          2016.75,
          2017,
          2017.25,
          2017.5,
          2017.75,
          2018,
          2018.25,
          2018.5,
          2018.75,
          2019,
          2019.25,
          2019.5,
          2019.75,
          2020
         ],
         "xaxis": "x",
         "y": [
          0.06,
          0.06,
          0.05333333333333334,
          0.05333333333333334,
          0.05333333333333334,
          0.05333333333333334,
          0.04666666666666667,
          0.04666666666666667,
          0.04666666666666667,
          0.04666666666666667,
          0.04666666666666667,
          0.04666666666666667,
          0.04666666666666667,
          0.04666666666666667,
          0.04666666666666667,
          0.04666666666666667,
          0.04666666666666667,
          0.04666666666666667,
          0.04666666666666667,
          0.04666666666666667,
          0.04,
          0.04,
          0.04,
          0.04,
          0.04,
          0.04,
          0.04,
          0.04,
          0.04,
          0.04,
          0.04,
          0.04,
          0.04,
          0.04,
          0.04,
          0.04,
          0.04,
          0.04,
          0.04,
          0.04,
          0.04,
          0.04,
          0.04,
          0.04,
          0.04,
          0.04,
          0.04,
          0.04,
          0.04,
          0.04,
          0.04,
          0.04,
          0.03333333333333333,
          0.02666666666666667,
          0.02666666666666667,
          0.02,
          0.02,
          0.02,
          0.02,
          0.02,
          0.02,
          0.02,
          0.02,
          0.02,
          0.02,
          0.02,
          0.02,
          0.02,
          0.02,
          0.02,
          0.02,
          0.02,
          0.02,
          0.02,
          0.02,
          0.02,
          0.02,
          0.02,
          0.02,
          0.02,
          0.02
         ],
         "yaxis": "y"
        },
        {
         "hovertemplate": "variable=Heat pump<br>iteration=2<br>year=%{x}<br>value=%{y}<extra></extra>",
         "legendgroup": "Heat pump, 2",
         "line": {
          "color": "#00cc96",
          "dash": "dash"
         },
         "marker": {
          "symbol": "circle"
         },
         "mode": "lines",
         "name": "Heat pump, 2",
         "showlegend": true,
         "type": "scattergl",
         "x": [
          2000,
          2000.25,
          2000.5,
          2000.75,
          2001,
          2001.25,
          2001.5,
          2001.75,
          2002,
          2002.25,
          2002.5,
          2002.75,
          2003,
          2003.25,
          2003.5,
          2003.75,
          2004,
          2004.25,
          2004.5,
          2004.75,
          2005,
          2005.25,
          2005.5,
          2005.75,
          2006,
          2006.25,
          2006.5,
          2006.75,
          2007,
          2007.25,
          2007.5,
          2007.75,
          2008,
          2008.25,
          2008.5,
          2008.75,
          2009,
          2009.25,
          2009.5,
          2009.75,
          2010,
          2010.25,
          2010.5,
          2010.75,
          2011,
          2011.25,
          2011.5,
          2011.75,
          2012,
          2012.25,
          2012.5,
          2012.75,
          2013,
          2013.25,
          2013.5,
          2013.75,
          2014,
          2014.25,
          2014.5,
          2014.75,
          2015,
          2015.25,
          2015.5,
          2015.75,
          2016,
          2016.25,
          2016.5,
          2016.75,
          2017,
          2017.25,
          2017.5,
          2017.75,
          2018,
          2018.25,
          2018.5,
          2018.75,
          2019,
          2019.25,
          2019.5,
          2019.75,
          2020
         ],
         "xaxis": "x",
         "y": [
          0.06,
          0.06,
          0.05333333333333334,
          0.05333333333333334,
          0.05333333333333334,
          0.05333333333333334,
          0.04666666666666667,
          0.04666666666666667,
          0.04666666666666667,
          0.04666666666666667,
          0.04666666666666667,
          0.04666666666666667,
          0.04666666666666667,
          0.04666666666666667,
          0.04666666666666667,
          0.04666666666666667,
          0.04666666666666667,
          0.04666666666666667,
          0.04666666666666667,
          0.04666666666666667,
          0.04,
          0.04,
          0.04,
          0.04,
          0.04,
          0.04,
          0.04,
          0.04,
          0.04,
          0.04,
          0.04,
          0.04,
          0.04,
          0.04,
          0.04,
          0.04,
          0.04,
          0.04,
          0.04,
          0.04,
          0.04,
          0.04,
          0.04,
          0.04,
          0.04,
          0.04,
          0.04,
          0.04,
          0.04,
          0.04,
          0.04,
          0.04,
          0.03333333333333333,
          0.02666666666666667,
          0.02666666666666667,
          0.02,
          0.02,
          0.02,
          0.02,
          0.02,
          0.02,
          0.02,
          0.02,
          0.02,
          0.02,
          0.02,
          0.02,
          0.02,
          0.02,
          0.02,
          0.02,
          0.02,
          0.02,
          0.02,
          0.02,
          0.02,
          0.02,
          0.02,
          0.02,
          0.02,
          0.02
         ],
         "yaxis": "y"
        },
        {
         "hovertemplate": "variable=Oil furnace<br>iteration=0<br>year=%{x}<br>value=%{y}<extra></extra>",
         "legendgroup": "Oil furnace, 0",
         "line": {
          "color": "#ab63fa",
          "dash": "solid"
         },
         "marker": {
          "symbol": "circle"
         },
         "mode": "lines",
         "name": "Oil furnace, 0",
         "showlegend": true,
         "type": "scattergl",
         "x": [
          2000,
          2000.25,
          2000.5,
          2000.75,
          2001,
          2001.25,
          2001.5,
          2001.75,
          2002,
          2002.25,
          2002.5,
          2002.75,
          2003,
          2003.25,
          2003.5,
          2003.75,
          2004,
          2004.25,
          2004.5,
          2004.75,
          2005,
          2005.25,
          2005.5,
          2005.75,
          2006,
          2006.25,
          2006.5,
          2006.75,
          2007,
          2007.25,
          2007.5,
          2007.75,
          2008,
          2008.25,
          2008.5,
          2008.75,
          2009,
          2009.25,
          2009.5,
          2009.75,
          2010,
          2010.25,
          2010.5,
          2010.75,
          2011,
          2011.25,
          2011.5,
          2011.75,
          2012,
          2012.25,
          2012.5,
          2012.75,
          2013,
          2013.25,
          2013.5,
          2013.75,
          2014,
          2014.25,
          2014.5,
          2014.75,
          2015,
          2015.25,
          2015.5,
          2015.75,
          2016,
          2016.25,
          2016.5,
          2016.75,
          2017,
          2017.25,
          2017.5,
          2017.75,
          2018,
          2018.25,
          2018.5,
          2018.75,
          2019,
          2019.25,
          2019.5,
          2019.75,
          2020
         ],
         "xaxis": "x",
         "y": [
          0.08,
          0.08,
          0.08,
          0.08,
          0.08,
          0.08,
          0.08,
          0.08,
          0.08,
          0.08,
          0.07333333333333333,
          0.07333333333333333,
          0.07333333333333333,
          0.07333333333333333,
          0.07333333333333333,
          0.07333333333333333,
          0.07333333333333333,
          0.07333333333333333,
          0.07333333333333333,
          0.07333333333333333,
          0.07333333333333333,
          0.07333333333333333,
          0.07333333333333333,
          0.07333333333333333,
          0.07333333333333333,
          0.07333333333333333,
          0.07333333333333333,
          0.07333333333333333,
          0.07333333333333333,
          0.07333333333333333,
          0.07333333333333333,
          0.07333333333333333,
          0.07333333333333333,
          0.07333333333333333,
          0.07333333333333333,
          0.07333333333333333,
          0.07333333333333333,
          0.07333333333333333,
          0.07333333333333333,
          0.06666666666666667,
          0.06,
          0.06,
          0.06,
          0.06,
          0.06,
          0.06,
          0.06,
          0.06,
          0.06,
          0.06,
          0.06,
          0.06,
          0.06,
          0.06,
          0.06,
          0.06,
          0.06,
          0.06,
          0.06,
          0.06,
          0.06,
          0.06,
          0.06,
          0.06,
          0.05333333333333334,
          0.05333333333333334,
          0.05333333333333334,
          0.05333333333333334,
          0.05333333333333334,
          0.05333333333333334,
          0.05333333333333334,
          0.05333333333333334,
          0.05333333333333334,
          0.05333333333333334,
          0.04666666666666667,
          0.04666666666666667,
          0.04666666666666667,
          0.04666666666666667,
          0.04666666666666667,
          0.04666666666666667,
          0.04666666666666667
         ],
         "yaxis": "y"
        },
        {
         "hovertemplate": "variable=Oil furnace<br>iteration=1<br>year=%{x}<br>value=%{y}<extra></extra>",
         "legendgroup": "Oil furnace, 1",
         "line": {
          "color": "#ab63fa",
          "dash": "dot"
         },
         "marker": {
          "symbol": "circle"
         },
         "mode": "lines",
         "name": "Oil furnace, 1",
         "showlegend": true,
         "type": "scattergl",
         "x": [
          2000,
          2000.25,
          2000.5,
          2000.75,
          2001,
          2001.25,
          2001.5,
          2001.75,
          2002,
          2002.25,
          2002.5,
          2002.75,
          2003,
          2003.25,
          2003.5,
          2003.75,
          2004,
          2004.25,
          2004.5,
          2004.75,
          2005,
          2005.25,
          2005.5,
          2005.75,
          2006,
          2006.25,
          2006.5,
          2006.75,
          2007,
          2007.25,
          2007.5,
          2007.75,
          2008,
          2008.25,
          2008.5,
          2008.75,
          2009,
          2009.25,
          2009.5,
          2009.75,
          2010,
          2010.25,
          2010.5,
          2010.75,
          2011,
          2011.25,
          2011.5,
          2011.75,
          2012,
          2012.25,
          2012.5,
          2012.75,
          2013,
          2013.25,
          2013.5,
          2013.75,
          2014,
          2014.25,
          2014.5,
          2014.75,
          2015,
          2015.25,
          2015.5,
          2015.75,
          2016,
          2016.25,
          2016.5,
          2016.75,
          2017,
          2017.25,
          2017.5,
          2017.75,
          2018,
          2018.25,
          2018.5,
          2018.75,
          2019,
          2019.25,
          2019.5,
          2019.75,
          2020
         ],
         "xaxis": "x",
         "y": [
          0.08,
          0.08,
          0.08,
          0.08,
          0.08,
          0.08,
          0.08,
          0.08,
          0.08,
          0.08,
          0.07333333333333333,
          0.07333333333333333,
          0.07333333333333333,
          0.07333333333333333,
          0.07333333333333333,
          0.07333333333333333,
          0.07333333333333333,
          0.07333333333333333,
          0.07333333333333333,
          0.07333333333333333,
          0.07333333333333333,
          0.07333333333333333,
          0.07333333333333333,
          0.07333333333333333,
          0.07333333333333333,
          0.07333333333333333,
          0.07333333333333333,
          0.07333333333333333,
          0.07333333333333333,
          0.07333333333333333,
          0.07333333333333333,
          0.07333333333333333,
          0.07333333333333333,
          0.07333333333333333,
          0.07333333333333333,
          0.07333333333333333,
          0.07333333333333333,
          0.07333333333333333,
          0.07333333333333333,
          0.06666666666666667,
          0.06,
          0.06,
          0.06,
          0.06,
          0.06,
          0.06,
          0.06,
          0.06,
          0.06,
          0.06,
          0.06,
          0.06,
          0.06,
          0.06,
          0.06,
          0.06,
          0.06,
          0.06,
          0.06,
          0.06,
          0.06,
          0.06,
          0.06,
          0.06,
          0.05333333333333334,
          0.05333333333333334,
          0.05333333333333334,
          0.05333333333333334,
          0.05333333333333334,
          0.05333333333333334,
          0.05333333333333334,
          0.05333333333333334,
          0.05333333333333334,
          0.05333333333333334,
          0.04666666666666666,
          0.04666666666666666,
          0.04666666666666666,
          0.04666666666666666,
          0.04666666666666666,
          0.04666666666666666,
          0.04666666666666666
         ],
         "yaxis": "y"
        },
        {
         "hovertemplate": "variable=Oil furnace<br>iteration=2<br>year=%{x}<br>value=%{y}<extra></extra>",
         "legendgroup": "Oil furnace, 2",
         "line": {
          "color": "#ab63fa",
          "dash": "dash"
         },
         "marker": {
          "symbol": "circle"
         },
         "mode": "lines",
         "name": "Oil furnace, 2",
         "showlegend": true,
         "type": "scattergl",
         "x": [
          2000,
          2000.25,
          2000.5,
          2000.75,
          2001,
          2001.25,
          2001.5,
          2001.75,
          2002,
          2002.25,
          2002.5,
          2002.75,
          2003,
          2003.25,
          2003.5,
          2003.75,
          2004,
          2004.25,
          2004.5,
          2004.75,
          2005,
          2005.25,
          2005.5,
          2005.75,
          2006,
          2006.25,
          2006.5,
          2006.75,
          2007,
          2007.25,
          2007.5,
          2007.75,
          2008,
          2008.25,
          2008.5,
          2008.75,
          2009,
          2009.25,
          2009.5,
          2009.75,
          2010,
          2010.25,
          2010.5,
          2010.75,
          2011,
          2011.25,
          2011.5,
          2011.75,
          2012,
          2012.25,
          2012.5,
          2012.75,
          2013,
          2013.25,
          2013.5,
          2013.75,
          2014,
          2014.25,
          2014.5,
          2014.75,
          2015,
          2015.25,
          2015.5,
          2015.75,
          2016,
          2016.25,
          2016.5,
          2016.75,
          2017,
          2017.25,
          2017.5,
          2017.75,
          2018,
          2018.25,
          2018.5,
          2018.75,
          2019,
          2019.25,
          2019.5,
          2019.75,
          2020
         ],
         "xaxis": "x",
         "y": [
          0.08,
          0.08,
          0.08,
          0.08,
          0.08,
          0.08,
          0.08,
          0.08,
          0.08,
          0.08,
          0.07333333333333333,
          0.07333333333333333,
          0.07333333333333333,
          0.07333333333333333,
          0.07333333333333333,
          0.07333333333333333,
          0.07333333333333333,
          0.07333333333333333,
          0.07333333333333333,
          0.07333333333333333,
          0.07333333333333333,
          0.07333333333333333,
          0.07333333333333333,
          0.07333333333333333,
          0.07333333333333333,
          0.07333333333333333,
          0.07333333333333333,
          0.07333333333333333,
          0.07333333333333333,
          0.07333333333333333,
          0.07333333333333333,
          0.07333333333333333,
          0.07333333333333333,
          0.07333333333333333,
          0.07333333333333333,
          0.07333333333333333,
          0.07333333333333333,
          0.07333333333333333,
          0.07333333333333333,
          0.06666666666666667,
          0.06,
          0.06,
          0.06,
          0.06,
          0.06,
          0.06,
          0.06,
          0.06,
          0.06,
          0.06,
          0.06,
          0.06,
          0.06,
          0.06,
          0.06,
          0.06,
          0.06,
          0.06,
          0.06,
          0.06,
          0.06,
          0.06,
          0.06,
          0.06,
          0.05333333333333334,
          0.05333333333333334,
          0.05333333333333334,
          0.05333333333333334,
          0.05333333333333334,
          0.05333333333333334,
          0.05333333333333334,
          0.05333333333333334,
          0.05333333333333334,
          0.05333333333333334,
          0.04666666666666666,
          0.04666666666666666,
          0.04666666666666666,
          0.04666666666666666,
          0.04666666666666666,
          0.04666666666666666,
          0.04666666666666666
         ],
         "yaxis": "y"
        },
        {
         "hovertemplate": "variable=Wood or wood pellets furnace<br>iteration=0<br>year=%{x}<br>value=%{y}<extra></extra>",
         "legendgroup": "Wood or wood pellets furnace, 0",
         "line": {
          "color": "#FFA15A",
          "dash": "solid"
         },
         "marker": {
          "symbol": "circle"
         },
         "mode": "lines",
         "name": "Wood or wood pellets furnace, 0",
         "showlegend": true,
         "type": "scattergl",
         "x": [
          2000,
          2000.25,
          2000.5,
          2000.75,
          2001,
          2001.25,
          2001.5,
          2001.75,
          2002,
          2002.25,
          2002.5,
          2002.75,
          2003,
          2003.25,
          2003.5,
          2003.75,
          2004,
          2004.25,
          2004.5,
          2004.75,
          2005,
          2005.25,
          2005.5,
          2005.75,
          2006,
          2006.25,
          2006.5,
          2006.75,
          2007,
          2007.25,
          2007.5,
          2007.75,
          2008,
          2008.25,
          2008.5,
          2008.75,
          2009,
          2009.25,
          2009.5,
          2009.75,
          2010,
          2010.25,
          2010.5,
          2010.75,
          2011,
          2011.25,
          2011.5,
          2011.75,
          2012,
          2012.25,
          2012.5,
          2012.75,
          2013,
          2013.25,
          2013.5,
          2013.75,
          2014,
          2014.25,
          2014.5,
          2014.75,
          2015,
          2015.25,
          2015.5,
          2015.75,
          2016,
          2016.25,
          2016.5,
          2016.75,
          2017,
          2017.25,
          2017.5,
          2017.75,
          2018,
          2018.25,
          2018.5,
          2018.75,
          2019,
          2019.25,
          2019.5,
          2019.75,
          2020
         ],
         "xaxis": "x",
         "y": [
          0,
          0,
          0,
          0,
          0,
          0,
          0,
          0,
          0,
          0,
          0,
          0,
          0,
          0,
          0,
          0,
          0,
          0,
          0,
          0,
          0,
          0,
          0,
          0,
          0,
          0,
          0,
          0,
          0,
          0,
          0,
          0,
          0,
          0,
          0,
          0,
          0,
          0,
          0,
          0,
          0,
          0,
          0,
          0,
          0,
          0,
          0,
          0,
          0,
          0,
          0,
          0,
          0,
          0,
          0,
          0,
          0,
          0,
          0,
          0,
          0,
          0,
          0,
          0,
          0,
          0,
          0,
          0,
          0,
          0,
          0,
          0,
          0,
          0,
          0,
          0,
          0,
          0,
          0,
          0,
          0
         ],
         "yaxis": "y"
        },
        {
         "hovertemplate": "variable=Wood or wood pellets furnace<br>iteration=1<br>year=%{x}<br>value=%{y}<extra></extra>",
         "legendgroup": "Wood or wood pellets furnace, 1",
         "line": {
          "color": "#FFA15A",
          "dash": "dot"
         },
         "marker": {
          "symbol": "circle"
         },
         "mode": "lines",
         "name": "Wood or wood pellets furnace, 1",
         "showlegend": true,
         "type": "scattergl",
         "x": [
          2000,
          2000.25,
          2000.5,
          2000.75,
          2001,
          2001.25,
          2001.5,
          2001.75,
          2002,
          2002.25,
          2002.5,
          2002.75,
          2003,
          2003.25,
          2003.5,
          2003.75,
          2004,
          2004.25,
          2004.5,
          2004.75,
          2005,
          2005.25,
          2005.5,
          2005.75,
          2006,
          2006.25,
          2006.5,
          2006.75,
          2007,
          2007.25,
          2007.5,
          2007.75,
          2008,
          2008.25,
          2008.5,
          2008.75,
          2009,
          2009.25,
          2009.5,
          2009.75,
          2010,
          2010.25,
          2010.5,
          2010.75,
          2011,
          2011.25,
          2011.5,
          2011.75,
          2012,
          2012.25,
          2012.5,
          2012.75,
          2013,
          2013.25,
          2013.5,
          2013.75,
          2014,
          2014.25,
          2014.5,
          2014.75,
          2015,
          2015.25,
          2015.5,
          2015.75,
          2016,
          2016.25,
          2016.5,
          2016.75,
          2017,
          2017.25,
          2017.5,
          2017.75,
          2018,
          2018.25,
          2018.5,
          2018.75,
          2019,
          2019.25,
          2019.5,
          2019.75,
          2020
         ],
         "xaxis": "x",
         "y": [
          0,
          0,
          0,
          0,
          0,
          0,
          0,
          0,
          0,
          0,
          0,
          0,
          0,
          0,
          0,
          0,
          0,
          0,
          0,
          0,
          0,
          0,
          0,
          0,
          0,
          0,
          0,
          0,
          0,
          0,
          0,
          0,
          0,
          0,
          0,
          0,
          0,
          0,
          0,
          0,
          0,
          0,
          0,
          0,
          0,
          0,
          0,
          0,
          0,
          0,
          0,
          0,
          0,
          0,
          0,
          0,
          0,
          0,
          0,
          0,
          0,
          0,
          0,
          0,
          0,
          0,
          0,
          0,
          0,
          0,
          0,
          0,
          0,
          0,
          0,
          0,
          0,
          0,
          0,
          0,
          0
         ],
         "yaxis": "y"
        },
        {
         "hovertemplate": "variable=Wood or wood pellets furnace<br>iteration=2<br>year=%{x}<br>value=%{y}<extra></extra>",
         "legendgroup": "Wood or wood pellets furnace, 2",
         "line": {
          "color": "#FFA15A",
          "dash": "dash"
         },
         "marker": {
          "symbol": "circle"
         },
         "mode": "lines",
         "name": "Wood or wood pellets furnace, 2",
         "showlegend": true,
         "type": "scattergl",
         "x": [
          2000,
          2000.25,
          2000.5,
          2000.75,
          2001,
          2001.25,
          2001.5,
          2001.75,
          2002,
          2002.25,
          2002.5,
          2002.75,
          2003,
          2003.25,
          2003.5,
          2003.75,
          2004,
          2004.25,
          2004.5,
          2004.75,
          2005,
          2005.25,
          2005.5,
          2005.75,
          2006,
          2006.25,
          2006.5,
          2006.75,
          2007,
          2007.25,
          2007.5,
          2007.75,
          2008,
          2008.25,
          2008.5,
          2008.75,
          2009,
          2009.25,
          2009.5,
          2009.75,
          2010,
          2010.25,
          2010.5,
          2010.75,
          2011,
          2011.25,
          2011.5,
          2011.75,
          2012,
          2012.25,
          2012.5,
          2012.75,
          2013,
          2013.25,
          2013.5,
          2013.75,
          2014,
          2014.25,
          2014.5,
          2014.75,
          2015,
          2015.25,
          2015.5,
          2015.75,
          2016,
          2016.25,
          2016.5,
          2016.75,
          2017,
          2017.25,
          2017.5,
          2017.75,
          2018,
          2018.25,
          2018.5,
          2018.75,
          2019,
          2019.25,
          2019.5,
          2019.75,
          2020
         ],
         "xaxis": "x",
         "y": [
          0,
          0,
          0,
          0,
          0,
          0,
          0,
          0,
          0,
          0,
          0,
          0,
          0,
          0,
          0,
          0,
          0,
          0,
          0,
          0,
          0,
          0,
          0,
          0,
          0,
          0,
          0,
          0,
          0,
          0,
          0,
          0,
          0,
          0,
          0,
          0,
          0,
          0,
          0,
          0,
          0,
          0,
          0,
          0,
          0,
          0,
          0,
          0,
          0,
          0,
          0,
          0,
          0,
          0,
          0,
          0,
          0,
          0,
          0,
          0,
          0,
          0,
          0,
          0,
          0,
          0,
          0,
          0,
          0,
          0,
          0,
          0,
          0,
          0,
          0,
          0,
          0,
          0,
          0,
          0,
          0
         ],
         "yaxis": "y"
        }
       ],
       "layout": {
        "legend": {
         "title": {
          "text": "variable, iteration"
         },
         "tracegroupgap": 0
        },
        "margin": {
         "t": 60
        },
        "template": {
         "data": {
          "bar": [
           {
            "error_x": {
             "color": "#2a3f5f"
            },
            "error_y": {
             "color": "#2a3f5f"
            },
            "marker": {
             "line": {
              "color": "#E5ECF6",
              "width": 0.5
             },
             "pattern": {
              "fillmode": "overlay",
              "size": 10,
              "solidity": 0.2
             }
            },
            "type": "bar"
           }
          ],
          "barpolar": [
           {
            "marker": {
             "line": {
              "color": "#E5ECF6",
              "width": 0.5
             },
             "pattern": {
              "fillmode": "overlay",
              "size": 10,
              "solidity": 0.2
             }
            },
            "type": "barpolar"
           }
          ],
          "carpet": [
           {
            "aaxis": {
             "endlinecolor": "#2a3f5f",
             "gridcolor": "white",
             "linecolor": "white",
             "minorgridcolor": "white",
             "startlinecolor": "#2a3f5f"
            },
            "baxis": {
             "endlinecolor": "#2a3f5f",
             "gridcolor": "white",
             "linecolor": "white",
             "minorgridcolor": "white",
             "startlinecolor": "#2a3f5f"
            },
            "type": "carpet"
           }
          ],
          "choropleth": [
           {
            "colorbar": {
             "outlinewidth": 0,
             "ticks": ""
            },
            "type": "choropleth"
           }
          ],
          "contour": [
           {
            "colorbar": {
             "outlinewidth": 0,
             "ticks": ""
            },
            "colorscale": [
             [
              0,
              "#0d0887"
             ],
             [
              0.1111111111111111,
              "#46039f"
             ],
             [
              0.2222222222222222,
              "#7201a8"
             ],
             [
              0.3333333333333333,
              "#9c179e"
             ],
             [
              0.4444444444444444,
              "#bd3786"
             ],
             [
              0.5555555555555556,
              "#d8576b"
             ],
             [
              0.6666666666666666,
              "#ed7953"
             ],
             [
              0.7777777777777778,
              "#fb9f3a"
             ],
             [
              0.8888888888888888,
              "#fdca26"
             ],
             [
              1,
              "#f0f921"
             ]
            ],
            "type": "contour"
           }
          ],
          "contourcarpet": [
           {
            "colorbar": {
             "outlinewidth": 0,
             "ticks": ""
            },
            "type": "contourcarpet"
           }
          ],
          "heatmap": [
           {
            "colorbar": {
             "outlinewidth": 0,
             "ticks": ""
            },
            "colorscale": [
             [
              0,
              "#0d0887"
             ],
             [
              0.1111111111111111,
              "#46039f"
             ],
             [
              0.2222222222222222,
              "#7201a8"
             ],
             [
              0.3333333333333333,
              "#9c179e"
             ],
             [
              0.4444444444444444,
              "#bd3786"
             ],
             [
              0.5555555555555556,
              "#d8576b"
             ],
             [
              0.6666666666666666,
              "#ed7953"
             ],
             [
              0.7777777777777778,
              "#fb9f3a"
             ],
             [
              0.8888888888888888,
              "#fdca26"
             ],
             [
              1,
              "#f0f921"
             ]
            ],
            "type": "heatmap"
           }
          ],
          "heatmapgl": [
           {
            "colorbar": {
             "outlinewidth": 0,
             "ticks": ""
            },
            "colorscale": [
             [
              0,
              "#0d0887"
             ],
             [
              0.1111111111111111,
              "#46039f"
             ],
             [
              0.2222222222222222,
              "#7201a8"
             ],
             [
              0.3333333333333333,
              "#9c179e"
             ],
             [
              0.4444444444444444,
              "#bd3786"
             ],
             [
              0.5555555555555556,
              "#d8576b"
             ],
             [
              0.6666666666666666,
              "#ed7953"
             ],
             [
              0.7777777777777778,
              "#fb9f3a"
             ],
             [
              0.8888888888888888,
              "#fdca26"
             ],
             [
              1,
              "#f0f921"
             ]
            ],
            "type": "heatmapgl"
           }
          ],
          "histogram": [
           {
            "marker": {
             "pattern": {
              "fillmode": "overlay",
              "size": 10,
              "solidity": 0.2
             }
            },
            "type": "histogram"
           }
          ],
          "histogram2d": [
           {
            "colorbar": {
             "outlinewidth": 0,
             "ticks": ""
            },
            "colorscale": [
             [
              0,
              "#0d0887"
             ],
             [
              0.1111111111111111,
              "#46039f"
             ],
             [
              0.2222222222222222,
              "#7201a8"
             ],
             [
              0.3333333333333333,
              "#9c179e"
             ],
             [
              0.4444444444444444,
              "#bd3786"
             ],
             [
              0.5555555555555556,
              "#d8576b"
             ],
             [
              0.6666666666666666,
              "#ed7953"
             ],
             [
              0.7777777777777778,
              "#fb9f3a"
             ],
             [
              0.8888888888888888,
              "#fdca26"
             ],
             [
              1,
              "#f0f921"
             ]
            ],
            "type": "histogram2d"
           }
          ],
          "histogram2dcontour": [
           {
            "colorbar": {
             "outlinewidth": 0,
             "ticks": ""
            },
            "colorscale": [
             [
              0,
              "#0d0887"
             ],
             [
              0.1111111111111111,
              "#46039f"
             ],
             [
              0.2222222222222222,
              "#7201a8"
             ],
             [
              0.3333333333333333,
              "#9c179e"
             ],
             [
              0.4444444444444444,
              "#bd3786"
             ],
             [
              0.5555555555555556,
              "#d8576b"
             ],
             [
              0.6666666666666666,
              "#ed7953"
             ],
             [
              0.7777777777777778,
              "#fb9f3a"
             ],
             [
              0.8888888888888888,
              "#fdca26"
             ],
             [
              1,
              "#f0f921"
             ]
            ],
            "type": "histogram2dcontour"
           }
          ],
          "mesh3d": [
           {
            "colorbar": {
             "outlinewidth": 0,
             "ticks": ""
            },
            "type": "mesh3d"
           }
          ],
          "parcoords": [
           {
            "line": {
             "colorbar": {
              "outlinewidth": 0,
              "ticks": ""
             }
            },
            "type": "parcoords"
           }
          ],
          "pie": [
           {
            "automargin": true,
            "type": "pie"
           }
          ],
          "scatter": [
           {
            "fillpattern": {
             "fillmode": "overlay",
             "size": 10,
             "solidity": 0.2
            },
            "type": "scatter"
           }
          ],
          "scatter3d": [
           {
            "line": {
             "colorbar": {
              "outlinewidth": 0,
              "ticks": ""
             }
            },
            "marker": {
             "colorbar": {
              "outlinewidth": 0,
              "ticks": ""
             }
            },
            "type": "scatter3d"
           }
          ],
          "scattercarpet": [
           {
            "marker": {
             "colorbar": {
              "outlinewidth": 0,
              "ticks": ""
             }
            },
            "type": "scattercarpet"
           }
          ],
          "scattergeo": [
           {
            "marker": {
             "colorbar": {
              "outlinewidth": 0,
              "ticks": ""
             }
            },
            "type": "scattergeo"
           }
          ],
          "scattergl": [
           {
            "marker": {
             "colorbar": {
              "outlinewidth": 0,
              "ticks": ""
             }
            },
            "type": "scattergl"
           }
          ],
          "scattermapbox": [
           {
            "marker": {
             "colorbar": {
              "outlinewidth": 0,
              "ticks": ""
             }
            },
            "type": "scattermapbox"
           }
          ],
          "scatterpolar": [
           {
            "marker": {
             "colorbar": {
              "outlinewidth": 0,
              "ticks": ""
             }
            },
            "type": "scatterpolar"
           }
          ],
          "scatterpolargl": [
           {
            "marker": {
             "colorbar": {
              "outlinewidth": 0,
              "ticks": ""
             }
            },
            "type": "scatterpolargl"
           }
          ],
          "scatterternary": [
           {
            "marker": {
             "colorbar": {
              "outlinewidth": 0,
              "ticks": ""
             }
            },
            "type": "scatterternary"
           }
          ],
          "surface": [
           {
            "colorbar": {
             "outlinewidth": 0,
             "ticks": ""
            },
            "colorscale": [
             [
              0,
              "#0d0887"
             ],
             [
              0.1111111111111111,
              "#46039f"
             ],
             [
              0.2222222222222222,
              "#7201a8"
             ],
             [
              0.3333333333333333,
              "#9c179e"
             ],
             [
              0.4444444444444444,
              "#bd3786"
             ],
             [
              0.5555555555555556,
              "#d8576b"
             ],
             [
              0.6666666666666666,
              "#ed7953"
             ],
             [
              0.7777777777777778,
              "#fb9f3a"
             ],
             [
              0.8888888888888888,
              "#fdca26"
             ],
             [
              1,
              "#f0f921"
             ]
            ],
            "type": "surface"
           }
          ],
          "table": [
           {
            "cells": {
             "fill": {
              "color": "#EBF0F8"
             },
             "line": {
              "color": "white"
             }
            },
            "header": {
             "fill": {
              "color": "#C8D4E3"
             },
             "line": {
              "color": "white"
             }
            },
            "type": "table"
           }
          ]
         },
         "layout": {
          "annotationdefaults": {
           "arrowcolor": "#2a3f5f",
           "arrowhead": 0,
           "arrowwidth": 1
          },
          "autotypenumbers": "strict",
          "coloraxis": {
           "colorbar": {
            "outlinewidth": 0,
            "ticks": ""
           }
          },
          "colorscale": {
           "diverging": [
            [
             0,
             "#8e0152"
            ],
            [
             0.1,
             "#c51b7d"
            ],
            [
             0.2,
             "#de77ae"
            ],
            [
             0.3,
             "#f1b6da"
            ],
            [
             0.4,
             "#fde0ef"
            ],
            [
             0.5,
             "#f7f7f7"
            ],
            [
             0.6,
             "#e6f5d0"
            ],
            [
             0.7,
             "#b8e186"
            ],
            [
             0.8,
             "#7fbc41"
            ],
            [
             0.9,
             "#4d9221"
            ],
            [
             1,
             "#276419"
            ]
           ],
           "sequential": [
            [
             0,
             "#0d0887"
            ],
            [
             0.1111111111111111,
             "#46039f"
            ],
            [
             0.2222222222222222,
             "#7201a8"
            ],
            [
             0.3333333333333333,
             "#9c179e"
            ],
            [
             0.4444444444444444,
             "#bd3786"
            ],
            [
             0.5555555555555556,
             "#d8576b"
            ],
            [
             0.6666666666666666,
             "#ed7953"
            ],
            [
             0.7777777777777778,
             "#fb9f3a"
            ],
            [
             0.8888888888888888,
             "#fdca26"
            ],
            [
             1,
             "#f0f921"
            ]
           ],
           "sequentialminus": [
            [
             0,
             "#0d0887"
            ],
            [
             0.1111111111111111,
             "#46039f"
            ],
            [
             0.2222222222222222,
             "#7201a8"
            ],
            [
             0.3333333333333333,
             "#9c179e"
            ],
            [
             0.4444444444444444,
             "#bd3786"
            ],
            [
             0.5555555555555556,
             "#d8576b"
            ],
            [
             0.6666666666666666,
             "#ed7953"
            ],
            [
             0.7777777777777778,
             "#fb9f3a"
            ],
            [
             0.8888888888888888,
             "#fdca26"
            ],
            [
             1,
             "#f0f921"
            ]
           ]
          },
          "colorway": [
           "#636efa",
           "#EF553B",
           "#00cc96",
           "#ab63fa",
           "#FFA15A",
           "#19d3f3",
           "#FF6692",
           "#B6E880",
           "#FF97FF",
           "#FECB52"
          ],
          "font": {
           "color": "#2a3f5f"
          },
          "geo": {
           "bgcolor": "white",
           "lakecolor": "white",
           "landcolor": "#E5ECF6",
           "showlakes": true,
           "showland": true,
           "subunitcolor": "white"
          },
          "hoverlabel": {
           "align": "left"
          },
          "hovermode": "closest",
          "mapbox": {
           "style": "light"
          },
          "paper_bgcolor": "white",
          "plot_bgcolor": "#E5ECF6",
          "polar": {
           "angularaxis": {
            "gridcolor": "white",
            "linecolor": "white",
            "ticks": ""
           },
           "bgcolor": "#E5ECF6",
           "radialaxis": {
            "gridcolor": "white",
            "linecolor": "white",
            "ticks": ""
           }
          },
          "scene": {
           "xaxis": {
            "backgroundcolor": "#E5ECF6",
            "gridcolor": "white",
            "gridwidth": 2,
            "linecolor": "white",
            "showbackground": true,
            "ticks": "",
            "zerolinecolor": "white"
           },
           "yaxis": {
            "backgroundcolor": "#E5ECF6",
            "gridcolor": "white",
            "gridwidth": 2,
            "linecolor": "white",
            "showbackground": true,
            "ticks": "",
            "zerolinecolor": "white"
           },
           "zaxis": {
            "backgroundcolor": "#E5ECF6",
            "gridcolor": "white",
            "gridwidth": 2,
            "linecolor": "white",
            "showbackground": true,
            "ticks": "",
            "zerolinecolor": "white"
           }
          },
          "shapedefaults": {
           "line": {
            "color": "#2a3f5f"
           }
          },
          "ternary": {
           "aaxis": {
            "gridcolor": "white",
            "linecolor": "white",
            "ticks": ""
           },
           "baxis": {
            "gridcolor": "white",
            "linecolor": "white",
            "ticks": ""
           },
           "bgcolor": "#E5ECF6",
           "caxis": {
            "gridcolor": "white",
            "linecolor": "white",
            "ticks": ""
           }
          },
          "title": {
           "x": 0.05
          },
          "xaxis": {
           "automargin": true,
           "gridcolor": "white",
           "linecolor": "white",
           "ticks": "",
           "title": {
            "standoff": 15
           },
           "zerolinecolor": "white",
           "zerolinewidth": 2
          },
          "yaxis": {
           "automargin": true,
           "gridcolor": "white",
           "linecolor": "white",
           "ticks": "",
           "title": {
            "standoff": 15
           },
           "zerolinecolor": "white",
           "zerolinewidth": 2
          }
         }
        },
        "xaxis": {
         "anchor": "y",
         "domain": [
          0,
          1
         ],
         "title": {
          "text": "year"
         }
        },
        "yaxis": {
         "anchor": "x",
         "domain": [
          0,
          1
         ],
         "title": {
          "text": "value"
         }
        }
       }
      }
     },
     "metadata": {},
     "output_type": "display_data"
    }
   ],
   "source": [
    "adoption_shares = pd.concat(adoption_share_dfs).loc[province,:].melt(id_vars=[\"iteration\"], ignore_index=False).reset_index()\n",
    "px.line(adoption_shares, x=\"year\", y=\"value\", color=\"variable\", line_dash=\"iteration\", template=\"plotly\")"
   ]
  },
  {
   "cell_type": "code",
   "execution_count": null,
   "metadata": {},
   "outputs": [],
   "source": []
  }
 ],
 "metadata": {
  "kernelspec": {
   "display_name": "cando",
   "language": "python",
   "name": "python3"
  },
  "language_info": {
   "codemirror_mode": {
    "name": "ipython",
    "version": 3
   },
   "file_extension": ".py",
   "mimetype": "text/x-python",
   "name": "python",
   "nbconvert_exporter": "python",
   "pygments_lexer": "ipython3",
   "version": "3.10.13"
  }
 },
 "nbformat": 4,
 "nbformat_minor": 2
}
