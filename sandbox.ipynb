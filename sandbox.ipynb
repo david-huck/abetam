{
 "cells": [
  {
   "cell_type": "markdown",
   "metadata": {},
   "source": [
    "# Projecting heat pump costs"
   ]
  },
  {
   "cell_type": "code",
   "execution_count": 1,
   "metadata": {},
   "outputs": [],
   "source": [
    "import numpy as np\n",
    "import pandas as pd\n",
    "import plotly.express as px\n",
    "from figures import sciencify_plotly_fig"
   ]
  },
  {
   "cell_type": "code",
   "execution_count": 2,
   "metadata": {},
   "outputs": [],
   "source": [
    "learning_rates = [\n",
    "    3.5, 5.5, 7.5, # renaldi et. al 2020\n",
    "    25.55, 26, 26.46, # Weiss et.al. 2008\n",
    "    4.8, 11.1, 17.4 # Louwen et.al 2018\n",
    "]\n",
    "lr_1 = np.mean(learning_rates) - np.std(learning_rates)\n",
    "lr_2 = np.mean(learning_rates) \n",
    "lr_3 = np.mean(learning_rates) + np.std(learning_rates)\n",
    "lrs = [5.5, 7.5, 11.1, 26, ]#np.linspace(5.5,26,5)"
   ]
  },
  {
   "cell_type": "code",
   "execution_count": 4,
   "metadata": {},
   "outputs": [
    {
     "data": {
      "application/vnd.plotly.v1+json": {
       "config": {
        "plotlyServerURL": "https://plot.ly"
       },
       "data": [
        {
         "hovertemplate": "variable=5.5%<br>index=%{x}<br>value=%{y}<extra></extra>",
         "legendgroup": "5.5%",
         "line": {
          "color": "#636efa",
          "dash": "solid"
         },
         "marker": {
          "symbol": "circle"
         },
         "mode": "lines",
         "name": "5.5%",
         "orientation": "v",
         "showlegend": true,
         "type": "scatter",
         "x": [
          180,
          235.86206896551724,
          291.7241379310345,
          347.58620689655174,
          403.44827586206895,
          459.31034482758616,
          515.1724137931035,
          571.0344827586207,
          626.8965517241379,
          682.7586206896551,
          738.6206896551723,
          794.4827586206897,
          850.3448275862069,
          906.2068965517241,
          962.0689655172414,
          1017.9310344827586,
          1073.7931034482758,
          1129.655172413793,
          1185.5172413793102,
          1241.3793103448274,
          1297.2413793103447,
          1353.103448275862,
          1408.9655172413793,
          1464.8275862068965,
          1520.6896551724137,
          1576.551724137931,
          1632.4137931034481,
          1688.2758620689654,
          1744.1379310344828,
          1800
         ],
         "xaxis": "x",
         "y": [
          770.751,
          753.9348455977392,
          740.968424893448,
          730.4486595408257,
          721.6177688231744,
          714.0208025768549,
          707.3636111949712,
          701.4452600700805,
          696.1225293510321,
          691.2898179910736,
          686.8670784156568,
          682.79221973104,
          679.0161327248528,
          675.4993223288096,
          672.2095629536973,
          669.1202257515115,
          666.2090596079806,
          663.4572860081776,
          660.84891570279,
          658.3702251101209,
          656.0093497250585,
          653.755964556446,
          651.6010301976082,
          649.5365890222355,
          647.5556001053772,
          645.651804379896,
          643.8196136307296,
          642.0540184527349,
          640.3505114207652,
          638.7050225575832
         ],
         "yaxis": "y"
        },
        {
         "hovertemplate": "variable=7.5%<br>index=%{x}<br>value=%{y}<extra></extra>",
         "legendgroup": "7.5%",
         "line": {
          "color": "#EF553B",
          "dash": "solid"
         },
         "marker": {
          "symbol": "circle"
         },
         "mode": "lines",
         "name": "7.5%",
         "orientation": "v",
         "showlegend": true,
         "type": "scatter",
         "x": [
          180,
          235.86206896551724,
          291.7241379310345,
          347.58620689655174,
          403.44827586206895,
          459.31034482758616,
          515.1724137931035,
          571.0344827586207,
          626.8965517241379,
          682.7586206896551,
          738.6206896551723,
          794.4827586206897,
          850.3448275862069,
          906.2068965517241,
          962.0689655172414,
          1017.9310344827586,
          1073.7931034482758,
          1129.655172413793,
          1185.5172413793102,
          1241.3793103448274,
          1297.2413793103447,
          1353.103448275862,
          1408.9655172413793,
          1464.8275862068965,
          1520.6896551724137,
          1576.551724137931,
          1632.4137931034481,
          1688.2758620689654,
          1744.1379310344828,
          1800
         ],
         "xaxis": "x",
         "y": [
          770.751,
          747.6721147033963,
          730.0089117221066,
          715.7641472607477,
          703.865983023169,
          693.6742673661936,
          684.7769398771235,
          676.8936057158459,
          669.8250911959861,
          663.4249894044337,
          657.5826305746743,
          652.2123902027223,
          647.2467053718849,
          642.6313588899834,
          638.3222031353407,
          634.2828276067075,
          630.4828624408676,
          626.8967210368594,
          623.5026524263293,
          620.2820163413357,
          617.2187211492655,
          614.2987827432393,
          611.5099745206846,
          608.8415468321106,
          606.2840000295232,
          603.8288993111292,
          601.4687224785505,
          599.1967338462721,
          597.0068791063791,
          594.8936971155747
         ],
         "yaxis": "y"
        },
        {
         "hovertemplate": "variable=11.1%<br>index=%{x}<br>value=%{y}<extra></extra>",
         "legendgroup": "11.1%",
         "line": {
          "color": "#00cc96",
          "dash": "solid"
         },
         "marker": {
          "symbol": "circle"
         },
         "mode": "lines",
         "name": "11.1%",
         "orientation": "v",
         "showlegend": true,
         "type": "scatter",
         "x": [
          180,
          235.86206896551724,
          291.7241379310345,
          347.58620689655174,
          403.44827586206895,
          459.31034482758616,
          515.1724137931035,
          571.0344827586207,
          626.8965517241379,
          682.7586206896551,
          738.6206896551723,
          794.4827586206897,
          850.3448275862069,
          906.2068965517241,
          962.0689655172414,
          1017.9310344827586,
          1073.7931034482758,
          1129.655172413793,
          1185.5172413793102,
          1241.3793103448274,
          1297.2413793103447,
          1353.103448275862,
          1408.9655172413793,
          1464.8275862068965,
          1520.6896551724137,
          1576.551724137931,
          1632.4137931034481,
          1688.2758620689654,
          1744.1379310344828,
          1800
         ],
         "xaxis": "x",
         "y": [
          770.751,
          736.1876311015068,
          710.098609305059,
          689.2912428775754,
          672.0722767106845,
          657.440173664977,
          644.7555397215881,
          633.5863946010201,
          623.6278319225087,
          614.6569992035921,
          606.5063117634799,
          599.0467243628267,
          592.1768574373885,
          585.8156870109569,
          579.8974872158925,
          574.3682434405749,
          569.1830528359512,
          564.3042041597913,
          559.699735246159,
          555.3423328025182,
          551.2084818252738,
          547.2777998780513,
          543.5325102130238,
          539.9570205135536,
          536.5375829299413,
          533.2620173581419,
          530.119484407296,
          527.1002977645865,
          524.1957680627064,
          521.3980721359163
         ],
         "yaxis": "y"
        },
        {
         "hovertemplate": "variable=26.0%<br>index=%{x}<br>value=%{y}<extra></extra>",
         "legendgroup": "26.0%",
         "line": {
          "color": "#ab63fa",
          "dash": "solid"
         },
         "marker": {
          "symbol": "circle"
         },
         "mode": "lines",
         "name": "26.0%",
         "orientation": "v",
         "showlegend": true,
         "type": "scatter",
         "x": [
          180,
          235.86206896551724,
          291.7241379310345,
          347.58620689655174,
          403.44827586206895,
          459.31034482758616,
          515.1724137931035,
          571.0344827586207,
          626.8965517241379,
          682.7586206896551,
          738.6206896551723,
          794.4827586206897,
          850.3448275862069,
          906.2068965517241,
          962.0689655172414,
          1017.9310344827586,
          1073.7931034482758,
          1129.655172413793,
          1185.5172413793102,
          1241.3793103448274,
          1297.2413793103447,
          1353.103448275862,
          1408.9655172413793,
          1464.8275862068965,
          1520.6896551724137,
          1576.551724137931,
          1632.4137931034481,
          1688.2758620689654,
          1744.1379310344828,
          1800
         ],
         "xaxis": "x",
         "y": [
          770.751,
          685.3642725262289,
          624.9134692319002,
          579.1167163196799,
          542.8117438231618,
          513.0791648380987,
          488.12491331514303,
          466.77645240618045,
          448.2301356628093,
          431.91388873432095,
          417.40769921904496,
          404.3951657704837,
          392.632701690339,
          381.92925364841756,
          372.13253523169317,
          363.11943546580983,
          354.7891822247341,
          347.05837058536827,
          339.85728250667495,
          333.1271187864104,
          326.8178872055802,
          320.8867703657248,
          315.2968493769559,
          310.01609507331716,
          305.0165628220678,
          300.2737440156038,
          295.76603939264464,
          291.4743279943302,
          287.381611858084,
          283.47272118552553
         ],
         "yaxis": "y"
        }
       ],
       "layout": {
        "annotations": [
         {
          "showarrow": false,
          "text": "2030",
          "textangle": -90,
          "x": 640,
          "xanchor": "right",
          "xref": "x",
          "y": 1,
          "yanchor": "top",
          "yref": "y domain"
         },
         {
          "showarrow": false,
          "text": "2040",
          "textangle": -90,
          "x": 1240,
          "xanchor": "right",
          "xref": "x",
          "y": 1,
          "yanchor": "top",
          "yref": "y domain"
         },
         {
          "showarrow": false,
          "text": "2050",
          "textangle": -90,
          "x": 1840,
          "xanchor": "right",
          "xref": "x",
          "y": 1,
          "yanchor": "top",
          "yref": "y domain"
         }
        ],
        "font": {
         "family": "cm",
         "size": 14
        },
        "height": 400,
        "legend": {
         "bordercolor": "gray",
         "borderwidth": 2,
         "title": {
          "text": "LR"
         },
         "tracegroupgap": 0,
         "x": 0.3,
         "y": 0.02
        },
        "margin": {
         "b": 0,
         "l": 0,
         "r": 20,
         "t": 10
        },
        "plot_bgcolor": "white",
        "shapes": [
         {
          "fillcolor": "#ffffff",
          "opacity": 0.4,
          "type": "rect",
          "x0": 560,
          "x1": 640,
          "xref": "x",
          "y0": 0,
          "y1": 1,
          "yref": "y domain"
         },
         {
          "fillcolor": "#ffffff",
          "opacity": 0.4,
          "type": "rect",
          "x0": 1160,
          "x1": 1240,
          "xref": "x",
          "y0": 0,
          "y1": 1,
          "yref": "y domain"
         },
         {
          "fillcolor": "#ffffff",
          "opacity": 0.4,
          "type": "rect",
          "x0": 1760,
          "x1": 1840,
          "xref": "x",
          "y0": 0,
          "y1": 1,
          "yref": "y domain"
         }
        ],
        "template": {
         "data": {
          "bar": [
           {
            "error_x": {
             "color": "#2a3f5f"
            },
            "error_y": {
             "color": "#2a3f5f"
            },
            "marker": {
             "line": {
              "color": "#E5ECF6",
              "width": 0.5
             },
             "pattern": {
              "fillmode": "overlay",
              "size": 10,
              "solidity": 0.2
             }
            },
            "type": "bar"
           }
          ],
          "barpolar": [
           {
            "marker": {
             "line": {
              "color": "#E5ECF6",
              "width": 0.5
             },
             "pattern": {
              "fillmode": "overlay",
              "size": 10,
              "solidity": 0.2
             }
            },
            "type": "barpolar"
           }
          ],
          "carpet": [
           {
            "aaxis": {
             "endlinecolor": "#2a3f5f",
             "gridcolor": "white",
             "linecolor": "white",
             "minorgridcolor": "white",
             "startlinecolor": "#2a3f5f"
            },
            "baxis": {
             "endlinecolor": "#2a3f5f",
             "gridcolor": "white",
             "linecolor": "white",
             "minorgridcolor": "white",
             "startlinecolor": "#2a3f5f"
            },
            "type": "carpet"
           }
          ],
          "choropleth": [
           {
            "colorbar": {
             "outlinewidth": 0,
             "ticks": ""
            },
            "type": "choropleth"
           }
          ],
          "contour": [
           {
            "colorbar": {
             "outlinewidth": 0,
             "ticks": ""
            },
            "colorscale": [
             [
              0,
              "#0d0887"
             ],
             [
              0.1111111111111111,
              "#46039f"
             ],
             [
              0.2222222222222222,
              "#7201a8"
             ],
             [
              0.3333333333333333,
              "#9c179e"
             ],
             [
              0.4444444444444444,
              "#bd3786"
             ],
             [
              0.5555555555555556,
              "#d8576b"
             ],
             [
              0.6666666666666666,
              "#ed7953"
             ],
             [
              0.7777777777777778,
              "#fb9f3a"
             ],
             [
              0.8888888888888888,
              "#fdca26"
             ],
             [
              1,
              "#f0f921"
             ]
            ],
            "type": "contour"
           }
          ],
          "contourcarpet": [
           {
            "colorbar": {
             "outlinewidth": 0,
             "ticks": ""
            },
            "type": "contourcarpet"
           }
          ],
          "heatmap": [
           {
            "colorbar": {
             "outlinewidth": 0,
             "ticks": ""
            },
            "colorscale": [
             [
              0,
              "#0d0887"
             ],
             [
              0.1111111111111111,
              "#46039f"
             ],
             [
              0.2222222222222222,
              "#7201a8"
             ],
             [
              0.3333333333333333,
              "#9c179e"
             ],
             [
              0.4444444444444444,
              "#bd3786"
             ],
             [
              0.5555555555555556,
              "#d8576b"
             ],
             [
              0.6666666666666666,
              "#ed7953"
             ],
             [
              0.7777777777777778,
              "#fb9f3a"
             ],
             [
              0.8888888888888888,
              "#fdca26"
             ],
             [
              1,
              "#f0f921"
             ]
            ],
            "type": "heatmap"
           }
          ],
          "heatmapgl": [
           {
            "colorbar": {
             "outlinewidth": 0,
             "ticks": ""
            },
            "colorscale": [
             [
              0,
              "#0d0887"
             ],
             [
              0.1111111111111111,
              "#46039f"
             ],
             [
              0.2222222222222222,
              "#7201a8"
             ],
             [
              0.3333333333333333,
              "#9c179e"
             ],
             [
              0.4444444444444444,
              "#bd3786"
             ],
             [
              0.5555555555555556,
              "#d8576b"
             ],
             [
              0.6666666666666666,
              "#ed7953"
             ],
             [
              0.7777777777777778,
              "#fb9f3a"
             ],
             [
              0.8888888888888888,
              "#fdca26"
             ],
             [
              1,
              "#f0f921"
             ]
            ],
            "type": "heatmapgl"
           }
          ],
          "histogram": [
           {
            "marker": {
             "pattern": {
              "fillmode": "overlay",
              "size": 10,
              "solidity": 0.2
             }
            },
            "type": "histogram"
           }
          ],
          "histogram2d": [
           {
            "colorbar": {
             "outlinewidth": 0,
             "ticks": ""
            },
            "colorscale": [
             [
              0,
              "#0d0887"
             ],
             [
              0.1111111111111111,
              "#46039f"
             ],
             [
              0.2222222222222222,
              "#7201a8"
             ],
             [
              0.3333333333333333,
              "#9c179e"
             ],
             [
              0.4444444444444444,
              "#bd3786"
             ],
             [
              0.5555555555555556,
              "#d8576b"
             ],
             [
              0.6666666666666666,
              "#ed7953"
             ],
             [
              0.7777777777777778,
              "#fb9f3a"
             ],
             [
              0.8888888888888888,
              "#fdca26"
             ],
             [
              1,
              "#f0f921"
             ]
            ],
            "type": "histogram2d"
           }
          ],
          "histogram2dcontour": [
           {
            "colorbar": {
             "outlinewidth": 0,
             "ticks": ""
            },
            "colorscale": [
             [
              0,
              "#0d0887"
             ],
             [
              0.1111111111111111,
              "#46039f"
             ],
             [
              0.2222222222222222,
              "#7201a8"
             ],
             [
              0.3333333333333333,
              "#9c179e"
             ],
             [
              0.4444444444444444,
              "#bd3786"
             ],
             [
              0.5555555555555556,
              "#d8576b"
             ],
             [
              0.6666666666666666,
              "#ed7953"
             ],
             [
              0.7777777777777778,
              "#fb9f3a"
             ],
             [
              0.8888888888888888,
              "#fdca26"
             ],
             [
              1,
              "#f0f921"
             ]
            ],
            "type": "histogram2dcontour"
           }
          ],
          "mesh3d": [
           {
            "colorbar": {
             "outlinewidth": 0,
             "ticks": ""
            },
            "type": "mesh3d"
           }
          ],
          "parcoords": [
           {
            "line": {
             "colorbar": {
              "outlinewidth": 0,
              "ticks": ""
             }
            },
            "type": "parcoords"
           }
          ],
          "pie": [
           {
            "automargin": true,
            "type": "pie"
           }
          ],
          "scatter": [
           {
            "fillpattern": {
             "fillmode": "overlay",
             "size": 10,
             "solidity": 0.2
            },
            "type": "scatter"
           }
          ],
          "scatter3d": [
           {
            "line": {
             "colorbar": {
              "outlinewidth": 0,
              "ticks": ""
             }
            },
            "marker": {
             "colorbar": {
              "outlinewidth": 0,
              "ticks": ""
             }
            },
            "type": "scatter3d"
           }
          ],
          "scattercarpet": [
           {
            "marker": {
             "colorbar": {
              "outlinewidth": 0,
              "ticks": ""
             }
            },
            "type": "scattercarpet"
           }
          ],
          "scattergeo": [
           {
            "marker": {
             "colorbar": {
              "outlinewidth": 0,
              "ticks": ""
             }
            },
            "type": "scattergeo"
           }
          ],
          "scattergl": [
           {
            "marker": {
             "colorbar": {
              "outlinewidth": 0,
              "ticks": ""
             }
            },
            "type": "scattergl"
           }
          ],
          "scattermapbox": [
           {
            "marker": {
             "colorbar": {
              "outlinewidth": 0,
              "ticks": ""
             }
            },
            "type": "scattermapbox"
           }
          ],
          "scatterpolar": [
           {
            "marker": {
             "colorbar": {
              "outlinewidth": 0,
              "ticks": ""
             }
            },
            "type": "scatterpolar"
           }
          ],
          "scatterpolargl": [
           {
            "marker": {
             "colorbar": {
              "outlinewidth": 0,
              "ticks": ""
             }
            },
            "type": "scatterpolargl"
           }
          ],
          "scatterternary": [
           {
            "marker": {
             "colorbar": {
              "outlinewidth": 0,
              "ticks": ""
             }
            },
            "type": "scatterternary"
           }
          ],
          "surface": [
           {
            "colorbar": {
             "outlinewidth": 0,
             "ticks": ""
            },
            "colorscale": [
             [
              0,
              "#0d0887"
             ],
             [
              0.1111111111111111,
              "#46039f"
             ],
             [
              0.2222222222222222,
              "#7201a8"
             ],
             [
              0.3333333333333333,
              "#9c179e"
             ],
             [
              0.4444444444444444,
              "#bd3786"
             ],
             [
              0.5555555555555556,
              "#d8576b"
             ],
             [
              0.6666666666666666,
              "#ed7953"
             ],
             [
              0.7777777777777778,
              "#fb9f3a"
             ],
             [
              0.8888888888888888,
              "#fdca26"
             ],
             [
              1,
              "#f0f921"
             ]
            ],
            "type": "surface"
           }
          ],
          "table": [
           {
            "cells": {
             "fill": {
              "color": "#EBF0F8"
             },
             "line": {
              "color": "white"
             }
            },
            "header": {
             "fill": {
              "color": "#C8D4E3"
             },
             "line": {
              "color": "white"
             }
            },
            "type": "table"
           }
          ]
         },
         "layout": {
          "annotationdefaults": {
           "arrowcolor": "#2a3f5f",
           "arrowhead": 0,
           "arrowwidth": 1
          },
          "autotypenumbers": "strict",
          "coloraxis": {
           "colorbar": {
            "outlinewidth": 0,
            "ticks": ""
           }
          },
          "colorscale": {
           "diverging": [
            [
             0,
             "#8e0152"
            ],
            [
             0.1,
             "#c51b7d"
            ],
            [
             0.2,
             "#de77ae"
            ],
            [
             0.3,
             "#f1b6da"
            ],
            [
             0.4,
             "#fde0ef"
            ],
            [
             0.5,
             "#f7f7f7"
            ],
            [
             0.6,
             "#e6f5d0"
            ],
            [
             0.7,
             "#b8e186"
            ],
            [
             0.8,
             "#7fbc41"
            ],
            [
             0.9,
             "#4d9221"
            ],
            [
             1,
             "#276419"
            ]
           ],
           "sequential": [
            [
             0,
             "#0d0887"
            ],
            [
             0.1111111111111111,
             "#46039f"
            ],
            [
             0.2222222222222222,
             "#7201a8"
            ],
            [
             0.3333333333333333,
             "#9c179e"
            ],
            [
             0.4444444444444444,
             "#bd3786"
            ],
            [
             0.5555555555555556,
             "#d8576b"
            ],
            [
             0.6666666666666666,
             "#ed7953"
            ],
            [
             0.7777777777777778,
             "#fb9f3a"
            ],
            [
             0.8888888888888888,
             "#fdca26"
            ],
            [
             1,
             "#f0f921"
            ]
           ],
           "sequentialminus": [
            [
             0,
             "#0d0887"
            ],
            [
             0.1111111111111111,
             "#46039f"
            ],
            [
             0.2222222222222222,
             "#7201a8"
            ],
            [
             0.3333333333333333,
             "#9c179e"
            ],
            [
             0.4444444444444444,
             "#bd3786"
            ],
            [
             0.5555555555555556,
             "#d8576b"
            ],
            [
             0.6666666666666666,
             "#ed7953"
            ],
            [
             0.7777777777777778,
             "#fb9f3a"
            ],
            [
             0.8888888888888888,
             "#fdca26"
            ],
            [
             1,
             "#f0f921"
            ]
           ]
          },
          "colorway": [
           "#636efa",
           "#EF553B",
           "#00cc96",
           "#ab63fa",
           "#FFA15A",
           "#19d3f3",
           "#FF6692",
           "#B6E880",
           "#FF97FF",
           "#FECB52"
          ],
          "font": {
           "color": "#2a3f5f"
          },
          "geo": {
           "bgcolor": "white",
           "lakecolor": "white",
           "landcolor": "#E5ECF6",
           "showlakes": true,
           "showland": true,
           "subunitcolor": "white"
          },
          "hoverlabel": {
           "align": "left"
          },
          "hovermode": "closest",
          "mapbox": {
           "style": "light"
          },
          "paper_bgcolor": "white",
          "plot_bgcolor": "#E5ECF6",
          "polar": {
           "angularaxis": {
            "gridcolor": "white",
            "linecolor": "white",
            "ticks": ""
           },
           "bgcolor": "#E5ECF6",
           "radialaxis": {
            "gridcolor": "white",
            "linecolor": "white",
            "ticks": ""
           }
          },
          "scene": {
           "xaxis": {
            "backgroundcolor": "#E5ECF6",
            "gridcolor": "white",
            "gridwidth": 2,
            "linecolor": "white",
            "showbackground": true,
            "ticks": "",
            "zerolinecolor": "white"
           },
           "yaxis": {
            "backgroundcolor": "#E5ECF6",
            "gridcolor": "white",
            "gridwidth": 2,
            "linecolor": "white",
            "showbackground": true,
            "ticks": "",
            "zerolinecolor": "white"
           },
           "zaxis": {
            "backgroundcolor": "#E5ECF6",
            "gridcolor": "white",
            "gridwidth": 2,
            "linecolor": "white",
            "showbackground": true,
            "ticks": "",
            "zerolinecolor": "white"
           }
          },
          "shapedefaults": {
           "line": {
            "color": "#2a3f5f"
           }
          },
          "ternary": {
           "aaxis": {
            "gridcolor": "white",
            "linecolor": "white",
            "ticks": ""
           },
           "baxis": {
            "gridcolor": "white",
            "linecolor": "white",
            "ticks": ""
           },
           "bgcolor": "#E5ECF6",
           "caxis": {
            "gridcolor": "white",
            "linecolor": "white",
            "ticks": ""
           }
          },
          "title": {
           "x": 0.05
          },
          "xaxis": {
           "automargin": true,
           "gridcolor": "white",
           "linecolor": "white",
           "ticks": "",
           "title": {
            "standoff": 15
           },
           "zerolinecolor": "white",
           "zerolinewidth": 2
          },
          "yaxis": {
           "automargin": true,
           "gridcolor": "white",
           "linecolor": "white",
           "ticks": "",
           "title": {
            "standoff": 15
           },
           "zerolinecolor": "white",
           "zerolinewidth": 2
          }
         }
        },
        "width": 400,
        "xaxis": {
         "anchor": "y",
         "domain": [
          0,
          1
         ],
         "gridcolor": "lightgrey",
         "linecolor": "black",
         "mirror": true,
         "showline": true,
         "tickmode": "array",
         "ticks": "outside",
         "ticktext": [
          180,
          600,
          1200,
          1800
         ],
         "tickvals": [
          180,
          600,
          1200,
          1800
         ],
         "title": {
          "text": "Cumulative installations (mio)"
         }
        },
        "yaxis": {
         "anchor": "x",
         "domain": [
          0,
          1
         ],
         "gridcolor": "lightgrey",
         "linecolor": "black",
         "mirror": true,
         "range": [
          0,
          847.8261
         ],
         "showline": true,
         "ticks": "outside",
         "title": {
          "text": "Specific investment (CAD/kW)"
         }
        }
       }
      }
     },
     "metadata": {},
     "output_type": "display_data"
    }
   ],
   "source": [
    "global_installed_hps = [\n",
    "    # 180, 600, 1800 # IEA global net zero (millions of installed heat pump)\n",
    "    180,  \n",
    "    600, \n",
    "    1800 \n",
    "]\n",
    "heat_pump_installations = np.linspace(global_installed_hps[0], global_installed_hps[-1], 30)\n",
    "\n",
    "hp_price_0 = 770.751 # price at 2020\n",
    "\n",
    "\n",
    "def price_reduction(x, lr, p0=1):\n",
    "    b = -np.log((1 - lr / 100)) / np.log(2)\n",
    "    return p0 * x**-b\n",
    "\n",
    "\n",
    "def lr_based_cost_factors(x, lr, p0=1):\n",
    "    # sets first (2020) data point to 1\n",
    "    price_factors = price_reduction(x, lr, p0)\n",
    "    return price_factors / list(price_factors)[0]\n",
    "\n",
    "\n",
    "future_prices = np.array(\n",
    "    [lr_based_cost_factors(heat_pump_installations, lr, p0=hp_price_0) for lr in lrs]\n",
    ").T * hp_price_0\n",
    "future_prices = pd.DataFrame(\n",
    "    future_prices,\n",
    "    index=heat_pump_installations, #+ 180,\n",
    "    columns=[f\"{lr:.1f}%\" for lr in lrs],\n",
    ")\n",
    "fig = px.line(future_prices)\n",
    "fig.update_layout(\n",
    "    yaxis_title=\"Specific investment (CAD/kW)\",\n",
    "    xaxis_title=\"Cumulative installations (mio)\",\n",
    "    yaxis_range=(0, hp_price_0 * 1.1),\n",
    "    width=400,\n",
    "    height=400,\n",
    "    xaxis=dict(\n",
    "        tickmode=\"array\",\n",
    "        tickvals=[\n",
    "            180,\n",
    "            600,\n",
    "            1200,\n",
    "            1800,\n",
    "        ],\n",
    "        ticktext=[\n",
    "            180,\n",
    "            600,\n",
    "            1200,\n",
    "            1800,\n",
    "        ],\n",
    "    ),\n",
    "    font=dict(family=\"cm\", size=14),\n",
    ")\n",
    "fig = sciencify_plotly_fig(fig)\n",
    "fig.add_vrect(\n",
    "    560,\n",
    "    640,\n",
    "    annotation=dict(text=\"2030\", textangle=-90),\n",
    "    fillcolor=\"#ffffff\",\n",
    "    opacity=0.4,\n",
    ")\n",
    "fig.add_vrect(\n",
    "    1160,\n",
    "    1240,\n",
    "    annotation=dict(text=\"2040\", textangle=-90),\n",
    "    fillcolor=\"#ffffff\",\n",
    "    opacity=0.4,\n",
    ")\n",
    "fig.add_vrect(\n",
    "    1760,\n",
    "    1840,\n",
    "    annotation=dict(text=\"2050\", textangle=-90),\n",
    "    fillcolor=\"#ffffff\",\n",
    "    opacity=0.4,\n",
    ")\n",
    "\n",
    "\n",
    "fig.update_layout(\n",
    "    legend=dict(\n",
    "        title=\"LR\",\n",
    "        x=0.3,\n",
    "        y=0.02,\n",
    "        bordercolor=\"gray\",\n",
    "        borderwidth=2,\n",
    "        # font=dict(size=20)\n",
    "    ),\n",
    "    margin={\"r\": 20, \"t\": 10, \"b\": 0, \"l\": 0},\n",
    ")\n",
    "# import plotly.io as pio\n",
    "fig.write_image(\"figures/heat_pump_cost_projections.pdf\")\n",
    "fig.write_image(\"figures/heat_pump_cost_projections.svg\")\n",
    "fig"
   ]
  },
  {
   "cell_type": "code",
   "execution_count": 6,
   "metadata": {},
   "outputs": [
    {
     "data": {
      "text/html": [
       "<div>\n",
       "<style scoped>\n",
       "    .dataframe tbody tr th:only-of-type {\n",
       "        vertical-align: middle;\n",
       "    }\n",
       "\n",
       "    .dataframe tbody tr th {\n",
       "        vertical-align: top;\n",
       "    }\n",
       "\n",
       "    .dataframe thead th {\n",
       "        text-align: right;\n",
       "    }\n",
       "</style>\n",
       "<table border=\"1\" class=\"dataframe\">\n",
       "  <thead>\n",
       "    <tr style=\"text-align: right;\">\n",
       "      <th></th>\n",
       "      <th></th>\n",
       "      <th>Electric furnace</th>\n",
       "      <th>Gas furnace</th>\n",
       "      <th>Heat pump</th>\n",
       "      <th>Oil furnace</th>\n",
       "      <th>Wood or wood pellets furnace</th>\n",
       "    </tr>\n",
       "    <tr>\n",
       "      <th>year</th>\n",
       "      <th>variable</th>\n",
       "      <th></th>\n",
       "      <th></th>\n",
       "      <th></th>\n",
       "      <th></th>\n",
       "      <th></th>\n",
       "    </tr>\n",
       "  </thead>\n",
       "  <tbody>\n",
       "    <tr>\n",
       "      <th>2045</th>\n",
       "      <th>specific_cost</th>\n",
       "      <td>91.817</td>\n",
       "      <td>209.172</td>\n",
       "      <td>533.262017</td>\n",
       "      <td>209.477</td>\n",
       "      <td>648.804</td>\n",
       "    </tr>\n",
       "    <tr>\n",
       "      <th>2046</th>\n",
       "      <th>specific_cost</th>\n",
       "      <td>91.817</td>\n",
       "      <td>209.172</td>\n",
       "      <td>530.119484</td>\n",
       "      <td>209.477</td>\n",
       "      <td>648.804</td>\n",
       "    </tr>\n",
       "    <tr>\n",
       "      <th>2047</th>\n",
       "      <th>specific_cost</th>\n",
       "      <td>91.817</td>\n",
       "      <td>209.172</td>\n",
       "      <td>527.100298</td>\n",
       "      <td>209.477</td>\n",
       "      <td>648.804</td>\n",
       "    </tr>\n",
       "    <tr>\n",
       "      <th>2048</th>\n",
       "      <th>specific_cost</th>\n",
       "      <td>91.817</td>\n",
       "      <td>209.172</td>\n",
       "      <td>524.195768</td>\n",
       "      <td>209.477</td>\n",
       "      <td>648.804</td>\n",
       "    </tr>\n",
       "    <tr>\n",
       "      <th>2049</th>\n",
       "      <th>specific_cost</th>\n",
       "      <td>91.817</td>\n",
       "      <td>209.172</td>\n",
       "      <td>521.398072</td>\n",
       "      <td>209.477</td>\n",
       "      <td>648.804</td>\n",
       "    </tr>\n",
       "  </tbody>\n",
       "</table>\n",
       "</div>"
      ],
      "text/plain": [
       "                    Electric furnace  Gas furnace   Heat pump  Oil furnace  \\\n",
       "year variable                                                                \n",
       "2045 specific_cost            91.817      209.172  533.262017      209.477   \n",
       "2046 specific_cost            91.817      209.172  530.119484      209.477   \n",
       "2047 specific_cost            91.817      209.172  527.100298      209.477   \n",
       "2048 specific_cost            91.817      209.172  524.195768      209.477   \n",
       "2049 specific_cost            91.817      209.172  521.398072      209.477   \n",
       "\n",
       "                    Wood or wood pellets furnace  \n",
       "year variable                                     \n",
       "2045 specific_cost                       648.804  \n",
       "2046 specific_cost                       648.804  \n",
       "2047 specific_cost                       648.804  \n",
       "2048 specific_cost                       648.804  \n",
       "2049 specific_cost                       648.804  "
      ]
     },
     "execution_count": 6,
     "metadata": {},
     "output_type": "execute_result"
    }
   ],
   "source": [
    "# # executed at commit: 505378d16c8d4bc833763686ccb4104546d006ed\n",
    "future_prices[\"year\"] = np.arange(2020, 2050)\n",
    "future_prices = future_prices.set_index(\"year\")#.loc[range(2020,2050),:]\n",
    "future_prices\n",
    "\n",
    "# # according to this phd thesis https://d-nb.info/1021976628/34 p.56, pellet boilers could have learning rate of 7 or 10%\n",
    "# # which is currently ignored\n",
    "# # another source for hp learning rates: https://www.eusustel.be/public/documents_publ/WP/WP5/SAPIENTIA-Final%20Report.pdf p 40f, 452\n",
    "# # ~20%, source is from 2005 SYSTEM ANALYSIS FOR PROGRESS AND INNOVATION IN ENERGY TECHNOLOGIES FOR INTEGRATED ASSESSMENT \n",
    "# # Research Project DG RES, 5th Framework Programme\n",
    "specific_costs = pd.read_csv(\"data/canada/heat_tech_params.csv\", index_col=list(range(2)))#.query(\"variable=='specific_cost'\").drop(\"variable\", axis=1).set_index(\"year\")\n",
    "\n",
    "for i, row in future_prices.iterrows():\n",
    "    specific_costs.at[(i,\"specific_cost\"),\"Heat pump\"] = row[\"11.1%\"]\n",
    "    if i > 2020:\n",
    "        for other_tech in ['Electric furnace', 'Gas furnace', 'Oil furnace','Wood or wood pellets furnace']:\n",
    "            # take last available cost param if not present... \n",
    "            if (i,\"specific_cost\") not in specific_costs.index:\n",
    "                specific_costs.at[(i,\"specific_cost\"),other_tech] = specific_costs.loc[(i-1,\"specific_cost\"),other_tech]\n",
    "            else:\n",
    "                # or if it is empty. This happens often, only the Heat pump column was written previously\n",
    "                if pd.isna(specific_costs.at[(i,\"specific_cost\"),other_tech]):\n",
    "                    specific_costs.at[(i,\"specific_cost\"),other_tech] = specific_costs.loc[(i-1,\"specific_cost\"),other_tech]\n",
    "\n",
    "specific_costs.to_csv(\"data/canada/heat_tech_params.csv\")\n",
    "specific_costs.tail()"
   ]
  },
  {
   "cell_type": "markdown",
   "metadata": {},
   "source": [
    "# Technology Input data"
   ]
  },
  {
   "cell_type": "code",
   "execution_count": 4,
   "metadata": {},
   "outputs": [],
   "source": [
    "import pandas as pd\n",
    "from scipy.optimize import curve_fit\n",
    "\n",
    "def lin(x,m,b):\n",
    "    return m*x+b\n",
    "\n",
    "tech_df = pd.read_csv(\"data/canada/eia_building_appl_cost_mean.csv\").set_index([\"year\",\"variable\"]).sort_index(level=1)#.interpolate()\n",
    "# tech_df.to_csv(\"data/canada/eia_building_appl_cost_mean.csv\")\n"
   ]
  },
  {
   "cell_type": "code",
   "execution_count": 5,
   "metadata": {},
   "outputs": [],
   "source": [
    "\n",
    "# tech_df.loc[:,\"specific_cost\",:] = (tech_df.loc[:,\"specific_cost\",:]*1/0.7688).values\n",
    "# tech_df.loc[:,\"specific_fom_cost\",:] = (tech_df.loc[:,\"specific_fom_cost\",:]*1/0.7688).values\n",
    "# tech_df.round(3).to_csv(\"data/canada/eia_building_appl_cost_mean.csv\")\n",
    "# years = tech_df.reset_index()[\"year\"].to_list()\n",
    "\n",
    "# for var in tech_df.reset_index()[\"variable\"].unique():\n",
    "#     # print(var)\n",
    "#     c_df = tech_df.loc[:,var,:].reset_index().query(\"year < 2023\")\n",
    "#     for tech in c_df.columns:\n",
    "#         # print(\"\\t\",tech)\n",
    "#         if tech==\"year\":\n",
    "#             continue\n",
    "#         is_na = c_df[tech].isna()\n",
    "#         p,v = curve_fit(lin, c_df.loc[~is_na,\"year\"], c_df.loc[~is_na,tech])\n",
    "#         if 2000 in tech_df.index:\n",
    "#             tech_df.loc[(2000,var),tech] = lin(2000,*p)\n",
    "#         else:    \n",
    "#             tech_df.at[(2000,var),tech] = lin(2000,*p)\n",
    "\n",
    "#         for year in c_df.loc[is_na,\"year\"]:\n",
    "#             next_year = years[years.index(year)+1]\n",
    "#             tech_df.loc[(year,var),tech] = tech_df.loc[(next_year,var),tech]\n",
    "\n",
    "\n",
    "# tech_df = tech_df.sort_index()\n",
    "# tech_df.head()\n"
   ]
  },
  {
   "cell_type": "code",
   "execution_count": 159,
   "metadata": {},
   "outputs": [],
   "source": [
    "# tech_df.sort_index(level=1).to_csv(\"data/canada/eia_building_appl_cost_mean.csv\")"
   ]
  },
  {
   "cell_type": "markdown",
   "metadata": {},
   "source": [
    "## interpolating input data"
   ]
  },
  {
   "cell_type": "code",
   "execution_count": 6,
   "metadata": {},
   "outputs": [],
   "source": [
    "import pandas as pd\n",
    "\n",
    "# tech_params = pd.read_csv(\"data/canada/heat_tech_params.csv\")\n",
    "# tech_params = tech_params.set_index([\"variable\",\"year\"])\n",
    "# columns = ['Electric furnace', 'Gas furnace', 'Heat pump', 'Oil furnace',\n",
    "#        'Wood or wood pellets furnace']\n",
    "unique_vars = ['specific_fom_cost', 'specific_cost', #'specific_fuel_emission',\n",
    "       'efficiency', 'lifetime', \"annuity_factor\"]\n",
    "\n",
    "missing_years = [y for y in range(2000,2021) if y not in tech_df.index]\n",
    "empty_frame = pd.DataFrame(index=pd.MultiIndex.from_product([missing_years,unique_vars]), columns=tech_df.columns)\n",
    "inter_p_df = pd.concat([empty_frame,tech_df]).sort_index(level=1).interpolate()\n",
    "inter_p_df.swaplevel().round(3).swaplevel().sort_index(level=1)#.to_csv(\"data/canada/heat_tech_params.csv\")"
   ]
  },
  {
   "cell_type": "markdown",
   "metadata": {},
   "source": [
    "## performance enhancements"
   ]
  },
  {
   "cell_type": "code",
   "execution_count": 19,
   "metadata": {},
   "outputs": [],
   "source": [
    "from components.model import TechnologyAdoptionModel\n",
    "from functools import partial\n",
    "from decision_making.mcda import normalize, calc_score\n",
    "from numba import njit\n",
    "\n",
    "model = TechnologyAdoptionModel(10,\"Ontario\")\n",
    "agent = model.schedule.agents[0]\n",
    "\n",
    "def calc_score_new(row: pd.Series, weights: dict) -> float:\n",
    "    \"\"\"calculates the (mcda) score of the `row` using the `weights` by vector\n",
    "    multiplication. The index of `row` (or the DataFrame on which `.apply()` is used)\n",
    "    and the keys of the `weights` must match.\n",
    "    \"\"\"\n",
    "    weight_series = pd.Series(weights)\n",
    "\n",
    "    # ensure each index appears in both frames\n",
    "    assert all(idx in weight_series.index for idx in row.index)\n",
    "    # sort both series to ensure alignment\n",
    "    row.sort_index(inplace=True)\n",
    "    weight_series.sort_index(inplace=True)\n",
    "\n",
    "    return row.values @ weight_series.values\n",
    "\n",
    "\n",
    "\n",
    "def calc_scores(\n",
    "    self, score_func\n",
    "):\n",
    "    techs_df = self.heat_techs_df\n",
    "    techs_df[\"attitude\"] = self.tech_attitudes\n",
    "    techs_df[\"attitude\"] = normalize(techs_df[\"attitude\"] + 1)\n",
    "    \n",
    "    # calculate scores\n",
    "    p_normalize = partial(normalize, direction=-1)\n",
    "    techs_df.loc[:, [\"cost_norm\"]] = (\n",
    "        techs_df[[\"annual_cost\"]].apply(p_normalize).values\n",
    "    )\n",
    "    techs_df[\"total_score\"] = techs_df[\n",
    "        [\"emissions_norm\", \"cost_norm\", \"attitude\"]\n",
    "    ].apply(\n",
    "        score_func,\n",
    "        axis=1,\n",
    "        weights=self.criteria_weights,\n",
    "    )\n",
    "    return techs_df\n",
    "\n",
    "# agent.calc_scores = partial(calc_scores, self=agent, score_func=calc_score_new)\n",
    "# agent.calc_scores()[[\"attitude\", \"emissions_norm\", \"cost_norm\",\"total_score\"]]\n",
    "%timeit calc_scores(agent, calc_score_new)\n",
    "%timeit calc_scores(agent, calc_score)"
   ]
  },
  {
   "cell_type": "code",
   "execution_count": null,
   "metadata": {},
   "outputs": [],
   "source": [
    "weight_d =     {\n",
    "        \"cost_norm\": 0.4650762644948514,\n",
    "        \"emissions_norm\": 0.13842755443143467,\n",
    "        \"attitude\": 0.3964961810737139,\n",
    "    }\n",
    "%timeit pd.Series(weight_d)\n",
    "%timeit weight_df = pd.DataFrame(weight_d.values(), columns=[\"weights\"], index=weight_d.keys())"
   ]
  },
  {
   "cell_type": "code",
   "execution_count": null,
   "metadata": {},
   "outputs": [],
   "source": [
    "import numpy as np\n",
    "partial_score = pd.Series(\n",
    "    {\n",
    "        \"emissions_norm\": 0.61,\n",
    "        \"cost_norm\": 1.00,\n",
    "        \"attitude\": 0.00,\n",
    "    }\n",
    ")\n",
    "weights = pd.Series(\n",
    "    weight_d\n",
    ")\n",
    "\n",
    "@njit\n",
    "def calc_score_numba(weights, values):\n",
    "    score = 0\n",
    "    for i,w in enumerate(weights):\n",
    "        score += w * values[i]\n",
    "    return score\n",
    "\n",
    "le_vals = np.array(list(weight_d.values()))\n",
    "# %timeit partial_score@weights\n",
    "%timeit -n 100000 partial_score.values@weights.values\n",
    "%timeit -n 100000 calc_score_numba(np.array(list(weight_d.values())),np.array(list(weight_d.values())))"
   ]
  },
  {
   "cell_type": "markdown",
   "metadata": {},
   "source": [
    "# Canadas Energy future - data"
   ]
  },
  {
   "cell_type": "code",
   "execution_count": null,
   "metadata": {},
   "outputs": [],
   "source": [
    "1 # $/GJ\n",
    "100 # ct/GJ\n",
    "100* 3600 # ct/ GWh\n",
    "100* 3600 / 1e6# ct/ kWh\n"
   ]
  },
  {
   "cell_type": "code",
   "execution_count": null,
   "metadata": {},
   "outputs": [],
   "source": [
    "1/3600"
   ]
  },
  {
   "cell_type": "code",
   "execution_count": null,
   "metadata": {},
   "outputs": [],
   "source": [
    "import plotly.express as px\n",
    "import pandas as pd\n",
    "end_use_prices = pd.read_csv(\"data/canada/end-use-prices-2023_ct_per_kWh.csv\", index_col=0)\n",
    "\n",
    "fig = px.line(\n",
    "    end_use_prices.query(\"Region=='Ontario' and Sector=='Residential'\"),\n",
    "    x=\"Year\",\n",
    "    y=\"Value\",\n",
    "    color=\"Variable\",\n",
    "    facet_col=\"Scenario\",\n",
    "    template=\"plotly\"\n",
    ")\n",
    "fig.update_layout(\n",
    "    title=\"Residential energy prices\",\n",
    "    yaxis_title=\"Energy price (ct/kWh)\"\n",
    ")\n"
   ]
  },
  {
   "cell_type": "code",
   "execution_count": null,
   "metadata": {},
   "outputs": [],
   "source": [
    "import pandas as pd\n",
    "from data.canada import fuel_prices, gas_prices\n",
    "\n",
    "end_use_prices = pd.read_csv(\n",
    "    \"data/canada/end-use-prices-2023_ct_per_kWh.csv\", index_col=0\n",
    ")\n",
    "future_gas_prices = end_use_prices.query(\n",
    "    f\"Scenario=='Global Net-zero' and Sector=='Residential' and Variable=='Natural Gas'\"# and Year>{max(gas_prices[\"Year\"])}\"\n",
    ")[[\"Region\", \"Value\", \"Year\", \"Variable\"]]\n",
    "future_gas_prices = future_gas_prices.rename(\n",
    "    {\"Region\": \"GEO\", \"Value\": \"Price (ct/kWh)\", \"Variable\": \"Type of fuel\"}, axis=1\n",
    ")\n",
    "gas_prices = pd.concat([gas_prices, future_gas_prices])\n",
    "\n"
   ]
  },
  {
   "cell_type": "code",
   "execution_count": null,
   "metadata": {},
   "outputs": [],
   "source": [
    "import pandas as pd\n",
    "from data.canada import all_fuel_prices\n",
    "\n",
    "end_use_prices = pd.read_csv(\n",
    "    \"data/canada/end-use-prices-2023_ct_per_kWh.csv\", index_col=0\n",
    ").query(\n",
    "    f\"Scenario=='Global Net-zero' and Sector=='Residential'\").rename(\n",
    "    {\"Region\": \"GEO\", \"Value\": \"Price (ct/kWh)\", \"Variable\": \"Type of fuel\"}, axis=1\n",
    ")[[\"Year\",\"GEO\",\"Price (ct/kWh)\",\"Type of fuel\"]]\n",
    "print(end_use_prices[\"Type of fuel\"].unique())\n",
    "print(all_fuel_prices.reset_index()[\"Type of fuel\"].unique())\n",
    "# pd.concat([all_fuel_prices.reset_index(), end_use_prices]).set_index([\"Type of fuel\",\"Year\"])"
   ]
  },
  {
   "cell_type": "code",
   "execution_count": null,
   "metadata": {},
   "outputs": [],
   "source": [
    "all_fuel_prices.index[:5],end_use_prices.index[:5]"
   ]
  },
  {
   "cell_type": "code",
   "execution_count": null,
   "metadata": {},
   "outputs": [],
   "source": [
    "\n",
    "\n",
    "# gas_prices\n",
    "all_the_prices = pd.concat([all_fuel_prices.reset_index(), end_use_prices]).set_index([\"GEO\",\"Year\",\"Type of fuel\"])\n",
    "duplicates = all_the_prices.index.duplicated()\n",
    "all_the_prices.reset_index().loc[~duplicates,\"Type of fuel\"].unique()\n",
    "# pd.merge(left=all_fuel_prices, right=end_use_prices, on=[\"GEO\",\"Year\"]).set_index([\"GEO\",\"Year\",\"Type of fuel\"]).index.duplicated"
   ]
  },
  {
   "cell_type": "markdown",
   "metadata": {},
   "source": [
    "## Geographical data\n"
   ]
  },
  {
   "cell_type": "code",
   "execution_count": null,
   "metadata": {},
   "outputs": [],
   "source": [
    "import geopandas as gpd\n",
    "\n",
    "canada_gdf = gpd.read_file(\"data/canada/canada.geojson\")\n",
    "canada_gdf[\"centroid\"]= canada_gdf[\"geometry\"].apply(lambda x: x.centroid)\n",
    "ax = canada_gdf.plot()\n",
    "ax.scatter(canada_gdf[\"centroid\"].x,canada_gdf[\"centroid\"].y, color=\"red\")\n",
    "# this is used to get the weather data"
   ]
  },
  {
   "cell_type": "code",
   "execution_count": null,
   "metadata": {},
   "outputs": [],
   "source": [
    "# centroids are not a good approximation. Use population centers instead\n",
    "import shapely as sh\n",
    "\n",
    "pop_centers = {\n",
    "    \"Quebec\": (45.53312807333965, -73.61511415981778), # Montreal\n",
    "    \"Newfoundland and Labrador\": (47.55902628296887, -52.740148813553624), # St. Johns\n",
    "    \"British Columbia\": (49.26885406028422, -123.11713372323813), # vancouver\n",
    "    \"Nunavut\": (63.747654358220444, -68.5170967002665), # Iqualit\n",
    "    \"Northwest Territories\": (62.45269464084662, -114.36896850628257), # Yellowknife\n",
    "    \"New Brunswick\": (46.09989553810743, -64.77416722665333), # Moncton\n",
    "    \"Nova Scotia\": (44.64958366154484, -63.58093792618714), # Halifax  \n",
    "    \"Saskatchewan\": (50.449703126577795, -104.61930722801765), # Regina\n",
    "    \"Alberta\": (51.03649663454597, -114.07009597159944), # Calgary\n",
    "    \"Prince Edward Island\": (46.242364438015976, -63.12712300014809), # Charlottetown\n",
    "    \"Yukon\": (60.71835688260373, -135.05313593078967), # Whitehorse\n",
    "    \"Manitoba\": (49.8908370535123, -97.13705628523745), # Winnipeg\n",
    "    \"Ontario\": (43.75668261210348, -79.43114766451536), # Toronto\n",
    "}\n",
    "def create_point(name):\n",
    "    return sh.Point(pop_centers[name])\n",
    "\n",
    "canada_gdf[\"pop_center\"] = canada_gdf[\"name\"].apply(create_point)\n",
    "\n",
    "ax = canada_gdf.plot()\n",
    "\n",
    "ax.scatter(canada_gdf[\"pop_center\"].apply(lambda p: p.y),canada_gdf[\"pop_center\"].apply(lambda p: p.x), color=\"red\")"
   ]
  },
  {
   "cell_type": "code",
   "execution_count": null,
   "metadata": {},
   "outputs": [],
   "source": [
    "import requests\n",
    "import time\n",
    "from io import StringIO\n",
    "import pandas as pd\n",
    "\n",
    "# canada_gdf = gpd.read_file(f\"{repo_root}/data/canada/canada.geojson\")\n",
    "# canada_gdf[\"centroid\"]= canada_gdf[\"geometry\"].apply(lambda x: x.centroid)\n",
    "# _jrc_url = \"https://re.jrc.ec.europa.eu/api/v5_2/seriescalc?lat=49.220&lon=-123.055&raddatabase=PVGIS-NSRDB&browser=1&outputformat=csv&userhorizon=&usehorizon=1&angle=&aspect=&startyear=2013&endyear=2013&mountingplace=free&optimalinclination=0&optimalangles=1&js=1&select_database_hourly=PVGIS-NSRDB&hstartyear=2013&hendyear=2013&trackingtype=0&hourlyoptimalangles=1&pvcalculation=1&pvtechchoice=crystSi&peakpower=1&loss=14&components=1\"\n",
    "# url = \"https://re.jrc.ec.europa.eu/api/v5_2/seriescalc?lat={lat}&lon={lon}&raddatabase=PVGIS-NSRDB&browser=1&outputformat=csv&userhorizon=&usehorizon=1&angle=&aspect=&startyear=2013&endyear=2013&mountingplace=free&optimalinclination=0&optimalangles=1&js=1&select_database_hourly=PVGIS-NSRDB&hstartyear=2013&hendyear=2013&trackingtype=0&hourlyoptimalangles=1&pvcalculation=1&pvtechchoice=crystSi&peakpower=1&loss=14&components=1\"\n",
    "\n",
    "# df = pd.DataFrame()\n",
    "# responses = []\n",
    "# for point in canada_gdf.pop_center:\n",
    "#     province_url = url.format(lon=point.y, lat=point.x)\n",
    "#     response = requests.get(province_url)\n",
    "#     responses.append(response)\n",
    "#     time.sleep(0.1)\n",
    "# for i, resp in enumerate(responses):\n",
    "#     province = canada_gdf[\"name\"][i]\n",
    "#     try:\n",
    "#         c_df = pd.read_csv(StringIO(resp.text), header=8)\n",
    "#         df[province] = c_df[\"T2m\"]\n",
    "#     except Exception as e:\n",
    "#         print(\"error on\",province)\n",
    "\n",
    "# df[\"Canada\"] = df.mean(axis=1)\n"
   ]
  },
  {
   "cell_type": "code",
   "execution_count": null,
   "metadata": {},
   "outputs": [],
   "source": [
    "# df.dropna(inplace=True)#.to_csv(\"data/canada/CA_provinces_temperatures.csv\")"
   ]
  },
  {
   "cell_type": "code",
   "execution_count": null,
   "metadata": {},
   "outputs": [],
   "source": [
    "# df[\"time\"] = pd.date_range(\"2013\", freq=\"h\", periods=8760)\n",
    "# df.set_index(\"time\", inplace=True)\n",
    "# df.to_csv(\"data/canada/CA_provinces_temperatures.csv\")"
   ]
  },
  {
   "cell_type": "code",
   "execution_count": null,
   "metadata": {},
   "outputs": [],
   "source": [
    "# df = pd.read_csv(f\"{repo_root}/data/canada/CA_provinces_temperatures.csv\")\n",
    "# df.set_index(\"time\",inplace=True)\n",
    "# from data.canada.timeseries import normalize_temperature_diff\n",
    "# max_norm_T_df = pd.DataFrame()\n",
    "# for col in df.columns:\n",
    "#     for T in range(285,300):\n",
    "#         T_K = T + 0.15\n",
    "#         norm_diff = normalize_temperature_diff(df[col]+273.15,T_K)\n",
    "#         max_norm_T_df.at[T_K,col] =  norm_diff.max()\n",
    "# max_norm_T_df.index.set_names([\"T_set\"], inplace=True)\n",
    "# # max_norm_T_df\n",
    "# max_norm_T_df.to_csv(\"data/canada/CA_provinces_max_norm_T.csv\")"
   ]
  },
  {
   "cell_type": "code",
   "execution_count": null,
   "metadata": {},
   "outputs": [],
   "source": [
    "# could be more precise with this data, but probably not worth the effort\n",
    "# https://open.canada.ca/data/en/dataset/c6c48391-fd2f-4d8a-93c8-eb74f58a859b\n"
   ]
  },
  {
   "cell_type": "markdown",
   "metadata": {},
   "source": [
    "# using income-energy fit as expectation value only\n"
   ]
  },
  {
   "cell_type": "code",
   "execution_count": 94,
   "metadata": {},
   "outputs": [],
   "source": [
    "import plotly.express as px\n",
    "from data.canada import (\n",
    "    uncertain_demand_from_income_and_province,\n",
    "    get_beta_distributed_incomes,\n",
    ")\n",
    "from figures import sciencify_plotly_fig\n",
    "\n",
    "incomes = get_beta_distributed_incomes(3000)\n",
    "uncertain_demands = uncertain_demand_from_income_and_province(incomes, \"Ontario\")\n",
    "\n",
    "fig = px.scatter(x=incomes, y=uncertain_demands, opacity=0.1)\n",
    "fig.update_layout(\n",
    "    yaxis_title=\"Houshold energy demand\\n(kWh/year)\",\n",
    "    xaxis_title=\"Household income (CAD/year)\",\n",
    "    width=500,\n",
    "    xaxis_range=(0,incomes.max())\n",
    ")\n",
    "\n",
    "sciencify_plotly_fig(fig)"
   ]
  },
  {
   "cell_type": "code",
   "execution_count": 5,
   "metadata": {},
   "outputs": [],
   "source": [
    "# from data.canada import beta\n",
    "import scipy.stats as scistat\n",
    "from scipy.optimize import curve_fit\n",
    "from data.canada import income_df\n",
    "from plotly.subplots import make_subplots\n",
    "\n",
    "province = \"Ontario\"\n",
    "income_df[\"bin_no\"] = income_df[\"Mean income\"] // 10000\n",
    "income_df[\"Mean income\"] = income_df[\"bin_no\"] * 10000\n",
    "income_df = income_df.query(\"`Mean income` < 100001 and `Mean income`>0\")\n",
    "agg_df = (\n",
    "    income_df.groupby(\n",
    "        [\n",
    "            \"GEO\",\n",
    "            \"Year (2)\",\n",
    "            \"Mean income\",\n",
    "        ]\n",
    "    )\n",
    "    .sum(numeric_only=True)\n",
    "    .reset_index()\n",
    ")\n",
    "province_income = agg_df.query(f\"GEO=='{province}'\")# and `Year (2)`==2015\")\n",
    "normed_income_freq = province_income[\"VALUE\"] / province_income[\"VALUE\"].sum()\n",
    "normed_income_bins = (\n",
    "    province_income[\"Mean income\"] / province_income[\"Mean income\"].sum()\n",
    ")\n"
   ]
  },
  {
   "cell_type": "code",
   "execution_count": 31,
   "metadata": {},
   "outputs": [],
   "source": [
    "\n",
    "# def fit_beta(a, b, scale_val):\n",
    "# def scaled_beta(x, a, b, max_val=normed_income_freq.max()):\n",
    "def scaled_beta(x, a, b, max_val=province_income[\"VALUE\"].max()):\n",
    "    y = scistat.beta.pdf(x, a, b)\n",
    "    y = y / y.max() * max_val\n",
    "    return y\n",
    "\n",
    "p, v = curve_fit(scaled_beta, normed_income_bins, province_income[\"VALUE\"], p0=(2, 2), maxfev=3000)\n",
    "p,v"
   ]
  },
  {
   "cell_type": "code",
   "execution_count": 58,
   "metadata": {},
   "outputs": [],
   "source": [
    "import plotly.graph_objects as go\n",
    "import numpy as np\n",
    "\n",
    "fig = go.Figure()\n",
    "\n",
    "linspaced_normed_income_bins = np.linspace(normed_income_bins.min(), normed_income_bins.max()*3, 100)\n",
    "\n",
    "fig.add_trace(\n",
    "    go.Scatter(\n",
    "        x=province_income[\"Mean income\"],\n",
    "        y=province_income[\"VALUE\"],\n",
    "        mode=\"markers\",\n",
    "        name=\"data\",\n",
    "    )\n",
    ")\n",
    "fig.add_trace(\n",
    "    go.Scatter(\n",
    "        x=linspaced_normed_income_bins * province_income[\"Mean income\"].sum(),\n",
    "        y=scaled_beta(linspaced_normed_income_bins, *p, province_income[\"VALUE\"].max()),\n",
    "        name=\"fitted beta distribution\",\n",
    "    )\n",
    ")\n",
    "\n",
    "fig.update_layout(template=\"plotly\", width=500, xaxis_title=\"Household Income\")"
   ]
  },
  {
   "cell_type": "code",
   "execution_count": 35,
   "metadata": {},
   "outputs": [],
   "source": [
    "from data.canada import energy_consumption, mean_income, energy_demand_from_income_and_province\n",
    "import pandas as pd\n",
    "all_energy = energy_consumption[\"Energy type\"].unique().tolist()[0]\n",
    "provinces = [province]\n",
    "province_energy_consumption = energy_consumption.query(\n",
    "        \"\"\"`Energy consumption`=='Gigajoules per household' and GEO in @provinces and `Energy type` in @all_energy\"\"\"\n",
    "    )\n",
    "province_energy_consumption.loc[:,\"Mean income\"] = province_energy_consumption.loc[:,\"Household income\"].apply(mean_income)\n",
    "province_energy_consumption.dropna(inplace=True)\n",
    "province_energy_consumption[\"VALUE\"] *= 1000/3.6\n",
    "\n",
    "\n",
    "fig = px.scatter(\n",
    "    province_energy_consumption,\n",
    "    x=\"Mean income\",\n",
    "    y=\"VALUE\",\n",
    "    color=\"Energy type\",\n",
    "    # symbol=\"REF_DATE\",\n",
    ")\n",
    "energy_demands = [\n",
    "    energy_demand_from_income_and_province(province_energy_consumption.loc[:,\"Mean income\"], province, kWh=True).values\n",
    "]\n",
    "fit_df = pd.DataFrame(\n",
    "    energy_demands, columns=province_energy_consumption.loc[:,\"Mean income\"], index=provinces\n",
    ").T.melt(ignore_index=False, var_name=\"Province\")\n",
    "fit_df.reset_index(inplace=True)\n",
    "fig.update_layout(\n",
    "    margin={\"t\": 100},\n",
    "    yaxis=dict(title=\"Energy consumption (MWh/household)\"),\n",
    ")\n",
    "lin_fit_x = fit_df.query(f\"Province=='{province}'\")[\"Mean income\"]\n",
    "lin_fit_y = fit_df.query(f\"Province=='{province}'\")[\"value\"]\n",
    "fig.add_trace(go.Scatter(x=lin_fit_x, y=lin_fit_y, name=province + \" (fit)\"), row=1, col=i + 1)\n",
    "\n",
    "fig\n"
   ]
  },
  {
   "cell_type": "code",
   "execution_count": 111,
   "metadata": {},
   "outputs": [],
   "source": [
    "fig = sciencify_plotly_fig(\n",
    "    make_subplots(2, 1, shared_xaxes=True, vertical_spacing=0.01 )\n",
    ")\n",
    "\n",
    "fig.add_trace(\n",
    "    go.Scatter(\n",
    "        x=province_income[\"Mean income\"],\n",
    "        y=province_income[\"VALUE\"],\n",
    "        mode=\"markers\",\n",
    "        name=\"Data\",\n",
    "        marker={\"color\": \"blue\"},\n",
    "        legendgroup=\"1\",\n",
    "        legendrank=1\n",
    "    ),\n",
    "    row=1,\n",
    "    col=1,\n",
    ")\n",
    "fig.add_trace(\n",
    "    go.Scatter(\n",
    "        x=linspaced_normed_income_bins * province_income[\"Mean income\"].sum(),\n",
    "        y=scaled_beta(linspaced_normed_income_bins, *p, province_income[\"VALUE\"].max()),\n",
    "        name=\"Beta distribution (fit)\",\n",
    "        line={\"color\":\"red\"},\n",
    "        legendgroup=\"1\",\n",
    "        legendrank=2\n",
    "    ), row=1, col=1,\n",
    ")\n",
    "\n",
    "fig.add_trace(\n",
    "    go.Scatter(\n",
    "        x=incomes,\n",
    "        y=uncertain_demands,\n",
    "        mode=\"markers\",\n",
    "        marker=dict(opacity=0.1, color=\"green\" ),\n",
    "        name=\"Synthetic data\",\n",
    "        legendgroup=\"2\",\n",
    "        legendrank=3\n",
    "\n",
    "    ), row=2, col=1,\n",
    ")\n",
    "fig.add_trace(\n",
    "    go.Scatter(\n",
    "        x=province_energy_consumption[\"Mean income\"],\n",
    "        y=province_energy_consumption[\"VALUE\"],\n",
    "        mode=\"markers\",\n",
    "        name=\"Data\",\n",
    "        marker=dict(color=\"blue\"),\n",
    "        legendgroup=\"2\",\n",
    "        legendrank=1\n",
    "    ), row=2, col=1,\n",
    ")\n",
    "lin_fit_x = fit_df.query(f\"Province=='{province}'\")[\"Mean income\"]\n",
    "lin_fit_y = fit_df.query(f\"Province=='{province}'\")[\"value\"]\n",
    "\n",
    "\n",
    "fig.add_trace(\n",
    "    go.Scatter(x=lin_fit_x, y=lin_fit_y, name=\"Linear fit\", line=dict(color=\"red\"),legendgroup=\"2\",\n",
    "        legendrank=2),\n",
    "    row=2,\n",
    "    col=1,\n",
    ")\n",
    "\n",
    "# fig.for_each_trace(lambda t: t.update(legend=t.legendgroup))\n",
    "\n",
    "\n",
    "fig.update_layout(\n",
    "    width=500,\n",
    "    height=600,\n",
    "    yaxis1_title=\"Frequency (-)\",\n",
    "    yaxis2_title=\"Total households'<br>energy consumption (kWh/a)\",\n",
    "    yaxis2_range=(0,55000),\n",
    "    xaxis2_title=\"Householdx income (CAD)\",\n",
    "    xaxis_range=(0,250000),\n",
    "    template=\"plotly\",\n",
    "    font_family=\"cm\",\n",
    "    font_size=18,\n",
    "    legend=dict(\n",
    "        x=0.5,\n",
    "        y=0.98,\n",
    "        bordercolor=\"gray\",\n",
    "        borderwidth=2,\n",
    "    ),\n",
    "    margin={\"t\": 20, \"r\":20},\n",
    ")\n",
    "\n",
    "fig.write_image(\"figures/income_energy_derivation.svg\")\n",
    "fig"
   ]
  },
  {
   "cell_type": "markdown",
   "metadata": {},
   "source": [
    "# heat demands"
   ]
  },
  {
   "cell_type": "code",
   "execution_count": 4,
   "metadata": {},
   "outputs": [],
   "source": [
    "import zipfile\n",
    "import pandas as pd\n",
    "\n",
    "zip_path = \"C:/Users/dhuck/Downloads/RESIDENTIAL_LOAD_DATA_E_PLUS_OUTPUT.zip\"\n",
    "dfs = []\n",
    "with zipfile.ZipFile(zip_path,\"r\") as zf:\n",
    "    for f in zf.filelist:\n",
    "        if \"BASE\" in f.filename and \".csv\" in f.filename:\n",
    "            df = pd.read_csv(zf.open(f.filename))\n",
    "            df[\"location\"] = f.filename.rsplit(\"/\",1)[-1].split(\"_\",2)[-1].split(\"_\",1)[0]\n",
    "            dfs.append(df)\n",
    "michigan_dfs = pd.concat(dfs)\n",
    "michigan_dfs.head()\n"
   ]
  },
  {
   "cell_type": "code",
   "execution_count": 5,
   "metadata": {},
   "outputs": [],
   "source": [
    "# dfs[0].columns\n",
    "# ['Date/Time', 'Electricity:Facility [kW](Hourly)',\n",
    "#     'Gas:Facility [kW](Hourly)', 'Heating:Electricity [kW](Hourly)',\n",
    "#     'Heating:Gas [kW](Hourly)', 'Cooling:Electricity [kW](Hourly)',\n",
    "#     'HVACFan:Fans:Electricity [kW](Hourly)',\n",
    "#     'Electricity:HVAC [kW](Hourly)', 'Fans:Electricity [kW](Hourly)',\n",
    "#     'General:InteriorLights:Electricity [kW](Hourly)',\n",
    "#     'General:ExteriorLights:Electricity [kW](Hourly)',\n",
    "#     'Appl:InteriorEquipment:Electricity [kW](Hourly)',\n",
    "#     'Misc:InteriorEquipment:Electricity [kW](Hourly)',\n",
    "#     'Water Heater:WaterSystems:Gas [kW](Hourly) '],\n",
    "michigan_dfs[\"heating:all[kW](hourly)\"] = michigan_dfs[['Heating:Electricity [kW](Hourly)','Heating:Gas [kW](Hourly)',]].sum(axis=1)\n",
    "wide_michigan_df = michigan_dfs[[\"heating:all[kW](hourly)\", \"location\"]].pivot(columns=\"location\", values=\"heating:all[kW](hourly)\")\n"
   ]
  },
  {
   "cell_type": "code",
   "execution_count": 21,
   "metadata": {},
   "outputs": [],
   "source": [
    "ax = (wide_michigan_df.max()/wide_michigan_df.mean()).sort_values().iloc[:-20].plot()\n",
    "for label in ax.get_xticklabels():\n",
    "  label.set_rotation(45)\n",
    "  label.set_ha('right')\n",
    "ax.set_ylabel(\"peak to mean ratio (-)\")"
   ]
  },
  {
   "cell_type": "code",
   "execution_count": 22,
   "metadata": {},
   "outputs": [],
   "source": [
    "wide_michigan_df.shape"
   ]
  },
  {
   "cell_type": "code",
   "execution_count": 16,
   "metadata": {},
   "outputs": [],
   "source": [
    "wide_michigan_df.sum(axis=1).max()/wide_michigan_df.sum(axis=1).mean()"
   ]
  },
  {
   "cell_type": "code",
   "execution_count": null,
   "metadata": {},
   "outputs": [],
   "source": [
    "wide_michigan_df.mean(axis=1).max()/wide_michigan_df.mean(axis=1).mean()"
   ]
  },
  {
   "cell_type": "markdown",
   "metadata": {},
   "source": [
    "## calculating the COP as a timeseries"
   ]
  },
  {
   "cell_type": "code",
   "execution_count": null,
   "metadata": {},
   "outputs": [],
   "source": [
    "import pandas as pd\n",
    "temperatures = pd.read_csv(\"data/canada/CA_provinces_temperatures.csv\", index_col=0)\n",
    "temperatures.head()"
   ]
  },
  {
   "cell_type": "code",
   "execution_count": null,
   "metadata": {},
   "outputs": [],
   "source": [
    "from components.technologies import cop_from_temp\n",
    "\n",
    "t_set = 20\n",
    "cops = pd.DataFrame()\n",
    "for col in temperatures.columns:\n",
    "    cops[col] = cop_from_temp(t_set, temperatures[col])\n"
   ]
  },
  {
   "cell_type": "code",
   "execution_count": null,
   "metadata": {},
   "outputs": [],
   "source": [
    "import plotly.express as px\n",
    "fig = px.line(cops, template=\"plotly\")\n",
    "fig.update_layout(\n",
    "    yaxis_title=\"COP (-)\",\n",
    "    width=800\n",
    ")"
   ]
  },
  {
   "cell_type": "code",
   "execution_count": null,
   "metadata": {},
   "outputs": [],
   "source": [
    "cops.index = pd.to_datetime(cops.index)\n",
    "# cops.groupby(cops.index.month).mean().plot()\n",
    "cops.to_csv(\"data/canada/CA_provinces_HP_COPs.csv\")"
   ]
  },
  {
   "cell_type": "markdown",
   "metadata": {},
   "source": [
    "## Gathering historical energy shares from nrcan"
   ]
  },
  {
   "cell_type": "code",
   "execution_count": null,
   "metadata": {},
   "outputs": [],
   "source": [
    "# import requests\n",
    "# from data.canada import Provinces\n",
    "# prov_abbr = [p.name.lower() for p in Provinces]\n",
    "# prov_abbr\n",
    "# for prov in prov_abbr:\n",
    "#     url = f\"https://oee.nrcan.gc.ca/corporate/statistics/neud/dpa/data_e/downloads/comprehensive/Excel/2020/res_{prov}_e_2.xls\"\n",
    "#     response = requests.get(url)\n",
    "#     if response.status_code == 200:\n",
    "#         with open(f\"{prov}.xls\",\"wb\") as fo:\n",
    "#             fo.write(response.content)\n",
    "#     else:\n",
    "#         print(f\"Error: {response.status_code} for {prov}\")"
   ]
  },
  {
   "cell_type": "code",
   "execution_count": null,
   "metadata": {},
   "outputs": [],
   "source": [
    "# from data.canada import Provinces\n",
    "# prov_abbr = [p.name.lower() for p in Provinces]\n",
    "\n",
    "# import pandas as pd\n",
    "\n",
    "# prov_dfs = []\n",
    "# for prov in prov_abbr:\n",
    "#     try:\n",
    "#         df = pd.read_excel(f\"{prov}.xls\", header=10, index_col=1, engine=\"openpyxl\").drop(columns=[\"Unnamed: 0\"])\n",
    "\n",
    "#         keep_rows = ~df.iloc[:,0].isna()\n",
    "#         df = df.loc[keep_rows,:]\n",
    "#         df[\"province\"] = prov\n",
    "#         prov_dfs.append(df)\n",
    "#     except FileNotFoundError:\n",
    "#         print(f\"File not found: {prov}.xls\")\n"
   ]
  },
  {
   "cell_type": "code",
   "execution_count": null,
   "metadata": {},
   "outputs": [],
   "source": [
    "# all_provinces_df = pd.concat(prov_dfs).reset_index().set_index([\"province\",\"index\"])\n",
    "# valid_provs = all_provinces_df.index.get_level_values(0).unique()"
   ]
  },
  {
   "cell_type": "code",
   "execution_count": null,
   "metadata": {},
   "outputs": [],
   "source": [
    "# all_provinces_df = all_provinces_df.reset_index()\n",
    "# for prov in valid_provs:\n",
    "#     full_prov_name = getattr(Provinces, prov.upper())\n",
    "#     all_provinces_df.loc[all_provinces_df[\"province\"] == prov, \"province\"] = full_prov_name.value\n",
    "# all_provinces_df.head()"
   ]
  },
  {
   "cell_type": "code",
   "execution_count": null,
   "metadata": {},
   "outputs": [],
   "source": [
    "import numpy as np\n",
    "N = 1000000\n",
    "r1 = np.random.random(N)\n",
    "r2 = np.random.random(N)\n",
    "r3 = np.random.random(N)\n",
    "sum(r1<r2+r3)/N"
   ]
  },
  {
   "cell_type": "markdown",
   "metadata": {},
   "source": [
    "# Batch run"
   ]
  },
  {
   "cell_type": "code",
   "execution_count": 22,
   "metadata": {},
   "outputs": [],
   "source": [
    "from mesa.batchrunner import batch_run\n",
    "from components.model import TechnologyAdoptionModel\n",
    "from components.technologies import merge_heating_techs_with_share\n",
    "import pandas as pd\n",
    "from batch import (\n",
    "    transform_dict_column,\n",
    "    BatchResult\n",
    ")\n",
    "import plotly.graph_objects as go\n",
    "\n",
    "\n",
    "# batch_parameters = {\n",
    "#         \"N\": [200],\n",
    "#         \"province\": [\"Ontario\"],  # , \"Alberta\", \"Ontario\"],\n",
    "#         \"random_seed\": range(20, 28),\n",
    "#         \"start_year\": [2020],\n",
    "#         \"interact\": [False],\n",
    "#         \"n_segregation_steps\": [50],\n",
    "#     }\n",
    "\n",
    "# b_result = BatchResult.from_parameters(batch_parameters, max_steps=120)\n",
    "# b_result_path = b_result.save()\n",
    "b_result = BatchResult.from_directory(\"results/feature_time_aggregation/c3200200c4bf1605d6545b5437e7a9ae_2\")"
   ]
  },
  {
   "cell_type": "code",
   "execution_count": 23,
   "metadata": {},
   "outputs": [
    {
     "data": {
      "text/plain": [
       "<seaborn.axisgrid.FacetGrid at 0x245670c5ed0>"
      ]
     },
     "execution_count": 23,
     "metadata": {},
     "output_type": "execute_result"
    },
    {
     "data": {
      "image/png": "[encoded data removed]",
      "text/plain": [
       "<Figure size 756.875x500 with 1 Axes>"
      ]
     },
     "metadata": {},
     "output_type": "display_data"
    }
   ],
   "source": [
    "b_result.tech_shares_fig()"
   ]
  },
  {
   "cell_type": "code",
   "execution_count": 24,
   "metadata": {},
   "outputs": [
    {
     "name": "stderr",
     "output_type": "stream",
     "text": [
      "c:\\src\\canadopt\\abetam\\batch.py:619: UserWarning:\n",
      "\n",
      "set_ticklabels() should only be used with a fixed number of ticks, i.e. after set_ticks() or using a FixedLocator.\n",
      "\n"
     ]
    },
    {
     "data": {
      "text/plain": [
       "<Axes: xlabel='year', ylabel='Appliance age'>"
      ]
     },
     "execution_count": 24,
     "metadata": {},
     "output_type": "execute_result"
    },
    {
     "data": {
      "image/png": "[encoded data removed]",
      "text/plain": [
       "<Figure size 640x480 with 1 Axes>"
      ]
     },
     "metadata": {},
     "output_type": "display_data"
    }
   ],
   "source": [
    "b_result.appliance_age_fig()"
   ]
  },
  {
   "cell_type": "code",
   "execution_count": 35,
   "metadata": {},
   "outputs": [
    {
     "data": {
      "text/html": [
       "<div>\n",
       "<style scoped>\n",
       "    .dataframe tbody tr th:only-of-type {\n",
       "        vertical-align: middle;\n",
       "    }\n",
       "\n",
       "    .dataframe tbody tr th {\n",
       "        vertical-align: top;\n",
       "    }\n",
       "\n",
       "    .dataframe thead th {\n",
       "        text-align: right;\n",
       "    }\n",
       "</style>\n",
       "<table border=\"1\" class=\"dataframe\">\n",
       "  <thead>\n",
       "    <tr style=\"text-align: right;\">\n",
       "      <th></th>\n",
       "      <th></th>\n",
       "      <th></th>\n",
       "      <th>Fuels.NATURAL_GAS</th>\n",
       "      <th>Fuels.HEATING_OIL</th>\n",
       "      <th>Fuels.WOOD_OR_WOOD_PELLETS</th>\n",
       "      <th>Fuels.ELECTRICITY</th>\n",
       "    </tr>\n",
       "    <tr>\n",
       "      <th>province</th>\n",
       "      <th>year</th>\n",
       "      <th>hour</th>\n",
       "      <th></th>\n",
       "      <th></th>\n",
       "      <th></th>\n",
       "      <th></th>\n",
       "    </tr>\n",
       "  </thead>\n",
       "  <tbody>\n",
       "    <tr>\n",
       "      <th rowspan=\"5\" valign=\"top\">Ontario</th>\n",
       "      <th rowspan=\"5\" valign=\"top\">2050.0</th>\n",
       "      <th>48</th>\n",
       "      <td>1174372390.4</td>\n",
       "      <td>16776281.6</td>\n",
       "      <td>0.0</td>\n",
       "      <td>1520597568.0</td>\n",
       "    </tr>\n",
       "    <tr>\n",
       "      <th>49</th>\n",
       "      <td>1605175872.0</td>\n",
       "      <td>22930444.8</td>\n",
       "      <td>0.0</td>\n",
       "      <td>2123368550.4</td>\n",
       "    </tr>\n",
       "    <tr>\n",
       "      <th>50</th>\n",
       "      <td>1434500787.2</td>\n",
       "      <td>20492297.6</td>\n",
       "      <td>0.0</td>\n",
       "      <td>1880837132.8</td>\n",
       "    </tr>\n",
       "    <tr>\n",
       "      <th>51</th>\n",
       "      <td>1453652889.6</td>\n",
       "      <td>20765892.8</td>\n",
       "      <td>0.0</td>\n",
       "      <td>1907525580.8</td>\n",
       "    </tr>\n",
       "    <tr>\n",
       "      <th>52</th>\n",
       "      <td>510820889.6</td>\n",
       "      <td>7297238.4</td>\n",
       "      <td>0.0</td>\n",
       "      <td>682358604.8</td>\n",
       "    </tr>\n",
       "  </tbody>\n",
       "</table>\n",
       "</div>"
      ],
      "text/plain": [
       "                     Fuels.NATURAL_GAS Fuels.HEATING_OIL  \\\n",
       "province year   hour                                       \n",
       "Ontario  2050.0 48        1174372390.4        16776281.6   \n",
       "                49        1605175872.0        22930444.8   \n",
       "                50        1434500787.2        20492297.6   \n",
       "                51        1453652889.6        20765892.8   \n",
       "                52         510820889.6         7297238.4   \n",
       "\n",
       "                     Fuels.WOOD_OR_WOOD_PELLETS Fuels.ELECTRICITY  \n",
       "province year   hour                                               \n",
       "Ontario  2050.0 48                          0.0      1520597568.0  \n",
       "                49                          0.0      2123368550.4  \n",
       "                50                          0.0      1880837132.8  \n",
       "                51                          0.0      1907525580.8  \n",
       "                52                          0.0       682358604.8  "
      ]
     },
     "execution_count": 35,
     "metadata": {},
     "output_type": "execute_result"
    }
   ],
   "source": [
    "demand_df = b_result.mean_carrier_demand_df\n",
    "demand_df.tail()"
   ]
  },
  {
   "cell_type": "code",
   "execution_count": 36,
   "metadata": {},
   "outputs": [],
   "source": [
    "\n",
    "demand_df = demand_df.reset_index()\n",
    "# colnames are integer years represented as string\n",
    "demand_df[\"COPPER_colnames\"] = (\n",
    "    demand_df[\"province\"] + \".\" + demand_df[\"year\"].astype(int).astype(str)\n",
    ")\n",
    "demand_df = demand_df[[\"hour\", \"Electricity\", \"COPPER_colnames\"]].pivot(\n",
    "    index=\"hour\", columns=[\"COPPER_colnames\"], values=\"Electricity\"\n",
    ")\n",
    "demand_df /= 1000  # kWh -> MWh\n"
   ]
  },
  {
   "cell_type": "code",
   "execution_count": 39,
   "metadata": {},
   "outputs": [
    {
     "data": {
      "text/plain": [
       "<Axes: xlabel='time'>"
      ]
     },
     "execution_count": 39,
     "metadata": {},
     "output_type": "execute_result"
    },
    {
     "data": {
      "image/png": "[encoded data removed]",
      "text/plain": [
       "<Figure size 640x480 with 1 Axes>"
      ]
     },
     "metadata": {},
     "output_type": "display_data"
    }
   ],
   "source": [
    "def spread_non_hourly_demand(demand_ts, province):\n",
    "    demand_shape = pd.read_pickle(\"data/canada/timeseries/canada_agg_demand_shapes.pkl\")[province]\n",
    "    demand = demand_shape*demand_ts.sum()/demand_shape.sum()\n",
    "    return demand\n",
    "\n",
    "spread_non_hourly_demand(demand_df.iloc[:,0],\"Ontario\").plot()"
   ]
  },
  {
   "cell_type": "code",
   "execution_count": 42,
   "metadata": {},
   "outputs": [
    {
     "data": {
      "text/html": [
       "<div>\n",
       "<style scoped>\n",
       "    .dataframe tbody tr th:only-of-type {\n",
       "        vertical-align: middle;\n",
       "    }\n",
       "\n",
       "    .dataframe tbody tr th {\n",
       "        vertical-align: top;\n",
       "    }\n",
       "\n",
       "    .dataframe thead th {\n",
       "        text-align: right;\n",
       "    }\n",
       "</style>\n",
       "<table border=\"1\" class=\"dataframe\">\n",
       "  <thead>\n",
       "    <tr style=\"text-align: right;\">\n",
       "      <th></th>\n",
       "      <th>Ontario.2020</th>\n",
       "      <th>Ontario.2025</th>\n",
       "      <th>Ontario.2030</th>\n",
       "      <th>Ontario.2035</th>\n",
       "      <th>Ontario.2040</th>\n",
       "      <th>Ontario.2045</th>\n",
       "      <th>Ontario.2050</th>\n",
       "    </tr>\n",
       "    <tr>\n",
       "      <th>time</th>\n",
       "      <th></th>\n",
       "      <th></th>\n",
       "      <th></th>\n",
       "      <th></th>\n",
       "      <th></th>\n",
       "      <th></th>\n",
       "      <th></th>\n",
       "    </tr>\n",
       "  </thead>\n",
       "  <tbody>\n",
       "    <tr>\n",
       "      <th>2013-01-01 00:00:00</th>\n",
       "      <td>6499.229105</td>\n",
       "      <td>8215.523177</td>\n",
       "      <td>9365.419937</td>\n",
       "      <td>10437.663732</td>\n",
       "      <td>12091.417722</td>\n",
       "      <td>12512.966159</td>\n",
       "      <td>12388.173385</td>\n",
       "    </tr>\n",
       "    <tr>\n",
       "      <th>2013-01-01 01:00:00</th>\n",
       "      <td>6496.652138</td>\n",
       "      <td>8212.265693</td>\n",
       "      <td>9361.706515</td>\n",
       "      <td>10433.525162</td>\n",
       "      <td>12086.623432</td>\n",
       "      <td>12508.004723</td>\n",
       "      <td>12383.261430</td>\n",
       "    </tr>\n",
       "    <tr>\n",
       "      <th>2013-01-01 02:00:00</th>\n",
       "      <td>6503.077705</td>\n",
       "      <td>8220.388102</td>\n",
       "      <td>9370.965788</td>\n",
       "      <td>10443.844526</td>\n",
       "      <td>12098.577806</td>\n",
       "      <td>12520.375869</td>\n",
       "      <td>12395.509197</td>\n",
       "    </tr>\n",
       "    <tr>\n",
       "      <th>2013-01-01 03:00:00</th>\n",
       "      <td>6501.437360</td>\n",
       "      <td>8218.314580</td>\n",
       "      <td>9368.602042</td>\n",
       "      <td>10441.210156</td>\n",
       "      <td>12095.526044</td>\n",
       "      <td>12517.217711</td>\n",
       "      <td>12392.382536</td>\n",
       "    </tr>\n",
       "    <tr>\n",
       "      <th>2013-01-01 04:00:00</th>\n",
       "      <td>6508.587778</td>\n",
       "      <td>8227.353256</td>\n",
       "      <td>9378.905828</td>\n",
       "      <td>10452.693619</td>\n",
       "      <td>12108.828959</td>\n",
       "      <td>12530.984412</td>\n",
       "      <td>12406.011940</td>\n",
       "    </tr>\n",
       "    <tr>\n",
       "      <th>...</th>\n",
       "      <td>...</td>\n",
       "      <td>...</td>\n",
       "      <td>...</td>\n",
       "      <td>...</td>\n",
       "      <td>...</td>\n",
       "      <td>...</td>\n",
       "      <td>...</td>\n",
       "    </tr>\n",
       "    <tr>\n",
       "      <th>2013-12-31 19:00:00</th>\n",
       "      <td>3183.833472</td>\n",
       "      <td>4024.609266</td>\n",
       "      <td>4587.919120</td>\n",
       "      <td>5113.188445</td>\n",
       "      <td>5923.327189</td>\n",
       "      <td>6129.834761</td>\n",
       "      <td>6068.701448</td>\n",
       "    </tr>\n",
       "    <tr>\n",
       "      <th>2013-12-31 20:00:00</th>\n",
       "      <td>3099.906225</td>\n",
       "      <td>3918.518800</td>\n",
       "      <td>4466.979559</td>\n",
       "      <td>4978.402554</td>\n",
       "      <td>5767.185686</td>\n",
       "      <td>5968.249628</td>\n",
       "      <td>5908.727815</td>\n",
       "    </tr>\n",
       "    <tr>\n",
       "      <th>2013-12-31 21:00:00</th>\n",
       "      <td>3015.078070</td>\n",
       "      <td>3811.289518</td>\n",
       "      <td>4344.741786</td>\n",
       "      <td>4842.169820</td>\n",
       "      <td>5609.368099</td>\n",
       "      <td>5804.929977</td>\n",
       "      <td>5747.036963</td>\n",
       "    </tr>\n",
       "    <tr>\n",
       "      <th>2013-12-31 22:00:00</th>\n",
       "      <td>2939.445107</td>\n",
       "      <td>3715.683662</td>\n",
       "      <td>4235.754327</td>\n",
       "      <td>4720.704423</td>\n",
       "      <td>5468.657602</td>\n",
       "      <td>5659.313828</td>\n",
       "      <td>5602.873056</td>\n",
       "    </tr>\n",
       "    <tr>\n",
       "      <th>2013-12-31 23:00:00</th>\n",
       "      <td>2876.489737</td>\n",
       "      <td>3636.103254</td>\n",
       "      <td>4145.035341</td>\n",
       "      <td>4619.599050</td>\n",
       "      <td>5351.532992</td>\n",
       "      <td>5538.105851</td>\n",
       "      <td>5482.873895</td>\n",
       "    </tr>\n",
       "  </tbody>\n",
       "</table>\n",
       "<p>8760 rows × 7 columns</p>\n",
       "</div>"
      ],
      "text/plain": [
       "                     Ontario.2020  Ontario.2025  Ontario.2030  Ontario.2035  \\\n",
       "time                                                                          \n",
       "2013-01-01 00:00:00   6499.229105   8215.523177   9365.419937  10437.663732   \n",
       "2013-01-01 01:00:00   6496.652138   8212.265693   9361.706515  10433.525162   \n",
       "2013-01-01 02:00:00   6503.077705   8220.388102   9370.965788  10443.844526   \n",
       "2013-01-01 03:00:00   6501.437360   8218.314580   9368.602042  10441.210156   \n",
       "2013-01-01 04:00:00   6508.587778   8227.353256   9378.905828  10452.693619   \n",
       "...                           ...           ...           ...           ...   \n",
       "2013-12-31 19:00:00   3183.833472   4024.609266   4587.919120   5113.188445   \n",
       "2013-12-31 20:00:00   3099.906225   3918.518800   4466.979559   4978.402554   \n",
       "2013-12-31 21:00:00   3015.078070   3811.289518   4344.741786   4842.169820   \n",
       "2013-12-31 22:00:00   2939.445107   3715.683662   4235.754327   4720.704423   \n",
       "2013-12-31 23:00:00   2876.489737   3636.103254   4145.035341   4619.599050   \n",
       "\n",
       "                     Ontario.2040  Ontario.2045  Ontario.2050  \n",
       "time                                                           \n",
       "2013-01-01 00:00:00  12091.417722  12512.966159  12388.173385  \n",
       "2013-01-01 01:00:00  12086.623432  12508.004723  12383.261430  \n",
       "2013-01-01 02:00:00  12098.577806  12520.375869  12395.509197  \n",
       "2013-01-01 03:00:00  12095.526044  12517.217711  12392.382536  \n",
       "2013-01-01 04:00:00  12108.828959  12530.984412  12406.011940  \n",
       "...                           ...           ...           ...  \n",
       "2013-12-31 19:00:00   5923.327189   6129.834761   6068.701448  \n",
       "2013-12-31 20:00:00   5767.185686   5968.249628   5908.727815  \n",
       "2013-12-31 21:00:00   5609.368099   5804.929977   5747.036963  \n",
       "2013-12-31 22:00:00   5468.657602   5659.313828   5602.873056  \n",
       "2013-12-31 23:00:00   5351.532992   5538.105851   5482.873895  \n",
       "\n",
       "[8760 rows x 7 columns]"
      ]
     },
     "execution_count": 42,
     "metadata": {},
     "output_type": "execute_result"
    }
   ],
   "source": [
    "def spread_model_demand(model_demand_df):\n",
    "    if len(model_demand_df) > 8500:\n",
    "        return model_demand_df\n",
    "    series = []\n",
    "    for col in model_demand_df.columns:\n",
    "        province = col.split(\".\")[0]\n",
    "        c_series = spread_non_hourly_demand(model_demand_df[col], province)\n",
    "        c_series.name = col\n",
    "        series.append(c_series)\n",
    "    return pd.concat(series, axis=1)\n",
    "\n",
    "\n",
    "def spread_non_hourly_demand(demand_ts, province):\n",
    "    if len(demand_ts) > 8500:\n",
    "        return demand_ts\n",
    "    demand_shape = pd.read_pickle(\"data/canada/timeseries/canada_agg_demand_shapes.pkl\")[province]\n",
    "    demand = demand_shape*demand_ts.sum()/demand_shape.sum()\n",
    "    return demand\n",
    "\n",
    "spread_model_demand(demand_df)"
   ]
  },
  {
   "cell_type": "code",
   "execution_count": 26,
   "metadata": {},
   "outputs": [
    {
     "data": {
      "application/vnd.plotly.v1+json": {
       "config": {
        "plotlyServerURL": "https://plot.ly"
       },
       "data": [
        {
         "alignmentgroup": "True",
         "hovertemplate": "variable=Fuels.NATURAL_GAS<br>year=%{x}<br>value=%{y}<extra></extra>",
         "legendgroup": "Fuels.NATURAL_GAS",
         "marker": {
          "color": "#636efa",
          "pattern": {
           "shape": ""
          }
         },
         "name": "Fuels.NATURAL_GAS",
         "offsetgroup": "Fuels.NATURAL_GAS",
         "orientation": "h",
         "showlegend": true,
         "textposition": "auto",
         "type": "bar",
         "x": [
          2020,
          2025,
          2030,
          2035,
          2040,
          2045,
          2050
         ],
         "xaxis": "x",
         "y": [
          90182042156.59996,
          79789779898.29999,
          74084707584.45,
          64546806933.350006,
          52397410754.35,
          43186332977.1,
          39549094206.84998
         ],
         "yaxis": "y"
        },
        {
         "alignmentgroup": "True",
         "hovertemplate": "variable=Fuels.HEATING_OIL<br>year=%{x}<br>value=%{y}<extra></extra>",
         "legendgroup": "Fuels.HEATING_OIL",
         "marker": {
          "color": "#EF553B",
          "pattern": {
           "shape": ""
          }
         },
         "name": "Fuels.HEATING_OIL",
         "offsetgroup": "Fuels.HEATING_OIL",
         "orientation": "h",
         "showlegend": true,
         "textposition": "auto",
         "type": "bar",
         "x": [
          2020,
          2025,
          2030,
          2035,
          2040,
          2045,
          2050
         ],
         "xaxis": "x",
         "y": [
          2984251078.759375,
          2984251078.759375,
          1756058623.1656249,
          1756058623.1656249,
          564971325.81875,
          564971325.81875,
          564971325.81875
         ],
         "yaxis": "y"
        },
        {
         "alignmentgroup": "True",
         "hovertemplate": "variable=Fuels.WOOD_OR_WOOD_PELLETS<br>year=%{x}<br>value=%{y}<extra></extra>",
         "legendgroup": "Fuels.WOOD_OR_WOOD_PELLETS",
         "marker": {
          "color": "#00cc96",
          "pattern": {
           "shape": ""
          }
         },
         "name": "Fuels.WOOD_OR_WOOD_PELLETS",
         "offsetgroup": "Fuels.WOOD_OR_WOOD_PELLETS",
         "orientation": "h",
         "showlegend": true,
         "textposition": "auto",
         "type": "bar",
         "x": [
          2020,
          2025,
          2030,
          2035,
          2040,
          2045,
          2050
         ],
         "xaxis": "x",
         "y": [
          0,
          0,
          0,
          0,
          0,
          0,
          0
         ],
         "yaxis": "y"
        },
        {
         "alignmentgroup": "True",
         "hovertemplate": "variable=Fuels.ELECTRICITY<br>year=%{x}<br>value=%{y}<extra></extra>",
         "legendgroup": "Fuels.ELECTRICITY",
         "marker": {
          "color": "#ab63fa",
          "pattern": {
           "shape": ""
          }
         },
         "name": "Fuels.ELECTRICITY",
         "offsetgroup": "Fuels.ELECTRICITY",
         "orientation": "h",
         "showlegend": true,
         "textposition": "auto",
         "type": "bar",
         "x": [
          2020,
          2025,
          2030,
          2035,
          2040,
          2045,
          2050
         ],
         "xaxis": "x",
         "y": [
          26911878634.324993,
          34018674995.100006,
          38780144631.424995,
          43220070417.325005,
          50067902048.675,
          51813441434.675,
          51296701996.375
         ],
         "yaxis": "y"
        }
       ],
       "layout": {
        "barmode": "stack",
        "legend": {
         "title": {
          "text": "variable"
         },
         "tracegroupgap": 0
        },
        "margin": {
         "t": 60
        },
        "template": {
         "data": {
          "bar": [
           {
            "error_x": {
             "color": "#2a3f5f"
            },
            "error_y": {
             "color": "#2a3f5f"
            },
            "marker": {
             "line": {
              "color": "#E5ECF6",
              "width": 0.5
             },
             "pattern": {
              "fillmode": "overlay",
              "size": 10,
              "solidity": 0.2
             }
            },
            "type": "bar"
           }
          ],
          "barpolar": [
           {
            "marker": {
             "line": {
              "color": "#E5ECF6",
              "width": 0.5
             },
             "pattern": {
              "fillmode": "overlay",
              "size": 10,
              "solidity": 0.2
             }
            },
            "type": "barpolar"
           }
          ],
          "carpet": [
           {
            "aaxis": {
             "endlinecolor": "#2a3f5f",
             "gridcolor": "white",
             "linecolor": "white",
             "minorgridcolor": "white",
             "startlinecolor": "#2a3f5f"
            },
            "baxis": {
             "endlinecolor": "#2a3f5f",
             "gridcolor": "white",
             "linecolor": "white",
             "minorgridcolor": "white",
             "startlinecolor": "#2a3f5f"
            },
            "type": "carpet"
           }
          ],
          "choropleth": [
           {
            "colorbar": {
             "outlinewidth": 0,
             "ticks": ""
            },
            "type": "choropleth"
           }
          ],
          "contour": [
           {
            "colorbar": {
             "outlinewidth": 0,
             "ticks": ""
            },
            "colorscale": [
             [
              0,
              "#0d0887"
             ],
             [
              0.1111111111111111,
              "#46039f"
             ],
             [
              0.2222222222222222,
              "#7201a8"
             ],
             [
              0.3333333333333333,
              "#9c179e"
             ],
             [
              0.4444444444444444,
              "#bd3786"
             ],
             [
              0.5555555555555556,
              "#d8576b"
             ],
             [
              0.6666666666666666,
              "#ed7953"
             ],
             [
              0.7777777777777778,
              "#fb9f3a"
             ],
             [
              0.8888888888888888,
              "#fdca26"
             ],
             [
              1,
              "#f0f921"
             ]
            ],
            "type": "contour"
           }
          ],
          "contourcarpet": [
           {
            "colorbar": {
             "outlinewidth": 0,
             "ticks": ""
            },
            "type": "contourcarpet"
           }
          ],
          "heatmap": [
           {
            "colorbar": {
             "outlinewidth": 0,
             "ticks": ""
            },
            "colorscale": [
             [
              0,
              "#0d0887"
             ],
             [
              0.1111111111111111,
              "#46039f"
             ],
             [
              0.2222222222222222,
              "#7201a8"
             ],
             [
              0.3333333333333333,
              "#9c179e"
             ],
             [
              0.4444444444444444,
              "#bd3786"
             ],
             [
              0.5555555555555556,
              "#d8576b"
             ],
             [
              0.6666666666666666,
              "#ed7953"
             ],
             [
              0.7777777777777778,
              "#fb9f3a"
             ],
             [
              0.8888888888888888,
              "#fdca26"
             ],
             [
              1,
              "#f0f921"
             ]
            ],
            "type": "heatmap"
           }
          ],
          "heatmapgl": [
           {
            "colorbar": {
             "outlinewidth": 0,
             "ticks": ""
            },
            "colorscale": [
             [
              0,
              "#0d0887"
             ],
             [
              0.1111111111111111,
              "#46039f"
             ],
             [
              0.2222222222222222,
              "#7201a8"
             ],
             [
              0.3333333333333333,
              "#9c179e"
             ],
             [
              0.4444444444444444,
              "#bd3786"
             ],
             [
              0.5555555555555556,
              "#d8576b"
             ],
             [
              0.6666666666666666,
              "#ed7953"
             ],
             [
              0.7777777777777778,
              "#fb9f3a"
             ],
             [
              0.8888888888888888,
              "#fdca26"
             ],
             [
              1,
              "#f0f921"
             ]
            ],
            "type": "heatmapgl"
           }
          ],
          "histogram": [
           {
            "marker": {
             "pattern": {
              "fillmode": "overlay",
              "size": 10,
              "solidity": 0.2
             }
            },
            "type": "histogram"
           }
          ],
          "histogram2d": [
           {
            "colorbar": {
             "outlinewidth": 0,
             "ticks": ""
            },
            "colorscale": [
             [
              0,
              "#0d0887"
             ],
             [
              0.1111111111111111,
              "#46039f"
             ],
             [
              0.2222222222222222,
              "#7201a8"
             ],
             [
              0.3333333333333333,
              "#9c179e"
             ],
             [
              0.4444444444444444,
              "#bd3786"
             ],
             [
              0.5555555555555556,
              "#d8576b"
             ],
             [
              0.6666666666666666,
              "#ed7953"
             ],
             [
              0.7777777777777778,
              "#fb9f3a"
             ],
             [
              0.8888888888888888,
              "#fdca26"
             ],
             [
              1,
              "#f0f921"
             ]
            ],
            "type": "histogram2d"
           }
          ],
          "histogram2dcontour": [
           {
            "colorbar": {
             "outlinewidth": 0,
             "ticks": ""
            },
            "colorscale": [
             [
              0,
              "#0d0887"
             ],
             [
              0.1111111111111111,
              "#46039f"
             ],
             [
              0.2222222222222222,
              "#7201a8"
             ],
             [
              0.3333333333333333,
              "#9c179e"
             ],
             [
              0.4444444444444444,
              "#bd3786"
             ],
             [
              0.5555555555555556,
              "#d8576b"
             ],
             [
              0.6666666666666666,
              "#ed7953"
             ],
             [
              0.7777777777777778,
              "#fb9f3a"
             ],
             [
              0.8888888888888888,
              "#fdca26"
             ],
             [
              1,
              "#f0f921"
             ]
            ],
            "type": "histogram2dcontour"
           }
          ],
          "mesh3d": [
           {
            "colorbar": {
             "outlinewidth": 0,
             "ticks": ""
            },
            "type": "mesh3d"
           }
          ],
          "parcoords": [
           {
            "line": {
             "colorbar": {
              "outlinewidth": 0,
              "ticks": ""
             }
            },
            "type": "parcoords"
           }
          ],
          "pie": [
           {
            "automargin": true,
            "type": "pie"
           }
          ],
          "scatter": [
           {
            "fillpattern": {
             "fillmode": "overlay",
             "size": 10,
             "solidity": 0.2
            },
            "type": "scatter"
           }
          ],
          "scatter3d": [
           {
            "line": {
             "colorbar": {
              "outlinewidth": 0,
              "ticks": ""
             }
            },
            "marker": {
             "colorbar": {
              "outlinewidth": 0,
              "ticks": ""
             }
            },
            "type": "scatter3d"
           }
          ],
          "scattercarpet": [
           {
            "marker": {
             "colorbar": {
              "outlinewidth": 0,
              "ticks": ""
             }
            },
            "type": "scattercarpet"
           }
          ],
          "scattergeo": [
           {
            "marker": {
             "colorbar": {
              "outlinewidth": 0,
              "ticks": ""
             }
            },
            "type": "scattergeo"
           }
          ],
          "scattergl": [
           {
            "marker": {
             "colorbar": {
              "outlinewidth": 0,
              "ticks": ""
             }
            },
            "type": "scattergl"
           }
          ],
          "scattermapbox": [
           {
            "marker": {
             "colorbar": {
              "outlinewidth": 0,
              "ticks": ""
             }
            },
            "type": "scattermapbox"
           }
          ],
          "scatterpolar": [
           {
            "marker": {
             "colorbar": {
              "outlinewidth": 0,
              "ticks": ""
             }
            },
            "type": "scatterpolar"
           }
          ],
          "scatterpolargl": [
           {
            "marker": {
             "colorbar": {
              "outlinewidth": 0,
              "ticks": ""
             }
            },
            "type": "scatterpolargl"
           }
          ],
          "scatterternary": [
           {
            "marker": {
             "colorbar": {
              "outlinewidth": 0,
              "ticks": ""
             }
            },
            "type": "scatterternary"
           }
          ],
          "surface": [
           {
            "colorbar": {
             "outlinewidth": 0,
             "ticks": ""
            },
            "colorscale": [
             [
              0,
              "#0d0887"
             ],
             [
              0.1111111111111111,
              "#46039f"
             ],
             [
              0.2222222222222222,
              "#7201a8"
             ],
             [
              0.3333333333333333,
              "#9c179e"
             ],
             [
              0.4444444444444444,
              "#bd3786"
             ],
             [
              0.5555555555555556,
              "#d8576b"
             ],
             [
              0.6666666666666666,
              "#ed7953"
             ],
             [
              0.7777777777777778,
              "#fb9f3a"
             ],
             [
              0.8888888888888888,
              "#fdca26"
             ],
             [
              1,
              "#f0f921"
             ]
            ],
            "type": "surface"
           }
          ],
          "table": [
           {
            "cells": {
             "fill": {
              "color": "#EBF0F8"
             },
             "line": {
              "color": "white"
             }
            },
            "header": {
             "fill": {
              "color": "#C8D4E3"
             },
             "line": {
              "color": "white"
             }
            },
            "type": "table"
           }
          ]
         },
         "layout": {
          "annotationdefaults": {
           "arrowcolor": "#2a3f5f",
           "arrowhead": 0,
           "arrowwidth": 1
          },
          "autotypenumbers": "strict",
          "coloraxis": {
           "colorbar": {
            "outlinewidth": 0,
            "ticks": ""
           }
          },
          "colorscale": {
           "diverging": [
            [
             0,
             "#8e0152"
            ],
            [
             0.1,
             "#c51b7d"
            ],
            [
             0.2,
             "#de77ae"
            ],
            [
             0.3,
             "#f1b6da"
            ],
            [
             0.4,
             "#fde0ef"
            ],
            [
             0.5,
             "#f7f7f7"
            ],
            [
             0.6,
             "#e6f5d0"
            ],
            [
             0.7,
             "#b8e186"
            ],
            [
             0.8,
             "#7fbc41"
            ],
            [
             0.9,
             "#4d9221"
            ],
            [
             1,
             "#276419"
            ]
           ],
           "sequential": [
            [
             0,
             "#0d0887"
            ],
            [
             0.1111111111111111,
             "#46039f"
            ],
            [
             0.2222222222222222,
             "#7201a8"
            ],
            [
             0.3333333333333333,
             "#9c179e"
            ],
            [
             0.4444444444444444,
             "#bd3786"
            ],
            [
             0.5555555555555556,
             "#d8576b"
            ],
            [
             0.6666666666666666,
             "#ed7953"
            ],
            [
             0.7777777777777778,
             "#fb9f3a"
            ],
            [
             0.8888888888888888,
             "#fdca26"
            ],
            [
             1,
             "#f0f921"
            ]
           ],
           "sequentialminus": [
            [
             0,
             "#0d0887"
            ],
            [
             0.1111111111111111,
             "#46039f"
            ],
            [
             0.2222222222222222,
             "#7201a8"
            ],
            [
             0.3333333333333333,
             "#9c179e"
            ],
            [
             0.4444444444444444,
             "#bd3786"
            ],
            [
             0.5555555555555556,
             "#d8576b"
            ],
            [
             0.6666666666666666,
             "#ed7953"
            ],
            [
             0.7777777777777778,
             "#fb9f3a"
            ],
            [
             0.8888888888888888,
             "#fdca26"
            ],
            [
             1,
             "#f0f921"
            ]
           ]
          },
          "colorway": [
           "#636efa",
           "#EF553B",
           "#00cc96",
           "#ab63fa",
           "#FFA15A",
           "#19d3f3",
           "#FF6692",
           "#B6E880",
           "#FF97FF",
           "#FECB52"
          ],
          "font": {
           "color": "#2a3f5f"
          },
          "geo": {
           "bgcolor": "white",
           "lakecolor": "white",
           "landcolor": "#E5ECF6",
           "showlakes": true,
           "showland": true,
           "subunitcolor": "white"
          },
          "hoverlabel": {
           "align": "left"
          },
          "hovermode": "closest",
          "mapbox": {
           "style": "light"
          },
          "paper_bgcolor": "white",
          "plot_bgcolor": "#E5ECF6",
          "polar": {
           "angularaxis": {
            "gridcolor": "white",
            "linecolor": "white",
            "ticks": ""
           },
           "bgcolor": "#E5ECF6",
           "radialaxis": {
            "gridcolor": "white",
            "linecolor": "white",
            "ticks": ""
           }
          },
          "scene": {
           "xaxis": {
            "backgroundcolor": "#E5ECF6",
            "gridcolor": "white",
            "gridwidth": 2,
            "linecolor": "white",
            "showbackground": true,
            "ticks": "",
            "zerolinecolor": "white"
           },
           "yaxis": {
            "backgroundcolor": "#E5ECF6",
            "gridcolor": "white",
            "gridwidth": 2,
            "linecolor": "white",
            "showbackground": true,
            "ticks": "",
            "zerolinecolor": "white"
           },
           "zaxis": {
            "backgroundcolor": "#E5ECF6",
            "gridcolor": "white",
            "gridwidth": 2,
            "linecolor": "white",
            "showbackground": true,
            "ticks": "",
            "zerolinecolor": "white"
           }
          },
          "shapedefaults": {
           "line": {
            "color": "#2a3f5f"
           }
          },
          "ternary": {
           "aaxis": {
            "gridcolor": "white",
            "linecolor": "white",
            "ticks": ""
           },
           "baxis": {
            "gridcolor": "white",
            "linecolor": "white",
            "ticks": ""
           },
           "bgcolor": "#E5ECF6",
           "caxis": {
            "gridcolor": "white",
            "linecolor": "white",
            "ticks": ""
           }
          },
          "title": {
           "x": 0.05
          },
          "xaxis": {
           "automargin": true,
           "gridcolor": "white",
           "linecolor": "white",
           "ticks": "",
           "title": {
            "standoff": 15
           },
           "zerolinecolor": "white",
           "zerolinewidth": 2
          },
          "yaxis": {
           "automargin": true,
           "gridcolor": "white",
           "linecolor": "white",
           "ticks": "",
           "title": {
            "standoff": 15
           },
           "zerolinecolor": "white",
           "zerolinewidth": 2
          }
         }
        },
        "xaxis": {
         "anchor": "y",
         "domain": [
          0,
          1
         ],
         "title": {
          "text": "year"
         }
        },
        "yaxis": {
         "anchor": "x",
         "domain": [
          0,
          1
         ],
         "title": {
          "text": "value"
         }
        }
       }
      }
     },
     "metadata": {},
     "output_type": "display_data"
    }
   ],
   "source": [
    "\n",
    "px.bar(demand_long, x=\"year\",y=\"value\",color=\"variable\", barmode=\"stack\", template=\"plotly\")"
   ]
  },
  {
   "cell_type": "code",
   "execution_count": null,
   "metadata": {},
   "outputs": [],
   "source": [
    "b_result.adoption_details_fig()"
   ]
  },
  {
   "cell_type": "code",
   "execution_count": null,
   "metadata": {},
   "outputs": [],
   "source": [
    "b_result.adoption_details_fig_facet(n_facet_cols=3)"
   ]
  },
  {
   "cell_type": "markdown",
   "metadata": {},
   "source": [
    "## Visualising mutliple confidence intervals as shaded areas"
   ]
  },
  {
   "cell_type": "code",
   "execution_count": null,
   "metadata": {},
   "outputs": [],
   "source": [
    "import config\n",
    "config.TECHNOLOGY_COLORS"
   ]
  },
  {
   "cell_type": "code",
   "execution_count": null,
   "metadata": {},
   "outputs": [],
   "source": [
    "\n",
    "# fig = adoption_plot_with_quantiles(df2plot, [0.68], mid_line=\"mean\")\n",
    "# fig.update_layout(width=800)"
   ]
  },
  {
   "cell_type": "code",
   "execution_count": null,
   "metadata": {},
   "outputs": [],
   "source": [
    "import config\n",
    "from matplotlib.colors import to_hex\n",
    "import plotly.express as px\n",
    "hex_colors = []\n",
    "technology_colors = config.TECHNOLOGY_COLORS.copy()\n",
    "for k,c in config.TECHNOLOGY_COLORS.items():\n",
    "    c_hex = c\n",
    "    # c_tuple = px.colors.unlabel_rgb(c)\n",
    "    # c_tuple = [color/255 for color in c_tuple]\n",
    "    # c_hex = to_hex(c_tuple)\n",
    "    hex_colors.append(c_hex)\n",
    "    technology_colors[k] = c_hex\n",
    "\n",
    "technology_colors\n",
    "\n"
   ]
  },
  {
   "cell_type": "markdown",
   "metadata": {},
   "source": [
    "## Loading a batch result"
   ]
  },
  {
   "cell_type": "code",
   "execution_count": null,
   "metadata": {},
   "outputs": [],
   "source": [
    "import seaborn as sns\n",
    "import plotly.express as px\n",
    "from batch import BatchResult\n",
    "\n",
    "r_result = BatchResult.from_directory(b_result_path)\n",
    "\n",
    "ax = r_result.tech_shares_fig()\n",
    "ax\n"
   ]
  },
  {
   "cell_type": "markdown",
   "metadata": {},
   "source": [
    "# Segregation"
   ]
  },
  {
   "cell_type": "code",
   "execution_count": null,
   "metadata": {},
   "outputs": [],
   "source": [
    "from components.model import TechnologyAdoptionModel\n",
    "from components.technologies import merge_heating_techs_with_share\n",
    "heating_techs = merge_heating_techs_with_share()"
   ]
  },
  {
   "cell_type": "code",
   "execution_count": null,
   "metadata": {},
   "outputs": [],
   "source": [
    "n_agents = 1000\n",
    "n_segregation_steps = 50\n",
    "\n",
    "model = TechnologyAdoptionModel(n_agents, \"Ontario\")\n",
    "income_segregation_dfs = model.perform_segregation(n_segregation_steps, capture_attribute=\"disposable_income\")"
   ]
  },
  {
   "cell_type": "code",
   "execution_count": null,
   "metadata": {},
   "outputs": [],
   "source": [
    "import seaborn as sns\n",
    "import matplotlib.pyplot as plt\n",
    "import numpy as np\n",
    "from itertools import product\n",
    "\n",
    "fig, ax = plt.subplots(figsize=(3,2))\n",
    "\n",
    "img = income_segregation_dfs[-1].values\n",
    "ax.imshow(img, label=\"income\")\n",
    "ax.set_yticks([])\n",
    "ax.set_xticks([])\n",
    "ax,img.shape,"
   ]
  },
  {
   "cell_type": "code",
   "execution_count": null,
   "metadata": {},
   "outputs": [],
   "source": [
    "n_rows = int(n_segregation_steps**(1/2)) \n",
    "n_cols = n_rows +1\n",
    "\n",
    "\n",
    "m_idx = list(product(range(n_rows), range(n_cols)))\n",
    "\n",
    "fig, axes = plt.subplots(nrows=n_rows,ncols=n_cols,figsize=(16,9))\n",
    "\n",
    "for step, income_df in enumerate(income_segregation_dfs):\n",
    "    row = m_idx[step][0]\n",
    "    col = m_idx[step][1]\n",
    "\n",
    "    # values are image data\n",
    "    img = income_df.values\n",
    "    axes[row][col].imshow(img)\n",
    "\n",
    "    # set ticks to only show size\n",
    "    # (because the axis here, are not really relevant)\n",
    "    axes[row][col].set_yticks([0,img.shape[0]])\n",
    "    axes[row][col].set_xticks([0,img.shape[1]])\n",
    "\n",
    "    # relevant_ticks = ((income_df.values.shape()))"
   ]
  },
  {
   "cell_type": "code",
   "execution_count": null,
   "metadata": {},
   "outputs": [],
   "source": [
    "\n",
    "fig, axes = plt.subplots(nrows=1,ncols=n_segregation_steps//5,figsize=(16,9))\n",
    "\n",
    "for step, income_df in enumerate(income_segregation_dfs):\n",
    "    if step%5==0:\n",
    "        col = step//5\n",
    "\n",
    "        # values are image data\n",
    "        img = income_df.values\n",
    "        axes[col].imshow(img)\n",
    "\n",
    "        # set ticks to only show size\n",
    "        # (because the axis here, are not really relevant)\n",
    "        axes[col].set_yticks([])\n",
    "        axes[col].set_xticks([])"
   ]
  },
  {
   "cell_type": "markdown",
   "metadata": {},
   "source": [
    "# Parameter fit\n"
   ]
  },
  {
   "cell_type": "code",
   "execution_count": null,
   "metadata": {},
   "outputs": [],
   "source": [
    "plotty_df = tech_score_df.reset_index().set_index([\"variable\",\"index\"]).loc[\"total_score\",:].reset_index()\n",
    "plotty_df[\"AgentID\"] = plotty_df[\"AgentID\"]//10\n",
    "# sns.relplot(plotty_df, x=\"Step\", y=\"value\", hue=\"index\" )\n",
    "fig = px.strip(plotty_df, x=\"Step\",y=\"value\",color=\"index\",template=\"plotly\", stripmode=\"group\")\n",
    "def opacitize_traces(t):\n",
    "    t.opacity =0.8\n",
    "fig.for_each_trace(lambda t: opacitize_traces(t))\n",
    "fig.update_layout(width=800)"
   ]
  },
  {
   "cell_type": "code",
   "execution_count": null,
   "metadata": {},
   "outputs": [],
   "source": [
    "tech_score_df = tech_score_df.reset_index()\n",
    "tech_score_df = tech_score_df.loc[tech_score_df[\"variable\"]!=\"total_score\",:]\n",
    "fig = px.strip(tech_score_df, x=\"Step\",y=\"value\", color=\"index\", facet_row=\"variable\",template=\"plotly\")\n",
    "\n",
    "fig.for_each_annotation(lambda a: a.update(text=a.text.split(\"=\")[-1]))\n",
    "fig.for_each_trace(lambda t: opacitize_traces(t))\n",
    "fig.update_layout(width=800)"
   ]
  },
  {
   "cell_type": "code",
   "execution_count": null,
   "metadata": {},
   "outputs": [],
   "source": [
    "l_hist_shares = historic_tech_shares.loc[province,:].melt(ignore_index=False).reset_index()\n",
    "l_hist_shares[\"iteration\"] = \"historic\"\n",
    "l_hist_shares[\"value\"] *= 0.01\n",
    "\n",
    "def parameter_fit_results(dfs: list[pd.DataFrame], second_id_var=\"iteration\"):\n",
    "    results = pd.concat(dfs)\n",
    "    results.reset_index(names=[\"year\"], inplace=True)\n",
    "    long_results = results.melt(id_vars=[\"year\",second_id_var])\n",
    "    return long_results\n",
    "\n",
    "\n",
    "def update_trace_opacity(trace: go.Trace):\n",
    "    # TODO: add this variable in loop above\n",
    "    n_fit_iterations = 10\n",
    "    iteration = trace.name.split(\",\")[-1]\n",
    "    if iteration == \" historic\":\n",
    "        opacity = 1\n",
    "        trace.width = 3\n",
    "        \n",
    "    else:\n",
    "        try:\n",
    "            opacity = int(iteration) * 1/n_fit_iterations\n",
    "        except:\n",
    "            pass\n",
    "            opacity = float(iteration.strip())\n",
    "\n",
    "\n",
    "    trace.opacity = opacity\n",
    "\n",
    "pfit_res = parameter_fit_results(adoption_share_dfs)\n",
    "pfit_res_historic = pd.concat( [pfit_res, l_hist_shares])\n",
    "\n",
    "fig = px.line(pfit_res, x=\"year\", y=\"value\", color=\"variable\", line_dash=\"iteration\", template=\"plotly\", )\n",
    "\n",
    "fig.for_each_trace(lambda t: update_trace_opacity(t))\n",
    "\n",
    "for i,tech in enumerate(historic_tech_shares.loc[province,:].columns):\n",
    "    fig.add_trace(\n",
    "        go.Scatter(\n",
    "            x=historic_tech_shares.loc[province,tech].index,\n",
    "            y=historic_tech_shares.loc[province,tech].values/100,\n",
    "            mode=\"lines\",\n",
    "            name=f\"{tech}, historic\",\n",
    "            line=dict(dash=\"solid\", width=3, color=px.colors.qualitative.Plotly[i]),\n",
    "        )\n",
    "    )\n",
    "\n",
    "fig.update_layout(width=800)"
   ]
  },
  {
   "cell_type": "code",
   "execution_count": null,
   "metadata": {},
   "outputs": [],
   "source": [
    "# maybe decrease hp prices for increased adoption\n",
    "# np.array([857.06,802.56,794.53,693.55,824.12])*0.7\n",
    "# [599.942, 561.792, 556.171, 485.485, 576.884]"
   ]
  },
  {
   "cell_type": "code",
   "execution_count": null,
   "metadata": {},
   "outputs": [],
   "source": [
    "adoption_detail_df = pd.concat(adoption_detail_dfs)\n",
    "sns.relplot(adoption_detail_df,kind=\"line\", x=\"Step\", y=\"cumulative_amount\", hue=\"tech\", col=\"reason\")\n",
    "# sns.lineplot(adoption_detail_df, x=\"Step\", y=\"cumulative_amount\", hue=\"tech\")"
   ]
  },
  {
   "cell_type": "code",
   "execution_count": null,
   "metadata": {},
   "outputs": [],
   "source": []
  },
  {
   "cell_type": "markdown",
   "metadata": {},
   "source": [
    "## Draw dependent random parameters (mcda weights)\n",
    "\n",
    "weights for mcda need to be diverse across agents, and have to add up to 1.\n",
    "This can be achieved, by drawing one weight $w_0$ from an assumed distribution D between 0 and 1, and then drawing $w_i$ from the same distribution with adapted boundaries as $1 - w_0$ for the upper bound. More formally, the equation for the upper bound of $w_i$ is:\n",
    "$$ 1- \\sum_{i-1} w_{i-1} $$\n",
    "\n"
   ]
  },
  {
   "cell_type": "code",
   "execution_count": null,
   "metadata": {},
   "outputs": [],
   "source": [
    "from components.model import get_income_and_attitude_weights\n",
    "\n",
    "all_dfs = []\n",
    "for p_mode in [0.5, 0.7, 0.9]:\n",
    "    _, weights_df = get_income_and_attitude_weights(10000, price_weight_mode=p_mode)\n",
    "    weights_df[\"mode\"] = p_mode\n",
    "    # print(weights_df.head())\n",
    "    all_dfs.append(weights_df.copy())\n",
    "\n",
    "all_df = pd.concat(all_dfs)\n",
    "\n",
    "fig = px.histogram(\n",
    "    all_df.melt(id_vars=[\"mode\"]),\n",
    "    facet_col=\"variable\",\n",
    "    facet_row=\"mode\",\n",
    "    category_orders={\n",
    "        \"variable\": [\"cost_norm\", \"emissions_norm\", \"attitude\"],\n",
    "        \"mode\": [0.5, 0.7, 0.9][::-1],\n",
    "    },\n",
    ")\n",
    "fig.update_layout(template=\"plotly\", xaxis_title=\"test\", width=800)"
   ]
  },
  {
   "cell_type": "markdown",
   "metadata": {},
   "source": [
    "## parameter fit for mcda-weight's mode"
   ]
  },
  {
   "cell_type": "code",
   "execution_count": null,
   "metadata": {},
   "outputs": [],
   "source": [
    "# new_modes\n",
    "best_modes = pd.Series(\n",
    "    {\n",
    "        \"Electric furnace\": 0.788965,\n",
    "        \"Gas furnace\": 0.388231,\n",
    "        \"Heat pump\": 0.346424,\n",
    "        \"Oil furnace\": 0.460226,\n",
    "        \"Wood or wood pellets furnace\": 0.516056,\n",
    "    }\n",
    ")"
   ]
  },
  {
   "cell_type": "code",
   "execution_count": null,
   "metadata": {},
   "outputs": [],
   "source": [
    "from batch import transform_dict_column\n",
    "province = \"Canada\"\n",
    "start_year = 2000\n",
    "\n",
    "batch_parameters = {\n",
    "    \"N\": [150],\n",
    "    \"province\": [province],  # , \"Alberta\", \"Ontario\"],\n",
    "    \"random_seed\": range(20, 28),\n",
    "    \"tech_attitude_dist_func\":beta_with_mode_at, \n",
    "    \"tech_attitude_dist_params\":[best_modes.to_dict()],\n",
    "    \"n_segregation_steps\": [30],\n",
    "    \"interact\": [False],\n",
    "}\n",
    "\n",
    "adoption_dfs = []\n",
    "for p_mode in [0.925, 0.9, 0.875, 0.85, ]:\n",
    "\n",
    "    batch_parameters[\"price_weight_mode\"] = p_mode\n",
    "\n",
    "    results = batch_run(\n",
    "        TechnologyAdoptionModel,\n",
    "        batch_parameters,\n",
    "        number_processes=None,\n",
    "        max_steps=80,\n",
    "        data_collection_period=1,\n",
    "    )\n",
    "    df = pd.DataFrame(results)\n",
    "    df_no_dict, columns = transform_dict_column(df, dict_col_name=\"Technology shares\")\n",
    "    df2plot = df_no_dict[[\"RunId\", \"Step\", *columns]].drop_duplicates()\n",
    "    df2plot = df2plot.melt(id_vars=[\"RunId\", \"Step\"]).pivot(\n",
    "        columns=[\"variable\", \"RunId\"], index=\"Step\", values=\"value\"\n",
    "    )\n",
    "    \n",
    "    mean_df = pd.DataFrame()\n",
    "    for col in df2plot.columns.get_level_values(0).unique():\n",
    "        mean_df.loc[:,col] = df2plot[col].mean(axis=1)\n",
    "\n",
    "    mean_df.index = TechnologyAdoptionModel.steps_to_years_static(start_year,range(81),1/4)\n",
    "    mean_df[\"p_mode\"] = p_mode\n",
    "    adoption_dfs.append(mean_df)\n",
    "    diff_sum = (h_tech_shares-mean_df).sum()\n",
    "\n",
    "    \n",
    "    total_abs_diff = diff_sum.abs().sum()\n",
    "    print(p_mode,total_abs_diff)\n",
    "    # print(f\"finished iteration {i}\")\n",
    "\n",
    "mcda_fit_results = pd.concat(adoption_dfs)\n",
    "\n"
   ]
  },
  {
   "cell_type": "code",
   "execution_count": null,
   "metadata": {},
   "outputs": [],
   "source": [
    "def update_trace_opacity(trace: go.Trace):\n",
    "    # TODO: add this variable in loop above\n",
    "    n_fit_iterations = 10\n",
    "    iteration = trace.name.split(\",\")[-1]\n",
    "    if iteration == \" historic\":\n",
    "        opacity = 1\n",
    "        trace.line.width = 3\n",
    "        trace.line.dash = \"solid\"\n",
    "        \n",
    "    else:\n",
    "        try:\n",
    "            opacity = int(iteration) * 1/n_fit_iterations\n",
    "        except:\n",
    "            opacity = float(iteration.strip())\n",
    "    trace.opacity = opacity\n",
    "\n",
    "\n",
    "pfit_res = parameter_fit_results(adoption_dfs, second_id_var=\"p_mode\")\n",
    "pfit_res_historic = pd.concat( [pfit_res, l_hist_shares])\n",
    "pfit_res_historic[\"p_mode\"][pfit_res_historic[\"p_mode\"].isna()] = \"historic\"\n",
    "# pfit_res_historic.sort_values(by=\"p_mode\", inplace=True)\n",
    "fig = px.line(pfit_res_historic, x=\"year\", y=\"value\", color=\"variable\", line_dash=\"p_mode\", template=\"plotly\", )\n",
    "\n",
    "fig.for_each_trace(lambda t: update_trace_opacity(t))\n",
    "\n",
    "fig.update_layout(width=800)"
   ]
  },
  {
   "cell_type": "code",
   "execution_count": null,
   "metadata": {},
   "outputs": [],
   "source": [
    "from batch import BatchResult\n",
    "from components.probability import beta_with_mode_at\n",
    "# new_modes\n",
    "best_modes = pd.Series(\n",
    "    {\n",
    "        \"Electric furnace\": 0.788965,\n",
    "        \"Gas furnace\": 0.388231,\n",
    "        \"Heat pump\": 0.346424,\n",
    "        \"Oil furnace\": 0.460226,\n",
    "        \"Wood or wood pellets furnace\": 0.516056,\n",
    "    }\n",
    ")\n",
    "\n",
    "province = \"Canada\"\n",
    "\n",
    "best_guess_parameters = {\n",
    "    \"N\": [200],\n",
    "    \"province\": [province],  # , \"Alberta\", \"Ontario\"],\n",
    "    \"random_seed\": range(20, 28),\n",
    "    \"tech_attitude_dist_func\":beta_with_mode_at, \n",
    "    \"tech_attitude_dist_params\":[best_modes.to_dict()],\n",
    "    \"n_segregation_steps\": [30],\n",
    "    \"interact\": [False],\n",
    "    \"price_weight_mode\": 0.875\n",
    "}\n",
    "# best_guess_parameters.pop(\"tech_attitude_dist_func\")\n",
    "bResult = BatchResult.from_parameters(best_guess_parameters)"
   ]
  },
  {
   "cell_type": "code",
   "execution_count": null,
   "metadata": {},
   "outputs": [],
   "source": [
    "ax = bResult.tech_shares_fig()"
   ]
  },
  {
   "cell_type": "code",
   "execution_count": null,
   "metadata": {},
   "outputs": [],
   "source": [
    "from data.canada import nrcan_tech_shares_df\n",
    "import config\n",
    "\n",
    "historic_tech_shares = nrcan_tech_shares_df.copy()\n",
    "historic_tech_shares.index = historic_tech_shares.index.swaplevel()\n",
    "for tech in historic_tech_shares.columns:\n",
    "    \n",
    "    # x = historic_tech_shares.reset_index()[\"year\"]\n",
    "    y = historic_tech_shares.loc[province, tech]\n",
    "    ax.ax.plot(y.index,y.values, \"--\", label=tech+\" historic\", color=config.TECHNOLOGY_COLORS[tech],)#) ax=ax.ax)\n",
    "    # historic_tech_shares.loc[province,:].plot(kind=\"line\", ax=ax.ax, color=config.TECHNOLOGY_COLORS)\n",
    "# ax_ = historic_tech_shares.loc[province,:].plot(kind=\"line\", ax=ax.ax, colormap=config.TECHNOLOGY_COLORS)\n",
    "ax.ax.figure"
   ]
  },
  {
   "cell_type": "code",
   "execution_count": null,
   "metadata": {},
   "outputs": [],
   "source": [
    "ax.ax.legend(loc=(1.01, 0.4))\n",
    "ax.ax.figure.savefig(\"tuned_parameters.svg\",format=\"svg\")"
   ]
  },
  {
   "cell_type": "code",
   "execution_count": null,
   "metadata": {},
   "outputs": [],
   "source": [
    "bResult.adoption_details_fig()"
   ]
  },
  {
   "cell_type": "markdown",
   "metadata": {},
   "source": [
    "# Convert outputs to copper inputs"
   ]
  },
  {
   "cell_type": "code",
   "execution_count": null,
   "metadata": {},
   "outputs": [],
   "source": [
    "# TODO: create batch run from 2020 until 2050\n",
    "from batch import BatchResult\n",
    "\n",
    "sample_params = {\n",
    "    \"N\":50,\n",
    "    \"province\": [\"Ontario\",\"Alberta\"],\n",
    "    \"random_seed\":[1,2,3,4],\n",
    "    \"start_year\": 2020,\n",
    "}\n",
    "\n",
    "bResult = BatchResult.from_parameters(sample_params, max_steps=(2050-2020)*4)\n",
    "\n"
   ]
  },
  {
   "cell_type": "code",
   "execution_count": null,
   "metadata": {},
   "outputs": [],
   "source": [
    "model_demand = bResult.mean_carrier_demand_df[\"Electricity\"]\n",
    "model_demand = model_demand.reset_index()\n",
    "model_demand.head()\n",
    "model_demand[\"COPPER_colnames\"] = model_demand[\"province\"]+\".\"+model_demand[\"year\"].astype(int).astype(str)\n",
    "model_demand = model_demand[[\"hour\",\"Electricity\",\"COPPER_colnames\"]].pivot(index=\"hour\",columns=[\"COPPER_colnames\"], values=\"Electricity\")\n",
    "model_demand /= 1000 # kWh -> MWh\n",
    "model_demand.head()"
   ]
  },
  {
   "cell_type": "code",
   "execution_count": null,
   "metadata": {},
   "outputs": [],
   "source": [
    "projection_df = pd.read_csv(\"data/canada/timeseries/end-use-demand-2023.csv\", index_col=0).query(\"Scenario=='Global Net-zero' and Variable=='Electricity'  and Sector!='Total End-Use'\")\n",
    "valid_years = (projection_df[\"Year\"] % 5 == 0) & (projection_df[\"Year\"]> 2019) | (projection_df[\"Year\"] == 2021)\n",
    "\n",
    "projection_df = projection_df.loc[valid_years,:]\n",
    "projection_df.loc[:,\"COPPER_colnames\"] = projection_df[\"Region\"] + \".\" + projection_df[\"Year\"].astype(\"str\")\n",
    "projection_df.head()"
   ]
  },
  {
   "cell_type": "code",
   "execution_count": null,
   "metadata": {},
   "outputs": [],
   "source": [
    "# group to Residential and rest\n",
    "def agg_sectors(sector):\n",
    "    if sector== \"Residential\":\n",
    "        return sector\n",
    "    else: \n",
    "        return \"Comm_Trans_Industr\"\n",
    "\n",
    "projection_df[\"agg_sector\"] = projection_df[\"Sector\"].apply(agg_sectors)\n",
    "annual_sector_PJ_prov_demand = projection_df.groupby([\"agg_sector\",\"COPPER_colnames\"])[\"Value\"].sum().reset_index()\n",
    "annual_sector_PJ_prov_demand.head()"
   ]
  },
  {
   "cell_type": "code",
   "execution_count": null,
   "metadata": {},
   "outputs": [],
   "source": [
    "# read copper demand profiles\n",
    "copper_demand = pd.read_csv(\"data/canada/timeseries/COPPER_BAU_demand.csv\", index_col=0)\n",
    "\n",
    "copper_normalized_profiles = copper_demand/copper_demand.sum()\n",
    "copper_normalized_profiles.head()"
   ]
  },
  {
   "cell_type": "code",
   "execution_count": null,
   "metadata": {},
   "outputs": [],
   "source": [
    "# use annual demand to scale normalized profiles\n",
    "test = {}\n",
    "for i, row in annual_sector_PJ_prov_demand.query(\"agg_sector!='Residential'\").iterrows():\n",
    "    province = row[\"COPPER_colnames\"].split(\".\")[0]\n",
    "    if province not in copper_normalized_profiles.columns:\n",
    "        continue\n",
    "    rest_demand = row[\"Value\"] * copper_normalized_profiles[province]\n",
    "    test[row[\"COPPER_colnames\"]] = rest_demand"
   ]
  },
  {
   "cell_type": "code",
   "execution_count": null,
   "metadata": {},
   "outputs": [],
   "source": [
    "rest_demand_df = pd.DataFrame(test)\n",
    "#                   J->Wh, P -> M\n",
    "rest_demand_df *= (1/3600)*1e9\n",
    "rest_demand_df.head()"
   ]
  },
  {
   "cell_type": "code",
   "execution_count": null,
   "metadata": {},
   "outputs": [],
   "source": [
    "common_cols = set(rest_demand_df.columns).intersection(model_demand.columns)\n",
    "# set(rest_demand_df.columns).difference(model_demand.columns)\n",
    "copper_input = rest_demand_df.loc[:,list(common_cols)] + model_demand\n",
    "copper_input"
   ]
  },
  {
   "cell_type": "markdown",
   "metadata": {},
   "source": [
    "# Sensitivity for ..."
   ]
  },
  {
   "cell_type": "markdown",
   "metadata": {},
   "source": [
    "## ... Electricity prices\n",
    "\n",
    "Operationalisation: \n",
    "1) run a batch \n",
    "2) multiply electricity prices with `[0.5, 2]` \n",
    "3) run batches for that"
   ]
  },
  {
   "cell_type": "code",
   "execution_count": null,
   "metadata": {},
   "outputs": [],
   "source": [
    "import pandas as pd\n",
    "from batch import BatchResult\n",
    "from components.probability import beta_with_mode_at\n",
    "\n",
    "\n",
    "el_prices = pd.read_csv(\"data/canada/ca_electricity_prices.csv\")\n",
    "\n",
    "def multiply_el_prices(factor):\n",
    "    return el_prices.copy().set_index(\"REF_DATE\") * factor\n",
    "\n"
   ]
  },
  {
   "cell_type": "code",
   "execution_count": null,
   "metadata": {},
   "outputs": [],
   "source": [
    "best_tech_modes = {\n",
    "    \"Electric furnace\": 0.788965,\n",
    "    \"Gas furnace\": 0.388231,\n",
    "    \"Heat pump\": 0.346424,\n",
    "    \"Oil furnace\": 0.460226,\n",
    "    \"Wood or wood pellets furnace\": 0.516056,\n",
    "}\n",
    "\n",
    "batch_parameters = {\n",
    "    \"N\": [79],\n",
    "    \"province\": [\"Ontario\",],\n",
    "    \"random_seed\": list(range(42, 48)),\n",
    "    \"tech_attitude_dist_func\": beta_with_mode_at,\n",
    "    \"tech_attitude_dist_params\": [best_tech_modes],\n",
    "    \"start_year\": 2000,\n",
    "    \"price_weight_mode\": 0.875,\n",
    "}\n",
    "\n",
    "\n",
    "for p in [0.5,1,2]:\n",
    "    new_prices = multiply_el_prices(p)\n",
    "    new_prices.to_csv(\"data/canada/ca_electricity_prices.csv\")\n",
    "    batch_result = BatchResult.from_parameters(\n",
    "        batch_parameters, max_steps=80, force_rerun=True\n",
    "    )\n",
    "    batch_result.save()\n"
   ]
  },
  {
   "cell_type": "code",
   "execution_count": null,
   "metadata": {},
   "outputs": [],
   "source": [
    "import pickle\n",
    "\n",
    "demand_0 = pickle.load(open(\"results/main/52239d78559bcac68364e9514234d1da_0/mean_carrier_demand.pkl\",\"rb\"))\n",
    "demand_0[\"el_price\"] = 0.5\n",
    "# el_price * 2\n",
    "demand_1 = pickle.load(open(\"results/main/52239d78559bcac68364e9514234d1da_1/mean_carrier_demand.pkl\",\"rb\"))\n",
    "demand_1[\"el_price\"] = 1\n",
    "# el_price * 0.5\n",
    "demand_2 = pickle.load(open(\"results/main/52239d78559bcac68364e9514234d1da_2/mean_carrier_demand.pkl\",\"rb\"))\n",
    "demand_2[\"el_price\"] = 2\n",
    "\n",
    "demands = pd.concat([demand_0, demand_1, demand_2]).set_index(\"el_price\", append=True)\n"
   ]
  },
  {
   "cell_type": "code",
   "execution_count": null,
   "metadata": {},
   "outputs": [],
   "source": [
    "import plotly.express as px\n",
    "\n",
    "demands_long = demands.groupby([\"province\",\"year\",\"el_price\"]).sum().reset_index().melt(id_vars=[\"province\",\"year\",\"el_price\"])\n",
    "px.line(demands_long, x=\"year\", y=\"value\", color=\"variable\", facet_col=\"el_price\", template=\"plotly\")"
   ]
  },
  {
   "cell_type": "code",
   "execution_count": null,
   "metadata": {},
   "outputs": [],
   "source": [
    "\n",
    "tech_shares_0 = pd.read_csv(\"results/main/52239d78559bcac68364e9514234d1da_0/tech_shares_df.csv\")\n",
    "tech_shares_0[\"el_price\"] = 0.5\n",
    "tech_shares_1 = pd.read_csv(\"results/main/52239d78559bcac68364e9514234d1da_1/tech_shares_df.csv\")\n",
    "tech_shares_1[\"el_price\"] = 1\n",
    "tech_shares_2 = pd.read_csv(\"results/main/52239d78559bcac68364e9514234d1da_2/tech_shares_df.csv\")\n",
    "tech_shares_2[\"el_price\"] = 2\n",
    "tech_shares = pd.concat([tech_shares_0, tech_shares_1, tech_shares_2])\n",
    "tech_shares_long = tech_shares.melt(id_vars=[\"RunId\", \"province\",\"year\", \"el_price\"])\n",
    "tech_shares_long.head()"
   ]
  },
  {
   "cell_type": "code",
   "execution_count": null,
   "metadata": {},
   "outputs": [],
   "source": [
    "import seaborn as sns\n",
    "sns.relplot(tech_shares_long, x=\"year\", y=\"value\", hue=\"variable\", col=\"el_price\", kind=\"line\")"
   ]
  },
  {
   "cell_type": "markdown",
   "metadata": {},
   "source": [
    "## ... Appliance prices"
   ]
  },
  {
   "cell_type": "code",
   "execution_count": null,
   "metadata": {},
   "outputs": [],
   "source": [
    "appliance_data = pd.read_csv(\"data/canada/heat_tech_params.csv\").set_index([\"variable\",\"year\"])"
   ]
  },
  {
   "cell_type": "code",
   "execution_count": null,
   "metadata": {},
   "outputs": [],
   "source": [
    "\n",
    "\n",
    "best_tech_modes = {\n",
    "    \"Electric furnace\": 0.788965,\n",
    "    \"Gas furnace\": 0.388231,\n",
    "    \"Heat pump\": 0.346424,\n",
    "    \"Oil furnace\": 0.460226,\n",
    "    \"Wood or wood pellets furnace\": 0.516056,\n",
    "}\n",
    "\n",
    "batch_parameters = {\n",
    "    \"N\": [82],\n",
    "    \"province\": [\"Ontario\",],\n",
    "    \"random_seed\": list(range(42, 48)),\n",
    "    \"tech_attitude_dist_func\": beta_with_mode_at,\n",
    "    \"tech_attitude_dist_params\": [best_tech_modes],\n",
    "    \"start_year\": 2000,\n",
    "    \"price_weight_mode\": 0.875,\n",
    "}\n",
    "\n",
    "for p_mod in [0.5, 1, 1.5]:\n",
    "    appliance_data.loc[\"specific_cost\",\"Heat pump\"] = (appliance_data.loc[\"specific_cost\",\"Heat pump\"].astype(float) * p_mod).values\n",
    "    appliance_data.to_csv(\"data/canada/heat_tech_params.csv\")\n",
    "\n",
    "    batch_result = BatchResult.from_parameters(\n",
    "        batch_parameters, max_steps=80, force_rerun=True\n",
    "    )\n",
    "    batch_result.save()"
   ]
  },
  {
   "cell_type": "code",
   "execution_count": null,
   "metadata": {},
   "outputs": [],
   "source": [
    "demand_0 = pickle.load(open(\"results/main/5cb5ed9fe20269a663881f7aac376e76_0/mean_carrier_demand.pkl\",\"rb\"))\n",
    "demand_0[\"hp_price\"] = 0.75\n",
    "# hp_price * 2\n",
    "demand_1 = pickle.load(open(\"results/main/5cb5ed9fe20269a663881f7aac376e76_1/mean_carrier_demand.pkl\",\"rb\"))\n",
    "demand_1[\"hp_price\"] = 1\n",
    "# hp_price * 0.5\n",
    "demand_2 = pickle.load(open(\"results/main/5cb5ed9fe20269a663881f7aac376e76_2/mean_carrier_demand.pkl\",\"rb\"))\n",
    "demand_2[\"hp_price\"] = 1.5\n",
    "\n",
    "demands = pd.concat([demand_0, demand_1, demand_2]).set_index(\"hp_price\", append=True)"
   ]
  },
  {
   "cell_type": "code",
   "execution_count": null,
   "metadata": {},
   "outputs": [],
   "source": [
    "\n",
    "demands_long = demands.groupby([\"province\",\"year\",\"hp_price\"]).sum().reset_index().melt(id_vars=[\"province\",\"year\",\"hp_price\"])\n",
    "px.line(demands_long, x=\"year\", y=\"value\", color=\"variable\", facet_col=\"hp_price\", template=\"plotly\")"
   ]
  },
  {
   "cell_type": "code",
   "execution_count": null,
   "metadata": {},
   "outputs": [],
   "source": [
    "\n",
    "tech_shares_0 = pd.read_csv(\"results/main/5cb5ed9fe20269a663881f7aac376e76_0/tech_shares_df.csv\")\n",
    "tech_shares_0[\"hp_price\"] = 0.75\n",
    "tech_shares_1 = pd.read_csv(\"results/main/5cb5ed9fe20269a663881f7aac376e76_1/tech_shares_df.csv\")\n",
    "tech_shares_1[\"hp_price\"] = 1\n",
    "tech_shares_2 = pd.read_csv(\"results/main/5cb5ed9fe20269a663881f7aac376e76_2/tech_shares_df.csv\")\n",
    "tech_shares_2[\"hp_price\"] = 1.5\n",
    "tech_shares = pd.concat([tech_shares_0, tech_shares_1, tech_shares_2])\n",
    "tech_shares_long = tech_shares.melt(id_vars=[\"RunId\", \"province\",\"year\", \"hp_price\"])\n",
    "tech_shares_long.head()\n",
    "sns.relplot(tech_shares_long, x=\"year\", y=\"value\", hue=\"variable\", col=\"hp_price\", kind=\"line\")"
   ]
  },
  {
   "cell_type": "markdown",
   "metadata": {},
   "source": [
    "## .. both? can i this?"
   ]
  },
  {
   "cell_type": "code",
   "execution_count": null,
   "metadata": {},
   "outputs": [],
   "source": [
    "appliance_data = pd.read_csv(\"data/canada/heat_tech_params.csv\").set_index([\"variable\",\"year\"])\n",
    "\n",
    "def multiply_hp_price(hp_p):\n",
    "    local_appl_data = appliance_data.copy()\n",
    "    local_appl_data.loc[\"specific_cost\",\"Heat pump\"] = (local_appl_data.loc[\"specific_cost\",\"Heat pump\"].astype(float) * hp_p).values\n",
    "    return local_appl_data\n",
    "\n",
    "\n",
    "el_prices = pd.read_csv(\"data/canada/ca_electricity_prices.csv\")\n",
    "\n",
    "def multiply_el_prices(factor):\n",
    "    return el_prices.copy().set_index(\"REF_DATE\") * factor\n",
    "\n",
    "\n",
    "best_tech_modes = {\n",
    "    \"Electric furnace\": 0.788965,\n",
    "    \"Gas furnace\": 0.388231,\n",
    "    \"Heat pump\": 0.346424,\n",
    "    \"Oil furnace\": 0.460226,\n",
    "    \"Wood or wood pellets furnace\": 0.516056,\n",
    "}\n",
    "\n",
    "batch_parameters = {\n",
    "    \"N\": [49],\n",
    "    \"province\": [\"Ontario\",],\n",
    "    \"random_seed\": list(range(42, 50)),\n",
    "    \"tech_attitude_dist_func\": beta_with_mode_at,\n",
    "    \"tech_attitude_dist_params\": [best_tech_modes],\n",
    "    \"start_year\": 2000,\n",
    "    \"price_weight_mode\": 0.875,\n",
    "}\n",
    "\n",
    "price_modification = [0.5,1,2]\n",
    "\n",
    "\n",
    "for el_p in price_modification:\n",
    "    for hp_p in price_modification:\n",
    "        new_prices = multiply_el_prices(el_p)\n",
    "        new_prices.to_csv(\"data/canada/ca_electricity_prices.csv\")\n",
    "\n",
    "        new_appliance_data = multiply_hp_price(hp_p)\n",
    "        new_appliance_data.to_csv(\"data/canada/heat_tech_params.csv\")\n",
    "        print(f\"{el_p=}, {hp_p=}\")\n",
    "        print(f\"{new_prices.mean().mean()=}\")\n",
    "        print(\"mean spec. hp cost=\",new_appliance_data.loc[\"specific_cost\",\"Heat pump\"].mean())\n",
    "        batch_result = BatchResult.from_parameters(\n",
    "            batch_parameters, max_steps=80, force_rerun=True\n",
    "        )\n",
    "        batch_result.save()\n"
   ]
  },
  {
   "cell_type": "code",
   "execution_count": null,
   "metadata": {},
   "outputs": [],
   "source": [
    "import numpy as np\n",
    "from itertools import combinations, permutations, product\n",
    "\n",
    "price_mod_perms = list(product(price_modification,price_modification))\n",
    "\n",
    "le_shares = []\n",
    "le_demands = []\n",
    "for i in range(1,10):\n",
    "    shares = pd.read_csv(f\"results/main/b7d9839db6cb0ad1e20ad645503851d8_{i}/tech_shares_df.csv\")\n",
    "    shares[\"el_price\"] = price_mod_perms[i-1][0]\n",
    "    shares[\"hp_price\"] = price_mod_perms[i-1][1]\n",
    "    le_shares.append(shares)\n",
    "\n",
    "    demand = pickle.load(open(f\"results/main/b7d9839db6cb0ad1e20ad645503851d8_{i}/mean_carrier_demand.pkl\",\"rb\"))\n",
    "    demand[\"el_price\"] = price_mod_perms[i-1][0]\n",
    "    demand[\"hp_price\"] = price_mod_perms[i-1][1]\n",
    "    le_demands.append(demand)\n",
    "\n",
    "tech_shares = pd.concat(le_shares)"
   ]
  },
  {
   "cell_type": "code",
   "execution_count": null,
   "metadata": {},
   "outputs": [],
   "source": [
    "demands = pd.concat(le_demands)\n",
    "demands_long = demands.groupby([\"province\",\"year\",\"hp_price\",\"el_price\"]).sum().reset_index().melt(id_vars=[\"province\",\"year\",\"hp_price\",\"el_price\"])\n",
    "fig = px.line(demands_long, x=\"year\", y=\"value\", color=\"variable\", facet_col=\"hp_price\",facet_row=\"el_price\", template=\"plotly\")\n",
    "\n",
    "fig.update_layout(width=600, height=600)"
   ]
  },
  {
   "cell_type": "code",
   "execution_count": null,
   "metadata": {},
   "outputs": [],
   "source": [
    "tech_shares_long = tech_shares.melt(id_vars=[\"RunId\", \"province\",\"year\", \"hp_price\",\"el_price\"])\n",
    "# tech_shares_long.head()\n",
    "sns.relplot(tech_shares_long, x=\"year\", y=\"value\", hue=\"variable\", col=\"hp_price\", row=\"el_price\",kind=\"line\")"
   ]
  },
  {
   "cell_type": "markdown",
   "metadata": {},
   "source": []
  }
 ],
 "metadata": {
  "kernelspec": {
   "display_name": "tau",
   "language": "python",
   "name": "python3"
  },
  "language_info": {
   "codemirror_mode": {
    "name": "ipython",
    "version": 3
   },
   "file_extension": ".py",
   "mimetype": "text/x-python",
   "name": "python",
   "nbconvert_exporter": "python",
   "pygments_lexer": "ipython3",
   "version": "3.10.13"
  }
 },
 "nbformat": 4,
 "nbformat_minor": 2
}
