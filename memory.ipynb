{
 "cells": [
  {
   "cell_type": "markdown",
   "metadata": {},
   "source": [
    "# Analysing memory usage"
   ]
  },
  {
   "cell_type": "code",
   "execution_count": null,
   "id": "01J538YHFXMSW0WF7V8CGSHJP4",
   "metadata": {},
   "outputs": [],
   "source": [
    "from components.model import get_income_and_attitude_weights\n",
    "import sys\n",
    "from pympler.asizeof import asizeof\n",
    "\n",
    "\n",
    "incomes, weights = get_income_and_attitude_weights(700, 0.6)\n",
    "\n",
    "print(sys.getsizeof(incomes),sys.getsizeof(weights))\n",
    "asizeof(incomes),asizeof(weights) \n",
    "# (5728, 41368) 13.03.24\n",
    "# (2928, 24568) after np.float32\n"
   ]
  },
  {
   "cell_type": "code",
   "execution_count": null,
   "id": "01J538YMJQRRG38SZ7XRH0R9G1",
   "metadata": {},
   "outputs": [],
   "source": [
    "from data.canada import uncertain_demand_from_income_and_province, get_end_use_agg_heating_share\n",
    "\n",
    "\n",
    "demand = uncertain_demand_from_income_and_province(incomes, \"Ontario\")\n",
    "agg_heat_share = get_end_use_agg_heating_share(\"Ontario\", 2000)\n",
    "print(sys.getsizeof(demand),sys.getsizeof(agg_heat_share))\n",
    "asizeof(demand),asizeof(agg_heat_share)\n",
    "# (5728, 48)"
   ]
  },
  {
   "cell_type": "code",
   "execution_count": null,
   "id": "01J538Z3BCN7QYVQXH0Z4VDYVY",
   "metadata": {},
   "outputs": [],
   "source": [
    "from components.technologies import merge_heating_techs_with_share\n",
    "import pandas as pd\n",
    "\n",
    "heat_tech_shares = merge_heating_techs_with_share(2000, \"Ontario\")\n",
    "print(sys.getsizeof(heat_tech_shares))\n",
    "# heat_tech_shares[:] = np.float16(heat_tech_shares.values)\n",
    "\n",
    "asizeof(heat_tech_shares.astype(\"float16\"))"
   ]
  },
  {
   "cell_type": "code",
   "execution_count": null,
   "id": "01J538Z8YA0QMGEFEXS756FRWS",
   "metadata": {},
   "outputs": [],
   "source": [
    "from components.model import TechnologyAdoptionModel\n",
    "\n",
    "model = TechnologyAdoptionModel(500, \"Ontario\", ts_step_length=\"w\")\n",
    "print(sys.getsizeof(model))\n",
    "asizeof(model) \n",
    "# holy smokes! 963243912 13.03.24\n",
    "# 693435952 after some float32 conversions\n",
    "#  35754928 after resampling to \"w\" ~ 19x less memory\n",
    "#  25546080 with 500 instead of 700 agents"
   ]
  },
  {
   "cell_type": "code",
   "execution_count": null,
   "id": "01J538ZF4AQKGB2HJ26CMND99Y",
   "metadata": {},
   "outputs": [],
   "source": [
    "fuel_demands = model.schedule.agents[0].potential_fuel_demands\n",
    "asizeof(fuel_demands),asizeof(fuel_demands.astype(\"int32\"))"
   ]
  },
  {
   "cell_type": "code",
   "execution_count": null,
   "id": "01J538ZP2F5F687XAN6PC4BNEC",
   "metadata": {},
   "outputs": [],
   "source": [
    "from components.probability import beta_with_mode_at\n",
    "from components.technologies import Technologies\n",
    "\n",
    "dist_params = dict(zip(Technologies,[0.5]*len(Technologies)))\n",
    "\n",
    "atts = model.draw_attitudes_from_distribution(beta_with_mode_at, dist_params)\n",
    "print(sys.getsizeof(atts))\n",
    "asizeof(atts)\n",
    "# 74640"
   ]
  }
 ],
 "metadata": {
  "kernelspec": {
   "display_name": "cando",
   "language": "python",
   "name": "python3"
  },
  "language_info": {
   "name": "python",
   "version": "3.10.14"
  }
 },
 "nbformat": 4,
 "nbformat_minor": 2
}
