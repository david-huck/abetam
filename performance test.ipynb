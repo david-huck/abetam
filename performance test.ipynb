{
 "cells": [
  {
   "cell_type": "code",
   "execution_count": null,
   "id": "01J5ZTM1TAX7AWVRQHMVWNQEY2",
   "metadata": {},
   "outputs": [],
   "source": [
    "from components.model import TechnologyAdoptionModel\n",
    "\n",
    "\n",
    "def define_and_run_model():\n",
    "    model = TechnologyAdoptionModel(100, \"Ontario\")\n",
    "    for i in range(80):\n",
    "        model.step()\n",
    "%timeit define_and_run_model()\n",
    "# 7.38 s ± 323 ms (after optimisation - 79f10fa)\n",
    "# 8.26 s ± 724 ms (before optimisation )"
   ]
  },
  {
   "cell_type": "code",
   "execution_count": null,
   "metadata": {},
   "outputs": [],
   "source": [
    "\n",
    "batch_parameters = {\n",
    "    \"N\": [500],\n",
    "    \"province\": [\"Ontario\"],\n",
    "    \"random_seed\": range(20, 25),\n",
    "    \"start_year\": 2000,\n",
    "    \"n_segregation_steps\": [40],\n",
    "    \"interact\": [False],\n",
    "    # \"tech_att_mode_table\": [tech_attitude_scenario],\n",
    "    \"ts_step_length\": [\"W\"],\n",
    "    \"hp_subsidy\": [0.3]\n",
    "}\n",
    "%timeit from batch import BatchResult;BatchResult.from_parameters(batch_parameters, display_progress=True, force_rerun=True)\n",
    "# with  50 agents: 17.6 s ± 977 ms (after optimisation - 79f10fa)\n",
    "# with 500 agents: 59.7 s ± 10 s (after optimisation )"
   ]
  },
  {
   "cell_type": "markdown",
   "metadata": {},
   "source": [
    "# pandas read csvs vs database reading\n",
    "\n"
   ]
  },
  {
   "cell_type": "code",
   "execution_count": null,
   "metadata": {},
   "outputs": [],
   "source": [
    "%timeit import data.canada"
   ]
  },
  {
   "cell_type": "code",
   "execution_count": null,
   "id": "01J64MPPYZXMXMV8PH8A5PYYW5",
   "metadata": {},
   "outputs": [],
   "source": [
    "from components.model import TechnologyAdoptionModel, merge_heating_techs_with_share\n",
    "\n",
    "\n",
    "heating_techs_df = merge_heating_techs_with_share(\n",
    "            start_year=2000, province=\"Ontario\"\n",
    "        )\n",
    "\n",
    "heating_techs_df[\"upper_idx\"] = (\n",
    "    heating_techs_df[\"cum_share\"] * 50\n",
    ").astype(int)\n",
    "# get the first row, where the i < upper_idx\n",
    "for i in range(50):\n",
    "    heat_tech_row = heating_techs_df.query(f\"{i}<=upper_idx\").iloc[0, :]\n",
    "    print(heat_tech_row.name)"
   ]
  },
  {
   "cell_type": "code",
   "execution_count": null,
   "metadata": {},
   "outputs": [],
   "source": [
    "heating_techs_df.iloc[:,:-1]"
   ]
  },
  {
   "cell_type": "code",
   "execution_count": null,
   "metadata": {},
   "outputs": [],
   "source": [
    "import pandas as pd\n",
    "import numpy as np\n",
    "\n",
    "def generate_technologies(df, num_agents):\n",
    "    technologies = []\n",
    "\n",
    "    technology_names = df.index.tolist()\n",
    "    for i in range(num_agents):\n",
    "        rand_num = (i + 0.1) / num_agents\n",
    "        # rand_num = i / num_agents\n",
    "        tech_idx = np.searchsorted(df[\"cum_share\"], rand_num)\n",
    "        tech = technology_names[tech_idx]\n",
    "        technologies.append(tech)\n",
    "    return technologies\n",
    "\n",
    "# pd.Series(generate_technologies(heating_techs_df, 10)).value_counts(normalize=True, sort=False)\n",
    "pd.Series(generate_technologies(heating_techs_df, 100)).value_counts(sort=False)\n",
    "# Electric furnace    17\n",
    "# Gas furnace         69\n",
    "# Heat pump            5\n",
    "# Oil furnace          8\n",
    "# Biomass furnace      1\n"
   ]
  }
 ],
 "metadata": {
  "kernelspec": {
   "display_name": "cando",
   "language": "python",
   "name": "python3"
  },
  "language_info": {
   "codemirror_mode": {
    "name": "ipython",
    "version": 3
   },
   "file_extension": ".py",
   "mimetype": "text/x-python",
   "name": "python",
   "nbconvert_exporter": "python",
   "pygments_lexer": "ipython3",
   "version": "3.10.14"
  }
 },
 "nbformat": 4,
 "nbformat_minor": 2
}
