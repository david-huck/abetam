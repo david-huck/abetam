{
 "cells": [
  {
   "cell_type": "code",
   "execution_count": null,
   "metadata": {},
   "outputs": [],
   "source": [
    "from scenarios import (\n",
    "    generate_hp_cost_projections,\n",
    "    generate_scenario_attitudes,\n",
    "    MODES_2020,\n",
    "    FAST_TRANSITION_MODES_AND_YEARS,\n",
    "    SLOW_TRANSITION_MODES_AND_YEARS,\n",
    ")\n",
    "from config import TECHNOLOGY_COLORS\n",
    "import pandas as pd\n",
    "import plotly.express as px\n",
    "\n",
    "fast_attititudes = generate_scenario_attitudes(\n",
    "    MODES_2020, FAST_TRANSITION_MODES_AND_YEARS\n",
    ")\n",
    "fast_attititudes = fast_attititudes.melt(ignore_index=False)\n",
    "fast_attititudes[\"Scenario\"] = \"Fast\"\n",
    "\n",
    "slow_attitudes = generate_scenario_attitudes(\n",
    "    MODES_2020, SLOW_TRANSITION_MODES_AND_YEARS\n",
    ")\n",
    "slow_attitudes = slow_attitudes.melt(ignore_index=False)\n",
    "slow_attitudes[\"Scenario\"] = \"Slow\"\n",
    "\n",
    "NO_TRANSITION_MODES_AND_YEARS = {\n",
    "    \"Electric furnace\": {\"end_att\": 0.05, \"at_year\": 2040},\n",
    "    \"Gas furnace\": {\"end_att\": 0.95, \"at_year\": 2030},\n",
    "    \"Heat pump\": {\"end_att\": 0.05, \"at_year\": 2030},\n",
    "    \"Oil furnace\": {\"end_att\": 0.95, \"at_year\": 2030},\n",
    "    \"Wood or wood pellets furnace\": {\"end_att\": 0.109409, \"at_year\": 2030},\n",
    "}\n",
    "MODERATE_MODES_AND_YEARS = {\n",
    "    \"Electric furnace\": {\"end_att\": 0.45, \"at_year\": 2040},\n",
    "    \"Gas furnace\": {\"end_att\": 0.076923, \"at_year\": 2030},\n",
    "    \"Heat pump\": {\"end_att\": 0.6, \"at_year\": 2040},\n",
    "    \"Oil furnace\": {\"end_att\": 0.05, \"at_year\": 2030},\n",
    "    \"Wood or wood pellets furnace\": {\"end_att\": 0.109409, \"at_year\": 2030},\n",
    "}\n",
    "\n",
    "\n",
    "moderate_attitudes = generate_scenario_attitudes(MODES_2020, MODERATE_MODES_AND_YEARS)\n",
    "moderate_attitudes = moderate_attitudes.melt(ignore_index=False)\n",
    "moderate_attitudes[\"Scenario\"] = \"Moderate\"\n",
    "\n",
    "no_attitudes = generate_scenario_attitudes(MODES_2020, NO_TRANSITION_MODES_AND_YEARS)\n",
    "no_attitudes = no_attitudes.melt(ignore_index=False)\n",
    "no_attitudes[\"Scenario\"] = \"Sensitivity\"\n",
    "\n",
    "\n",
    "attititudes = pd.concat([slow_attitudes, fast_attititudes, no_attitudes, moderate_attitudes])"
   ]
  },
  {
   "cell_type": "code",
   "execution_count": null,
   "metadata": {},
   "outputs": [],
   "source": [
    "\n",
    "fig = px.line(attititudes.reset_index(), x=\"index\", y=\"value\", color=\"variable\", facet_row=\"Scenario\", width=700, template=\"plotly\", color_discrete_map=TECHNOLOGY_COLORS)\n",
    "fig.for_each_annotation(lambda a: a.update(text=a.text.split(\"=\")[1]))\n",
    "fig.for_each_yaxis(lambda y: y.update(title=\"Att. mode\"))"
   ]
  },
  {
   "cell_type": "code",
   "execution_count": null,
   "metadata": {},
   "outputs": [],
   "source": [
    "\n",
    "\n",
    "costs = generate_hp_cost_projections(learning_rate=11.1, write_csv=True)\n",
    "fig = px.line(\n",
    "    costs.melt(ignore_index=False, var_name=\"tech\").reset_index(),\n",
    "    x=\"year\",\n",
    "    y=\"value\",\n",
    "    color=\"tech\",\n",
    "    facet_row=\"variable\",\n",
    "    template=\"plotly\",\n",
    "    height=800,\n",
    "    width=600,\n",
    ")\n",
    "fig.update_yaxes(\n",
    "    matches=None,\n",
    ")\n"
   ]
  },
  {
   "cell_type": "markdown",
   "metadata": {},
   "source": [
    "## Raise gas price by increased carbon tax"
   ]
  },
  {
   "cell_type": "code",
   "execution_count": null,
   "metadata": {},
   "outputs": [],
   "source": [
    "import pandas as pd\n",
    "from data.canada import end_use_prices\n",
    "old_end_use_prices = end_use_prices.copy()"
   ]
  },
  {
   "cell_type": "code",
   "execution_count": null,
   "metadata": {},
   "outputs": [],
   "source": [
    "from scenarios import update_price_w_new_CT, CT\n",
    "from functools import partial\n",
    "new_CT = CT * 2\n",
    "\n",
    "update_prices = partial(update_price_w_new_CT, new_CT=new_CT)\n",
    "\n",
    "end_use_prices[\"Price (ct/kWh)\"] = end_use_prices[[\"Year\", \"Price (ct/kWh)\",\"Type of fuel\",\"GEO\"]].apply(update_prices, axis=1)"
   ]
  },
  {
   "cell_type": "code",
   "execution_count": null,
   "metadata": {},
   "outputs": [],
   "source": [
    "end_use_prices.to_csv(\"data/canada/residential_GNZ_end-use-prices-2023_ct_per_kWh.csv\", index=False)"
   ]
  },
  {
   "cell_type": "code",
   "execution_count": null,
   "metadata": {},
   "outputs": [],
   "source": [
    "import importlib\n",
    "importlib.import_module(\"data.canada\")"
   ]
  },
  {
   "cell_type": "code",
   "execution_count": null,
   "metadata": {},
   "outputs": [],
   "source": [
    "end_use_prices == old_end_use_prices"
   ]
  }
 ],
 "metadata": {
  "kernelspec": {
   "display_name": "cando",
   "language": "python",
   "name": "python3"
  },
  "language_info": {
   "codemirror_mode": {
    "name": "ipython",
    "version": 3
   },
   "file_extension": ".py",
   "mimetype": "text/x-python",
   "name": "python",
   "nbconvert_exporter": "python",
   "pygments_lexer": "ipython3",
   "version": "3.10.14"
  }
 },
 "nbformat": 4,
 "nbformat_minor": 2
}
