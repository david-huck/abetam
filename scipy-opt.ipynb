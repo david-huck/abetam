{
 "cells": [
  {
   "cell_type": "code",
   "execution_count": 64,
   "metadata": {},
   "outputs": [],
   "source": [
    "import pandas as pd\n",
    "import numpy as np\n",
    "import pickle as pkl\n",
    "from parameter_fit_scipy import flat_array_2_table\n",
    "import plotly.express as px\n",
    "import re\n",
    "from glob import glob\n",
    "\n",
    "results_dir = \"results/fitting/scikit-opt/2024.08.21/\"\n",
    "\n",
    "def post_process_results():\n",
    "    \n",
    "    y_dfs = []\n",
    "    x_dfs = []\n",
    "    for file in glob(results_dir+\"optim.yi_pm_*_pe_*.pkl\"):\n",
    "        yi = pkl.load(open(file, \"rb\"))\n",
    "        p_mode, peer_eff = re.findall(\"pm_(.+)_pe_(.+).pkl\", file)[0]\n",
    "        df = pd.DataFrame(yi, index=range(len(yi)), columns=[\"value\"])\n",
    "        df[[\"p_mode\",\"peer_eff\"]] = float(p_mode), float(peer_eff)\n",
    "        y_dfs.append(df)\n",
    "    \n",
    "    y_df = pd.concat(y_dfs)\n",
    "\n",
    "    for file in glob(results_dir+\"optim.Xi_pm_*_pe_*.pkl\"):\n",
    "        xi = pkl.load(open(file, \"rb\"))\n",
    "        att_dfs = [flat_array_2_table(np.array(x)).melt(ignore_index=False) for x in xi]\n",
    "        for i, df in enumerate(att_dfs):\n",
    "            df[\"iteration\"] = i\n",
    "        att_df = pd.concat(att_dfs)\n",
    "        # att_df[\"iteration\"] = np.arange(len(att_df))//len(att_dfs[0])\n",
    "\n",
    "        p_mode, peer_eff = re.findall(\"_pm_(.+)_pe_(.+).pkl\", file)[0]\n",
    "        att_df[[\"p_mode\",\"peer_eff\"]] = float(p_mode), float(peer_eff)\n",
    "        x_dfs.append(att_df)\n",
    "    \n",
    "    x_df = pd.concat(x_dfs)\n",
    "    return x_df, y_df\n",
    "\n",
    "\n",
    "\n",
    "# Xi = pkl.load(open(\"optim.Xi_pm_0.75_pe_0.20.pkl\", \"rb\"))\n",
    "\n",
    "# px.line(flat_array_2_table(np.array(Xi[np.argmin(yi)])), template=\"plotly\")\n",
    "x_df, y_df = post_process_results()"
   ]
  },
  {
   "cell_type": "code",
   "execution_count": 65,
   "metadata": {},
   "outputs": [],
   "source": [
    "# y_df.groupby([\"p_mode\",\"peer_eff\"]).min().reset_index().pivot(columns=\"p_mode\", index=\"peer_eff\")"
   ]
  },
  {
   "cell_type": "code",
   "execution_count": 66,
   "metadata": {},
   "outputs": [
    {
     "data": {
      "text/html": [
       "<div>\n",
       "<style scoped>\n",
       "    .dataframe tbody tr th:only-of-type {\n",
       "        vertical-align: middle;\n",
       "    }\n",
       "\n",
       "    .dataframe tbody tr th {\n",
       "        vertical-align: top;\n",
       "    }\n",
       "\n",
       "    .dataframe thead th {\n",
       "        text-align: right;\n",
       "    }\n",
       "</style>\n",
       "<table border=\"1\" class=\"dataframe\">\n",
       "  <thead>\n",
       "    <tr style=\"text-align: right;\">\n",
       "      <th></th>\n",
       "      <th></th>\n",
       "      <th></th>\n",
       "      <th>value</th>\n",
       "    </tr>\n",
       "    <tr>\n",
       "      <th>p_mode</th>\n",
       "      <th>peer_eff</th>\n",
       "      <th>iteration</th>\n",
       "      <th></th>\n",
       "    </tr>\n",
       "  </thead>\n",
       "  <tbody>\n",
       "    <tr>\n",
       "      <th>0.65</th>\n",
       "      <th>0.35</th>\n",
       "      <th>152</th>\n",
       "      <td>1.827956</td>\n",
       "    </tr>\n",
       "    <tr>\n",
       "      <th>0.80</th>\n",
       "      <th>0.30</th>\n",
       "      <th>156</th>\n",
       "      <td>1.859577</td>\n",
       "    </tr>\n",
       "    <tr>\n",
       "      <th>0.70</th>\n",
       "      <th>0.30</th>\n",
       "      <th>96</th>\n",
       "      <td>1.884261</td>\n",
       "    </tr>\n",
       "    <tr>\n",
       "      <th>0.80</th>\n",
       "      <th>0.25</th>\n",
       "      <th>141</th>\n",
       "      <td>1.886604</td>\n",
       "    </tr>\n",
       "    <tr>\n",
       "      <th>0.70</th>\n",
       "      <th>0.25</th>\n",
       "      <th>52</th>\n",
       "      <td>1.962189</td>\n",
       "    </tr>\n",
       "  </tbody>\n",
       "</table>\n",
       "</div>"
      ],
      "text/plain": [
       "                              value\n",
       "p_mode peer_eff iteration          \n",
       "0.65   0.35     152        1.827956\n",
       "0.80   0.30     156        1.859577\n",
       "0.70   0.30     96         1.884261\n",
       "0.80   0.25     141        1.886604\n",
       "0.70   0.25     52         1.962189"
      ]
     },
     "execution_count": 66,
     "metadata": {},
     "output_type": "execute_result"
    }
   ],
   "source": [
    "top_5 = y_df.reset_index(names=[\"iteration\"]).groupby([\"p_mode\",\"peer_eff\",\"iteration\"]).min().sort_values(by=\"value\").reset_index()\n",
    "\n",
    "dupes = top_5[[\"p_mode\",\"peer_eff\"]].duplicated()\n",
    "top_5 = top_5.loc[~dupes,:].head().set_index([\"p_mode\",\"peer_eff\",\"iteration\"])\n",
    "top_5"
   ]
  },
  {
   "cell_type": "code",
   "execution_count": 67,
   "metadata": {},
   "outputs": [
    {
     "data": {
      "text/html": [
       "<div>\n",
       "<style scoped>\n",
       "    .dataframe tbody tr th:only-of-type {\n",
       "        vertical-align: middle;\n",
       "    }\n",
       "\n",
       "    .dataframe tbody tr th {\n",
       "        vertical-align: top;\n",
       "    }\n",
       "\n",
       "    .dataframe thead th {\n",
       "        text-align: right;\n",
       "    }\n",
       "</style>\n",
       "<table border=\"1\" class=\"dataframe\">\n",
       "  <thead>\n",
       "    <tr style=\"text-align: right;\">\n",
       "      <th></th>\n",
       "      <th></th>\n",
       "      <th></th>\n",
       "      <th>index</th>\n",
       "      <th>variable</th>\n",
       "      <th>value</th>\n",
       "    </tr>\n",
       "    <tr>\n",
       "      <th>p_mode</th>\n",
       "      <th>peer_eff</th>\n",
       "      <th>iteration</th>\n",
       "      <th></th>\n",
       "      <th></th>\n",
       "      <th></th>\n",
       "    </tr>\n",
       "  </thead>\n",
       "  <tbody>\n",
       "    <tr>\n",
       "      <th rowspan=\"5\" valign=\"top\">0.65</th>\n",
       "      <th rowspan=\"5\" valign=\"top\">0.35</th>\n",
       "      <th>152</th>\n",
       "      <td>2000</td>\n",
       "      <td>Electric furnace</td>\n",
       "      <td>0.950000</td>\n",
       "    </tr>\n",
       "    <tr>\n",
       "      <th>152</th>\n",
       "      <td>2001</td>\n",
       "      <td>Electric furnace</td>\n",
       "      <td>0.950000</td>\n",
       "    </tr>\n",
       "    <tr>\n",
       "      <th>152</th>\n",
       "      <td>2002</td>\n",
       "      <td>Electric furnace</td>\n",
       "      <td>0.950000</td>\n",
       "    </tr>\n",
       "    <tr>\n",
       "      <th>152</th>\n",
       "      <td>2003</td>\n",
       "      <td>Electric furnace</td>\n",
       "      <td>0.950000</td>\n",
       "    </tr>\n",
       "    <tr>\n",
       "      <th>152</th>\n",
       "      <td>2004</td>\n",
       "      <td>Electric furnace</td>\n",
       "      <td>0.950000</td>\n",
       "    </tr>\n",
       "    <tr>\n",
       "      <th>...</th>\n",
       "      <th>...</th>\n",
       "      <th>...</th>\n",
       "      <td>...</td>\n",
       "      <td>...</td>\n",
       "      <td>...</td>\n",
       "    </tr>\n",
       "    <tr>\n",
       "      <th rowspan=\"5\" valign=\"top\">0.70</th>\n",
       "      <th rowspan=\"5\" valign=\"top\">0.25</th>\n",
       "      <th>52</th>\n",
       "      <td>2016</td>\n",
       "      <td>Wood or wood pellets furnace</td>\n",
       "      <td>0.553784</td>\n",
       "    </tr>\n",
       "    <tr>\n",
       "      <th>52</th>\n",
       "      <td>2017</td>\n",
       "      <td>Wood or wood pellets furnace</td>\n",
       "      <td>0.950000</td>\n",
       "    </tr>\n",
       "    <tr>\n",
       "      <th>52</th>\n",
       "      <td>2018</td>\n",
       "      <td>Wood or wood pellets furnace</td>\n",
       "      <td>0.795716</td>\n",
       "    </tr>\n",
       "    <tr>\n",
       "      <th>52</th>\n",
       "      <td>2019</td>\n",
       "      <td>Wood or wood pellets furnace</td>\n",
       "      <td>0.502344</td>\n",
       "    </tr>\n",
       "    <tr>\n",
       "      <th>52</th>\n",
       "      <td>2020</td>\n",
       "      <td>Wood or wood pellets furnace</td>\n",
       "      <td>0.701604</td>\n",
       "    </tr>\n",
       "  </tbody>\n",
       "</table>\n",
       "<p>525 rows × 3 columns</p>\n",
       "</div>"
      ],
      "text/plain": [
       "                           index                      variable     value\n",
       "p_mode peer_eff iteration                                               \n",
       "0.65   0.35     152         2000              Electric furnace  0.950000\n",
       "                152         2001              Electric furnace  0.950000\n",
       "                152         2002              Electric furnace  0.950000\n",
       "                152         2003              Electric furnace  0.950000\n",
       "                152         2004              Electric furnace  0.950000\n",
       "...                          ...                           ...       ...\n",
       "0.70   0.25     52          2016  Wood or wood pellets furnace  0.553784\n",
       "                52          2017  Wood or wood pellets furnace  0.950000\n",
       "                52          2018  Wood or wood pellets furnace  0.795716\n",
       "                52          2019  Wood or wood pellets furnace  0.502344\n",
       "                52          2020  Wood or wood pellets furnace  0.701604\n",
       "\n",
       "[525 rows x 3 columns]"
      ]
     },
     "execution_count": 67,
     "metadata": {},
     "output_type": "execute_result"
    }
   ],
   "source": [
    "x_df.reset_index().set_index([\"p_mode\",\"peer_eff\",\"iteration\"]).loc[top_5.index,:]"
   ]
  },
  {
   "cell_type": "code",
   "execution_count": 68,
   "metadata": {},
   "outputs": [
    {
     "data": {
      "application/vnd.plotly.v1+json": {
       "config": {
        "plotlyServerURL": "https://plot.ly"
       },
       "data": [
        {
         "hovertemplate": "variable=Electric furnace<br>peer_eff=0.35<br>p_mode=0.65<br>index=%{x}<br>value=%{y}<extra></extra>",
         "legendgroup": "Electric furnace",
         "line": {
          "color": "#636efa",
          "dash": "solid"
         },
         "marker": {
          "symbol": "circle"
         },
         "mode": "lines",
         "name": "Electric furnace",
         "opacity": 0.2,
         "orientation": "v",
         "showlegend": true,
         "type": "scatter",
         "x": [
          2000,
          2001,
          2002,
          2003,
          2004,
          2005,
          2006,
          2007,
          2008,
          2009,
          2010,
          2011,
          2012,
          2013,
          2014,
          2015,
          2016,
          2017,
          2018,
          2019,
          2020
         ],
         "xaxis": "x7",
         "y": [
          0.95,
          0.95,
          0.95,
          0.95,
          0.95,
          0.95,
          0.95,
          0.95,
          0.95,
          0.95,
          0.95,
          0.8309209470958727,
          0.95,
          0.36943377774417324,
          0.3011474249638933,
          0.95,
          0.95,
          0.05,
          0.2586355015142829,
          0.95,
          0.43725142617941604
         ],
         "yaxis": "y7"
        },
        {
         "hovertemplate": "variable=Electric furnace<br>peer_eff=0.3<br>p_mode=0.7<br>index=%{x}<br>value=%{y}<extra></extra>",
         "legendgroup": "Electric furnace",
         "line": {
          "color": "#636efa",
          "dash": "solid"
         },
         "marker": {
          "symbol": "circle"
         },
         "mode": "lines",
         "name": "Electric furnace",
         "opacity": 0.2,
         "orientation": "v",
         "showlegend": false,
         "type": "scatter",
         "x": [
          2000,
          2001,
          2002,
          2003,
          2004,
          2005,
          2006,
          2007,
          2008,
          2009,
          2010,
          2011,
          2012,
          2013,
          2014,
          2015,
          2016,
          2017,
          2018,
          2019,
          2020
         ],
         "xaxis": "x5",
         "y": [
          0.2665267811526303,
          0.8979617388461517,
          0.95,
          0.8887388385317292,
          0.8085199672405756,
          0.8368885964776887,
          0.8309927137860093,
          0.9472092878707444,
          0.95,
          0.5470805593248249,
          0.7741043227566126,
          0.9155553684727795,
          0.5821033050367278,
          0.20330122244141213,
          0.053144112459773685,
          0.95,
          0.6817234307832403,
          0.060692601667236376,
          0.1293294166541781,
          0.8562022667704589,
          0.2672157464226092
         ],
         "yaxis": "y5"
        },
        {
         "hovertemplate": "variable=Electric furnace<br>peer_eff=0.3<br>p_mode=0.8<br>index=%{x}<br>value=%{y}<extra></extra>",
         "legendgroup": "Electric furnace",
         "line": {
          "color": "#636efa",
          "dash": "solid"
         },
         "marker": {
          "symbol": "circle"
         },
         "mode": "lines",
         "name": "Electric furnace",
         "opacity": 0.2,
         "orientation": "v",
         "showlegend": false,
         "type": "scatter",
         "x": [
          2000,
          2001,
          2002,
          2003,
          2004,
          2005,
          2006,
          2007,
          2008,
          2009,
          2010,
          2011,
          2012,
          2013,
          2014,
          2015,
          2016,
          2017,
          2018,
          2019,
          2020
         ],
         "xaxis": "x6",
         "y": [
          0.95,
          0.95,
          0.95,
          0.95,
          0.95,
          0.95,
          0.95,
          0.95,
          0.95,
          0.95,
          0.6478685335856952,
          0.95,
          0.95,
          0.95,
          0.95,
          0.7210057980402802,
          0.95,
          0.95,
          0.95,
          0.3217440961542933,
          0.95
         ],
         "yaxis": "y6"
        },
        {
         "hovertemplate": "variable=Electric furnace<br>peer_eff=0.25<br>p_mode=0.7<br>index=%{x}<br>value=%{y}<extra></extra>",
         "legendgroup": "Electric furnace",
         "line": {
          "color": "#636efa",
          "dash": "solid"
         },
         "marker": {
          "symbol": "circle"
         },
         "mode": "lines",
         "name": "Electric furnace",
         "opacity": 0.2,
         "orientation": "v",
         "showlegend": false,
         "type": "scatter",
         "x": [
          2000,
          2001,
          2002,
          2003,
          2004,
          2005,
          2006,
          2007,
          2008,
          2009,
          2010,
          2011,
          2012,
          2013,
          2014,
          2015,
          2016,
          2017,
          2018,
          2019,
          2020
         ],
         "xaxis": "x2",
         "y": [
          0.5852390324897421,
          0.8952241711709872,
          0.5165285464197418,
          0.728534188434239,
          0.7725490100156797,
          0.9327280474364287,
          0.20501768798445513,
          0.6967717358769654,
          0.35458237444281987,
          0.95,
          0.8515788775332994,
          0.6983835755857444,
          0.7194805410314883,
          0.6944150641015359,
          0.676420865151943,
          0.5576024954684784,
          0.8457545005854763,
          0.8974504807454613,
          0.14725065337224094,
          0.95,
          0.6148324028739807
         ],
         "yaxis": "y2"
        },
        {
         "hovertemplate": "variable=Electric furnace<br>peer_eff=0.25<br>p_mode=0.8<br>index=%{x}<br>value=%{y}<extra></extra>",
         "legendgroup": "Electric furnace",
         "line": {
          "color": "#636efa",
          "dash": "solid"
         },
         "marker": {
          "symbol": "circle"
         },
         "mode": "lines",
         "name": "Electric furnace",
         "opacity": 0.2,
         "orientation": "v",
         "showlegend": false,
         "type": "scatter",
         "x": [
          2000,
          2001,
          2002,
          2003,
          2004,
          2005,
          2006,
          2007,
          2008,
          2009,
          2010,
          2011,
          2012,
          2013,
          2014,
          2015,
          2016,
          2017,
          2018,
          2019,
          2020
         ],
         "xaxis": "x3",
         "y": [
          0.95,
          0.95,
          0.6063296499226213,
          0.19489527339766327,
          0.95,
          0.8299468031863116,
          0.95,
          0.95,
          0.95,
          0.95,
          0.95,
          0.8789794621951467,
          0.1583537196691076,
          0.18129721228841034,
          0.8051298911206898,
          0.95,
          0.8604289969969826,
          0.95,
          0.3650459327685938,
          0.95,
          0.08237060625127027
         ],
         "yaxis": "y3"
        },
        {
         "hovertemplate": "variable=Gas furnace<br>peer_eff=0.35<br>p_mode=0.65<br>index=%{x}<br>value=%{y}<extra></extra>",
         "legendgroup": "Gas furnace",
         "line": {
          "color": "#EF553B",
          "dash": "solid"
         },
         "marker": {
          "symbol": "circle"
         },
         "mode": "lines",
         "name": "Gas furnace",
         "opacity": 0.2,
         "orientation": "v",
         "showlegend": true,
         "type": "scatter",
         "x": [
          2000,
          2001,
          2002,
          2003,
          2004,
          2005,
          2006,
          2007,
          2008,
          2009,
          2010,
          2011,
          2012,
          2013,
          2014,
          2015,
          2016,
          2017,
          2018,
          2019,
          2020
         ],
         "xaxis": "x7",
         "y": [
          0.05,
          0.05,
          0.05,
          0.05,
          0.05,
          0.05,
          0.05,
          0.05,
          0.05,
          0.7697923109397906,
          0.05,
          0.05,
          0.05,
          0.05,
          0.2893411077188024,
          0.06317621292872988,
          0.5876062710209367,
          0.05,
          0.5933477924424185,
          0.9234351536155171,
          0.95
         ],
         "yaxis": "y7"
        },
        {
         "hovertemplate": "variable=Gas furnace<br>peer_eff=0.3<br>p_mode=0.7<br>index=%{x}<br>value=%{y}<extra></extra>",
         "legendgroup": "Gas furnace",
         "line": {
          "color": "#EF553B",
          "dash": "solid"
         },
         "marker": {
          "symbol": "circle"
         },
         "mode": "lines",
         "name": "Gas furnace",
         "opacity": 0.2,
         "orientation": "v",
         "showlegend": false,
         "type": "scatter",
         "x": [
          2000,
          2001,
          2002,
          2003,
          2004,
          2005,
          2006,
          2007,
          2008,
          2009,
          2010,
          2011,
          2012,
          2013,
          2014,
          2015,
          2016,
          2017,
          2018,
          2019,
          2020
         ],
         "xaxis": "x5",
         "y": [
          0.05,
          0.16174036331986819,
          0.05,
          0.06976396129510021,
          0.15408471726501693,
          0.05,
          0.32312635005572604,
          0.05895273687795968,
          0.3312074609193647,
          0.05,
          0.1255593735956762,
          0.17604849661574634,
          0.05,
          0.05,
          0.2170397651738621,
          0.17406421305669434,
          0.1931875151153734,
          0.95,
          0.6763489396689523,
          0.2340665851374638,
          0.7364947221160715
         ],
         "yaxis": "y5"
        },
        {
         "hovertemplate": "variable=Gas furnace<br>peer_eff=0.3<br>p_mode=0.8<br>index=%{x}<br>value=%{y}<extra></extra>",
         "legendgroup": "Gas furnace",
         "line": {
          "color": "#EF553B",
          "dash": "solid"
         },
         "marker": {
          "symbol": "circle"
         },
         "mode": "lines",
         "name": "Gas furnace",
         "opacity": 0.2,
         "orientation": "v",
         "showlegend": false,
         "type": "scatter",
         "x": [
          2000,
          2001,
          2002,
          2003,
          2004,
          2005,
          2006,
          2007,
          2008,
          2009,
          2010,
          2011,
          2012,
          2013,
          2014,
          2015,
          2016,
          2017,
          2018,
          2019,
          2020
         ],
         "xaxis": "x6",
         "y": [
          0.05,
          0.05,
          0.05,
          0.05,
          0.05,
          0.05,
          0.05,
          0.05,
          0.05,
          0.05,
          0.05,
          0.05,
          0.2098131727945457,
          0.05,
          0.05,
          0.056572994912961985,
          0.808979670897672,
          0.05990728341270669,
          0.05,
          0.7793513275634225,
          0.05
         ],
         "yaxis": "y6"
        },
        {
         "hovertemplate": "variable=Gas furnace<br>peer_eff=0.25<br>p_mode=0.7<br>index=%{x}<br>value=%{y}<extra></extra>",
         "legendgroup": "Gas furnace",
         "line": {
          "color": "#EF553B",
          "dash": "solid"
         },
         "marker": {
          "symbol": "circle"
         },
         "mode": "lines",
         "name": "Gas furnace",
         "opacity": 0.2,
         "orientation": "v",
         "showlegend": false,
         "type": "scatter",
         "x": [
          2000,
          2001,
          2002,
          2003,
          2004,
          2005,
          2006,
          2007,
          2008,
          2009,
          2010,
          2011,
          2012,
          2013,
          2014,
          2015,
          2016,
          2017,
          2018,
          2019,
          2020
         ],
         "xaxis": "x2",
         "y": [
          0.05,
          0.1503256977788131,
          0.894672308370734,
          0.1187881875471107,
          0.3640933824449795,
          0.16505681311187945,
          0.7958025466317681,
          0.05,
          0.3239947677064974,
          0.3768204265363194,
          0.362005232191543,
          0.8565396877060859,
          0.2606631347640336,
          0.05,
          0.4973969263124237,
          0.16739619919905213,
          0.39934373820228886,
          0.6667965727437882,
          0.24741268022947766,
          0.5286553675716891,
          0.703176992876
         ],
         "yaxis": "y2"
        },
        {
         "hovertemplate": "variable=Gas furnace<br>peer_eff=0.25<br>p_mode=0.8<br>index=%{x}<br>value=%{y}<extra></extra>",
         "legendgroup": "Gas furnace",
         "line": {
          "color": "#EF553B",
          "dash": "solid"
         },
         "marker": {
          "symbol": "circle"
         },
         "mode": "lines",
         "name": "Gas furnace",
         "opacity": 0.2,
         "orientation": "v",
         "showlegend": false,
         "type": "scatter",
         "x": [
          2000,
          2001,
          2002,
          2003,
          2004,
          2005,
          2006,
          2007,
          2008,
          2009,
          2010,
          2011,
          2012,
          2013,
          2014,
          2015,
          2016,
          2017,
          2018,
          2019,
          2020
         ],
         "xaxis": "x3",
         "y": [
          0.155511166235059,
          0.14954977145345053,
          0.05,
          0.18127922269638608,
          0.23429912404031294,
          0.05,
          0.9144447118486076,
          0.05,
          0.05,
          0.249619267950077,
          0.792273972384269,
          0.05,
          0.5959471872815326,
          0.05,
          0.445991960781905,
          0.05,
          0.05,
          0.763994739422676,
          0.5687751399395026,
          0.7091269697188984,
          0.47276514937942
         ],
         "yaxis": "y3"
        },
        {
         "hovertemplate": "variable=Heat pump<br>peer_eff=0.35<br>p_mode=0.65<br>index=%{x}<br>value=%{y}<extra></extra>",
         "legendgroup": "Heat pump",
         "line": {
          "color": "#00cc96",
          "dash": "solid"
         },
         "marker": {
          "symbol": "circle"
         },
         "mode": "lines",
         "name": "Heat pump",
         "opacity": 0.2,
         "orientation": "v",
         "showlegend": true,
         "type": "scatter",
         "x": [
          2000,
          2001,
          2002,
          2003,
          2004,
          2005,
          2006,
          2007,
          2008,
          2009,
          2010,
          2011,
          2012,
          2013,
          2014,
          2015,
          2016,
          2017,
          2018,
          2019,
          2020
         ],
         "xaxis": "x7",
         "y": [
          0.95,
          0.6096994884472808,
          0.95,
          0.95,
          0.95,
          0.95,
          0.95,
          0.5470965612976205,
          0.30032720035260885,
          0.6561155099194816,
          0.95,
          0.95,
          0.2782229206398413,
          0.3735971716711533,
          0.5492121873473611,
          0.05,
          0.687508776278576,
          0.95,
          0.6665820484315419,
          0.8367040862198158,
          0.333530276805384
         ],
         "yaxis": "y7"
        },
        {
         "hovertemplate": "variable=Heat pump<br>peer_eff=0.3<br>p_mode=0.7<br>index=%{x}<br>value=%{y}<extra></extra>",
         "legendgroup": "Heat pump",
         "line": {
          "color": "#00cc96",
          "dash": "solid"
         },
         "marker": {
          "symbol": "circle"
         },
         "mode": "lines",
         "name": "Heat pump",
         "opacity": 0.2,
         "orientation": "v",
         "showlegend": false,
         "type": "scatter",
         "x": [
          2000,
          2001,
          2002,
          2003,
          2004,
          2005,
          2006,
          2007,
          2008,
          2009,
          2010,
          2011,
          2012,
          2013,
          2014,
          2015,
          2016,
          2017,
          2018,
          2019,
          2020
         ],
         "xaxis": "x5",
         "y": [
          0.7554172992415258,
          0.20300695614671505,
          0.7758251877233557,
          0.95,
          0.735613940885973,
          0.8458073683068581,
          0.14631696575325864,
          0.09976879745856602,
          0.43584362449838804,
          0.13774639024244661,
          0.6036946779985743,
          0.41280834893813695,
          0.7271941015844209,
          0.7845634203119063,
          0.7680984461805924,
          0.5734746973447871,
          0.9041054004277536,
          0.05,
          0.8824521159348825,
          0.5771078858061347,
          0.3466995834447855
         ],
         "yaxis": "y5"
        },
        {
         "hovertemplate": "variable=Heat pump<br>peer_eff=0.3<br>p_mode=0.8<br>index=%{x}<br>value=%{y}<extra></extra>",
         "legendgroup": "Heat pump",
         "line": {
          "color": "#00cc96",
          "dash": "solid"
         },
         "marker": {
          "symbol": "circle"
         },
         "mode": "lines",
         "name": "Heat pump",
         "opacity": 0.2,
         "orientation": "v",
         "showlegend": false,
         "type": "scatter",
         "x": [
          2000,
          2001,
          2002,
          2003,
          2004,
          2005,
          2006,
          2007,
          2008,
          2009,
          2010,
          2011,
          2012,
          2013,
          2014,
          2015,
          2016,
          2017,
          2018,
          2019,
          2020
         ],
         "xaxis": "x6",
         "y": [
          0.95,
          0.95,
          0.95,
          0.35082077142447354,
          0.4302604317656216,
          0.95,
          0.24143437353787273,
          0.7033458062182268,
          0.95,
          0.95,
          0.95,
          0.95,
          0.05,
          0.05,
          0.6671471103054342,
          0.9034172158201612,
          0.95,
          0.3193487898002636,
          0.95,
          0.6905660293220132,
          0.05
         ],
         "yaxis": "y6"
        },
        {
         "hovertemplate": "variable=Heat pump<br>peer_eff=0.25<br>p_mode=0.7<br>index=%{x}<br>value=%{y}<extra></extra>",
         "legendgroup": "Heat pump",
         "line": {
          "color": "#00cc96",
          "dash": "solid"
         },
         "marker": {
          "symbol": "circle"
         },
         "mode": "lines",
         "name": "Heat pump",
         "opacity": 0.2,
         "orientation": "v",
         "showlegend": false,
         "type": "scatter",
         "x": [
          2000,
          2001,
          2002,
          2003,
          2004,
          2005,
          2006,
          2007,
          2008,
          2009,
          2010,
          2011,
          2012,
          2013,
          2014,
          2015,
          2016,
          2017,
          2018,
          2019,
          2020
         ],
         "xaxis": "x2",
         "y": [
          0.5880265802275374,
          0.25324124391650177,
          0.24274017698305356,
          0.05,
          0.5143057209379694,
          0.21272687057073458,
          0.8172424242164757,
          0.4988496221576742,
          0.14920279636866754,
          0.5724380323891843,
          0.48342177715978796,
          0.48693942890860703,
          0.5147138851445404,
          0.8857645779364252,
          0.6612910569955872,
          0.3422605523003166,
          0.31106797346315007,
          0.48737288689826924,
          0.9299807585904855,
          0.95,
          0.2789731679196858
         ],
         "yaxis": "y2"
        },
        {
         "hovertemplate": "variable=Heat pump<br>peer_eff=0.25<br>p_mode=0.8<br>index=%{x}<br>value=%{y}<extra></extra>",
         "legendgroup": "Heat pump",
         "line": {
          "color": "#00cc96",
          "dash": "solid"
         },
         "marker": {
          "symbol": "circle"
         },
         "mode": "lines",
         "name": "Heat pump",
         "opacity": 0.2,
         "orientation": "v",
         "showlegend": false,
         "type": "scatter",
         "x": [
          2000,
          2001,
          2002,
          2003,
          2004,
          2005,
          2006,
          2007,
          2008,
          2009,
          2010,
          2011,
          2012,
          2013,
          2014,
          2015,
          2016,
          2017,
          2018,
          2019,
          2020
         ],
         "xaxis": "x3",
         "y": [
          0.5458271945960226,
          0.3180672956887385,
          0.9148881276314945,
          0.3550972671650954,
          0.32788456530501775,
          0.8879808128392155,
          0.5508815607321365,
          0.2019485850303438,
          0.1792893448813141,
          0.45745844609167186,
          0.7841594536294628,
          0.8297341244340346,
          0.05,
          0.5897458483792324,
          0.6497513986209092,
          0.49994070852203193,
          0.5661578601128314,
          0.7783668304961054,
          0.904545540991161,
          0.8420205219629125,
          0.14457238988039603
         ],
         "yaxis": "y3"
        },
        {
         "hovertemplate": "variable=Oil furnace<br>peer_eff=0.35<br>p_mode=0.65<br>index=%{x}<br>value=%{y}<extra></extra>",
         "legendgroup": "Oil furnace",
         "line": {
          "color": "#ab63fa",
          "dash": "solid"
         },
         "marker": {
          "symbol": "circle"
         },
         "mode": "lines",
         "name": "Oil furnace",
         "opacity": 0.2,
         "orientation": "v",
         "showlegend": true,
         "type": "scatter",
         "x": [
          2000,
          2001,
          2002,
          2003,
          2004,
          2005,
          2006,
          2007,
          2008,
          2009,
          2010,
          2011,
          2012,
          2013,
          2014,
          2015,
          2016,
          2017,
          2018,
          2019,
          2020
         ],
         "xaxis": "x7",
         "y": [
          0.05,
          0.05,
          0.05,
          0.95,
          0.05,
          0.05,
          0.3570666420767989,
          0.95,
          0.05,
          0.07921008808778474,
          0.05,
          0.6489116963091087,
          0.05,
          0.371495716332677,
          0.8389002599608971,
          0.05,
          0.8511295518550136,
          0.95,
          0.95,
          0.95,
          0.09579699387180707
         ],
         "yaxis": "y7"
        },
        {
         "hovertemplate": "variable=Oil furnace<br>peer_eff=0.3<br>p_mode=0.7<br>index=%{x}<br>value=%{y}<extra></extra>",
         "legendgroup": "Oil furnace",
         "line": {
          "color": "#ab63fa",
          "dash": "solid"
         },
         "marker": {
          "symbol": "circle"
         },
         "mode": "lines",
         "name": "Oil furnace",
         "opacity": 0.2,
         "orientation": "v",
         "showlegend": false,
         "type": "scatter",
         "x": [
          2000,
          2001,
          2002,
          2003,
          2004,
          2005,
          2006,
          2007,
          2008,
          2009,
          2010,
          2011,
          2012,
          2013,
          2014,
          2015,
          2016,
          2017,
          2018,
          2019,
          2020
         ],
         "xaxis": "x5",
         "y": [
          0.8317535811416288,
          0.9290410288597181,
          0.708383656519365,
          0.28893919135647744,
          0.887299234012608,
          0.20378210127785268,
          0.3077955003435513,
          0.06579146693711195,
          0.9365515827650159,
          0.7372638743928163,
          0.7505139447026438,
          0.9143090299101169,
          0.13688226400648212,
          0.6221503501045379,
          0.7307795780186269,
          0.07946742416405257,
          0.5946457176622104,
          0.7037765722780881,
          0.21320727210403173,
          0.5229374346307117,
          0.05100006011152782
         ],
         "yaxis": "y5"
        },
        {
         "hovertemplate": "variable=Oil furnace<br>peer_eff=0.3<br>p_mode=0.8<br>index=%{x}<br>value=%{y}<extra></extra>",
         "legendgroup": "Oil furnace",
         "line": {
          "color": "#ab63fa",
          "dash": "solid"
         },
         "marker": {
          "symbol": "circle"
         },
         "mode": "lines",
         "name": "Oil furnace",
         "opacity": 0.2,
         "orientation": "v",
         "showlegend": false,
         "type": "scatter",
         "x": [
          2000,
          2001,
          2002,
          2003,
          2004,
          2005,
          2006,
          2007,
          2008,
          2009,
          2010,
          2011,
          2012,
          2013,
          2014,
          2015,
          2016,
          2017,
          2018,
          2019,
          2020
         ],
         "xaxis": "x6",
         "y": [
          0.95,
          0.8054098534002432,
          0.18733005071541764,
          0.05,
          0.25897346421686457,
          0.95,
          0.95,
          0.95,
          0.37176196630853026,
          0.95,
          0.6592830207516118,
          0.3395717209128757,
          0.95,
          0.8933111634604586,
          0.7330383896545709,
          0.9034696184856119,
          0.05,
          0.95,
          0.3599740385408298,
          0.05,
          0.95
         ],
         "yaxis": "y6"
        },
        {
         "hovertemplate": "variable=Oil furnace<br>peer_eff=0.25<br>p_mode=0.7<br>index=%{x}<br>value=%{y}<extra></extra>",
         "legendgroup": "Oil furnace",
         "line": {
          "color": "#ab63fa",
          "dash": "solid"
         },
         "marker": {
          "symbol": "circle"
         },
         "mode": "lines",
         "name": "Oil furnace",
         "opacity": 0.2,
         "orientation": "v",
         "showlegend": false,
         "type": "scatter",
         "x": [
          2000,
          2001,
          2002,
          2003,
          2004,
          2005,
          2006,
          2007,
          2008,
          2009,
          2010,
          2011,
          2012,
          2013,
          2014,
          2015,
          2016,
          2017,
          2018,
          2019,
          2020
         ],
         "xaxis": "x2",
         "y": [
          0.4714379634820573,
          0.7392464822635352,
          0.7608150130017294,
          0.6354874704618574,
          0.8546667728021683,
          0.507624011709104,
          0.9379351086473405,
          0.17886885407520492,
          0.95,
          0.05,
          0.671202282277798,
          0.05,
          0.10275829612959163,
          0.5796785213519,
          0.6178031962226997,
          0.19783753836382134,
          0.6455575499700572,
          0.9010361017448351,
          0.45126940723223996,
          0.44620412005678195,
          0.5106045960097606
         ],
         "yaxis": "y2"
        },
        {
         "hovertemplate": "variable=Oil furnace<br>peer_eff=0.25<br>p_mode=0.8<br>index=%{x}<br>value=%{y}<extra></extra>",
         "legendgroup": "Oil furnace",
         "line": {
          "color": "#ab63fa",
          "dash": "solid"
         },
         "marker": {
          "symbol": "circle"
         },
         "mode": "lines",
         "name": "Oil furnace",
         "opacity": 0.2,
         "orientation": "v",
         "showlegend": false,
         "type": "scatter",
         "x": [
          2000,
          2001,
          2002,
          2003,
          2004,
          2005,
          2006,
          2007,
          2008,
          2009,
          2010,
          2011,
          2012,
          2013,
          2014,
          2015,
          2016,
          2017,
          2018,
          2019,
          2020
         ],
         "xaxis": "x3",
         "y": [
          0.7628986392747834,
          0.14755117286174815,
          0.8915006893232467,
          0.5731469065641787,
          0.6215825097671728,
          0.8779436840182572,
          0.05,
          0.6070290553363069,
          0.8832309661154074,
          0.24813173707449188,
          0.95,
          0.852330519308619,
          0.8997412583500604,
          0.567959393590901,
          0.95,
          0.05,
          0.05,
          0.4420607187113267,
          0.24085216744125038,
          0.8842199664435176,
          0.05
         ],
         "yaxis": "y3"
        },
        {
         "hovertemplate": "variable=Wood or wood pellets furnace<br>peer_eff=0.35<br>p_mode=0.65<br>index=%{x}<br>value=%{y}<extra></extra>",
         "legendgroup": "Wood or wood pellets furnace",
         "line": {
          "color": "#FFA15A",
          "dash": "solid"
         },
         "marker": {
          "symbol": "circle"
         },
         "mode": "lines",
         "name": "Wood or wood pellets furnace",
         "opacity": 0.2,
         "orientation": "v",
         "showlegend": true,
         "type": "scatter",
         "x": [
          2000,
          2001,
          2002,
          2003,
          2004,
          2005,
          2006,
          2007,
          2008,
          2009,
          2010,
          2011,
          2012,
          2013,
          2014,
          2015,
          2016,
          2017,
          2018,
          2019,
          2020
         ],
         "xaxis": "x7",
         "y": [
          0.5434859115786682,
          0.752692196009029,
          0.05,
          0.95,
          0.95,
          0.05,
          0.2685129606275874,
          0.5389510954608504,
          0.09081708147044101,
          0.05,
          0.05,
          0.27978093830782436,
          0.5994273138987164,
          0.7144939768741915,
          0.95,
          0.12907795470914663,
          0.19315967307688864,
          0.95,
          0.6208291506126328,
          0.95,
          0.6631445201356828
         ],
         "yaxis": "y7"
        },
        {
         "hovertemplate": "variable=Wood or wood pellets furnace<br>peer_eff=0.3<br>p_mode=0.7<br>index=%{x}<br>value=%{y}<extra></extra>",
         "legendgroup": "Wood or wood pellets furnace",
         "line": {
          "color": "#FFA15A",
          "dash": "solid"
         },
         "marker": {
          "symbol": "circle"
         },
         "mode": "lines",
         "name": "Wood or wood pellets furnace",
         "opacity": 0.2,
         "orientation": "v",
         "showlegend": false,
         "type": "scatter",
         "x": [
          2000,
          2001,
          2002,
          2003,
          2004,
          2005,
          2006,
          2007,
          2008,
          2009,
          2010,
          2011,
          2012,
          2013,
          2014,
          2015,
          2016,
          2017,
          2018,
          2019,
          2020
         ],
         "xaxis": "x5",
         "y": [
          0.8015118443691878,
          0.282434300445306,
          0.09149993799441333,
          0.6798354805173217,
          0.896282237421813,
          0.11205022154396127,
          0.7891647312487753,
          0.44224673499816625,
          0.9126560661304712,
          0.95,
          0.054137845974855284,
          0.6086567160205685,
          0.7895159607693496,
          0.861900557331859,
          0.7585569597520803,
          0.6235683903331323,
          0.8710531775460343,
          0.9120843545086735,
          0.09722150894519929,
          0.4879825772972617,
          0.3492027419752535
         ],
         "yaxis": "y5"
        },
        {
         "hovertemplate": "variable=Wood or wood pellets furnace<br>peer_eff=0.3<br>p_mode=0.8<br>index=%{x}<br>value=%{y}<extra></extra>",
         "legendgroup": "Wood or wood pellets furnace",
         "line": {
          "color": "#FFA15A",
          "dash": "solid"
         },
         "marker": {
          "symbol": "circle"
         },
         "mode": "lines",
         "name": "Wood or wood pellets furnace",
         "opacity": 0.2,
         "orientation": "v",
         "showlegend": false,
         "type": "scatter",
         "x": [
          2000,
          2001,
          2002,
          2003,
          2004,
          2005,
          2006,
          2007,
          2008,
          2009,
          2010,
          2011,
          2012,
          2013,
          2014,
          2015,
          2016,
          2017,
          2018,
          2019,
          2020
         ],
         "xaxis": "x6",
         "y": [
          0.95,
          0.31549054244710056,
          0.05,
          0.05,
          0.05,
          0.95,
          0.95,
          0.9247821825202003,
          0.5575172829147408,
          0.41506961134473097,
          0.95,
          0.05,
          0.3717877219629293,
          0.95,
          0.95,
          0.27409505479804414,
          0.95,
          0.29703086397158335,
          0.95,
          0.20180902960986685,
          0.5337690039327707
         ],
         "yaxis": "y6"
        },
        {
         "hovertemplate": "variable=Wood or wood pellets furnace<br>peer_eff=0.25<br>p_mode=0.7<br>index=%{x}<br>value=%{y}<extra></extra>",
         "legendgroup": "Wood or wood pellets furnace",
         "line": {
          "color": "#FFA15A",
          "dash": "solid"
         },
         "marker": {
          "symbol": "circle"
         },
         "mode": "lines",
         "name": "Wood or wood pellets furnace",
         "opacity": 0.2,
         "orientation": "v",
         "showlegend": false,
         "type": "scatter",
         "x": [
          2000,
          2001,
          2002,
          2003,
          2004,
          2005,
          2006,
          2007,
          2008,
          2009,
          2010,
          2011,
          2012,
          2013,
          2014,
          2015,
          2016,
          2017,
          2018,
          2019,
          2020
         ],
         "xaxis": "x2",
         "y": [
          0.05,
          0.5778909682935405,
          0.05,
          0.30506162931391306,
          0.8052107236776591,
          0.5161002732042602,
          0.39603743197532754,
          0.95,
          0.11144798448442927,
          0.3257805271052091,
          0.4946776071847737,
          0.2492862816083924,
          0.6903595933371998,
          0.208904136252352,
          0.4589331917144598,
          0.2830524518895396,
          0.5537835356167219,
          0.95,
          0.7957156904606386,
          0.5023442409771399,
          0.7016043295285728
         ],
         "yaxis": "y2"
        },
        {
         "hovertemplate": "variable=Wood or wood pellets furnace<br>peer_eff=0.25<br>p_mode=0.8<br>index=%{x}<br>value=%{y}<extra></extra>",
         "legendgroup": "Wood or wood pellets furnace",
         "line": {
          "color": "#FFA15A",
          "dash": "solid"
         },
         "marker": {
          "symbol": "circle"
         },
         "mode": "lines",
         "name": "Wood or wood pellets furnace",
         "opacity": 0.2,
         "orientation": "v",
         "showlegend": false,
         "type": "scatter",
         "x": [
          2000,
          2001,
          2002,
          2003,
          2004,
          2005,
          2006,
          2007,
          2008,
          2009,
          2010,
          2011,
          2012,
          2013,
          2014,
          2015,
          2016,
          2017,
          2018,
          2019,
          2020
         ],
         "xaxis": "x3",
         "y": [
          0.2819988659184911,
          0.05,
          0.95,
          0.05,
          0.05,
          0.2834852165182616,
          0.95,
          0.2546071297830386,
          0.4272375483461106,
          0.15370736023622894,
          0.22610354609821354,
          0.9439838542255586,
          0.4940937635721744,
          0.95,
          0.7632511757133008,
          0.45235115674838394,
          0.7144952845061783,
          0.6943810338830477,
          0.12719897221420268,
          0.14207827558310104,
          0.056953076752226404
         ],
         "yaxis": "y3"
        }
       ],
       "layout": {
        "annotations": [
         {
          "font": {},
          "showarrow": false,
          "text": "p_mode=0.65",
          "x": 0.15666666666666665,
          "xanchor": "center",
          "xref": "paper",
          "y": 0.9999999999999998,
          "yanchor": "bottom",
          "yref": "paper"
         },
         {
          "font": {},
          "showarrow": false,
          "text": "p_mode=0.7",
          "x": 0.49,
          "xanchor": "center",
          "xref": "paper",
          "y": 0.9999999999999998,
          "yanchor": "bottom",
          "yref": "paper"
         },
         {
          "font": {},
          "showarrow": false,
          "text": "p_mode=0.8",
          "x": 0.8233333333333333,
          "xanchor": "center",
          "xref": "paper",
          "y": 0.9999999999999998,
          "yanchor": "bottom",
          "yref": "paper"
         },
         {
          "font": {},
          "showarrow": false,
          "text": "peer_eff=0.25",
          "textangle": 90,
          "x": 0.98,
          "xanchor": "left",
          "xref": "paper",
          "y": 0.15666666666666665,
          "yanchor": "middle",
          "yref": "paper"
         },
         {
          "font": {},
          "showarrow": false,
          "text": "peer_eff=0.3",
          "textangle": 90,
          "x": 0.98,
          "xanchor": "left",
          "xref": "paper",
          "y": 0.4999999999999999,
          "yanchor": "middle",
          "yref": "paper"
         },
         {
          "font": {},
          "showarrow": false,
          "text": "peer_eff=0.35",
          "textangle": 90,
          "x": 0.98,
          "xanchor": "left",
          "xref": "paper",
          "y": 0.8433333333333332,
          "yanchor": "middle",
          "yref": "paper"
         }
        ],
        "height": 700,
        "legend": {
         "title": {
          "text": "variable"
         },
         "tracegroupgap": 0
        },
        "margin": {
         "t": 60
        },
        "template": {
         "data": {
          "bar": [
           {
            "error_x": {
             "color": "#2a3f5f"
            },
            "error_y": {
             "color": "#2a3f5f"
            },
            "marker": {
             "line": {
              "color": "#E5ECF6",
              "width": 0.5
             },
             "pattern": {
              "fillmode": "overlay",
              "size": 10,
              "solidity": 0.2
             }
            },
            "type": "bar"
           }
          ],
          "barpolar": [
           {
            "marker": {
             "line": {
              "color": "#E5ECF6",
              "width": 0.5
             },
             "pattern": {
              "fillmode": "overlay",
              "size": 10,
              "solidity": 0.2
             }
            },
            "type": "barpolar"
           }
          ],
          "carpet": [
           {
            "aaxis": {
             "endlinecolor": "#2a3f5f",
             "gridcolor": "white",
             "linecolor": "white",
             "minorgridcolor": "white",
             "startlinecolor": "#2a3f5f"
            },
            "baxis": {
             "endlinecolor": "#2a3f5f",
             "gridcolor": "white",
             "linecolor": "white",
             "minorgridcolor": "white",
             "startlinecolor": "#2a3f5f"
            },
            "type": "carpet"
           }
          ],
          "choropleth": [
           {
            "colorbar": {
             "outlinewidth": 0,
             "ticks": ""
            },
            "type": "choropleth"
           }
          ],
          "contour": [
           {
            "colorbar": {
             "outlinewidth": 0,
             "ticks": ""
            },
            "colorscale": [
             [
              0,
              "#0d0887"
             ],
             [
              0.1111111111111111,
              "#46039f"
             ],
             [
              0.2222222222222222,
              "#7201a8"
             ],
             [
              0.3333333333333333,
              "#9c179e"
             ],
             [
              0.4444444444444444,
              "#bd3786"
             ],
             [
              0.5555555555555556,
              "#d8576b"
             ],
             [
              0.6666666666666666,
              "#ed7953"
             ],
             [
              0.7777777777777778,
              "#fb9f3a"
             ],
             [
              0.8888888888888888,
              "#fdca26"
             ],
             [
              1,
              "#f0f921"
             ]
            ],
            "type": "contour"
           }
          ],
          "contourcarpet": [
           {
            "colorbar": {
             "outlinewidth": 0,
             "ticks": ""
            },
            "type": "contourcarpet"
           }
          ],
          "heatmap": [
           {
            "colorbar": {
             "outlinewidth": 0,
             "ticks": ""
            },
            "colorscale": [
             [
              0,
              "#0d0887"
             ],
             [
              0.1111111111111111,
              "#46039f"
             ],
             [
              0.2222222222222222,
              "#7201a8"
             ],
             [
              0.3333333333333333,
              "#9c179e"
             ],
             [
              0.4444444444444444,
              "#bd3786"
             ],
             [
              0.5555555555555556,
              "#d8576b"
             ],
             [
              0.6666666666666666,
              "#ed7953"
             ],
             [
              0.7777777777777778,
              "#fb9f3a"
             ],
             [
              0.8888888888888888,
              "#fdca26"
             ],
             [
              1,
              "#f0f921"
             ]
            ],
            "type": "heatmap"
           }
          ],
          "heatmapgl": [
           {
            "colorbar": {
             "outlinewidth": 0,
             "ticks": ""
            },
            "colorscale": [
             [
              0,
              "#0d0887"
             ],
             [
              0.1111111111111111,
              "#46039f"
             ],
             [
              0.2222222222222222,
              "#7201a8"
             ],
             [
              0.3333333333333333,
              "#9c179e"
             ],
             [
              0.4444444444444444,
              "#bd3786"
             ],
             [
              0.5555555555555556,
              "#d8576b"
             ],
             [
              0.6666666666666666,
              "#ed7953"
             ],
             [
              0.7777777777777778,
              "#fb9f3a"
             ],
             [
              0.8888888888888888,
              "#fdca26"
             ],
             [
              1,
              "#f0f921"
             ]
            ],
            "type": "heatmapgl"
           }
          ],
          "histogram": [
           {
            "marker": {
             "pattern": {
              "fillmode": "overlay",
              "size": 10,
              "solidity": 0.2
             }
            },
            "type": "histogram"
           }
          ],
          "histogram2d": [
           {
            "colorbar": {
             "outlinewidth": 0,
             "ticks": ""
            },
            "colorscale": [
             [
              0,
              "#0d0887"
             ],
             [
              0.1111111111111111,
              "#46039f"
             ],
             [
              0.2222222222222222,
              "#7201a8"
             ],
             [
              0.3333333333333333,
              "#9c179e"
             ],
             [
              0.4444444444444444,
              "#bd3786"
             ],
             [
              0.5555555555555556,
              "#d8576b"
             ],
             [
              0.6666666666666666,
              "#ed7953"
             ],
             [
              0.7777777777777778,
              "#fb9f3a"
             ],
             [
              0.8888888888888888,
              "#fdca26"
             ],
             [
              1,
              "#f0f921"
             ]
            ],
            "type": "histogram2d"
           }
          ],
          "histogram2dcontour": [
           {
            "colorbar": {
             "outlinewidth": 0,
             "ticks": ""
            },
            "colorscale": [
             [
              0,
              "#0d0887"
             ],
             [
              0.1111111111111111,
              "#46039f"
             ],
             [
              0.2222222222222222,
              "#7201a8"
             ],
             [
              0.3333333333333333,
              "#9c179e"
             ],
             [
              0.4444444444444444,
              "#bd3786"
             ],
             [
              0.5555555555555556,
              "#d8576b"
             ],
             [
              0.6666666666666666,
              "#ed7953"
             ],
             [
              0.7777777777777778,
              "#fb9f3a"
             ],
             [
              0.8888888888888888,
              "#fdca26"
             ],
             [
              1,
              "#f0f921"
             ]
            ],
            "type": "histogram2dcontour"
           }
          ],
          "mesh3d": [
           {
            "colorbar": {
             "outlinewidth": 0,
             "ticks": ""
            },
            "type": "mesh3d"
           }
          ],
          "parcoords": [
           {
            "line": {
             "colorbar": {
              "outlinewidth": 0,
              "ticks": ""
             }
            },
            "type": "parcoords"
           }
          ],
          "pie": [
           {
            "automargin": true,
            "type": "pie"
           }
          ],
          "scatter": [
           {
            "fillpattern": {
             "fillmode": "overlay",
             "size": 10,
             "solidity": 0.2
            },
            "type": "scatter"
           }
          ],
          "scatter3d": [
           {
            "line": {
             "colorbar": {
              "outlinewidth": 0,
              "ticks": ""
             }
            },
            "marker": {
             "colorbar": {
              "outlinewidth": 0,
              "ticks": ""
             }
            },
            "type": "scatter3d"
           }
          ],
          "scattercarpet": [
           {
            "marker": {
             "colorbar": {
              "outlinewidth": 0,
              "ticks": ""
             }
            },
            "type": "scattercarpet"
           }
          ],
          "scattergeo": [
           {
            "marker": {
             "colorbar": {
              "outlinewidth": 0,
              "ticks": ""
             }
            },
            "type": "scattergeo"
           }
          ],
          "scattergl": [
           {
            "marker": {
             "colorbar": {
              "outlinewidth": 0,
              "ticks": ""
             }
            },
            "type": "scattergl"
           }
          ],
          "scattermapbox": [
           {
            "marker": {
             "colorbar": {
              "outlinewidth": 0,
              "ticks": ""
             }
            },
            "type": "scattermapbox"
           }
          ],
          "scatterpolar": [
           {
            "marker": {
             "colorbar": {
              "outlinewidth": 0,
              "ticks": ""
             }
            },
            "type": "scatterpolar"
           }
          ],
          "scatterpolargl": [
           {
            "marker": {
             "colorbar": {
              "outlinewidth": 0,
              "ticks": ""
             }
            },
            "type": "scatterpolargl"
           }
          ],
          "scatterternary": [
           {
            "marker": {
             "colorbar": {
              "outlinewidth": 0,
              "ticks": ""
             }
            },
            "type": "scatterternary"
           }
          ],
          "surface": [
           {
            "colorbar": {
             "outlinewidth": 0,
             "ticks": ""
            },
            "colorscale": [
             [
              0,
              "#0d0887"
             ],
             [
              0.1111111111111111,
              "#46039f"
             ],
             [
              0.2222222222222222,
              "#7201a8"
             ],
             [
              0.3333333333333333,
              "#9c179e"
             ],
             [
              0.4444444444444444,
              "#bd3786"
             ],
             [
              0.5555555555555556,
              "#d8576b"
             ],
             [
              0.6666666666666666,
              "#ed7953"
             ],
             [
              0.7777777777777778,
              "#fb9f3a"
             ],
             [
              0.8888888888888888,
              "#fdca26"
             ],
             [
              1,
              "#f0f921"
             ]
            ],
            "type": "surface"
           }
          ],
          "table": [
           {
            "cells": {
             "fill": {
              "color": "#EBF0F8"
             },
             "line": {
              "color": "white"
             }
            },
            "header": {
             "fill": {
              "color": "#C8D4E3"
             },
             "line": {
              "color": "white"
             }
            },
            "type": "table"
           }
          ]
         },
         "layout": {
          "annotationdefaults": {
           "arrowcolor": "#2a3f5f",
           "arrowhead": 0,
           "arrowwidth": 1
          },
          "autotypenumbers": "strict",
          "coloraxis": {
           "colorbar": {
            "outlinewidth": 0,
            "ticks": ""
           }
          },
          "colorscale": {
           "diverging": [
            [
             0,
             "#8e0152"
            ],
            [
             0.1,
             "#c51b7d"
            ],
            [
             0.2,
             "#de77ae"
            ],
            [
             0.3,
             "#f1b6da"
            ],
            [
             0.4,
             "#fde0ef"
            ],
            [
             0.5,
             "#f7f7f7"
            ],
            [
             0.6,
             "#e6f5d0"
            ],
            [
             0.7,
             "#b8e186"
            ],
            [
             0.8,
             "#7fbc41"
            ],
            [
             0.9,
             "#4d9221"
            ],
            [
             1,
             "#276419"
            ]
           ],
           "sequential": [
            [
             0,
             "#0d0887"
            ],
            [
             0.1111111111111111,
             "#46039f"
            ],
            [
             0.2222222222222222,
             "#7201a8"
            ],
            [
             0.3333333333333333,
             "#9c179e"
            ],
            [
             0.4444444444444444,
             "#bd3786"
            ],
            [
             0.5555555555555556,
             "#d8576b"
            ],
            [
             0.6666666666666666,
             "#ed7953"
            ],
            [
             0.7777777777777778,
             "#fb9f3a"
            ],
            [
             0.8888888888888888,
             "#fdca26"
            ],
            [
             1,
             "#f0f921"
            ]
           ],
           "sequentialminus": [
            [
             0,
             "#0d0887"
            ],
            [
             0.1111111111111111,
             "#46039f"
            ],
            [
             0.2222222222222222,
             "#7201a8"
            ],
            [
             0.3333333333333333,
             "#9c179e"
            ],
            [
             0.4444444444444444,
             "#bd3786"
            ],
            [
             0.5555555555555556,
             "#d8576b"
            ],
            [
             0.6666666666666666,
             "#ed7953"
            ],
            [
             0.7777777777777778,
             "#fb9f3a"
            ],
            [
             0.8888888888888888,
             "#fdca26"
            ],
            [
             1,
             "#f0f921"
            ]
           ]
          },
          "colorway": [
           "#636efa",
           "#EF553B",
           "#00cc96",
           "#ab63fa",
           "#FFA15A",
           "#19d3f3",
           "#FF6692",
           "#B6E880",
           "#FF97FF",
           "#FECB52"
          ],
          "font": {
           "color": "#2a3f5f"
          },
          "geo": {
           "bgcolor": "white",
           "lakecolor": "white",
           "landcolor": "#E5ECF6",
           "showlakes": true,
           "showland": true,
           "subunitcolor": "white"
          },
          "hoverlabel": {
           "align": "left"
          },
          "hovermode": "closest",
          "mapbox": {
           "style": "light"
          },
          "paper_bgcolor": "white",
          "plot_bgcolor": "#E5ECF6",
          "polar": {
           "angularaxis": {
            "gridcolor": "white",
            "linecolor": "white",
            "ticks": ""
           },
           "bgcolor": "#E5ECF6",
           "radialaxis": {
            "gridcolor": "white",
            "linecolor": "white",
            "ticks": ""
           }
          },
          "scene": {
           "xaxis": {
            "backgroundcolor": "#E5ECF6",
            "gridcolor": "white",
            "gridwidth": 2,
            "linecolor": "white",
            "showbackground": true,
            "ticks": "",
            "zerolinecolor": "white"
           },
           "yaxis": {
            "backgroundcolor": "#E5ECF6",
            "gridcolor": "white",
            "gridwidth": 2,
            "linecolor": "white",
            "showbackground": true,
            "ticks": "",
            "zerolinecolor": "white"
           },
           "zaxis": {
            "backgroundcolor": "#E5ECF6",
            "gridcolor": "white",
            "gridwidth": 2,
            "linecolor": "white",
            "showbackground": true,
            "ticks": "",
            "zerolinecolor": "white"
           }
          },
          "shapedefaults": {
           "line": {
            "color": "#2a3f5f"
           }
          },
          "ternary": {
           "aaxis": {
            "gridcolor": "white",
            "linecolor": "white",
            "ticks": ""
           },
           "baxis": {
            "gridcolor": "white",
            "linecolor": "white",
            "ticks": ""
           },
           "bgcolor": "#E5ECF6",
           "caxis": {
            "gridcolor": "white",
            "linecolor": "white",
            "ticks": ""
           }
          },
          "title": {
           "x": 0.05
          },
          "xaxis": {
           "automargin": true,
           "gridcolor": "white",
           "linecolor": "white",
           "ticks": "",
           "title": {
            "standoff": 15
           },
           "zerolinecolor": "white",
           "zerolinewidth": 2
          },
          "yaxis": {
           "automargin": true,
           "gridcolor": "white",
           "linecolor": "white",
           "ticks": "",
           "title": {
            "standoff": 15
           },
           "zerolinecolor": "white",
           "zerolinewidth": 2
          }
         }
        },
        "xaxis": {
         "anchor": "y",
         "domain": [
          0,
          0.3133333333333333
         ],
         "title": {
          "text": "index"
         }
        },
        "xaxis2": {
         "anchor": "y2",
         "domain": [
          0.3333333333333333,
          0.6466666666666666
         ],
         "matches": "x",
         "title": {
          "text": "index"
         }
        },
        "xaxis3": {
         "anchor": "y3",
         "domain": [
          0.6666666666666666,
          0.98
         ],
         "matches": "x",
         "title": {
          "text": "index"
         }
        },
        "xaxis4": {
         "anchor": "y4",
         "domain": [
          0,
          0.3133333333333333
         ],
         "matches": "x",
         "showticklabels": false
        },
        "xaxis5": {
         "anchor": "y5",
         "domain": [
          0.3333333333333333,
          0.6466666666666666
         ],
         "matches": "x",
         "showticklabels": false
        },
        "xaxis6": {
         "anchor": "y6",
         "domain": [
          0.6666666666666666,
          0.98
         ],
         "matches": "x",
         "showticklabels": false
        },
        "xaxis7": {
         "anchor": "y7",
         "domain": [
          0,
          0.3133333333333333
         ],
         "matches": "x",
         "showticklabels": false
        },
        "xaxis8": {
         "anchor": "y8",
         "domain": [
          0.3333333333333333,
          0.6466666666666666
         ],
         "matches": "x",
         "showticklabels": false
        },
        "xaxis9": {
         "anchor": "y9",
         "domain": [
          0.6666666666666666,
          0.98
         ],
         "matches": "x",
         "showticklabels": false
        },
        "yaxis": {
         "anchor": "x",
         "domain": [
          0,
          0.3133333333333333
         ],
         "title": {
          "text": "Mode"
         }
        },
        "yaxis2": {
         "anchor": "x2",
         "domain": [
          0,
          0.3133333333333333
         ],
         "matches": "y",
         "showticklabels": false
        },
        "yaxis3": {
         "anchor": "x3",
         "domain": [
          0,
          0.3133333333333333
         ],
         "matches": "y",
         "showticklabels": false
        },
        "yaxis4": {
         "anchor": "x4",
         "domain": [
          0.34333333333333327,
          0.6566666666666665
         ],
         "matches": "y",
         "title": {
          "text": "value"
         }
        },
        "yaxis5": {
         "anchor": "x5",
         "domain": [
          0.34333333333333327,
          0.6566666666666665
         ],
         "matches": "y",
         "showticklabels": false
        },
        "yaxis6": {
         "anchor": "x6",
         "domain": [
          0.34333333333333327,
          0.6566666666666665
         ],
         "matches": "y",
         "showticklabels": false
        },
        "yaxis7": {
         "anchor": "x7",
         "domain": [
          0.6866666666666665,
          0.9999999999999998
         ],
         "matches": "y",
         "title": {
          "text": "value"
         }
        },
        "yaxis8": {
         "anchor": "x8",
         "domain": [
          0.6866666666666665,
          0.9999999999999998
         ],
         "matches": "y",
         "showticklabels": false
        },
        "yaxis9": {
         "anchor": "x9",
         "domain": [
          0.6866666666666665,
          0.9999999999999998
         ],
         "matches": "y",
         "showticklabels": false
        }
       }
      },
      "text/html": [
       "<div>                            <div id=\"53f751b0-5736-4ef2-b93c-6e24e22c7d32\" class=\"plotly-graph-div\" style=\"height:700px; width:100%;\"></div>            <script type=\"text/javascript\">                require([\"plotly\"], function(Plotly) {                    window.PLOTLYENV=window.PLOTLYENV || {};                                    if (document.getElementById(\"53f751b0-5736-4ef2-b93c-6e24e22c7d32\")) {                    Plotly.newPlot(                        \"53f751b0-5736-4ef2-b93c-6e24e22c7d32\",                        [{\"hovertemplate\":\"variable=Electric furnace<br>peer_eff=0.35<br>p_mode=0.65<br>index=%{x}<br>value=%{y}<extra></extra>\",\"legendgroup\":\"Electric furnace\",\"line\":{\"color\":\"#636efa\",\"dash\":\"solid\"},\"marker\":{\"symbol\":\"circle\"},\"mode\":\"lines\",\"name\":\"Electric furnace\",\"orientation\":\"v\",\"showlegend\":true,\"x\":[2000,2001,2002,2003,2004,2005,2006,2007,2008,2009,2010,2011,2012,2013,2014,2015,2016,2017,2018,2019,2020],\"xaxis\":\"x7\",\"y\":[0.95,0.95,0.95,0.95,0.95,0.95,0.95,0.95,0.95,0.95,0.95,0.8309209470958727,0.95,0.36943377774417324,0.3011474249638933,0.95,0.95,0.05,0.2586355015142829,0.95,0.43725142617941604],\"yaxis\":\"y7\",\"type\":\"scatter\",\"opacity\":0.2},{\"hovertemplate\":\"variable=Electric furnace<br>peer_eff=0.3<br>p_mode=0.7<br>index=%{x}<br>value=%{y}<extra></extra>\",\"legendgroup\":\"Electric furnace\",\"line\":{\"color\":\"#636efa\",\"dash\":\"solid\"},\"marker\":{\"symbol\":\"circle\"},\"mode\":\"lines\",\"name\":\"Electric furnace\",\"orientation\":\"v\",\"showlegend\":false,\"x\":[2000,2001,2002,2003,2004,2005,2006,2007,2008,2009,2010,2011,2012,2013,2014,2015,2016,2017,2018,2019,2020],\"xaxis\":\"x5\",\"y\":[0.2665267811526303,0.8979617388461517,0.95,0.8887388385317292,0.8085199672405756,0.8368885964776887,0.8309927137860093,0.9472092878707444,0.95,0.5470805593248249,0.7741043227566126,0.9155553684727795,0.5821033050367278,0.20330122244141213,0.053144112459773685,0.95,0.6817234307832403,0.060692601667236376,0.1293294166541781,0.8562022667704589,0.2672157464226092],\"yaxis\":\"y5\",\"type\":\"scatter\",\"opacity\":0.2},{\"hovertemplate\":\"variable=Electric furnace<br>peer_eff=0.3<br>p_mode=0.8<br>index=%{x}<br>value=%{y}<extra></extra>\",\"legendgroup\":\"Electric furnace\",\"line\":{\"color\":\"#636efa\",\"dash\":\"solid\"},\"marker\":{\"symbol\":\"circle\"},\"mode\":\"lines\",\"name\":\"Electric furnace\",\"orientation\":\"v\",\"showlegend\":false,\"x\":[2000,2001,2002,2003,2004,2005,2006,2007,2008,2009,2010,2011,2012,2013,2014,2015,2016,2017,2018,2019,2020],\"xaxis\":\"x6\",\"y\":[0.95,0.95,0.95,0.95,0.95,0.95,0.95,0.95,0.95,0.95,0.6478685335856952,0.95,0.95,0.95,0.95,0.7210057980402802,0.95,0.95,0.95,0.3217440961542933,0.95],\"yaxis\":\"y6\",\"type\":\"scatter\",\"opacity\":0.2},{\"hovertemplate\":\"variable=Electric furnace<br>peer_eff=0.25<br>p_mode=0.7<br>index=%{x}<br>value=%{y}<extra></extra>\",\"legendgroup\":\"Electric furnace\",\"line\":{\"color\":\"#636efa\",\"dash\":\"solid\"},\"marker\":{\"symbol\":\"circle\"},\"mode\":\"lines\",\"name\":\"Electric furnace\",\"orientation\":\"v\",\"showlegend\":false,\"x\":[2000,2001,2002,2003,2004,2005,2006,2007,2008,2009,2010,2011,2012,2013,2014,2015,2016,2017,2018,2019,2020],\"xaxis\":\"x2\",\"y\":[0.5852390324897421,0.8952241711709872,0.5165285464197418,0.728534188434239,0.7725490100156797,0.9327280474364287,0.20501768798445513,0.6967717358769654,0.35458237444281987,0.95,0.8515788775332994,0.6983835755857444,0.7194805410314883,0.6944150641015359,0.676420865151943,0.5576024954684784,0.8457545005854763,0.8974504807454613,0.14725065337224094,0.95,0.6148324028739807],\"yaxis\":\"y2\",\"type\":\"scatter\",\"opacity\":0.2},{\"hovertemplate\":\"variable=Electric furnace<br>peer_eff=0.25<br>p_mode=0.8<br>index=%{x}<br>value=%{y}<extra></extra>\",\"legendgroup\":\"Electric furnace\",\"line\":{\"color\":\"#636efa\",\"dash\":\"solid\"},\"marker\":{\"symbol\":\"circle\"},\"mode\":\"lines\",\"name\":\"Electric furnace\",\"orientation\":\"v\",\"showlegend\":false,\"x\":[2000,2001,2002,2003,2004,2005,2006,2007,2008,2009,2010,2011,2012,2013,2014,2015,2016,2017,2018,2019,2020],\"xaxis\":\"x3\",\"y\":[0.95,0.95,0.6063296499226213,0.19489527339766327,0.95,0.8299468031863116,0.95,0.95,0.95,0.95,0.95,0.8789794621951467,0.1583537196691076,0.18129721228841034,0.8051298911206898,0.95,0.8604289969969826,0.95,0.3650459327685938,0.95,0.08237060625127027],\"yaxis\":\"y3\",\"type\":\"scatter\",\"opacity\":0.2},{\"hovertemplate\":\"variable=Gas furnace<br>peer_eff=0.35<br>p_mode=0.65<br>index=%{x}<br>value=%{y}<extra></extra>\",\"legendgroup\":\"Gas furnace\",\"line\":{\"color\":\"#EF553B\",\"dash\":\"solid\"},\"marker\":{\"symbol\":\"circle\"},\"mode\":\"lines\",\"name\":\"Gas furnace\",\"orientation\":\"v\",\"showlegend\":true,\"x\":[2000,2001,2002,2003,2004,2005,2006,2007,2008,2009,2010,2011,2012,2013,2014,2015,2016,2017,2018,2019,2020],\"xaxis\":\"x7\",\"y\":[0.05,0.05,0.05,0.05,0.05,0.05,0.05,0.05,0.05,0.7697923109397906,0.05,0.05,0.05,0.05,0.2893411077188024,0.06317621292872988,0.5876062710209367,0.05,0.5933477924424185,0.9234351536155171,0.95],\"yaxis\":\"y7\",\"type\":\"scatter\",\"opacity\":0.2},{\"hovertemplate\":\"variable=Gas furnace<br>peer_eff=0.3<br>p_mode=0.7<br>index=%{x}<br>value=%{y}<extra></extra>\",\"legendgroup\":\"Gas furnace\",\"line\":{\"color\":\"#EF553B\",\"dash\":\"solid\"},\"marker\":{\"symbol\":\"circle\"},\"mode\":\"lines\",\"name\":\"Gas furnace\",\"orientation\":\"v\",\"showlegend\":false,\"x\":[2000,2001,2002,2003,2004,2005,2006,2007,2008,2009,2010,2011,2012,2013,2014,2015,2016,2017,2018,2019,2020],\"xaxis\":\"x5\",\"y\":[0.05,0.16174036331986819,0.05,0.06976396129510021,0.15408471726501693,0.05,0.32312635005572604,0.05895273687795968,0.3312074609193647,0.05,0.1255593735956762,0.17604849661574634,0.05,0.05,0.2170397651738621,0.17406421305669434,0.1931875151153734,0.95,0.6763489396689523,0.2340665851374638,0.7364947221160715],\"yaxis\":\"y5\",\"type\":\"scatter\",\"opacity\":0.2},{\"hovertemplate\":\"variable=Gas furnace<br>peer_eff=0.3<br>p_mode=0.8<br>index=%{x}<br>value=%{y}<extra></extra>\",\"legendgroup\":\"Gas furnace\",\"line\":{\"color\":\"#EF553B\",\"dash\":\"solid\"},\"marker\":{\"symbol\":\"circle\"},\"mode\":\"lines\",\"name\":\"Gas furnace\",\"orientation\":\"v\",\"showlegend\":false,\"x\":[2000,2001,2002,2003,2004,2005,2006,2007,2008,2009,2010,2011,2012,2013,2014,2015,2016,2017,2018,2019,2020],\"xaxis\":\"x6\",\"y\":[0.05,0.05,0.05,0.05,0.05,0.05,0.05,0.05,0.05,0.05,0.05,0.05,0.2098131727945457,0.05,0.05,0.056572994912961985,0.808979670897672,0.05990728341270669,0.05,0.7793513275634225,0.05],\"yaxis\":\"y6\",\"type\":\"scatter\",\"opacity\":0.2},{\"hovertemplate\":\"variable=Gas furnace<br>peer_eff=0.25<br>p_mode=0.7<br>index=%{x}<br>value=%{y}<extra></extra>\",\"legendgroup\":\"Gas furnace\",\"line\":{\"color\":\"#EF553B\",\"dash\":\"solid\"},\"marker\":{\"symbol\":\"circle\"},\"mode\":\"lines\",\"name\":\"Gas furnace\",\"orientation\":\"v\",\"showlegend\":false,\"x\":[2000,2001,2002,2003,2004,2005,2006,2007,2008,2009,2010,2011,2012,2013,2014,2015,2016,2017,2018,2019,2020],\"xaxis\":\"x2\",\"y\":[0.05,0.1503256977788131,0.894672308370734,0.1187881875471107,0.3640933824449795,0.16505681311187945,0.7958025466317681,0.05,0.3239947677064974,0.3768204265363194,0.362005232191543,0.8565396877060859,0.2606631347640336,0.05,0.4973969263124237,0.16739619919905213,0.39934373820228886,0.6667965727437882,0.24741268022947766,0.5286553675716891,0.703176992876],\"yaxis\":\"y2\",\"type\":\"scatter\",\"opacity\":0.2},{\"hovertemplate\":\"variable=Gas furnace<br>peer_eff=0.25<br>p_mode=0.8<br>index=%{x}<br>value=%{y}<extra></extra>\",\"legendgroup\":\"Gas furnace\",\"line\":{\"color\":\"#EF553B\",\"dash\":\"solid\"},\"marker\":{\"symbol\":\"circle\"},\"mode\":\"lines\",\"name\":\"Gas furnace\",\"orientation\":\"v\",\"showlegend\":false,\"x\":[2000,2001,2002,2003,2004,2005,2006,2007,2008,2009,2010,2011,2012,2013,2014,2015,2016,2017,2018,2019,2020],\"xaxis\":\"x3\",\"y\":[0.155511166235059,0.14954977145345053,0.05,0.18127922269638608,0.23429912404031294,0.05,0.9144447118486076,0.05,0.05,0.249619267950077,0.792273972384269,0.05,0.5959471872815326,0.05,0.445991960781905,0.05,0.05,0.763994739422676,0.5687751399395026,0.7091269697188984,0.47276514937942],\"yaxis\":\"y3\",\"type\":\"scatter\",\"opacity\":0.2},{\"hovertemplate\":\"variable=Heat pump<br>peer_eff=0.35<br>p_mode=0.65<br>index=%{x}<br>value=%{y}<extra></extra>\",\"legendgroup\":\"Heat pump\",\"line\":{\"color\":\"#00cc96\",\"dash\":\"solid\"},\"marker\":{\"symbol\":\"circle\"},\"mode\":\"lines\",\"name\":\"Heat pump\",\"orientation\":\"v\",\"showlegend\":true,\"x\":[2000,2001,2002,2003,2004,2005,2006,2007,2008,2009,2010,2011,2012,2013,2014,2015,2016,2017,2018,2019,2020],\"xaxis\":\"x7\",\"y\":[0.95,0.6096994884472808,0.95,0.95,0.95,0.95,0.95,0.5470965612976205,0.30032720035260885,0.6561155099194816,0.95,0.95,0.2782229206398413,0.3735971716711533,0.5492121873473611,0.05,0.687508776278576,0.95,0.6665820484315419,0.8367040862198158,0.333530276805384],\"yaxis\":\"y7\",\"type\":\"scatter\",\"opacity\":0.2},{\"hovertemplate\":\"variable=Heat pump<br>peer_eff=0.3<br>p_mode=0.7<br>index=%{x}<br>value=%{y}<extra></extra>\",\"legendgroup\":\"Heat pump\",\"line\":{\"color\":\"#00cc96\",\"dash\":\"solid\"},\"marker\":{\"symbol\":\"circle\"},\"mode\":\"lines\",\"name\":\"Heat pump\",\"orientation\":\"v\",\"showlegend\":false,\"x\":[2000,2001,2002,2003,2004,2005,2006,2007,2008,2009,2010,2011,2012,2013,2014,2015,2016,2017,2018,2019,2020],\"xaxis\":\"x5\",\"y\":[0.7554172992415258,0.20300695614671505,0.7758251877233557,0.95,0.735613940885973,0.8458073683068581,0.14631696575325864,0.09976879745856602,0.43584362449838804,0.13774639024244661,0.6036946779985743,0.41280834893813695,0.7271941015844209,0.7845634203119063,0.7680984461805924,0.5734746973447871,0.9041054004277536,0.05,0.8824521159348825,0.5771078858061347,0.3466995834447855],\"yaxis\":\"y5\",\"type\":\"scatter\",\"opacity\":0.2},{\"hovertemplate\":\"variable=Heat pump<br>peer_eff=0.3<br>p_mode=0.8<br>index=%{x}<br>value=%{y}<extra></extra>\",\"legendgroup\":\"Heat pump\",\"line\":{\"color\":\"#00cc96\",\"dash\":\"solid\"},\"marker\":{\"symbol\":\"circle\"},\"mode\":\"lines\",\"name\":\"Heat pump\",\"orientation\":\"v\",\"showlegend\":false,\"x\":[2000,2001,2002,2003,2004,2005,2006,2007,2008,2009,2010,2011,2012,2013,2014,2015,2016,2017,2018,2019,2020],\"xaxis\":\"x6\",\"y\":[0.95,0.95,0.95,0.35082077142447354,0.4302604317656216,0.95,0.24143437353787273,0.7033458062182268,0.95,0.95,0.95,0.95,0.05,0.05,0.6671471103054342,0.9034172158201612,0.95,0.3193487898002636,0.95,0.6905660293220132,0.05],\"yaxis\":\"y6\",\"type\":\"scatter\",\"opacity\":0.2},{\"hovertemplate\":\"variable=Heat pump<br>peer_eff=0.25<br>p_mode=0.7<br>index=%{x}<br>value=%{y}<extra></extra>\",\"legendgroup\":\"Heat pump\",\"line\":{\"color\":\"#00cc96\",\"dash\":\"solid\"},\"marker\":{\"symbol\":\"circle\"},\"mode\":\"lines\",\"name\":\"Heat pump\",\"orientation\":\"v\",\"showlegend\":false,\"x\":[2000,2001,2002,2003,2004,2005,2006,2007,2008,2009,2010,2011,2012,2013,2014,2015,2016,2017,2018,2019,2020],\"xaxis\":\"x2\",\"y\":[0.5880265802275374,0.25324124391650177,0.24274017698305356,0.05,0.5143057209379694,0.21272687057073458,0.8172424242164757,0.4988496221576742,0.14920279636866754,0.5724380323891843,0.48342177715978796,0.48693942890860703,0.5147138851445404,0.8857645779364252,0.6612910569955872,0.3422605523003166,0.31106797346315007,0.48737288689826924,0.9299807585904855,0.95,0.2789731679196858],\"yaxis\":\"y2\",\"type\":\"scatter\",\"opacity\":0.2},{\"hovertemplate\":\"variable=Heat pump<br>peer_eff=0.25<br>p_mode=0.8<br>index=%{x}<br>value=%{y}<extra></extra>\",\"legendgroup\":\"Heat pump\",\"line\":{\"color\":\"#00cc96\",\"dash\":\"solid\"},\"marker\":{\"symbol\":\"circle\"},\"mode\":\"lines\",\"name\":\"Heat pump\",\"orientation\":\"v\",\"showlegend\":false,\"x\":[2000,2001,2002,2003,2004,2005,2006,2007,2008,2009,2010,2011,2012,2013,2014,2015,2016,2017,2018,2019,2020],\"xaxis\":\"x3\",\"y\":[0.5458271945960226,0.3180672956887385,0.9148881276314945,0.3550972671650954,0.32788456530501775,0.8879808128392155,0.5508815607321365,0.2019485850303438,0.1792893448813141,0.45745844609167186,0.7841594536294628,0.8297341244340346,0.05,0.5897458483792324,0.6497513986209092,0.49994070852203193,0.5661578601128314,0.7783668304961054,0.904545540991161,0.8420205219629125,0.14457238988039603],\"yaxis\":\"y3\",\"type\":\"scatter\",\"opacity\":0.2},{\"hovertemplate\":\"variable=Oil furnace<br>peer_eff=0.35<br>p_mode=0.65<br>index=%{x}<br>value=%{y}<extra></extra>\",\"legendgroup\":\"Oil furnace\",\"line\":{\"color\":\"#ab63fa\",\"dash\":\"solid\"},\"marker\":{\"symbol\":\"circle\"},\"mode\":\"lines\",\"name\":\"Oil furnace\",\"orientation\":\"v\",\"showlegend\":true,\"x\":[2000,2001,2002,2003,2004,2005,2006,2007,2008,2009,2010,2011,2012,2013,2014,2015,2016,2017,2018,2019,2020],\"xaxis\":\"x7\",\"y\":[0.05,0.05,0.05,0.95,0.05,0.05,0.3570666420767989,0.95,0.05,0.07921008808778474,0.05,0.6489116963091087,0.05,0.371495716332677,0.8389002599608971,0.05,0.8511295518550136,0.95,0.95,0.95,0.09579699387180707],\"yaxis\":\"y7\",\"type\":\"scatter\",\"opacity\":0.2},{\"hovertemplate\":\"variable=Oil furnace<br>peer_eff=0.3<br>p_mode=0.7<br>index=%{x}<br>value=%{y}<extra></extra>\",\"legendgroup\":\"Oil furnace\",\"line\":{\"color\":\"#ab63fa\",\"dash\":\"solid\"},\"marker\":{\"symbol\":\"circle\"},\"mode\":\"lines\",\"name\":\"Oil furnace\",\"orientation\":\"v\",\"showlegend\":false,\"x\":[2000,2001,2002,2003,2004,2005,2006,2007,2008,2009,2010,2011,2012,2013,2014,2015,2016,2017,2018,2019,2020],\"xaxis\":\"x5\",\"y\":[0.8317535811416288,0.9290410288597181,0.708383656519365,0.28893919135647744,0.887299234012608,0.20378210127785268,0.3077955003435513,0.06579146693711195,0.9365515827650159,0.7372638743928163,0.7505139447026438,0.9143090299101169,0.13688226400648212,0.6221503501045379,0.7307795780186269,0.07946742416405257,0.5946457176622104,0.7037765722780881,0.21320727210403173,0.5229374346307117,0.05100006011152782],\"yaxis\":\"y5\",\"type\":\"scatter\",\"opacity\":0.2},{\"hovertemplate\":\"variable=Oil furnace<br>peer_eff=0.3<br>p_mode=0.8<br>index=%{x}<br>value=%{y}<extra></extra>\",\"legendgroup\":\"Oil furnace\",\"line\":{\"color\":\"#ab63fa\",\"dash\":\"solid\"},\"marker\":{\"symbol\":\"circle\"},\"mode\":\"lines\",\"name\":\"Oil furnace\",\"orientation\":\"v\",\"showlegend\":false,\"x\":[2000,2001,2002,2003,2004,2005,2006,2007,2008,2009,2010,2011,2012,2013,2014,2015,2016,2017,2018,2019,2020],\"xaxis\":\"x6\",\"y\":[0.95,0.8054098534002432,0.18733005071541764,0.05,0.25897346421686457,0.95,0.95,0.95,0.37176196630853026,0.95,0.6592830207516118,0.3395717209128757,0.95,0.8933111634604586,0.7330383896545709,0.9034696184856119,0.05,0.95,0.3599740385408298,0.05,0.95],\"yaxis\":\"y6\",\"type\":\"scatter\",\"opacity\":0.2},{\"hovertemplate\":\"variable=Oil furnace<br>peer_eff=0.25<br>p_mode=0.7<br>index=%{x}<br>value=%{y}<extra></extra>\",\"legendgroup\":\"Oil furnace\",\"line\":{\"color\":\"#ab63fa\",\"dash\":\"solid\"},\"marker\":{\"symbol\":\"circle\"},\"mode\":\"lines\",\"name\":\"Oil furnace\",\"orientation\":\"v\",\"showlegend\":false,\"x\":[2000,2001,2002,2003,2004,2005,2006,2007,2008,2009,2010,2011,2012,2013,2014,2015,2016,2017,2018,2019,2020],\"xaxis\":\"x2\",\"y\":[0.4714379634820573,0.7392464822635352,0.7608150130017294,0.6354874704618574,0.8546667728021683,0.507624011709104,0.9379351086473405,0.17886885407520492,0.95,0.05,0.671202282277798,0.05,0.10275829612959163,0.5796785213519,0.6178031962226997,0.19783753836382134,0.6455575499700572,0.9010361017448351,0.45126940723223996,0.44620412005678195,0.5106045960097606],\"yaxis\":\"y2\",\"type\":\"scatter\",\"opacity\":0.2},{\"hovertemplate\":\"variable=Oil furnace<br>peer_eff=0.25<br>p_mode=0.8<br>index=%{x}<br>value=%{y}<extra></extra>\",\"legendgroup\":\"Oil furnace\",\"line\":{\"color\":\"#ab63fa\",\"dash\":\"solid\"},\"marker\":{\"symbol\":\"circle\"},\"mode\":\"lines\",\"name\":\"Oil furnace\",\"orientation\":\"v\",\"showlegend\":false,\"x\":[2000,2001,2002,2003,2004,2005,2006,2007,2008,2009,2010,2011,2012,2013,2014,2015,2016,2017,2018,2019,2020],\"xaxis\":\"x3\",\"y\":[0.7628986392747834,0.14755117286174815,0.8915006893232467,0.5731469065641787,0.6215825097671728,0.8779436840182572,0.05,0.6070290553363069,0.8832309661154074,0.24813173707449188,0.95,0.852330519308619,0.8997412583500604,0.567959393590901,0.95,0.05,0.05,0.4420607187113267,0.24085216744125038,0.8842199664435176,0.05],\"yaxis\":\"y3\",\"type\":\"scatter\",\"opacity\":0.2},{\"hovertemplate\":\"variable=Wood or wood pellets furnace<br>peer_eff=0.35<br>p_mode=0.65<br>index=%{x}<br>value=%{y}<extra></extra>\",\"legendgroup\":\"Wood or wood pellets furnace\",\"line\":{\"color\":\"#FFA15A\",\"dash\":\"solid\"},\"marker\":{\"symbol\":\"circle\"},\"mode\":\"lines\",\"name\":\"Wood or wood pellets furnace\",\"orientation\":\"v\",\"showlegend\":true,\"x\":[2000,2001,2002,2003,2004,2005,2006,2007,2008,2009,2010,2011,2012,2013,2014,2015,2016,2017,2018,2019,2020],\"xaxis\":\"x7\",\"y\":[0.5434859115786682,0.752692196009029,0.05,0.95,0.95,0.05,0.2685129606275874,0.5389510954608504,0.09081708147044101,0.05,0.05,0.27978093830782436,0.5994273138987164,0.7144939768741915,0.95,0.12907795470914663,0.19315967307688864,0.95,0.6208291506126328,0.95,0.6631445201356828],\"yaxis\":\"y7\",\"type\":\"scatter\",\"opacity\":0.2},{\"hovertemplate\":\"variable=Wood or wood pellets furnace<br>peer_eff=0.3<br>p_mode=0.7<br>index=%{x}<br>value=%{y}<extra></extra>\",\"legendgroup\":\"Wood or wood pellets furnace\",\"line\":{\"color\":\"#FFA15A\",\"dash\":\"solid\"},\"marker\":{\"symbol\":\"circle\"},\"mode\":\"lines\",\"name\":\"Wood or wood pellets furnace\",\"orientation\":\"v\",\"showlegend\":false,\"x\":[2000,2001,2002,2003,2004,2005,2006,2007,2008,2009,2010,2011,2012,2013,2014,2015,2016,2017,2018,2019,2020],\"xaxis\":\"x5\",\"y\":[0.8015118443691878,0.282434300445306,0.09149993799441333,0.6798354805173217,0.896282237421813,0.11205022154396127,0.7891647312487753,0.44224673499816625,0.9126560661304712,0.95,0.054137845974855284,0.6086567160205685,0.7895159607693496,0.861900557331859,0.7585569597520803,0.6235683903331323,0.8710531775460343,0.9120843545086735,0.09722150894519929,0.4879825772972617,0.3492027419752535],\"yaxis\":\"y5\",\"type\":\"scatter\",\"opacity\":0.2},{\"hovertemplate\":\"variable=Wood or wood pellets furnace<br>peer_eff=0.3<br>p_mode=0.8<br>index=%{x}<br>value=%{y}<extra></extra>\",\"legendgroup\":\"Wood or wood pellets furnace\",\"line\":{\"color\":\"#FFA15A\",\"dash\":\"solid\"},\"marker\":{\"symbol\":\"circle\"},\"mode\":\"lines\",\"name\":\"Wood or wood pellets furnace\",\"orientation\":\"v\",\"showlegend\":false,\"x\":[2000,2001,2002,2003,2004,2005,2006,2007,2008,2009,2010,2011,2012,2013,2014,2015,2016,2017,2018,2019,2020],\"xaxis\":\"x6\",\"y\":[0.95,0.31549054244710056,0.05,0.05,0.05,0.95,0.95,0.9247821825202003,0.5575172829147408,0.41506961134473097,0.95,0.05,0.3717877219629293,0.95,0.95,0.27409505479804414,0.95,0.29703086397158335,0.95,0.20180902960986685,0.5337690039327707],\"yaxis\":\"y6\",\"type\":\"scatter\",\"opacity\":0.2},{\"hovertemplate\":\"variable=Wood or wood pellets furnace<br>peer_eff=0.25<br>p_mode=0.7<br>index=%{x}<br>value=%{y}<extra></extra>\",\"legendgroup\":\"Wood or wood pellets furnace\",\"line\":{\"color\":\"#FFA15A\",\"dash\":\"solid\"},\"marker\":{\"symbol\":\"circle\"},\"mode\":\"lines\",\"name\":\"Wood or wood pellets furnace\",\"orientation\":\"v\",\"showlegend\":false,\"x\":[2000,2001,2002,2003,2004,2005,2006,2007,2008,2009,2010,2011,2012,2013,2014,2015,2016,2017,2018,2019,2020],\"xaxis\":\"x2\",\"y\":[0.05,0.5778909682935405,0.05,0.30506162931391306,0.8052107236776591,0.5161002732042602,0.39603743197532754,0.95,0.11144798448442927,0.3257805271052091,0.4946776071847737,0.2492862816083924,0.6903595933371998,0.208904136252352,0.4589331917144598,0.2830524518895396,0.5537835356167219,0.95,0.7957156904606386,0.5023442409771399,0.7016043295285728],\"yaxis\":\"y2\",\"type\":\"scatter\",\"opacity\":0.2},{\"hovertemplate\":\"variable=Wood or wood pellets furnace<br>peer_eff=0.25<br>p_mode=0.8<br>index=%{x}<br>value=%{y}<extra></extra>\",\"legendgroup\":\"Wood or wood pellets furnace\",\"line\":{\"color\":\"#FFA15A\",\"dash\":\"solid\"},\"marker\":{\"symbol\":\"circle\"},\"mode\":\"lines\",\"name\":\"Wood or wood pellets furnace\",\"orientation\":\"v\",\"showlegend\":false,\"x\":[2000,2001,2002,2003,2004,2005,2006,2007,2008,2009,2010,2011,2012,2013,2014,2015,2016,2017,2018,2019,2020],\"xaxis\":\"x3\",\"y\":[0.2819988659184911,0.05,0.95,0.05,0.05,0.2834852165182616,0.95,0.2546071297830386,0.4272375483461106,0.15370736023622894,0.22610354609821354,0.9439838542255586,0.4940937635721744,0.95,0.7632511757133008,0.45235115674838394,0.7144952845061783,0.6943810338830477,0.12719897221420268,0.14207827558310104,0.056953076752226404],\"yaxis\":\"y3\",\"type\":\"scatter\",\"opacity\":0.2}],                        {\"template\":{\"data\":{\"barpolar\":[{\"marker\":{\"line\":{\"color\":\"#E5ECF6\",\"width\":0.5},\"pattern\":{\"fillmode\":\"overlay\",\"size\":10,\"solidity\":0.2}},\"type\":\"barpolar\"}],\"bar\":[{\"error_x\":{\"color\":\"#2a3f5f\"},\"error_y\":{\"color\":\"#2a3f5f\"},\"marker\":{\"line\":{\"color\":\"#E5ECF6\",\"width\":0.5},\"pattern\":{\"fillmode\":\"overlay\",\"size\":10,\"solidity\":0.2}},\"type\":\"bar\"}],\"carpet\":[{\"aaxis\":{\"endlinecolor\":\"#2a3f5f\",\"gridcolor\":\"white\",\"linecolor\":\"white\",\"minorgridcolor\":\"white\",\"startlinecolor\":\"#2a3f5f\"},\"baxis\":{\"endlinecolor\":\"#2a3f5f\",\"gridcolor\":\"white\",\"linecolor\":\"white\",\"minorgridcolor\":\"white\",\"startlinecolor\":\"#2a3f5f\"},\"type\":\"carpet\"}],\"choropleth\":[{\"colorbar\":{\"outlinewidth\":0,\"ticks\":\"\"},\"type\":\"choropleth\"}],\"contourcarpet\":[{\"colorbar\":{\"outlinewidth\":0,\"ticks\":\"\"},\"type\":\"contourcarpet\"}],\"contour\":[{\"colorbar\":{\"outlinewidth\":0,\"ticks\":\"\"},\"colorscale\":[[0.0,\"#0d0887\"],[0.1111111111111111,\"#46039f\"],[0.2222222222222222,\"#7201a8\"],[0.3333333333333333,\"#9c179e\"],[0.4444444444444444,\"#bd3786\"],[0.5555555555555556,\"#d8576b\"],[0.6666666666666666,\"#ed7953\"],[0.7777777777777778,\"#fb9f3a\"],[0.8888888888888888,\"#fdca26\"],[1.0,\"#f0f921\"]],\"type\":\"contour\"}],\"heatmapgl\":[{\"colorbar\":{\"outlinewidth\":0,\"ticks\":\"\"},\"colorscale\":[[0.0,\"#0d0887\"],[0.1111111111111111,\"#46039f\"],[0.2222222222222222,\"#7201a8\"],[0.3333333333333333,\"#9c179e\"],[0.4444444444444444,\"#bd3786\"],[0.5555555555555556,\"#d8576b\"],[0.6666666666666666,\"#ed7953\"],[0.7777777777777778,\"#fb9f3a\"],[0.8888888888888888,\"#fdca26\"],[1.0,\"#f0f921\"]],\"type\":\"heatmapgl\"}],\"heatmap\":[{\"colorbar\":{\"outlinewidth\":0,\"ticks\":\"\"},\"colorscale\":[[0.0,\"#0d0887\"],[0.1111111111111111,\"#46039f\"],[0.2222222222222222,\"#7201a8\"],[0.3333333333333333,\"#9c179e\"],[0.4444444444444444,\"#bd3786\"],[0.5555555555555556,\"#d8576b\"],[0.6666666666666666,\"#ed7953\"],[0.7777777777777778,\"#fb9f3a\"],[0.8888888888888888,\"#fdca26\"],[1.0,\"#f0f921\"]],\"type\":\"heatmap\"}],\"histogram2dcontour\":[{\"colorbar\":{\"outlinewidth\":0,\"ticks\":\"\"},\"colorscale\":[[0.0,\"#0d0887\"],[0.1111111111111111,\"#46039f\"],[0.2222222222222222,\"#7201a8\"],[0.3333333333333333,\"#9c179e\"],[0.4444444444444444,\"#bd3786\"],[0.5555555555555556,\"#d8576b\"],[0.6666666666666666,\"#ed7953\"],[0.7777777777777778,\"#fb9f3a\"],[0.8888888888888888,\"#fdca26\"],[1.0,\"#f0f921\"]],\"type\":\"histogram2dcontour\"}],\"histogram2d\":[{\"colorbar\":{\"outlinewidth\":0,\"ticks\":\"\"},\"colorscale\":[[0.0,\"#0d0887\"],[0.1111111111111111,\"#46039f\"],[0.2222222222222222,\"#7201a8\"],[0.3333333333333333,\"#9c179e\"],[0.4444444444444444,\"#bd3786\"],[0.5555555555555556,\"#d8576b\"],[0.6666666666666666,\"#ed7953\"],[0.7777777777777778,\"#fb9f3a\"],[0.8888888888888888,\"#fdca26\"],[1.0,\"#f0f921\"]],\"type\":\"histogram2d\"}],\"histogram\":[{\"marker\":{\"pattern\":{\"fillmode\":\"overlay\",\"size\":10,\"solidity\":0.2}},\"type\":\"histogram\"}],\"mesh3d\":[{\"colorbar\":{\"outlinewidth\":0,\"ticks\":\"\"},\"type\":\"mesh3d\"}],\"parcoords\":[{\"line\":{\"colorbar\":{\"outlinewidth\":0,\"ticks\":\"\"}},\"type\":\"parcoords\"}],\"pie\":[{\"automargin\":true,\"type\":\"pie\"}],\"scatter3d\":[{\"line\":{\"colorbar\":{\"outlinewidth\":0,\"ticks\":\"\"}},\"marker\":{\"colorbar\":{\"outlinewidth\":0,\"ticks\":\"\"}},\"type\":\"scatter3d\"}],\"scattercarpet\":[{\"marker\":{\"colorbar\":{\"outlinewidth\":0,\"ticks\":\"\"}},\"type\":\"scattercarpet\"}],\"scattergeo\":[{\"marker\":{\"colorbar\":{\"outlinewidth\":0,\"ticks\":\"\"}},\"type\":\"scattergeo\"}],\"scattergl\":[{\"marker\":{\"colorbar\":{\"outlinewidth\":0,\"ticks\":\"\"}},\"type\":\"scattergl\"}],\"scattermapbox\":[{\"marker\":{\"colorbar\":{\"outlinewidth\":0,\"ticks\":\"\"}},\"type\":\"scattermapbox\"}],\"scatterpolargl\":[{\"marker\":{\"colorbar\":{\"outlinewidth\":0,\"ticks\":\"\"}},\"type\":\"scatterpolargl\"}],\"scatterpolar\":[{\"marker\":{\"colorbar\":{\"outlinewidth\":0,\"ticks\":\"\"}},\"type\":\"scatterpolar\"}],\"scatter\":[{\"fillpattern\":{\"fillmode\":\"overlay\",\"size\":10,\"solidity\":0.2},\"type\":\"scatter\"}],\"scatterternary\":[{\"marker\":{\"colorbar\":{\"outlinewidth\":0,\"ticks\":\"\"}},\"type\":\"scatterternary\"}],\"surface\":[{\"colorbar\":{\"outlinewidth\":0,\"ticks\":\"\"},\"colorscale\":[[0.0,\"#0d0887\"],[0.1111111111111111,\"#46039f\"],[0.2222222222222222,\"#7201a8\"],[0.3333333333333333,\"#9c179e\"],[0.4444444444444444,\"#bd3786\"],[0.5555555555555556,\"#d8576b\"],[0.6666666666666666,\"#ed7953\"],[0.7777777777777778,\"#fb9f3a\"],[0.8888888888888888,\"#fdca26\"],[1.0,\"#f0f921\"]],\"type\":\"surface\"}],\"table\":[{\"cells\":{\"fill\":{\"color\":\"#EBF0F8\"},\"line\":{\"color\":\"white\"}},\"header\":{\"fill\":{\"color\":\"#C8D4E3\"},\"line\":{\"color\":\"white\"}},\"type\":\"table\"}]},\"layout\":{\"annotationdefaults\":{\"arrowcolor\":\"#2a3f5f\",\"arrowhead\":0,\"arrowwidth\":1},\"autotypenumbers\":\"strict\",\"coloraxis\":{\"colorbar\":{\"outlinewidth\":0,\"ticks\":\"\"}},\"colorscale\":{\"diverging\":[[0,\"#8e0152\"],[0.1,\"#c51b7d\"],[0.2,\"#de77ae\"],[0.3,\"#f1b6da\"],[0.4,\"#fde0ef\"],[0.5,\"#f7f7f7\"],[0.6,\"#e6f5d0\"],[0.7,\"#b8e186\"],[0.8,\"#7fbc41\"],[0.9,\"#4d9221\"],[1,\"#276419\"]],\"sequential\":[[0.0,\"#0d0887\"],[0.1111111111111111,\"#46039f\"],[0.2222222222222222,\"#7201a8\"],[0.3333333333333333,\"#9c179e\"],[0.4444444444444444,\"#bd3786\"],[0.5555555555555556,\"#d8576b\"],[0.6666666666666666,\"#ed7953\"],[0.7777777777777778,\"#fb9f3a\"],[0.8888888888888888,\"#fdca26\"],[1.0,\"#f0f921\"]],\"sequentialminus\":[[0.0,\"#0d0887\"],[0.1111111111111111,\"#46039f\"],[0.2222222222222222,\"#7201a8\"],[0.3333333333333333,\"#9c179e\"],[0.4444444444444444,\"#bd3786\"],[0.5555555555555556,\"#d8576b\"],[0.6666666666666666,\"#ed7953\"],[0.7777777777777778,\"#fb9f3a\"],[0.8888888888888888,\"#fdca26\"],[1.0,\"#f0f921\"]]},\"colorway\":[\"#636efa\",\"#EF553B\",\"#00cc96\",\"#ab63fa\",\"#FFA15A\",\"#19d3f3\",\"#FF6692\",\"#B6E880\",\"#FF97FF\",\"#FECB52\"],\"font\":{\"color\":\"#2a3f5f\"},\"geo\":{\"bgcolor\":\"white\",\"lakecolor\":\"white\",\"landcolor\":\"#E5ECF6\",\"showlakes\":true,\"showland\":true,\"subunitcolor\":\"white\"},\"hoverlabel\":{\"align\":\"left\"},\"hovermode\":\"closest\",\"mapbox\":{\"style\":\"light\"},\"paper_bgcolor\":\"white\",\"plot_bgcolor\":\"#E5ECF6\",\"polar\":{\"angularaxis\":{\"gridcolor\":\"white\",\"linecolor\":\"white\",\"ticks\":\"\"},\"bgcolor\":\"#E5ECF6\",\"radialaxis\":{\"gridcolor\":\"white\",\"linecolor\":\"white\",\"ticks\":\"\"}},\"scene\":{\"xaxis\":{\"backgroundcolor\":\"#E5ECF6\",\"gridcolor\":\"white\",\"gridwidth\":2,\"linecolor\":\"white\",\"showbackground\":true,\"ticks\":\"\",\"zerolinecolor\":\"white\"},\"yaxis\":{\"backgroundcolor\":\"#E5ECF6\",\"gridcolor\":\"white\",\"gridwidth\":2,\"linecolor\":\"white\",\"showbackground\":true,\"ticks\":\"\",\"zerolinecolor\":\"white\"},\"zaxis\":{\"backgroundcolor\":\"#E5ECF6\",\"gridcolor\":\"white\",\"gridwidth\":2,\"linecolor\":\"white\",\"showbackground\":true,\"ticks\":\"\",\"zerolinecolor\":\"white\"}},\"shapedefaults\":{\"line\":{\"color\":\"#2a3f5f\"}},\"ternary\":{\"aaxis\":{\"gridcolor\":\"white\",\"linecolor\":\"white\",\"ticks\":\"\"},\"baxis\":{\"gridcolor\":\"white\",\"linecolor\":\"white\",\"ticks\":\"\"},\"bgcolor\":\"#E5ECF6\",\"caxis\":{\"gridcolor\":\"white\",\"linecolor\":\"white\",\"ticks\":\"\"}},\"title\":{\"x\":0.05},\"xaxis\":{\"automargin\":true,\"gridcolor\":\"white\",\"linecolor\":\"white\",\"ticks\":\"\",\"title\":{\"standoff\":15},\"zerolinecolor\":\"white\",\"zerolinewidth\":2},\"yaxis\":{\"automargin\":true,\"gridcolor\":\"white\",\"linecolor\":\"white\",\"ticks\":\"\",\"title\":{\"standoff\":15},\"zerolinecolor\":\"white\",\"zerolinewidth\":2}}},\"xaxis\":{\"anchor\":\"y\",\"domain\":[0.0,0.3133333333333333],\"title\":{\"text\":\"index\"}},\"yaxis\":{\"anchor\":\"x\",\"domain\":[0.0,0.3133333333333333],\"title\":{\"text\":\"Mode\"}},\"xaxis2\":{\"anchor\":\"y2\",\"domain\":[0.3333333333333333,0.6466666666666666],\"matches\":\"x\",\"title\":{\"text\":\"index\"}},\"yaxis2\":{\"anchor\":\"x2\",\"domain\":[0.0,0.3133333333333333],\"matches\":\"y\",\"showticklabels\":false},\"xaxis3\":{\"anchor\":\"y3\",\"domain\":[0.6666666666666666,0.98],\"matches\":\"x\",\"title\":{\"text\":\"index\"}},\"yaxis3\":{\"anchor\":\"x3\",\"domain\":[0.0,0.3133333333333333],\"matches\":\"y\",\"showticklabels\":false},\"xaxis4\":{\"anchor\":\"y4\",\"domain\":[0.0,0.3133333333333333],\"matches\":\"x\",\"showticklabels\":false},\"yaxis4\":{\"anchor\":\"x4\",\"domain\":[0.34333333333333327,0.6566666666666665],\"matches\":\"y\",\"title\":{\"text\":\"value\"}},\"xaxis5\":{\"anchor\":\"y5\",\"domain\":[0.3333333333333333,0.6466666666666666],\"matches\":\"x\",\"showticklabels\":false},\"yaxis5\":{\"anchor\":\"x5\",\"domain\":[0.34333333333333327,0.6566666666666665],\"matches\":\"y\",\"showticklabels\":false},\"xaxis6\":{\"anchor\":\"y6\",\"domain\":[0.6666666666666666,0.98],\"matches\":\"x\",\"showticklabels\":false},\"yaxis6\":{\"anchor\":\"x6\",\"domain\":[0.34333333333333327,0.6566666666666665],\"matches\":\"y\",\"showticklabels\":false},\"xaxis7\":{\"anchor\":\"y7\",\"domain\":[0.0,0.3133333333333333],\"matches\":\"x\",\"showticklabels\":false},\"yaxis7\":{\"anchor\":\"x7\",\"domain\":[0.6866666666666665,0.9999999999999998],\"matches\":\"y\",\"title\":{\"text\":\"value\"}},\"xaxis8\":{\"anchor\":\"y8\",\"domain\":[0.3333333333333333,0.6466666666666666],\"matches\":\"x\",\"showticklabels\":false},\"yaxis8\":{\"anchor\":\"x8\",\"domain\":[0.6866666666666665,0.9999999999999998],\"matches\":\"y\",\"showticklabels\":false},\"xaxis9\":{\"anchor\":\"y9\",\"domain\":[0.6666666666666666,0.98],\"matches\":\"x\",\"showticklabels\":false},\"yaxis9\":{\"anchor\":\"x9\",\"domain\":[0.6866666666666665,0.9999999999999998],\"matches\":\"y\",\"showticklabels\":false},\"annotations\":[{\"font\":{},\"showarrow\":false,\"text\":\"p_mode=0.65\",\"x\":0.15666666666666665,\"xanchor\":\"center\",\"xref\":\"paper\",\"y\":0.9999999999999998,\"yanchor\":\"bottom\",\"yref\":\"paper\"},{\"font\":{},\"showarrow\":false,\"text\":\"p_mode=0.7\",\"x\":0.49,\"xanchor\":\"center\",\"xref\":\"paper\",\"y\":0.9999999999999998,\"yanchor\":\"bottom\",\"yref\":\"paper\"},{\"font\":{},\"showarrow\":false,\"text\":\"p_mode=0.8\",\"x\":0.8233333333333333,\"xanchor\":\"center\",\"xref\":\"paper\",\"y\":0.9999999999999998,\"yanchor\":\"bottom\",\"yref\":\"paper\"},{\"font\":{},\"showarrow\":false,\"text\":\"peer_eff=0.25\",\"textangle\":90,\"x\":0.98,\"xanchor\":\"left\",\"xref\":\"paper\",\"y\":0.15666666666666665,\"yanchor\":\"middle\",\"yref\":\"paper\"},{\"font\":{},\"showarrow\":false,\"text\":\"peer_eff=0.3\",\"textangle\":90,\"x\":0.98,\"xanchor\":\"left\",\"xref\":\"paper\",\"y\":0.4999999999999999,\"yanchor\":\"middle\",\"yref\":\"paper\"},{\"font\":{},\"showarrow\":false,\"text\":\"peer_eff=0.35\",\"textangle\":90,\"x\":0.98,\"xanchor\":\"left\",\"xref\":\"paper\",\"y\":0.8433333333333332,\"yanchor\":\"middle\",\"yref\":\"paper\"}],\"legend\":{\"title\":{\"text\":\"variable\"},\"tracegroupgap\":0},\"margin\":{\"t\":60},\"height\":700},                        {\"responsive\": true}                    ).then(function(){\n",
       "                            \n",
       "var gd = document.getElementById('53f751b0-5736-4ef2-b93c-6e24e22c7d32');\n",
       "var x = new MutationObserver(function (mutations, observer) {{\n",
       "        var display = window.getComputedStyle(gd).display;\n",
       "        if (!display || display === 'none') {{\n",
       "            console.log([gd, 'removed!']);\n",
       "            Plotly.purge(gd);\n",
       "            observer.disconnect();\n",
       "        }}\n",
       "}});\n",
       "\n",
       "// Listen for the removal of the full notebook cells\n",
       "var notebookContainer = gd.closest('#notebook-container');\n",
       "if (notebookContainer) {{\n",
       "    x.observe(notebookContainer, {childList: true});\n",
       "}}\n",
       "\n",
       "// Listen for the clearing of the current output cell\n",
       "var outputEl = gd.closest('.output');\n",
       "if (outputEl) {{\n",
       "    x.observe(outputEl, {childList: true});\n",
       "}}\n",
       "\n",
       "                        })                };                });            </script>        </div>"
      ]
     },
     "metadata": {},
     "output_type": "display_data"
    }
   ],
   "source": [
    "# plot_df = x_df.reset_index().query(\"iteration%15==0\")\n",
    "plot_df = x_df.reset_index().set_index([\"p_mode\",\"peer_eff\",\"iteration\"]).loc[top_5.index,:]\n",
    "fig = px.line(\n",
    "    plot_df.reset_index(),\n",
    "    x=\"index\",\n",
    "    y=\"value\",\n",
    "    color=\"variable\",\n",
    "    facet_col=\"p_mode\",\n",
    "    facet_row=\"peer_eff\",\n",
    "    # line_dash=\"iteration\",\n",
    "    template=\"plotly\",\n",
    "    height=700,\n",
    "    category_orders={\n",
    "        \"p_mode\": sorted(plot_df.reset_index().p_mode.unique()),\n",
    "    },\n",
    ")  # \"gut\":asc_gut})\n",
    "\n",
    "fig.update_traces(\n",
    "    opacity=0.2,\n",
    ")\n",
    "fig.update_layout(yaxis_title=\"Mode\")\n",
    "fig.write_html(f\"{results_dir}/fitted_att_modes.html\")\n",
    "fig"
   ]
  },
  {
   "cell_type": "code",
   "execution_count": 69,
   "metadata": {},
   "outputs": [],
   "source": [
    "model_format_df = plot_df.drop(\"iteration\").reset_index().pivot(columns=\"variable\", index=[\"p_mode\",\"peer_eff\",\"index\"],values=\"value\")"
   ]
  },
  {
   "cell_type": "code",
   "execution_count": 71,
   "metadata": {},
   "outputs": [
    {
     "data": {
      "text/plain": [
       "(0.7, 0.25)"
      ]
     },
     "execution_count": 71,
     "metadata": {},
     "output_type": "execute_result"
    }
   ],
   "source": [
    "p_mode, peer_eff,_ = top_5.index[-1]\n",
    "p_mode, peer_eff"
   ]
  },
  {
   "cell_type": "code",
   "execution_count": 72,
   "metadata": {},
   "outputs": [
    {
     "data": {
      "text/html": [
       "<div>\n",
       "<style scoped>\n",
       "    .dataframe tbody tr th:only-of-type {\n",
       "        vertical-align: middle;\n",
       "    }\n",
       "\n",
       "    .dataframe tbody tr th {\n",
       "        vertical-align: top;\n",
       "    }\n",
       "\n",
       "    .dataframe thead th {\n",
       "        text-align: right;\n",
       "    }\n",
       "</style>\n",
       "<table border=\"1\" class=\"dataframe\">\n",
       "  <thead>\n",
       "    <tr style=\"text-align: right;\">\n",
       "      <th>variable</th>\n",
       "      <th>Electric furnace</th>\n",
       "      <th>Gas furnace</th>\n",
       "      <th>Heat pump</th>\n",
       "      <th>Oil furnace</th>\n",
       "      <th>Wood or wood pellets furnace</th>\n",
       "    </tr>\n",
       "    <tr>\n",
       "      <th>index</th>\n",
       "      <th></th>\n",
       "      <th></th>\n",
       "      <th></th>\n",
       "      <th></th>\n",
       "      <th></th>\n",
       "    </tr>\n",
       "  </thead>\n",
       "  <tbody>\n",
       "    <tr>\n",
       "      <th>2000</th>\n",
       "      <td>0.585239</td>\n",
       "      <td>0.050000</td>\n",
       "      <td>0.588027</td>\n",
       "      <td>0.471438</td>\n",
       "      <td>0.050000</td>\n",
       "    </tr>\n",
       "    <tr>\n",
       "      <th>2001</th>\n",
       "      <td>0.895224</td>\n",
       "      <td>0.150326</td>\n",
       "      <td>0.253241</td>\n",
       "      <td>0.739246</td>\n",
       "      <td>0.577891</td>\n",
       "    </tr>\n",
       "    <tr>\n",
       "      <th>2002</th>\n",
       "      <td>0.516529</td>\n",
       "      <td>0.894672</td>\n",
       "      <td>0.242740</td>\n",
       "      <td>0.760815</td>\n",
       "      <td>0.050000</td>\n",
       "    </tr>\n",
       "    <tr>\n",
       "      <th>2003</th>\n",
       "      <td>0.728534</td>\n",
       "      <td>0.118788</td>\n",
       "      <td>0.050000</td>\n",
       "      <td>0.635487</td>\n",
       "      <td>0.305062</td>\n",
       "    </tr>\n",
       "    <tr>\n",
       "      <th>2004</th>\n",
       "      <td>0.772549</td>\n",
       "      <td>0.364093</td>\n",
       "      <td>0.514306</td>\n",
       "      <td>0.854667</td>\n",
       "      <td>0.805211</td>\n",
       "    </tr>\n",
       "    <tr>\n",
       "      <th>2005</th>\n",
       "      <td>0.932728</td>\n",
       "      <td>0.165057</td>\n",
       "      <td>0.212727</td>\n",
       "      <td>0.507624</td>\n",
       "      <td>0.516100</td>\n",
       "    </tr>\n",
       "    <tr>\n",
       "      <th>2006</th>\n",
       "      <td>0.205018</td>\n",
       "      <td>0.795803</td>\n",
       "      <td>0.817242</td>\n",
       "      <td>0.937935</td>\n",
       "      <td>0.396037</td>\n",
       "    </tr>\n",
       "    <tr>\n",
       "      <th>2007</th>\n",
       "      <td>0.696772</td>\n",
       "      <td>0.050000</td>\n",
       "      <td>0.498850</td>\n",
       "      <td>0.178869</td>\n",
       "      <td>0.950000</td>\n",
       "    </tr>\n",
       "    <tr>\n",
       "      <th>2008</th>\n",
       "      <td>0.354582</td>\n",
       "      <td>0.323995</td>\n",
       "      <td>0.149203</td>\n",
       "      <td>0.950000</td>\n",
       "      <td>0.111448</td>\n",
       "    </tr>\n",
       "    <tr>\n",
       "      <th>2009</th>\n",
       "      <td>0.950000</td>\n",
       "      <td>0.376820</td>\n",
       "      <td>0.572438</td>\n",
       "      <td>0.050000</td>\n",
       "      <td>0.325781</td>\n",
       "    </tr>\n",
       "    <tr>\n",
       "      <th>2010</th>\n",
       "      <td>0.851579</td>\n",
       "      <td>0.362005</td>\n",
       "      <td>0.483422</td>\n",
       "      <td>0.671202</td>\n",
       "      <td>0.494678</td>\n",
       "    </tr>\n",
       "    <tr>\n",
       "      <th>2011</th>\n",
       "      <td>0.698384</td>\n",
       "      <td>0.856540</td>\n",
       "      <td>0.486939</td>\n",
       "      <td>0.050000</td>\n",
       "      <td>0.249286</td>\n",
       "    </tr>\n",
       "    <tr>\n",
       "      <th>2012</th>\n",
       "      <td>0.719481</td>\n",
       "      <td>0.260663</td>\n",
       "      <td>0.514714</td>\n",
       "      <td>0.102758</td>\n",
       "      <td>0.690360</td>\n",
       "    </tr>\n",
       "    <tr>\n",
       "      <th>2013</th>\n",
       "      <td>0.694415</td>\n",
       "      <td>0.050000</td>\n",
       "      <td>0.885765</td>\n",
       "      <td>0.579679</td>\n",
       "      <td>0.208904</td>\n",
       "    </tr>\n",
       "    <tr>\n",
       "      <th>2014</th>\n",
       "      <td>0.676421</td>\n",
       "      <td>0.497397</td>\n",
       "      <td>0.661291</td>\n",
       "      <td>0.617803</td>\n",
       "      <td>0.458933</td>\n",
       "    </tr>\n",
       "    <tr>\n",
       "      <th>2015</th>\n",
       "      <td>0.557602</td>\n",
       "      <td>0.167396</td>\n",
       "      <td>0.342261</td>\n",
       "      <td>0.197838</td>\n",
       "      <td>0.283052</td>\n",
       "    </tr>\n",
       "    <tr>\n",
       "      <th>2016</th>\n",
       "      <td>0.845755</td>\n",
       "      <td>0.399344</td>\n",
       "      <td>0.311068</td>\n",
       "      <td>0.645558</td>\n",
       "      <td>0.553784</td>\n",
       "    </tr>\n",
       "    <tr>\n",
       "      <th>2017</th>\n",
       "      <td>0.897450</td>\n",
       "      <td>0.666797</td>\n",
       "      <td>0.487373</td>\n",
       "      <td>0.901036</td>\n",
       "      <td>0.950000</td>\n",
       "    </tr>\n",
       "    <tr>\n",
       "      <th>2018</th>\n",
       "      <td>0.147251</td>\n",
       "      <td>0.247413</td>\n",
       "      <td>0.929981</td>\n",
       "      <td>0.451269</td>\n",
       "      <td>0.795716</td>\n",
       "    </tr>\n",
       "    <tr>\n",
       "      <th>2019</th>\n",
       "      <td>0.950000</td>\n",
       "      <td>0.528655</td>\n",
       "      <td>0.950000</td>\n",
       "      <td>0.446204</td>\n",
       "      <td>0.502344</td>\n",
       "    </tr>\n",
       "    <tr>\n",
       "      <th>2020</th>\n",
       "      <td>0.614832</td>\n",
       "      <td>0.703177</td>\n",
       "      <td>0.278973</td>\n",
       "      <td>0.510605</td>\n",
       "      <td>0.701604</td>\n",
       "    </tr>\n",
       "  </tbody>\n",
       "</table>\n",
       "</div>"
      ],
      "text/plain": [
       "variable  Electric furnace  Gas furnace  Heat pump  Oil furnace  \\\n",
       "index                                                             \n",
       "2000              0.585239     0.050000   0.588027     0.471438   \n",
       "2001              0.895224     0.150326   0.253241     0.739246   \n",
       "2002              0.516529     0.894672   0.242740     0.760815   \n",
       "2003              0.728534     0.118788   0.050000     0.635487   \n",
       "2004              0.772549     0.364093   0.514306     0.854667   \n",
       "2005              0.932728     0.165057   0.212727     0.507624   \n",
       "2006              0.205018     0.795803   0.817242     0.937935   \n",
       "2007              0.696772     0.050000   0.498850     0.178869   \n",
       "2008              0.354582     0.323995   0.149203     0.950000   \n",
       "2009              0.950000     0.376820   0.572438     0.050000   \n",
       "2010              0.851579     0.362005   0.483422     0.671202   \n",
       "2011              0.698384     0.856540   0.486939     0.050000   \n",
       "2012              0.719481     0.260663   0.514714     0.102758   \n",
       "2013              0.694415     0.050000   0.885765     0.579679   \n",
       "2014              0.676421     0.497397   0.661291     0.617803   \n",
       "2015              0.557602     0.167396   0.342261     0.197838   \n",
       "2016              0.845755     0.399344   0.311068     0.645558   \n",
       "2017              0.897450     0.666797   0.487373     0.901036   \n",
       "2018              0.147251     0.247413   0.929981     0.451269   \n",
       "2019              0.950000     0.528655   0.950000     0.446204   \n",
       "2020              0.614832     0.703177   0.278973     0.510605   \n",
       "\n",
       "variable  Wood or wood pellets furnace  \n",
       "index                                   \n",
       "2000                          0.050000  \n",
       "2001                          0.577891  \n",
       "2002                          0.050000  \n",
       "2003                          0.305062  \n",
       "2004                          0.805211  \n",
       "2005                          0.516100  \n",
       "2006                          0.396037  \n",
       "2007                          0.950000  \n",
       "2008                          0.111448  \n",
       "2009                          0.325781  \n",
       "2010                          0.494678  \n",
       "2011                          0.249286  \n",
       "2012                          0.690360  \n",
       "2013                          0.208904  \n",
       "2014                          0.458933  \n",
       "2015                          0.283052  \n",
       "2016                          0.553784  \n",
       "2017                          0.950000  \n",
       "2018                          0.795716  \n",
       "2019                          0.502344  \n",
       "2020                          0.701604  "
      ]
     },
     "execution_count": 72,
     "metadata": {},
     "output_type": "execute_result"
    }
   ],
   "source": [
    "att_modes = model_format_df.loc[(p_mode, peer_eff),:]\n",
    "att_modes"
   ]
  },
  {
   "cell_type": "code",
   "execution_count": 73,
   "metadata": {},
   "outputs": [],
   "source": [
    "from batch import BatchResult\n",
    "province = \"Ontario\"\n",
    "N = 500\n",
    "\n",
    "\n",
    "batch_parameters = {\n",
    "    \"N\": [N],\n",
    "    \"province\": [province],\n",
    "    \"random_seed\": range(20, 25),\n",
    "    \"start_year\": 2000,\n",
    "    \"tech_att_mode_table\": [att_modes],\n",
    "    \"n_segregation_steps\": [40],\n",
    "    \"interact\": [False],\n",
    "    \"price_weight_mode\": [p_mode],\n",
    "    \"ts_step_length\": [\"W\"],\n",
    "    \"peer_effect_weight\": [peer_eff],\n",
    "}\n",
    "b_result = BatchResult.from_parameters(batch_parameters, display_progress=False)"
   ]
  },
  {
   "cell_type": "code",
   "execution_count": 79,
   "metadata": {},
   "outputs": [
    {
     "data": {
      "text/html": [
       "<div>\n",
       "<style scoped>\n",
       "    .dataframe tbody tr th:only-of-type {\n",
       "        vertical-align: middle;\n",
       "    }\n",
       "\n",
       "    .dataframe tbody tr th {\n",
       "        vertical-align: top;\n",
       "    }\n",
       "\n",
       "    .dataframe thead th {\n",
       "        text-align: right;\n",
       "    }\n",
       "</style>\n",
       "<table border=\"1\" class=\"dataframe\">\n",
       "  <thead>\n",
       "    <tr style=\"text-align: right;\">\n",
       "      <th></th>\n",
       "      <th>RunId</th>\n",
       "      <th>year</th>\n",
       "      <th>variable</th>\n",
       "      <th>value</th>\n",
       "    </tr>\n",
       "  </thead>\n",
       "  <tbody>\n",
       "    <tr>\n",
       "      <th>0</th>\n",
       "      <td>3</td>\n",
       "      <td>2000.00</td>\n",
       "      <td>Gas furnace</td>\n",
       "      <td>0.698</td>\n",
       "    </tr>\n",
       "    <tr>\n",
       "      <th>1</th>\n",
       "      <td>3</td>\n",
       "      <td>2000.25</td>\n",
       "      <td>Gas furnace</td>\n",
       "      <td>0.700</td>\n",
       "    </tr>\n",
       "    <tr>\n",
       "      <th>2</th>\n",
       "      <td>3</td>\n",
       "      <td>2000.50</td>\n",
       "      <td>Gas furnace</td>\n",
       "      <td>0.696</td>\n",
       "    </tr>\n",
       "    <tr>\n",
       "      <th>3</th>\n",
       "      <td>3</td>\n",
       "      <td>2000.75</td>\n",
       "      <td>Gas furnace</td>\n",
       "      <td>0.696</td>\n",
       "    </tr>\n",
       "    <tr>\n",
       "      <th>4</th>\n",
       "      <td>3</td>\n",
       "      <td>2001.00</td>\n",
       "      <td>Gas furnace</td>\n",
       "      <td>0.690</td>\n",
       "    </tr>\n",
       "    <tr>\n",
       "      <th>...</th>\n",
       "      <td>...</td>\n",
       "      <td>...</td>\n",
       "      <td>...</td>\n",
       "      <td>...</td>\n",
       "    </tr>\n",
       "    <tr>\n",
       "      <th>2020</th>\n",
       "      <td>2</td>\n",
       "      <td>2019.00</td>\n",
       "      <td>Heat pump</td>\n",
       "      <td>0.154</td>\n",
       "    </tr>\n",
       "    <tr>\n",
       "      <th>2021</th>\n",
       "      <td>2</td>\n",
       "      <td>2019.25</td>\n",
       "      <td>Heat pump</td>\n",
       "      <td>0.154</td>\n",
       "    </tr>\n",
       "    <tr>\n",
       "      <th>2022</th>\n",
       "      <td>2</td>\n",
       "      <td>2019.50</td>\n",
       "      <td>Heat pump</td>\n",
       "      <td>0.164</td>\n",
       "    </tr>\n",
       "    <tr>\n",
       "      <th>2023</th>\n",
       "      <td>2</td>\n",
       "      <td>2019.75</td>\n",
       "      <td>Heat pump</td>\n",
       "      <td>0.170</td>\n",
       "    </tr>\n",
       "    <tr>\n",
       "      <th>2024</th>\n",
       "      <td>2</td>\n",
       "      <td>2020.00</td>\n",
       "      <td>Heat pump</td>\n",
       "      <td>0.178</td>\n",
       "    </tr>\n",
       "  </tbody>\n",
       "</table>\n",
       "<p>2025 rows × 4 columns</p>\n",
       "</div>"
      ],
      "text/plain": [
       "      RunId     year     variable  value\n",
       "0         3  2000.00  Gas furnace  0.698\n",
       "1         3  2000.25  Gas furnace  0.700\n",
       "2         3  2000.50  Gas furnace  0.696\n",
       "3         3  2000.75  Gas furnace  0.696\n",
       "4         3  2001.00  Gas furnace  0.690\n",
       "...     ...      ...          ...    ...\n",
       "2020      2  2019.00    Heat pump  0.154\n",
       "2021      2  2019.25    Heat pump  0.154\n",
       "2022      2  2019.50    Heat pump  0.164\n",
       "2023      2  2019.75    Heat pump  0.170\n",
       "2024      2  2020.00    Heat pump  0.178\n",
       "\n",
       "[2025 rows x 4 columns]"
      ]
     },
     "execution_count": 79,
     "metadata": {},
     "output_type": "execute_result"
    }
   ],
   "source": [
    "model_tech_shares = b_result.tech_shares_df.drop(\"province\", axis=1).melt(id_vars=[\"RunId\",\"year\",])\n",
    "model_tech_shares"
   ]
  },
  {
   "cell_type": "code",
   "execution_count": 80,
   "metadata": {},
   "outputs": [
    {
     "data": {
      "image/png": "[encoded data removed]",
      "text/plain": [
       "<Figure size 640x480 with 1 Axes>"
      ]
     },
     "metadata": {},
     "output_type": "display_data"
    }
   ],
   "source": [
    "from data.canada import nrcan_tech_shares_df\n",
    "from config import TECHNOLOGY_COLORS\n",
    "import seaborn as sns\n",
    "ontario_tech_shares = nrcan_tech_shares_df.loc[:,\"Ontario\",:]/100\n",
    "\n",
    "ax = sns.lineplot(model_tech_shares, x=\"year\", y=\"value\", hue=\"variable\", palette=TECHNOLOGY_COLORS)"
   ]
  },
  {
   "cell_type": "code",
   "execution_count": 81,
   "metadata": {},
   "outputs": [
    {
     "data": {
      "text/plain": [
       "[<matplotlib.axis.XTick at 0x7f05e55372b0>,\n",
       " <matplotlib.axis.XTick at 0x7f05e5537670>,\n",
       " <matplotlib.axis.XTick at 0x7f05ec44ae60>,\n",
       " <matplotlib.axis.XTick at 0x7f05ed306b60>,\n",
       " <matplotlib.axis.XTick at 0x7f05ed307700>]"
      ]
     },
     "execution_count": 81,
     "metadata": {},
     "output_type": "execute_result"
    }
   ],
   "source": [
    "from matplotlib.lines import Line2D\n",
    "import matplotlib.pyplot as plt\n",
    "import config\n",
    "added_historic_traces=False\n",
    "historic_tech_shares = nrcan_tech_shares_df.copy()\n",
    "historic_tech_shares.index = historic_tech_shares.index.swaplevel()\n",
    "if not added_historic_traces:\n",
    "    for tech in historic_tech_shares.columns:\n",
    "        y = historic_tech_shares.loc[province, tech]/100\n",
    "        added_historic_traces = True\n",
    "        ax.plot(y.index,y.values, \"--\", color=config.TECHNOLOGY_COLORS[tech],)\n",
    "\n",
    "# new_title = 'Heating technologies'\n",
    "# ax.legend()\n",
    "\n",
    "\n",
    "custom_lines = [Line2D([0], [0], linestyle=\"--\", color=\"black\", lw=1),\n",
    "                Line2D([0], [0], color=\"black\", lw=1),\n",
    "                ]\n",
    "ax.legend(custom_lines, ['historic', 'modelled'],)\n",
    "ax.set_xticks(range(2000,2021,5), labels=range(2000,2021,5))"
   ]
  },
  {
   "cell_type": "code",
   "execution_count": 82,
   "metadata": {},
   "outputs": [
    {
     "data": {
      "image/png": "[encoded data removed]",
      "text/plain": [
       "<Figure size 640x480 with 1 Axes>"
      ]
     },
     "execution_count": 82,
     "metadata": {},
     "output_type": "execute_result"
    }
   ],
   "source": [
    "ax.figure"
   ]
  },
  {
   "cell_type": "code",
   "execution_count": null,
   "metadata": {},
   "outputs": [],
   "source": []
  }
 ],
 "metadata": {
  "kernelspec": {
   "display_name": "cando",
   "language": "python",
   "name": "python3"
  },
  "language_info": {
   "codemirror_mode": {
    "name": "ipython",
    "version": 3
   },
   "file_extension": ".py",
   "mimetype": "text/x-python",
   "name": "python",
   "nbconvert_exporter": "python",
   "pygments_lexer": "ipython3",
   "version": "3.10.13"
  }
 },
 "nbformat": 4,
 "nbformat_minor": 2
}
