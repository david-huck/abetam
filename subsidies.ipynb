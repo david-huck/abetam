{
 "cells": [
  {
   "cell_type": "code",
   "execution_count": 14,
   "id": "01HXHHPGYRHZKB1TDPEJWM373N",
   "metadata": {},
   "outputs": [
    {
     "name": "stdout",
     "output_type": "stream",
     "text": [
      "results_dir=WindowsPath('c:/src/canadopt/abetam/results/feature_utility_distribution/a1b0b7b9d8596a25c6fa68a775691aab') does not exist. Running model.\n"
     ]
    },
    {
     "name": "stderr",
     "output_type": "stream",
     "text": [
      "100%|██████████| 6/6 [00:26<00:00,  4.50s/it]\n"
     ]
    }
   ],
   "source": [
    "from batch import BatchResult\n",
    "import pandas as pd\n",
    "batch_params = {\n",
    "    \"N\": [98],\n",
    "    \"province\": [\"Ontario\"],\n",
    "    \"random_seed\": range(0,6),\n",
    "    \"n_segregation_steps\": [41],\n",
    "    \"price_weight_mode\": [0.6],\n",
    "    \"ts_step_length\": [\"W\"],\n",
    "    \"start_year\": 2020,\n",
    "    \"refurbishment_rate\": 0.03,\n",
    "    \"hp_subsidy\": 0.3,\n",
    "    \"fossil_ban_year\": 2030\n",
    "}\n",
    "\n",
    "res = BatchResult.from_parameters(batch_params, max_steps=120)\n"
   ]
  },
  {
   "cell_type": "code",
   "execution_count": 3,
   "id": "01J4V6KPARWMAEQRRCTN25BXQ7",
   "metadata": {},
   "outputs": [
    {
     "data": {
      "text/plain": [
       "WindowsPath('c:/src/canadopt/abetam/results/feature_utility_distribution/fc8d0891256db724d145ceb707c0297d')"
      ]
     },
     "execution_count": 3,
     "metadata": {},
     "output_type": "execute_result"
    }
   ],
   "source": [
    "res.save()"
   ]
  },
  {
   "cell_type": "markdown",
   "metadata": {},
   "source": [
    "# Calculation of subsidies\n",
    "\n",
    "Total amount of subsidies $T^S$\n",
    "\n",
    "$$\n",
    "T^S = \\sum_y N^p_y * s * P_y \n",
    "$$\n",
    "with \n",
    "* Purchase price at year $y$: $P_y$\n",
    "* subsidy fraction $s$\n",
    "* amount of purchases in a year $N^p_y$\n",
    "\n",
    "where $P_y = C_{y,i} * \\dot{D}$ "
   ]
  },
  {
   "cell_type": "code",
   "execution_count": 15,
   "id": "01HXHHPGYRE2EP8XVAC8A8TM4M",
   "metadata": {},
   "outputs": [
    {
     "data": {
      "text/plain": [
       "0"
      ]
     },
     "execution_count": 15,
     "metadata": {},
     "output_type": "execute_result"
    }
   ],
   "source": [
    "(res.tech_shares_df.set_index([\"RunId\",\"province\",\"year\"]).sum(axis=1)*100 - 100.0 > 1e-6).sum()"
   ]
  },
  {
   "cell_type": "code",
   "execution_count": 16,
   "metadata": {},
   "outputs": [
    {
     "data": {
      "text/html": [
       "<div>\n",
       "<style scoped>\n",
       "    .dataframe tbody tr th:only-of-type {\n",
       "        vertical-align: middle;\n",
       "    }\n",
       "\n",
       "    .dataframe tbody tr th {\n",
       "        vertical-align: top;\n",
       "    }\n",
       "\n",
       "    .dataframe thead th {\n",
       "        text-align: right;\n",
       "    }\n",
       "</style>\n",
       "<table border=\"1\" class=\"dataframe\">\n",
       "  <thead>\n",
       "    <tr style=\"text-align: right;\">\n",
       "      <th></th>\n",
       "      <th>AgentID</th>\n",
       "      <th>RunId</th>\n",
       "      <th>year</th>\n",
       "      <th>Appliance name</th>\n",
       "      <th>annuity_cost</th>\n",
       "      <th>fuel_cost</th>\n",
       "      <th>fom_cost</th>\n",
       "    </tr>\n",
       "  </thead>\n",
       "  <tbody>\n",
       "    <tr>\n",
       "      <th>0</th>\n",
       "      <td>0</td>\n",
       "      <td>2</td>\n",
       "      <td>2020.0</td>\n",
       "      <td>Electric furnace</td>\n",
       "      <td>2.928080e+06</td>\n",
       "      <td>1.080415e+08</td>\n",
       "      <td>1.225632e+06</td>\n",
       "    </tr>\n",
       "    <tr>\n",
       "      <th>1</th>\n",
       "      <td>1</td>\n",
       "      <td>2</td>\n",
       "      <td>2020.0</td>\n",
       "      <td>Electric furnace</td>\n",
       "      <td>1.374314e+06</td>\n",
       "      <td>5.071000e+07</td>\n",
       "      <td>5.752586e+05</td>\n",
       "    </tr>\n",
       "    <tr>\n",
       "      <th>2</th>\n",
       "      <td>2</td>\n",
       "      <td>2</td>\n",
       "      <td>2020.0</td>\n",
       "      <td>Electric furnace</td>\n",
       "      <td>3.073834e+06</td>\n",
       "      <td>1.134196e+08</td>\n",
       "      <td>1.286642e+06</td>\n",
       "    </tr>\n",
       "    <tr>\n",
       "      <th>3</th>\n",
       "      <td>3</td>\n",
       "      <td>2</td>\n",
       "      <td>2020.0</td>\n",
       "      <td>Electric furnace</td>\n",
       "      <td>4.787175e+06</td>\n",
       "      <td>1.766392e+08</td>\n",
       "      <td>2.003810e+06</td>\n",
       "    </tr>\n",
       "    <tr>\n",
       "      <th>4</th>\n",
       "      <td>4</td>\n",
       "      <td>2</td>\n",
       "      <td>2020.0</td>\n",
       "      <td>Electric furnace</td>\n",
       "      <td>2.386074e+06</td>\n",
       "      <td>8.804234e+07</td>\n",
       "      <td>9.987599e+05</td>\n",
       "    </tr>\n",
       "    <tr>\n",
       "      <th>...</th>\n",
       "      <td>...</td>\n",
       "      <td>...</td>\n",
       "      <td>...</td>\n",
       "      <td>...</td>\n",
       "      <td>...</td>\n",
       "      <td>...</td>\n",
       "      <td>...</td>\n",
       "    </tr>\n",
       "    <tr>\n",
       "      <th>71143</th>\n",
       "      <td>93</td>\n",
       "      <td>1</td>\n",
       "      <td>2050.0</td>\n",
       "      <td>Heat pump</td>\n",
       "      <td>5.900543e+06</td>\n",
       "      <td>4.931304e+06</td>\n",
       "      <td>1.114807e+06</td>\n",
       "    </tr>\n",
       "    <tr>\n",
       "      <th>71144</th>\n",
       "      <td>94</td>\n",
       "      <td>1</td>\n",
       "      <td>2050.0</td>\n",
       "      <td>Electric furnace</td>\n",
       "      <td>1.819230e+06</td>\n",
       "      <td>8.303528e+07</td>\n",
       "      <td>4.101341e+05</td>\n",
       "    </tr>\n",
       "    <tr>\n",
       "      <th>71145</th>\n",
       "      <td>95</td>\n",
       "      <td>1</td>\n",
       "      <td>2050.0</td>\n",
       "      <td>Electric furnace</td>\n",
       "      <td>2.262267e+06</td>\n",
       "      <td>1.034388e+08</td>\n",
       "      <td>5.100140e+05</td>\n",
       "    </tr>\n",
       "    <tr>\n",
       "      <th>71146</th>\n",
       "      <td>96</td>\n",
       "      <td>1</td>\n",
       "      <td>2050.0</td>\n",
       "      <td>Electric furnace</td>\n",
       "      <td>3.894187e+06</td>\n",
       "      <td>1.772292e+08</td>\n",
       "      <td>8.779201e+05</td>\n",
       "    </tr>\n",
       "    <tr>\n",
       "      <th>71147</th>\n",
       "      <td>97</td>\n",
       "      <td>1</td>\n",
       "      <td>2050.0</td>\n",
       "      <td>Heat pump</td>\n",
       "      <td>2.223190e+07</td>\n",
       "      <td>2.691578e+07</td>\n",
       "      <td>4.200338e+06</td>\n",
       "    </tr>\n",
       "  </tbody>\n",
       "</table>\n",
       "<p>71148 rows × 7 columns</p>\n",
       "</div>"
      ],
      "text/plain": [
       "       AgentID  RunId    year    Appliance name  annuity_cost     fuel_cost  \\\n",
       "0            0      2  2020.0  Electric furnace  2.928080e+06  1.080415e+08   \n",
       "1            1      2  2020.0  Electric furnace  1.374314e+06  5.071000e+07   \n",
       "2            2      2  2020.0  Electric furnace  3.073834e+06  1.134196e+08   \n",
       "3            3      2  2020.0  Electric furnace  4.787175e+06  1.766392e+08   \n",
       "4            4      2  2020.0  Electric furnace  2.386074e+06  8.804234e+07   \n",
       "...        ...    ...     ...               ...           ...           ...   \n",
       "71143       93      1  2050.0         Heat pump  5.900543e+06  4.931304e+06   \n",
       "71144       94      1  2050.0  Electric furnace  1.819230e+06  8.303528e+07   \n",
       "71145       95      1  2050.0  Electric furnace  2.262267e+06  1.034388e+08   \n",
       "71146       96      1  2050.0  Electric furnace  3.894187e+06  1.772292e+08   \n",
       "71147       97      1  2050.0         Heat pump  2.223190e+07  2.691578e+07   \n",
       "\n",
       "           fom_cost  \n",
       "0      1.225632e+06  \n",
       "1      5.752586e+05  \n",
       "2      1.286642e+06  \n",
       "3      2.003810e+06  \n",
       "4      9.987599e+05  \n",
       "...             ...  \n",
       "71143  1.114807e+06  \n",
       "71144  4.101341e+05  \n",
       "71145  5.100140e+05  \n",
       "71146  8.779201e+05  \n",
       "71147  4.200338e+06  \n",
       "\n",
       "[71148 rows x 7 columns]"
      ]
     },
     "execution_count": 16,
     "metadata": {},
     "output_type": "execute_result"
    }
   ],
   "source": [
    "import plotly.express as px\n",
    "from batch import transform_dict_column\n",
    "cost_comps = res.results_df[[\"AgentID\",\"RunId\",\"year\",'Cost components','Appliance name']]\n",
    "cost_comps, new_cols = transform_dict_column(cost_comps, \"Cost components\")\n",
    "cost_comps"
   ]
  },
  {
   "cell_type": "code",
   "execution_count": 17,
   "metadata": {},
   "outputs": [
    {
     "data": {
      "application/vnd.plotly.v1+json": {
       "config": {
        "plotlyServerURL": "https://plot.ly"
       },
       "data": [
        {
         "alignmentgroup": "True",
         "hovertemplate": "Appliance name=Electric furnace<br>variable=annuity_cost<br>scenario=%{x}<br>value=%{y}<extra></extra>",
         "legendgroup": "Electric furnace, annuity_cost",
         "marker": {
          "color": "#636efa",
          "pattern": {
           "shape": ""
          }
         },
         "name": "Electric furnace, annuity_cost",
         "offsetgroup": "Electric furnace, annuity_cost",
         "orientation": "v",
         "showlegend": true,
         "textposition": "auto",
         "type": "bar",
         "x": [
          "test"
         ],
         "xaxis": "x",
         "y": [
          1929414677.291893
         ],
         "yaxis": "y"
        },
        {
         "alignmentgroup": "True",
         "hovertemplate": "Appliance name=Electric furnace<br>variable=fom_cost<br>scenario=%{x}<br>value=%{y}<extra></extra>",
         "legendgroup": "Electric furnace, fom_cost",
         "marker": {
          "color": "#636efa",
          "pattern": {
           "shape": "/"
          }
         },
         "name": "Electric furnace, fom_cost",
         "offsetgroup": "Electric furnace, fom_cost",
         "orientation": "v",
         "showlegend": true,
         "textposition": "auto",
         "type": "bar",
         "x": [
          "test"
         ],
         "xaxis": "x",
         "y": [
          590758166.984182
         ],
         "yaxis": "y"
        },
        {
         "alignmentgroup": "True",
         "hovertemplate": "Appliance name=Electric furnace<br>variable=fuel_cost<br>scenario=%{x}<br>value=%{y}<extra></extra>",
         "legendgroup": "Electric furnace, fuel_cost",
         "marker": {
          "color": "#636efa",
          "pattern": {
           "shape": "\\"
          }
         },
         "name": "Electric furnace, fuel_cost",
         "offsetgroup": "Electric furnace, fuel_cost",
         "orientation": "v",
         "showlegend": true,
         "textposition": "auto",
         "type": "bar",
         "x": [
          "test"
         ],
         "xaxis": "x",
         "y": [
          92421301377.154
         ],
         "yaxis": "y"
        },
        {
         "alignmentgroup": "True",
         "hovertemplate": "Appliance name=Gas furnace<br>variable=annuity_cost<br>scenario=%{x}<br>value=%{y}<extra></extra>",
         "legendgroup": "Gas furnace, annuity_cost",
         "marker": {
          "color": "#EF553B",
          "pattern": {
           "shape": ""
          }
         },
         "name": "Gas furnace, annuity_cost",
         "offsetgroup": "Gas furnace, annuity_cost",
         "orientation": "v",
         "showlegend": true,
         "textposition": "auto",
         "type": "bar",
         "x": [
          "test"
         ],
         "xaxis": "x",
         "y": [
          6204577689.687946
         ],
         "yaxis": "y"
        },
        {
         "alignmentgroup": "True",
         "hovertemplate": "Appliance name=Gas furnace<br>variable=fom_cost<br>scenario=%{x}<br>value=%{y}<extra></extra>",
         "legendgroup": "Gas furnace, fom_cost",
         "marker": {
          "color": "#EF553B",
          "pattern": {
           "shape": "/"
          }
         },
         "name": "Gas furnace, fom_cost",
         "offsetgroup": "Gas furnace, fom_cost",
         "orientation": "v",
         "showlegend": true,
         "textposition": "auto",
         "type": "bar",
         "x": [
          "test"
         ],
         "xaxis": "x",
         "y": [
          1441142773.730623
         ],
         "yaxis": "y"
        },
        {
         "alignmentgroup": "True",
         "hovertemplate": "Appliance name=Gas furnace<br>variable=fuel_cost<br>scenario=%{x}<br>value=%{y}<extra></extra>",
         "legendgroup": "Gas furnace, fuel_cost",
         "marker": {
          "color": "#EF553B",
          "pattern": {
           "shape": "\\"
          }
         },
         "name": "Gas furnace, fuel_cost",
         "offsetgroup": "Gas furnace, fuel_cost",
         "orientation": "v",
         "showlegend": true,
         "textposition": "auto",
         "type": "bar",
         "x": [
          "test"
         ],
         "xaxis": "x",
         "y": [
          57732921315.97524
         ],
         "yaxis": "y"
        },
        {
         "alignmentgroup": "True",
         "hovertemplate": "Appliance name=Heat pump<br>variable=annuity_cost<br>scenario=%{x}<br>value=%{y}<extra></extra>",
         "legendgroup": "Heat pump, annuity_cost",
         "marker": {
          "color": "#00cc96",
          "pattern": {
           "shape": ""
          }
         },
         "name": "Heat pump, annuity_cost",
         "offsetgroup": "Heat pump, annuity_cost",
         "orientation": "v",
         "showlegend": true,
         "textposition": "auto",
         "type": "bar",
         "x": [
          "test"
         ],
         "xaxis": "x",
         "y": [
          29998624050.459393
         ],
         "yaxis": "y"
        },
        {
         "alignmentgroup": "True",
         "hovertemplate": "Appliance name=Heat pump<br>variable=fom_cost<br>scenario=%{x}<br>value=%{y}<extra></extra>",
         "legendgroup": "Heat pump, fom_cost",
         "marker": {
          "color": "#00cc96",
          "pattern": {
           "shape": "/"
          }
         },
         "name": "Heat pump, fom_cost",
         "offsetgroup": "Heat pump, fom_cost",
         "orientation": "v",
         "showlegend": true,
         "textposition": "auto",
         "type": "bar",
         "x": [
          "test"
         ],
         "xaxis": "x",
         "y": [
          6263241012.660533
         ],
         "yaxis": "y"
        },
        {
         "alignmentgroup": "True",
         "hovertemplate": "Appliance name=Heat pump<br>variable=fuel_cost<br>scenario=%{x}<br>value=%{y}<extra></extra>",
         "legendgroup": "Heat pump, fuel_cost",
         "marker": {
          "color": "#00cc96",
          "pattern": {
           "shape": "\\"
          }
         },
         "name": "Heat pump, fuel_cost",
         "offsetgroup": "Heat pump, fuel_cost",
         "orientation": "v",
         "showlegend": true,
         "textposition": "auto",
         "type": "bar",
         "x": [
          "test"
         ],
         "xaxis": "x",
         "y": [
          38685624622.29958
         ],
         "yaxis": "y"
        },
        {
         "alignmentgroup": "True",
         "hovertemplate": "Appliance name=Oil furnace<br>variable=annuity_cost<br>scenario=%{x}<br>value=%{y}<extra></extra>",
         "legendgroup": "Oil furnace, annuity_cost",
         "marker": {
          "color": "#ab63fa",
          "pattern": {
           "shape": ""
          }
         },
         "name": "Oil furnace, annuity_cost",
         "offsetgroup": "Oil furnace, annuity_cost",
         "orientation": "v",
         "showlegend": true,
         "textposition": "auto",
         "type": "bar",
         "x": [
          "test"
         ],
         "xaxis": "x",
         "y": [
          173685415.68584865
         ],
         "yaxis": "y"
        },
        {
         "alignmentgroup": "True",
         "hovertemplate": "Appliance name=Oil furnace<br>variable=fom_cost<br>scenario=%{x}<br>value=%{y}<extra></extra>",
         "legendgroup": "Oil furnace, fom_cost",
         "marker": {
          "color": "#ab63fa",
          "pattern": {
           "shape": "/"
          }
         },
         "name": "Oil furnace, fom_cost",
         "offsetgroup": "Oil furnace, fom_cost",
         "orientation": "v",
         "showlegend": true,
         "textposition": "auto",
         "type": "bar",
         "x": [
          "test"
         ],
         "xaxis": "x",
         "y": [
          34112512.811329074
         ],
         "yaxis": "y"
        },
        {
         "alignmentgroup": "True",
         "hovertemplate": "Appliance name=Oil furnace<br>variable=fuel_cost<br>scenario=%{x}<br>value=%{y}<extra></extra>",
         "legendgroup": "Oil furnace, fuel_cost",
         "marker": {
          "color": "#ab63fa",
          "pattern": {
           "shape": "\\"
          }
         },
         "name": "Oil furnace, fuel_cost",
         "offsetgroup": "Oil furnace, fuel_cost",
         "orientation": "v",
         "showlegend": true,
         "textposition": "auto",
         "type": "bar",
         "x": [
          "test"
         ],
         "xaxis": "x",
         "y": [
          3245790311.646878
         ],
         "yaxis": "y"
        },
        {
         "alignmentgroup": "True",
         "hovertemplate": "Appliance name=Wood or wood pellets furnace<br>variable=annuity_cost<br>scenario=%{x}<br>value=%{y}<extra></extra>",
         "legendgroup": "Wood or wood pellets furnace, annuity_cost",
         "marker": {
          "color": "#FFA15A",
          "pattern": {
           "shape": ""
          }
         },
         "name": "Wood or wood pellets furnace, annuity_cost",
         "offsetgroup": "Wood or wood pellets furnace, annuity_cost",
         "orientation": "v",
         "showlegend": true,
         "textposition": "auto",
         "type": "bar",
         "x": [
          "test"
         ],
         "xaxis": "x",
         "y": [
          628088180.4930799
         ],
         "yaxis": "y"
        },
        {
         "alignmentgroup": "True",
         "hovertemplate": "Appliance name=Wood or wood pellets furnace<br>variable=fom_cost<br>scenario=%{x}<br>value=%{y}<extra></extra>",
         "legendgroup": "Wood or wood pellets furnace, fom_cost",
         "marker": {
          "color": "#FFA15A",
          "pattern": {
           "shape": "/"
          }
         },
         "name": "Wood or wood pellets furnace, fom_cost",
         "offsetgroup": "Wood or wood pellets furnace, fom_cost",
         "orientation": "v",
         "showlegend": true,
         "textposition": "auto",
         "type": "bar",
         "x": [
          "test"
         ],
         "xaxis": "x",
         "y": [
          126359871.89059731
         ],
         "yaxis": "y"
        },
        {
         "alignmentgroup": "True",
         "hovertemplate": "Appliance name=Wood or wood pellets furnace<br>variable=fuel_cost<br>scenario=%{x}<br>value=%{y}<extra></extra>",
         "legendgroup": "Wood or wood pellets furnace, fuel_cost",
         "marker": {
          "color": "#FFA15A",
          "pattern": {
           "shape": "\\"
          }
         },
         "name": "Wood or wood pellets furnace, fuel_cost",
         "offsetgroup": "Wood or wood pellets furnace, fuel_cost",
         "orientation": "v",
         "showlegend": true,
         "textposition": "auto",
         "type": "bar",
         "x": [
          "test"
         ],
         "xaxis": "x",
         "y": [
          22059335310.393204
         ],
         "yaxis": "y"
        }
       ],
       "layout": {
        "barmode": "relative",
        "legend": {
         "title": {
          "text": "Appliance name, variable"
         },
         "tracegroupgap": 0
        },
        "margin": {
         "t": 60
        },
        "template": {
         "data": {
          "bar": [
           {
            "error_x": {
             "color": "#2a3f5f"
            },
            "error_y": {
             "color": "#2a3f5f"
            },
            "marker": {
             "line": {
              "color": "#E5ECF6",
              "width": 0.5
             },
             "pattern": {
              "fillmode": "overlay",
              "size": 10,
              "solidity": 0.2
             }
            },
            "type": "bar"
           }
          ],
          "barpolar": [
           {
            "marker": {
             "line": {
              "color": "#E5ECF6",
              "width": 0.5
             },
             "pattern": {
              "fillmode": "overlay",
              "size": 10,
              "solidity": 0.2
             }
            },
            "type": "barpolar"
           }
          ],
          "carpet": [
           {
            "aaxis": {
             "endlinecolor": "#2a3f5f",
             "gridcolor": "white",
             "linecolor": "white",
             "minorgridcolor": "white",
             "startlinecolor": "#2a3f5f"
            },
            "baxis": {
             "endlinecolor": "#2a3f5f",
             "gridcolor": "white",
             "linecolor": "white",
             "minorgridcolor": "white",
             "startlinecolor": "#2a3f5f"
            },
            "type": "carpet"
           }
          ],
          "choropleth": [
           {
            "colorbar": {
             "outlinewidth": 0,
             "ticks": ""
            },
            "type": "choropleth"
           }
          ],
          "contour": [
           {
            "colorbar": {
             "outlinewidth": 0,
             "ticks": ""
            },
            "colorscale": [
             [
              0,
              "#0d0887"
             ],
             [
              0.1111111111111111,
              "#46039f"
             ],
             [
              0.2222222222222222,
              "#7201a8"
             ],
             [
              0.3333333333333333,
              "#9c179e"
             ],
             [
              0.4444444444444444,
              "#bd3786"
             ],
             [
              0.5555555555555556,
              "#d8576b"
             ],
             [
              0.6666666666666666,
              "#ed7953"
             ],
             [
              0.7777777777777778,
              "#fb9f3a"
             ],
             [
              0.8888888888888888,
              "#fdca26"
             ],
             [
              1,
              "#f0f921"
             ]
            ],
            "type": "contour"
           }
          ],
          "contourcarpet": [
           {
            "colorbar": {
             "outlinewidth": 0,
             "ticks": ""
            },
            "type": "contourcarpet"
           }
          ],
          "heatmap": [
           {
            "colorbar": {
             "outlinewidth": 0,
             "ticks": ""
            },
            "colorscale": [
             [
              0,
              "#0d0887"
             ],
             [
              0.1111111111111111,
              "#46039f"
             ],
             [
              0.2222222222222222,
              "#7201a8"
             ],
             [
              0.3333333333333333,
              "#9c179e"
             ],
             [
              0.4444444444444444,
              "#bd3786"
             ],
             [
              0.5555555555555556,
              "#d8576b"
             ],
             [
              0.6666666666666666,
              "#ed7953"
             ],
             [
              0.7777777777777778,
              "#fb9f3a"
             ],
             [
              0.8888888888888888,
              "#fdca26"
             ],
             [
              1,
              "#f0f921"
             ]
            ],
            "type": "heatmap"
           }
          ],
          "heatmapgl": [
           {
            "colorbar": {
             "outlinewidth": 0,
             "ticks": ""
            },
            "colorscale": [
             [
              0,
              "#0d0887"
             ],
             [
              0.1111111111111111,
              "#46039f"
             ],
             [
              0.2222222222222222,
              "#7201a8"
             ],
             [
              0.3333333333333333,
              "#9c179e"
             ],
             [
              0.4444444444444444,
              "#bd3786"
             ],
             [
              0.5555555555555556,
              "#d8576b"
             ],
             [
              0.6666666666666666,
              "#ed7953"
             ],
             [
              0.7777777777777778,
              "#fb9f3a"
             ],
             [
              0.8888888888888888,
              "#fdca26"
             ],
             [
              1,
              "#f0f921"
             ]
            ],
            "type": "heatmapgl"
           }
          ],
          "histogram": [
           {
            "marker": {
             "pattern": {
              "fillmode": "overlay",
              "size": 10,
              "solidity": 0.2
             }
            },
            "type": "histogram"
           }
          ],
          "histogram2d": [
           {
            "colorbar": {
             "outlinewidth": 0,
             "ticks": ""
            },
            "colorscale": [
             [
              0,
              "#0d0887"
             ],
             [
              0.1111111111111111,
              "#46039f"
             ],
             [
              0.2222222222222222,
              "#7201a8"
             ],
             [
              0.3333333333333333,
              "#9c179e"
             ],
             [
              0.4444444444444444,
              "#bd3786"
             ],
             [
              0.5555555555555556,
              "#d8576b"
             ],
             [
              0.6666666666666666,
              "#ed7953"
             ],
             [
              0.7777777777777778,
              "#fb9f3a"
             ],
             [
              0.8888888888888888,
              "#fdca26"
             ],
             [
              1,
              "#f0f921"
             ]
            ],
            "type": "histogram2d"
           }
          ],
          "histogram2dcontour": [
           {
            "colorbar": {
             "outlinewidth": 0,
             "ticks": ""
            },
            "colorscale": [
             [
              0,
              "#0d0887"
             ],
             [
              0.1111111111111111,
              "#46039f"
             ],
             [
              0.2222222222222222,
              "#7201a8"
             ],
             [
              0.3333333333333333,
              "#9c179e"
             ],
             [
              0.4444444444444444,
              "#bd3786"
             ],
             [
              0.5555555555555556,
              "#d8576b"
             ],
             [
              0.6666666666666666,
              "#ed7953"
             ],
             [
              0.7777777777777778,
              "#fb9f3a"
             ],
             [
              0.8888888888888888,
              "#fdca26"
             ],
             [
              1,
              "#f0f921"
             ]
            ],
            "type": "histogram2dcontour"
           }
          ],
          "mesh3d": [
           {
            "colorbar": {
             "outlinewidth": 0,
             "ticks": ""
            },
            "type": "mesh3d"
           }
          ],
          "parcoords": [
           {
            "line": {
             "colorbar": {
              "outlinewidth": 0,
              "ticks": ""
             }
            },
            "type": "parcoords"
           }
          ],
          "pie": [
           {
            "automargin": true,
            "type": "pie"
           }
          ],
          "scatter": [
           {
            "fillpattern": {
             "fillmode": "overlay",
             "size": 10,
             "solidity": 0.2
            },
            "type": "scatter"
           }
          ],
          "scatter3d": [
           {
            "line": {
             "colorbar": {
              "outlinewidth": 0,
              "ticks": ""
             }
            },
            "marker": {
             "colorbar": {
              "outlinewidth": 0,
              "ticks": ""
             }
            },
            "type": "scatter3d"
           }
          ],
          "scattercarpet": [
           {
            "marker": {
             "colorbar": {
              "outlinewidth": 0,
              "ticks": ""
             }
            },
            "type": "scattercarpet"
           }
          ],
          "scattergeo": [
           {
            "marker": {
             "colorbar": {
              "outlinewidth": 0,
              "ticks": ""
             }
            },
            "type": "scattergeo"
           }
          ],
          "scattergl": [
           {
            "marker": {
             "colorbar": {
              "outlinewidth": 0,
              "ticks": ""
             }
            },
            "type": "scattergl"
           }
          ],
          "scattermapbox": [
           {
            "marker": {
             "colorbar": {
              "outlinewidth": 0,
              "ticks": ""
             }
            },
            "type": "scattermapbox"
           }
          ],
          "scatterpolar": [
           {
            "marker": {
             "colorbar": {
              "outlinewidth": 0,
              "ticks": ""
             }
            },
            "type": "scatterpolar"
           }
          ],
          "scatterpolargl": [
           {
            "marker": {
             "colorbar": {
              "outlinewidth": 0,
              "ticks": ""
             }
            },
            "type": "scatterpolargl"
           }
          ],
          "scatterternary": [
           {
            "marker": {
             "colorbar": {
              "outlinewidth": 0,
              "ticks": ""
             }
            },
            "type": "scatterternary"
           }
          ],
          "surface": [
           {
            "colorbar": {
             "outlinewidth": 0,
             "ticks": ""
            },
            "colorscale": [
             [
              0,
              "#0d0887"
             ],
             [
              0.1111111111111111,
              "#46039f"
             ],
             [
              0.2222222222222222,
              "#7201a8"
             ],
             [
              0.3333333333333333,
              "#9c179e"
             ],
             [
              0.4444444444444444,
              "#bd3786"
             ],
             [
              0.5555555555555556,
              "#d8576b"
             ],
             [
              0.6666666666666666,
              "#ed7953"
             ],
             [
              0.7777777777777778,
              "#fb9f3a"
             ],
             [
              0.8888888888888888,
              "#fdca26"
             ],
             [
              1,
              "#f0f921"
             ]
            ],
            "type": "surface"
           }
          ],
          "table": [
           {
            "cells": {
             "fill": {
              "color": "#EBF0F8"
             },
             "line": {
              "color": "white"
             }
            },
            "header": {
             "fill": {
              "color": "#C8D4E3"
             },
             "line": {
              "color": "white"
             }
            },
            "type": "table"
           }
          ]
         },
         "layout": {
          "annotationdefaults": {
           "arrowcolor": "#2a3f5f",
           "arrowhead": 0,
           "arrowwidth": 1
          },
          "autotypenumbers": "strict",
          "coloraxis": {
           "colorbar": {
            "outlinewidth": 0,
            "ticks": ""
           }
          },
          "colorscale": {
           "diverging": [
            [
             0,
             "#8e0152"
            ],
            [
             0.1,
             "#c51b7d"
            ],
            [
             0.2,
             "#de77ae"
            ],
            [
             0.3,
             "#f1b6da"
            ],
            [
             0.4,
             "#fde0ef"
            ],
            [
             0.5,
             "#f7f7f7"
            ],
            [
             0.6,
             "#e6f5d0"
            ],
            [
             0.7,
             "#b8e186"
            ],
            [
             0.8,
             "#7fbc41"
            ],
            [
             0.9,
             "#4d9221"
            ],
            [
             1,
             "#276419"
            ]
           ],
           "sequential": [
            [
             0,
             "#0d0887"
            ],
            [
             0.1111111111111111,
             "#46039f"
            ],
            [
             0.2222222222222222,
             "#7201a8"
            ],
            [
             0.3333333333333333,
             "#9c179e"
            ],
            [
             0.4444444444444444,
             "#bd3786"
            ],
            [
             0.5555555555555556,
             "#d8576b"
            ],
            [
             0.6666666666666666,
             "#ed7953"
            ],
            [
             0.7777777777777778,
             "#fb9f3a"
            ],
            [
             0.8888888888888888,
             "#fdca26"
            ],
            [
             1,
             "#f0f921"
            ]
           ],
           "sequentialminus": [
            [
             0,
             "#0d0887"
            ],
            [
             0.1111111111111111,
             "#46039f"
            ],
            [
             0.2222222222222222,
             "#7201a8"
            ],
            [
             0.3333333333333333,
             "#9c179e"
            ],
            [
             0.4444444444444444,
             "#bd3786"
            ],
            [
             0.5555555555555556,
             "#d8576b"
            ],
            [
             0.6666666666666666,
             "#ed7953"
            ],
            [
             0.7777777777777778,
             "#fb9f3a"
            ],
            [
             0.8888888888888888,
             "#fdca26"
            ],
            [
             1,
             "#f0f921"
            ]
           ]
          },
          "colorway": [
           "#636efa",
           "#EF553B",
           "#00cc96",
           "#ab63fa",
           "#FFA15A",
           "#19d3f3",
           "#FF6692",
           "#B6E880",
           "#FF97FF",
           "#FECB52"
          ],
          "font": {
           "color": "#2a3f5f"
          },
          "geo": {
           "bgcolor": "white",
           "lakecolor": "white",
           "landcolor": "#E5ECF6",
           "showlakes": true,
           "showland": true,
           "subunitcolor": "white"
          },
          "hoverlabel": {
           "align": "left"
          },
          "hovermode": "closest",
          "mapbox": {
           "style": "light"
          },
          "paper_bgcolor": "white",
          "plot_bgcolor": "#E5ECF6",
          "polar": {
           "angularaxis": {
            "gridcolor": "white",
            "linecolor": "white",
            "ticks": ""
           },
           "bgcolor": "#E5ECF6",
           "radialaxis": {
            "gridcolor": "white",
            "linecolor": "white",
            "ticks": ""
           }
          },
          "scene": {
           "xaxis": {
            "backgroundcolor": "#E5ECF6",
            "gridcolor": "white",
            "gridwidth": 2,
            "linecolor": "white",
            "showbackground": true,
            "ticks": "",
            "zerolinecolor": "white"
           },
           "yaxis": {
            "backgroundcolor": "#E5ECF6",
            "gridcolor": "white",
            "gridwidth": 2,
            "linecolor": "white",
            "showbackground": true,
            "ticks": "",
            "zerolinecolor": "white"
           },
           "zaxis": {
            "backgroundcolor": "#E5ECF6",
            "gridcolor": "white",
            "gridwidth": 2,
            "linecolor": "white",
            "showbackground": true,
            "ticks": "",
            "zerolinecolor": "white"
           }
          },
          "shapedefaults": {
           "line": {
            "color": "#2a3f5f"
           }
          },
          "ternary": {
           "aaxis": {
            "gridcolor": "white",
            "linecolor": "white",
            "ticks": ""
           },
           "baxis": {
            "gridcolor": "white",
            "linecolor": "white",
            "ticks": ""
           },
           "bgcolor": "#E5ECF6",
           "caxis": {
            "gridcolor": "white",
            "linecolor": "white",
            "ticks": ""
           }
          },
          "title": {
           "x": 0.05
          },
          "xaxis": {
           "automargin": true,
           "gridcolor": "white",
           "linecolor": "white",
           "ticks": "",
           "title": {
            "standoff": 15
           },
           "zerolinecolor": "white",
           "zerolinewidth": 2
          },
          "yaxis": {
           "automargin": true,
           "gridcolor": "white",
           "linecolor": "white",
           "ticks": "",
           "title": {
            "standoff": 15
           },
           "zerolinecolor": "white",
           "zerolinewidth": 2
          }
         }
        },
        "xaxis": {
         "anchor": "y",
         "domain": [
          0,
          1
         ],
         "title": {
          "text": "scenario"
         }
        },
        "yaxis": {
         "anchor": "x",
         "domain": [
          0,
          1
         ],
         "title": {
          "text": "value"
         }
        }
       }
      }
     },
     "metadata": {},
     "output_type": "display_data"
    }
   ],
   "source": [
    "\n",
    "cost_comps = (cost_comps.groupby([\"RunId\",'Appliance name'])[new_cols].sum()/4).melt(ignore_index=False)\n",
    "cost_comps[\"scenario\"] = \"test\"\n",
    "\n",
    "px.bar(cost_comps.groupby([\"scenario\",\"Appliance name\",\"variable\"])[\"value\"].mean().reset_index(), x=\"scenario\", y=\"value\", color=\"Appliance name\", pattern_shape=\"variable\", template=\"plotly\")"
   ]
  },
  {
   "cell_type": "code",
   "execution_count": 18,
   "metadata": {},
   "outputs": [
    {
     "data": {
      "application/vnd.plotly.v1+json": {
       "config": {
        "plotlyServerURL": "https://plot.ly"
       },
       "data": [
        {
         "hovertemplate": "variable=Gas furnace<br>year=%{x}<br>value=%{y}<extra></extra>",
         "legendgroup": "Gas furnace",
         "line": {
          "color": "#636efa",
          "dash": "solid"
         },
         "marker": {
          "symbol": "circle"
         },
         "mode": "lines",
         "name": "Gas furnace",
         "orientation": "v",
         "showlegend": true,
         "type": "scatter",
         "x": [
          2020,
          2020.25,
          2020.5,
          2020.75,
          2021,
          2021.25,
          2021.5,
          2021.75,
          2022,
          2022.25,
          2022.5,
          2022.75,
          2023,
          2023.25,
          2023.5,
          2023.75,
          2024,
          2024.25,
          2024.5,
          2024.75,
          2025,
          2025.25,
          2025.5,
          2025.75,
          2026,
          2026.25,
          2026.5,
          2026.75,
          2027,
          2027.25,
          2027.5,
          2027.75,
          2028,
          2028.25,
          2028.5,
          2028.75,
          2029,
          2029.25,
          2029.5,
          2029.75,
          2030,
          2030.25,
          2030.5,
          2030.75,
          2031,
          2031.25,
          2031.5,
          2031.75,
          2032,
          2032.25,
          2032.5,
          2032.75,
          2033,
          2033.25,
          2033.5,
          2033.75,
          2034,
          2034.25,
          2034.5,
          2034.75,
          2035,
          2035.25,
          2035.5,
          2035.75,
          2036,
          2036.25,
          2036.5,
          2036.75,
          2037,
          2037.25,
          2037.5,
          2037.75,
          2038,
          2038.25,
          2038.5,
          2038.75,
          2039,
          2039.25,
          2039.5,
          2039.75,
          2040,
          2040.25,
          2040.5,
          2040.75,
          2041,
          2041.25,
          2041.5,
          2041.75,
          2042,
          2042.25,
          2042.5,
          2042.75,
          2043,
          2043.25,
          2043.5,
          2043.75,
          2044,
          2044.25,
          2044.5,
          2044.75,
          2045,
          2045.25,
          2045.5,
          2045.75,
          2046,
          2046.25,
          2046.5,
          2046.75,
          2047,
          2047.25,
          2047.5,
          2047.75,
          2048,
          2048.25,
          2048.5,
          2048.75,
          2049,
          2049.25,
          2049.5,
          2049.75,
          2050
         ],
         "xaxis": "x",
         "y": [
          0.7142857142857143,
          0.7108843537414966,
          0.7074829931972789,
          0.7023809523809524,
          0.70578231292517,
          0.7074829931972789,
          0.7074829931972789,
          0.70578231292517,
          0.7040816326530613,
          0.7040816326530613,
          0.7040816326530613,
          0.7023809523809524,
          0.6989795918367347,
          0.685374149659864,
          0.6802721088435374,
          0.6802721088435374,
          0.6802721088435374,
          0.663265306122449,
          0.6581632653061225,
          0.6564625850340137,
          0.6547619047619048,
          0.6394557823129251,
          0.6377551020408163,
          0.6343537414965986,
          0.6309523809523809,
          0.6003401360544217,
          0.6003401360544217,
          0.6020408163265306,
          0.6037414965986395,
          0.5646258503401361,
          0.5612244897959183,
          0.5595238095238095,
          0.5595238095238095,
          0.5017006802721088,
          0.5,
          0.49829931972789115,
          0.49659863945578236,
          0.4557823129251701,
          0.4506802721088435,
          0.445578231292517,
          0.4421768707482993,
          0.3707482993197279,
          0.3656462585034013,
          0.3622448979591837,
          0.3554421768707483,
          0.3163265306122449,
          0.31462585034013607,
          0.30952380952380953,
          0.3078231292517007,
          0.2755102040816326,
          0.2738095238095238,
          0.2687074829931973,
          0.2687074829931973,
          0.2585034013605442,
          0.2534013605442177,
          0.25,
          0.24829931972789118,
          0.24829931972789118,
          0.23639455782312924,
          0.22959183673469388,
          0.22448979591836735,
          0.21768707482993196,
          0.21428571428571427,
          0.20238095238095236,
          0.19727891156462585,
          0.19217687074829934,
          0.17857142857142858,
          0.1717687074829932,
          0.1717687074829932,
          0.1717687074829932,
          0.1683673469387755,
          0.15986394557823128,
          0.15986394557823128,
          0.15816326530612243,
          0.14115646258503403,
          0.1326530612244898,
          0.13095238095238096,
          0.12244897959183672,
          0.108843537414966,
          0.10714285714285714,
          0.10034013605442177,
          0.0935374149659864,
          0.08333333333333333,
          0.07482993197278912,
          0.06972789115646258,
          0.06802721088435375,
          0.047619047619047616,
          0.04251700680272109,
          0.04081632653061224,
          0.039115646258503396,
          0.02891156462585034,
          0.027210884353741496,
          0.023809523809523808,
          0.023809523809523808,
          0.01530612244897959,
          0.01020408163265306,
          0.008503401360544217,
          0.006802721088435374,
          0.006802721088435374,
          0.006802721088435374,
          0.006802721088435374,
          0.006802721088435374,
          0.006802721088435374,
          0.006802721088435374,
          0.006802721088435374,
          0.006802721088435374,
          0.006802721088435374,
          0.006802721088435374,
          0.006802721088435374,
          0.006802721088435374,
          0.006802721088435374,
          0.006802721088435374,
          0.006802721088435374,
          0.00510204081632653,
          0.00510204081632653,
          0.00510204081632653,
          0.00510204081632653,
          0.00510204081632653,
          0.00510204081632653,
          0.00510204081632653,
          0.00510204081632653
         ],
         "yaxis": "y"
        },
        {
         "hovertemplate": "variable=Oil furnace<br>year=%{x}<br>value=%{y}<extra></extra>",
         "legendgroup": "Oil furnace",
         "line": {
          "color": "#EF553B",
          "dash": "solid"
         },
         "marker": {
          "symbol": "circle"
         },
         "mode": "lines",
         "name": "Oil furnace",
         "orientation": "v",
         "showlegend": true,
         "type": "scatter",
         "x": [
          2020,
          2020.25,
          2020.5,
          2020.75,
          2021,
          2021.25,
          2021.5,
          2021.75,
          2022,
          2022.25,
          2022.5,
          2022.75,
          2023,
          2023.25,
          2023.5,
          2023.75,
          2024,
          2024.25,
          2024.5,
          2024.75,
          2025,
          2025.25,
          2025.5,
          2025.75,
          2026,
          2026.25,
          2026.5,
          2026.75,
          2027,
          2027.25,
          2027.5,
          2027.75,
          2028,
          2028.25,
          2028.5,
          2028.75,
          2029,
          2029.25,
          2029.5,
          2029.75,
          2030,
          2030.25,
          2030.5,
          2030.75,
          2031,
          2031.25,
          2031.5,
          2031.75,
          2032,
          2032.25,
          2032.5,
          2032.75,
          2033,
          2033.25,
          2033.5,
          2033.75,
          2034,
          2034.25,
          2034.5,
          2034.75,
          2035,
          2035.25,
          2035.5,
          2035.75,
          2036,
          2036.25,
          2036.5,
          2036.75,
          2037,
          2037.25,
          2037.5,
          2037.75,
          2038,
          2038.25,
          2038.5,
          2038.75,
          2039,
          2039.25,
          2039.5,
          2039.75,
          2040,
          2040.25,
          2040.5,
          2040.75,
          2041,
          2041.25,
          2041.5,
          2041.75,
          2042,
          2042.25,
          2042.5,
          2042.75,
          2043,
          2043.25,
          2043.5,
          2043.75,
          2044,
          2044.25,
          2044.5,
          2044.75,
          2045,
          2045.25,
          2045.5,
          2045.75,
          2046,
          2046.25,
          2046.5,
          2046.75,
          2047,
          2047.25,
          2047.5,
          2047.75,
          2048,
          2048.25,
          2048.5,
          2048.75,
          2049,
          2049.25,
          2049.5,
          2049.75,
          2050
         ],
         "xaxis": "x",
         "y": [
          0.02040816326530612,
          0.02040816326530612,
          0.02040816326530612,
          0.02040816326530612,
          0.02040816326530612,
          0.018707482993197275,
          0.018707482993197275,
          0.018707482993197275,
          0.018707482993197275,
          0.018707482993197275,
          0.018707482993197275,
          0.018707482993197275,
          0.018707482993197275,
          0.018707482993197275,
          0.018707482993197275,
          0.018707482993197275,
          0.018707482993197275,
          0.018707482993197275,
          0.018707482993197275,
          0.018707482993197275,
          0.018707482993197275,
          0.018707482993197275,
          0.018707482993197275,
          0.018707482993197275,
          0.018707482993197275,
          0.018707482993197275,
          0.018707482993197275,
          0.018707482993197275,
          0.017006802721088433,
          0.01530612244897959,
          0.013605442176870748,
          0.013605442176870748,
          0.013605442176870748,
          0.013605442176870748,
          0.013605442176870748,
          0.013605442176870748,
          0.013605442176870748,
          0.01020408163265306,
          0.01020408163265306,
          0.01020408163265306,
          0.01020408163265306,
          0.00510204081632653,
          0.00510204081632653,
          0.00510204081632653,
          0.00510204081632653,
          0.00510204081632653,
          0.00510204081632653,
          0.00510204081632653,
          0.00510204081632653,
          0,
          0,
          0,
          0,
          0,
          0,
          0,
          0,
          0,
          0,
          0,
          0,
          0,
          0,
          0,
          0,
          0,
          0,
          0,
          0,
          0,
          0,
          0,
          0,
          0,
          0,
          0,
          0,
          0,
          0,
          0,
          0,
          0,
          0,
          0,
          0,
          0,
          0,
          0,
          0,
          0,
          0,
          0,
          0,
          0,
          0,
          0,
          0,
          0,
          0,
          0,
          0,
          0,
          0,
          0,
          0,
          0,
          0,
          0,
          0,
          0,
          0,
          0,
          0,
          0,
          0,
          0,
          0,
          0,
          0,
          0,
          0
         ],
         "yaxis": "y"
        },
        {
         "hovertemplate": "variable=Wood or wood pellets furnace<br>year=%{x}<br>value=%{y}<extra></extra>",
         "legendgroup": "Wood or wood pellets furnace",
         "line": {
          "color": "#00cc96",
          "dash": "solid"
         },
         "marker": {
          "symbol": "circle"
         },
         "mode": "lines",
         "name": "Wood or wood pellets furnace",
         "orientation": "v",
         "showlegend": true,
         "type": "scatter",
         "x": [
          2020,
          2020.25,
          2020.5,
          2020.75,
          2021,
          2021.25,
          2021.5,
          2021.75,
          2022,
          2022.25,
          2022.5,
          2022.75,
          2023,
          2023.25,
          2023.5,
          2023.75,
          2024,
          2024.25,
          2024.5,
          2024.75,
          2025,
          2025.25,
          2025.5,
          2025.75,
          2026,
          2026.25,
          2026.5,
          2026.75,
          2027,
          2027.25,
          2027.5,
          2027.75,
          2028,
          2028.25,
          2028.5,
          2028.75,
          2029,
          2029.25,
          2029.5,
          2029.75,
          2030,
          2030.25,
          2030.5,
          2030.75,
          2031,
          2031.25,
          2031.5,
          2031.75,
          2032,
          2032.25,
          2032.5,
          2032.75,
          2033,
          2033.25,
          2033.5,
          2033.75,
          2034,
          2034.25,
          2034.5,
          2034.75,
          2035,
          2035.25,
          2035.5,
          2035.75,
          2036,
          2036.25,
          2036.5,
          2036.75,
          2037,
          2037.25,
          2037.5,
          2037.75,
          2038,
          2038.25,
          2038.5,
          2038.75,
          2039,
          2039.25,
          2039.5,
          2039.75,
          2040,
          2040.25,
          2040.5,
          2040.75,
          2041,
          2041.25,
          2041.5,
          2041.75,
          2042,
          2042.25,
          2042.5,
          2042.75,
          2043,
          2043.25,
          2043.5,
          2043.75,
          2044,
          2044.25,
          2044.5,
          2044.75,
          2045,
          2045.25,
          2045.5,
          2045.75,
          2046,
          2046.25,
          2046.5,
          2046.75,
          2047,
          2047.25,
          2047.5,
          2047.75,
          2048,
          2048.25,
          2048.5,
          2048.75,
          2049,
          2049.25,
          2049.5,
          2049.75,
          2050
         ],
         "xaxis": "x",
         "y": [
          0,
          0,
          0,
          0,
          0,
          0,
          0,
          0,
          0,
          0,
          0,
          0,
          0,
          0,
          0,
          0,
          0,
          0,
          0,
          0,
          0,
          0,
          0,
          0,
          0,
          0,
          0,
          0,
          0,
          0,
          0,
          0,
          0,
          0,
          0,
          0,
          0,
          0,
          0,
          0,
          0,
          0,
          0,
          0,
          0,
          0,
          0,
          0,
          0,
          0,
          0,
          0,
          0,
          0,
          0,
          0,
          0,
          0.0017006802721088435,
          0.0017006802721088435,
          0.0017006802721088435,
          0.0017006802721088435,
          0.0017006802721088435,
          0.0017006802721088435,
          0.0017006802721088435,
          0.0017006802721088435,
          0.003401360544217687,
          0.003401360544217687,
          0.003401360544217687,
          0.003401360544217687,
          0.003401360544217687,
          0.003401360544217687,
          0.003401360544217687,
          0.003401360544217687,
          0.003401360544217687,
          0.003401360544217687,
          0.003401360544217687,
          0.003401360544217687,
          0.003401360544217687,
          0.00510204081632653,
          0.00510204081632653,
          0.00510204081632653,
          0.00510204081632653,
          0.00510204081632653,
          0.00510204081632653,
          0.00510204081632653,
          0.00510204081632653,
          0.00510204081632653,
          0.00510204081632653,
          0.00510204081632653,
          0.00510204081632653,
          0.00510204081632653,
          0.00510204081632653,
          0.00510204081632653,
          0.00510204081632653,
          0.00510204081632653,
          0.00510204081632653,
          0.00510204081632653,
          0.00510204081632653,
          0.00510204081632653,
          0.00510204081632653,
          0.00510204081632653,
          0.00510204081632653,
          0.00510204081632653,
          0.00510204081632653,
          0.00510204081632653,
          0.00510204081632653,
          0.00510204081632653,
          0.00510204081632653,
          0.00510204081632653,
          0.00510204081632653,
          0.00510204081632653,
          0.00510204081632653,
          0.00510204081632653,
          0.00510204081632653,
          0.00510204081632653,
          0.00510204081632653,
          0.00510204081632653,
          0.00510204081632653,
          0.00510204081632653,
          0.00510204081632653,
          0.00510204081632653
         ],
         "yaxis": "y"
        },
        {
         "hovertemplate": "variable=Electric furnace<br>year=%{x}<br>value=%{y}<extra></extra>",
         "legendgroup": "Electric furnace",
         "line": {
          "color": "#ab63fa",
          "dash": "solid"
         },
         "marker": {
          "symbol": "circle"
         },
         "mode": "lines",
         "name": "Electric furnace",
         "orientation": "v",
         "showlegend": true,
         "type": "scatter",
         "x": [
          2020,
          2020.25,
          2020.5,
          2020.75,
          2021,
          2021.25,
          2021.5,
          2021.75,
          2022,
          2022.25,
          2022.5,
          2022.75,
          2023,
          2023.25,
          2023.5,
          2023.75,
          2024,
          2024.25,
          2024.5,
          2024.75,
          2025,
          2025.25,
          2025.5,
          2025.75,
          2026,
          2026.25,
          2026.5,
          2026.75,
          2027,
          2027.25,
          2027.5,
          2027.75,
          2028,
          2028.25,
          2028.5,
          2028.75,
          2029,
          2029.25,
          2029.5,
          2029.75,
          2030,
          2030.25,
          2030.5,
          2030.75,
          2031,
          2031.25,
          2031.5,
          2031.75,
          2032,
          2032.25,
          2032.5,
          2032.75,
          2033,
          2033.25,
          2033.5,
          2033.75,
          2034,
          2034.25,
          2034.5,
          2034.75,
          2035,
          2035.25,
          2035.5,
          2035.75,
          2036,
          2036.25,
          2036.5,
          2036.75,
          2037,
          2037.25,
          2037.5,
          2037.75,
          2038,
          2038.25,
          2038.5,
          2038.75,
          2039,
          2039.25,
          2039.5,
          2039.75,
          2040,
          2040.25,
          2040.5,
          2040.75,
          2041,
          2041.25,
          2041.5,
          2041.75,
          2042,
          2042.25,
          2042.5,
          2042.75,
          2043,
          2043.25,
          2043.5,
          2043.75,
          2044,
          2044.25,
          2044.5,
          2044.75,
          2045,
          2045.25,
          2045.5,
          2045.75,
          2046,
          2046.25,
          2046.5,
          2046.75,
          2047,
          2047.25,
          2047.5,
          2047.75,
          2048,
          2048.25,
          2048.5,
          2048.75,
          2049,
          2049.25,
          2049.5,
          2049.75,
          2050
         ],
         "xaxis": "x",
         "y": [
          0.1836734693877551,
          0.1836734693877551,
          0.18537414965986396,
          0.19387755102040816,
          0.19047619047619047,
          0.18707482993197277,
          0.18367346938775508,
          0.18367346938775508,
          0.18367346938775508,
          0.18197278911564627,
          0.18027210884353742,
          0.18027210884353742,
          0.17857142857142858,
          0.18197278911564627,
          0.18197278911564627,
          0.17857142857142858,
          0.17857142857142858,
          0.18367346938775508,
          0.18537414965986396,
          0.18537414965986396,
          0.18707482993197277,
          0.19217687074829934,
          0.19217687074829934,
          0.18877551020408165,
          0.19047619047619047,
          0.20408163265306123,
          0.20408163265306123,
          0.20408163265306123,
          0.20408163265306123,
          0.22108843537414966,
          0.217687074829932,
          0.217687074829932,
          0.2193877551020408,
          0.24829931972789118,
          0.24829931972789118,
          0.25,
          0.25170068027210885,
          0.2585034013605442,
          0.260204081632653,
          0.2619047619047619,
          0.26360544217687076,
          0.28061224489795916,
          0.28401360544217685,
          0.28571428571428575,
          0.29081632653061223,
          0.2891156462585034,
          0.2891156462585034,
          0.2891156462585034,
          0.29081632653061223,
          0.28741496598639454,
          0.28571428571428575,
          0.2891156462585034,
          0.28741496598639454,
          0.28061224489795916,
          0.282312925170068,
          0.282312925170068,
          0.28061224489795916,
          0.2687074829931973,
          0.2687074829931973,
          0.2687074829931973,
          0.2687074829931973,
          0.2653061224489796,
          0.26360544217687076,
          0.2687074829931973,
          0.2687074829931973,
          0.26360544217687076,
          0.2670068027210884,
          0.26870748299319724,
          0.26870748299319724,
          0.2670068027210884,
          0.2653061224489796,
          0.2619047619047619,
          0.2619047619047619,
          0.26360544217687076,
          0.2653061224489796,
          0.2653061224489796,
          0.2653061224489796,
          0.27040816326530615,
          0.272108843537415,
          0.2755102040816326,
          0.2755102040816326,
          0.2755102040816327,
          0.27891156462585037,
          0.27891156462585037,
          0.27891156462585037,
          0.27891156462585037,
          0.27721088435374147,
          0.27891156462585037,
          0.27891156462585037,
          0.28061224489795916,
          0.2755102040816326,
          0.2755102040816326,
          0.27721088435374147,
          0.2755102040816326,
          0.27721088435374147,
          0.27721088435374147,
          0.27721088435374147,
          0.2755102040816326,
          0.272108843537415,
          0.2738095238095238,
          0.2704081632653061,
          0.2670068027210884,
          0.260204081632653,
          0.2619047619047619,
          0.2568027210884354,
          0.2534013605442177,
          0.25,
          0.2465986394557823,
          0.2414965986394558,
          0.23979591836734693,
          0.23129251700680273,
          0.23299319727891157,
          0.22789115646258504,
          0.22789115646258504,
          0.2261904761904762,
          0.2261904761904762,
          0.22448979591836735,
          0.21768707482993196,
          0.2108843537414966,
          0.20918367346938774,
          0.20748299319727892
         ],
         "yaxis": "y"
        },
        {
         "hovertemplate": "variable=Heat pump<br>year=%{x}<br>value=%{y}<extra></extra>",
         "legendgroup": "Heat pump",
         "line": {
          "color": "#FFA15A",
          "dash": "solid"
         },
         "marker": {
          "symbol": "circle"
         },
         "mode": "lines",
         "name": "Heat pump",
         "orientation": "v",
         "showlegend": true,
         "type": "scatter",
         "x": [
          2020,
          2020.25,
          2020.5,
          2020.75,
          2021,
          2021.25,
          2021.5,
          2021.75,
          2022,
          2022.25,
          2022.5,
          2022.75,
          2023,
          2023.25,
          2023.5,
          2023.75,
          2024,
          2024.25,
          2024.5,
          2024.75,
          2025,
          2025.25,
          2025.5,
          2025.75,
          2026,
          2026.25,
          2026.5,
          2026.75,
          2027,
          2027.25,
          2027.5,
          2027.75,
          2028,
          2028.25,
          2028.5,
          2028.75,
          2029,
          2029.25,
          2029.5,
          2029.75,
          2030,
          2030.25,
          2030.5,
          2030.75,
          2031,
          2031.25,
          2031.5,
          2031.75,
          2032,
          2032.25,
          2032.5,
          2032.75,
          2033,
          2033.25,
          2033.5,
          2033.75,
          2034,
          2034.25,
          2034.5,
          2034.75,
          2035,
          2035.25,
          2035.5,
          2035.75,
          2036,
          2036.25,
          2036.5,
          2036.75,
          2037,
          2037.25,
          2037.5,
          2037.75,
          2038,
          2038.25,
          2038.5,
          2038.75,
          2039,
          2039.25,
          2039.5,
          2039.75,
          2040,
          2040.25,
          2040.5,
          2040.75,
          2041,
          2041.25,
          2041.5,
          2041.75,
          2042,
          2042.25,
          2042.5,
          2042.75,
          2043,
          2043.25,
          2043.5,
          2043.75,
          2044,
          2044.25,
          2044.5,
          2044.75,
          2045,
          2045.25,
          2045.5,
          2045.75,
          2046,
          2046.25,
          2046.5,
          2046.75,
          2047,
          2047.25,
          2047.5,
          2047.75,
          2048,
          2048.25,
          2048.5,
          2048.75,
          2049,
          2049.25,
          2049.5,
          2049.75,
          2050
         ],
         "xaxis": "x",
         "y": [
          0.08163265306122448,
          0.08503401360544217,
          0.08673469387755102,
          0.08333333333333333,
          0.08333333333333333,
          0.08673469387755102,
          0.09013605442176871,
          0.09183673469387756,
          0.0935374149659864,
          0.09523809523809523,
          0.09693877551020408,
          0.09863945578231292,
          0.10374149659863946,
          0.11394557823129252,
          0.11904761904761905,
          0.12244897959183675,
          0.12244897959183675,
          0.13435374149659865,
          0.1377551020408163,
          0.13945578231292519,
          0.13945578231292519,
          0.14965986394557823,
          0.15136054421768708,
          0.15816326530612246,
          0.15986394557823128,
          0.17687074829931973,
          0.17687074829931973,
          0.17517006802721088,
          0.17517006802721088,
          0.19897959183673466,
          0.20748299319727892,
          0.20918367346938774,
          0.20748299319727892,
          0.23639455782312924,
          0.2380952380952381,
          0.2380952380952381,
          0.2380952380952381,
          0.2755102040816326,
          0.2789115646258503,
          0.282312925170068,
          0.28401360544217685,
          0.3435374149659864,
          0.3452380952380953,
          0.3469387755102041,
          0.3486394557823129,
          0.38945578231292516,
          0.39115646258503406,
          0.39625850340136054,
          0.39625850340136054,
          0.43707482993197283,
          0.44047619047619047,
          0.4421768707482993,
          0.4438775510204082,
          0.4608843537414966,
          0.46428571428571425,
          0.467687074829932,
          0.47108843537414974,
          0.48129251700680276,
          0.4931972789115646,
          0.5,
          0.5051020408163266,
          0.5153061224489796,
          0.520408163265306,
          0.5272108843537415,
          0.532312925170068,
          0.5408163265306123,
          0.5510204081632654,
          0.5561224489795918,
          0.5561224489795918,
          0.5578231292517007,
          0.5629251700680272,
          0.5748299319727891,
          0.5748299319727891,
          0.5748299319727891,
          0.5901360544217688,
          0.5986394557823129,
          0.6003401360544217,
          0.6037414965986395,
          0.6139455782312925,
          0.6122448979591837,
          0.6190476190476191,
          0.6258503401360543,
          0.6326530612244898,
          0.641156462585034,
          0.6462585034013606,
          0.6479591836734694,
          0.6700680272108843,
          0.673469387755102,
          0.6751700680272109,
          0.6751700680272109,
          0.6904761904761904,
          0.6921768707482993,
          0.6938775510204082,
          0.695578231292517,
          0.7023809523809524,
          0.7074829931972789,
          0.7091836734693877,
          0.7125850340136054,
          0.7159863945578232,
          0.7142857142857143,
          0.7176870748299319,
          0.7210884353741497,
          0.7278911564625851,
          0.7261904761904763,
          0.7312925170068026,
          0.7346938775510204,
          0.7380952380952381,
          0.7414965986394558,
          0.7465986394557823,
          0.7482993197278912,
          0.7568027210884353,
          0.7551020408163266,
          0.7602040816326531,
          0.7619047619047619,
          0.7636054421768708,
          0.7636054421768708,
          0.7653061224489797,
          0.7721088435374149,
          0.7789115646258503,
          0.7806122448979592,
          0.7823129251700681
         ],
         "yaxis": "y"
        }
       ],
       "layout": {
        "legend": {
         "title": {
          "text": "variable"
         },
         "tracegroupgap": 0
        },
        "margin": {
         "t": 60
        },
        "template": {
         "data": {
          "bar": [
           {
            "error_x": {
             "color": "#2a3f5f"
            },
            "error_y": {
             "color": "#2a3f5f"
            },
            "marker": {
             "line": {
              "color": "#E5ECF6",
              "width": 0.5
             },
             "pattern": {
              "fillmode": "overlay",
              "size": 10,
              "solidity": 0.2
             }
            },
            "type": "bar"
           }
          ],
          "barpolar": [
           {
            "marker": {
             "line": {
              "color": "#E5ECF6",
              "width": 0.5
             },
             "pattern": {
              "fillmode": "overlay",
              "size": 10,
              "solidity": 0.2
             }
            },
            "type": "barpolar"
           }
          ],
          "carpet": [
           {
            "aaxis": {
             "endlinecolor": "#2a3f5f",
             "gridcolor": "white",
             "linecolor": "white",
             "minorgridcolor": "white",
             "startlinecolor": "#2a3f5f"
            },
            "baxis": {
             "endlinecolor": "#2a3f5f",
             "gridcolor": "white",
             "linecolor": "white",
             "minorgridcolor": "white",
             "startlinecolor": "#2a3f5f"
            },
            "type": "carpet"
           }
          ],
          "choropleth": [
           {
            "colorbar": {
             "outlinewidth": 0,
             "ticks": ""
            },
            "type": "choropleth"
           }
          ],
          "contour": [
           {
            "colorbar": {
             "outlinewidth": 0,
             "ticks": ""
            },
            "colorscale": [
             [
              0,
              "#0d0887"
             ],
             [
              0.1111111111111111,
              "#46039f"
             ],
             [
              0.2222222222222222,
              "#7201a8"
             ],
             [
              0.3333333333333333,
              "#9c179e"
             ],
             [
              0.4444444444444444,
              "#bd3786"
             ],
             [
              0.5555555555555556,
              "#d8576b"
             ],
             [
              0.6666666666666666,
              "#ed7953"
             ],
             [
              0.7777777777777778,
              "#fb9f3a"
             ],
             [
              0.8888888888888888,
              "#fdca26"
             ],
             [
              1,
              "#f0f921"
             ]
            ],
            "type": "contour"
           }
          ],
          "contourcarpet": [
           {
            "colorbar": {
             "outlinewidth": 0,
             "ticks": ""
            },
            "type": "contourcarpet"
           }
          ],
          "heatmap": [
           {
            "colorbar": {
             "outlinewidth": 0,
             "ticks": ""
            },
            "colorscale": [
             [
              0,
              "#0d0887"
             ],
             [
              0.1111111111111111,
              "#46039f"
             ],
             [
              0.2222222222222222,
              "#7201a8"
             ],
             [
              0.3333333333333333,
              "#9c179e"
             ],
             [
              0.4444444444444444,
              "#bd3786"
             ],
             [
              0.5555555555555556,
              "#d8576b"
             ],
             [
              0.6666666666666666,
              "#ed7953"
             ],
             [
              0.7777777777777778,
              "#fb9f3a"
             ],
             [
              0.8888888888888888,
              "#fdca26"
             ],
             [
              1,
              "#f0f921"
             ]
            ],
            "type": "heatmap"
           }
          ],
          "heatmapgl": [
           {
            "colorbar": {
             "outlinewidth": 0,
             "ticks": ""
            },
            "colorscale": [
             [
              0,
              "#0d0887"
             ],
             [
              0.1111111111111111,
              "#46039f"
             ],
             [
              0.2222222222222222,
              "#7201a8"
             ],
             [
              0.3333333333333333,
              "#9c179e"
             ],
             [
              0.4444444444444444,
              "#bd3786"
             ],
             [
              0.5555555555555556,
              "#d8576b"
             ],
             [
              0.6666666666666666,
              "#ed7953"
             ],
             [
              0.7777777777777778,
              "#fb9f3a"
             ],
             [
              0.8888888888888888,
              "#fdca26"
             ],
             [
              1,
              "#f0f921"
             ]
            ],
            "type": "heatmapgl"
           }
          ],
          "histogram": [
           {
            "marker": {
             "pattern": {
              "fillmode": "overlay",
              "size": 10,
              "solidity": 0.2
             }
            },
            "type": "histogram"
           }
          ],
          "histogram2d": [
           {
            "colorbar": {
             "outlinewidth": 0,
             "ticks": ""
            },
            "colorscale": [
             [
              0,
              "#0d0887"
             ],
             [
              0.1111111111111111,
              "#46039f"
             ],
             [
              0.2222222222222222,
              "#7201a8"
             ],
             [
              0.3333333333333333,
              "#9c179e"
             ],
             [
              0.4444444444444444,
              "#bd3786"
             ],
             [
              0.5555555555555556,
              "#d8576b"
             ],
             [
              0.6666666666666666,
              "#ed7953"
             ],
             [
              0.7777777777777778,
              "#fb9f3a"
             ],
             [
              0.8888888888888888,
              "#fdca26"
             ],
             [
              1,
              "#f0f921"
             ]
            ],
            "type": "histogram2d"
           }
          ],
          "histogram2dcontour": [
           {
            "colorbar": {
             "outlinewidth": 0,
             "ticks": ""
            },
            "colorscale": [
             [
              0,
              "#0d0887"
             ],
             [
              0.1111111111111111,
              "#46039f"
             ],
             [
              0.2222222222222222,
              "#7201a8"
             ],
             [
              0.3333333333333333,
              "#9c179e"
             ],
             [
              0.4444444444444444,
              "#bd3786"
             ],
             [
              0.5555555555555556,
              "#d8576b"
             ],
             [
              0.6666666666666666,
              "#ed7953"
             ],
             [
              0.7777777777777778,
              "#fb9f3a"
             ],
             [
              0.8888888888888888,
              "#fdca26"
             ],
             [
              1,
              "#f0f921"
             ]
            ],
            "type": "histogram2dcontour"
           }
          ],
          "mesh3d": [
           {
            "colorbar": {
             "outlinewidth": 0,
             "ticks": ""
            },
            "type": "mesh3d"
           }
          ],
          "parcoords": [
           {
            "line": {
             "colorbar": {
              "outlinewidth": 0,
              "ticks": ""
             }
            },
            "type": "parcoords"
           }
          ],
          "pie": [
           {
            "automargin": true,
            "type": "pie"
           }
          ],
          "scatter": [
           {
            "fillpattern": {
             "fillmode": "overlay",
             "size": 10,
             "solidity": 0.2
            },
            "type": "scatter"
           }
          ],
          "scatter3d": [
           {
            "line": {
             "colorbar": {
              "outlinewidth": 0,
              "ticks": ""
             }
            },
            "marker": {
             "colorbar": {
              "outlinewidth": 0,
              "ticks": ""
             }
            },
            "type": "scatter3d"
           }
          ],
          "scattercarpet": [
           {
            "marker": {
             "colorbar": {
              "outlinewidth": 0,
              "ticks": ""
             }
            },
            "type": "scattercarpet"
           }
          ],
          "scattergeo": [
           {
            "marker": {
             "colorbar": {
              "outlinewidth": 0,
              "ticks": ""
             }
            },
            "type": "scattergeo"
           }
          ],
          "scattergl": [
           {
            "marker": {
             "colorbar": {
              "outlinewidth": 0,
              "ticks": ""
             }
            },
            "type": "scattergl"
           }
          ],
          "scattermapbox": [
           {
            "marker": {
             "colorbar": {
              "outlinewidth": 0,
              "ticks": ""
             }
            },
            "type": "scattermapbox"
           }
          ],
          "scatterpolar": [
           {
            "marker": {
             "colorbar": {
              "outlinewidth": 0,
              "ticks": ""
             }
            },
            "type": "scatterpolar"
           }
          ],
          "scatterpolargl": [
           {
            "marker": {
             "colorbar": {
              "outlinewidth": 0,
              "ticks": ""
             }
            },
            "type": "scatterpolargl"
           }
          ],
          "scatterternary": [
           {
            "marker": {
             "colorbar": {
              "outlinewidth": 0,
              "ticks": ""
             }
            },
            "type": "scatterternary"
           }
          ],
          "surface": [
           {
            "colorbar": {
             "outlinewidth": 0,
             "ticks": ""
            },
            "colorscale": [
             [
              0,
              "#0d0887"
             ],
             [
              0.1111111111111111,
              "#46039f"
             ],
             [
              0.2222222222222222,
              "#7201a8"
             ],
             [
              0.3333333333333333,
              "#9c179e"
             ],
             [
              0.4444444444444444,
              "#bd3786"
             ],
             [
              0.5555555555555556,
              "#d8576b"
             ],
             [
              0.6666666666666666,
              "#ed7953"
             ],
             [
              0.7777777777777778,
              "#fb9f3a"
             ],
             [
              0.8888888888888888,
              "#fdca26"
             ],
             [
              1,
              "#f0f921"
             ]
            ],
            "type": "surface"
           }
          ],
          "table": [
           {
            "cells": {
             "fill": {
              "color": "#EBF0F8"
             },
             "line": {
              "color": "white"
             }
            },
            "header": {
             "fill": {
              "color": "#C8D4E3"
             },
             "line": {
              "color": "white"
             }
            },
            "type": "table"
           }
          ]
         },
         "layout": {
          "annotationdefaults": {
           "arrowcolor": "#2a3f5f",
           "arrowhead": 0,
           "arrowwidth": 1
          },
          "autotypenumbers": "strict",
          "coloraxis": {
           "colorbar": {
            "outlinewidth": 0,
            "ticks": ""
           }
          },
          "colorscale": {
           "diverging": [
            [
             0,
             "#8e0152"
            ],
            [
             0.1,
             "#c51b7d"
            ],
            [
             0.2,
             "#de77ae"
            ],
            [
             0.3,
             "#f1b6da"
            ],
            [
             0.4,
             "#fde0ef"
            ],
            [
             0.5,
             "#f7f7f7"
            ],
            [
             0.6,
             "#e6f5d0"
            ],
            [
             0.7,
             "#b8e186"
            ],
            [
             0.8,
             "#7fbc41"
            ],
            [
             0.9,
             "#4d9221"
            ],
            [
             1,
             "#276419"
            ]
           ],
           "sequential": [
            [
             0,
             "#0d0887"
            ],
            [
             0.1111111111111111,
             "#46039f"
            ],
            [
             0.2222222222222222,
             "#7201a8"
            ],
            [
             0.3333333333333333,
             "#9c179e"
            ],
            [
             0.4444444444444444,
             "#bd3786"
            ],
            [
             0.5555555555555556,
             "#d8576b"
            ],
            [
             0.6666666666666666,
             "#ed7953"
            ],
            [
             0.7777777777777778,
             "#fb9f3a"
            ],
            [
             0.8888888888888888,
             "#fdca26"
            ],
            [
             1,
             "#f0f921"
            ]
           ],
           "sequentialminus": [
            [
             0,
             "#0d0887"
            ],
            [
             0.1111111111111111,
             "#46039f"
            ],
            [
             0.2222222222222222,
             "#7201a8"
            ],
            [
             0.3333333333333333,
             "#9c179e"
            ],
            [
             0.4444444444444444,
             "#bd3786"
            ],
            [
             0.5555555555555556,
             "#d8576b"
            ],
            [
             0.6666666666666666,
             "#ed7953"
            ],
            [
             0.7777777777777778,
             "#fb9f3a"
            ],
            [
             0.8888888888888888,
             "#fdca26"
            ],
            [
             1,
             "#f0f921"
            ]
           ]
          },
          "colorway": [
           "#636efa",
           "#EF553B",
           "#00cc96",
           "#ab63fa",
           "#FFA15A",
           "#19d3f3",
           "#FF6692",
           "#B6E880",
           "#FF97FF",
           "#FECB52"
          ],
          "font": {
           "color": "#2a3f5f"
          },
          "geo": {
           "bgcolor": "white",
           "lakecolor": "white",
           "landcolor": "#E5ECF6",
           "showlakes": true,
           "showland": true,
           "subunitcolor": "white"
          },
          "hoverlabel": {
           "align": "left"
          },
          "hovermode": "closest",
          "mapbox": {
           "style": "light"
          },
          "paper_bgcolor": "white",
          "plot_bgcolor": "#E5ECF6",
          "polar": {
           "angularaxis": {
            "gridcolor": "white",
            "linecolor": "white",
            "ticks": ""
           },
           "bgcolor": "#E5ECF6",
           "radialaxis": {
            "gridcolor": "white",
            "linecolor": "white",
            "ticks": ""
           }
          },
          "scene": {
           "xaxis": {
            "backgroundcolor": "#E5ECF6",
            "gridcolor": "white",
            "gridwidth": 2,
            "linecolor": "white",
            "showbackground": true,
            "ticks": "",
            "zerolinecolor": "white"
           },
           "yaxis": {
            "backgroundcolor": "#E5ECF6",
            "gridcolor": "white",
            "gridwidth": 2,
            "linecolor": "white",
            "showbackground": true,
            "ticks": "",
            "zerolinecolor": "white"
           },
           "zaxis": {
            "backgroundcolor": "#E5ECF6",
            "gridcolor": "white",
            "gridwidth": 2,
            "linecolor": "white",
            "showbackground": true,
            "ticks": "",
            "zerolinecolor": "white"
           }
          },
          "shapedefaults": {
           "line": {
            "color": "#2a3f5f"
           }
          },
          "ternary": {
           "aaxis": {
            "gridcolor": "white",
            "linecolor": "white",
            "ticks": ""
           },
           "baxis": {
            "gridcolor": "white",
            "linecolor": "white",
            "ticks": ""
           },
           "bgcolor": "#E5ECF6",
           "caxis": {
            "gridcolor": "white",
            "linecolor": "white",
            "ticks": ""
           }
          },
          "title": {
           "x": 0.05
          },
          "xaxis": {
           "automargin": true,
           "gridcolor": "white",
           "linecolor": "white",
           "ticks": "",
           "title": {
            "standoff": 15
           },
           "zerolinecolor": "white",
           "zerolinewidth": 2
          },
          "yaxis": {
           "automargin": true,
           "gridcolor": "white",
           "linecolor": "white",
           "ticks": "",
           "title": {
            "standoff": 15
           },
           "zerolinecolor": "white",
           "zerolinewidth": 2
          }
         }
        },
        "xaxis": {
         "anchor": "y",
         "domain": [
          0,
          1
         ],
         "title": {
          "text": "year"
         }
        },
        "yaxis": {
         "anchor": "x",
         "domain": [
          0,
          1
         ],
         "title": {
          "text": "value"
         }
        }
       }
      }
     },
     "metadata": {},
     "output_type": "display_data"
    }
   ],
   "source": [
    "from components.technologies import Technologies\n",
    "px.line(res.tech_shares_df.groupby([\"year\"])[list(Technologies)].mean(), template=\"plotly\")"
   ]
  },
  {
   "cell_type": "code",
   "execution_count": 8,
   "metadata": {},
   "outputs": [
    {
     "name": "stderr",
     "output_type": "stream",
     "text": [
      "c:\\Users\\dhuck\\miniconda3\\envs\\cando\\lib\\site-packages\\seaborn\\_base.py:948: FutureWarning:\n",
      "\n",
      "When grouping with a length-1 list-like, you will need to pass a length-1 tuple to get_group in a future version of pandas. Pass `(name,)` instead of `name` to silence this warning.\n",
      "\n",
      "c:\\Users\\dhuck\\miniconda3\\envs\\cando\\lib\\site-packages\\seaborn\\_base.py:948: FutureWarning:\n",
      "\n",
      "When grouping with a length-1 list-like, you will need to pass a length-1 tuple to get_group in a future version of pandas. Pass `(name,)` instead of `name` to silence this warning.\n",
      "\n",
      "c:\\Users\\dhuck\\miniconda3\\envs\\cando\\lib\\site-packages\\seaborn\\_base.py:948: FutureWarning:\n",
      "\n",
      "When grouping with a length-1 list-like, you will need to pass a length-1 tuple to get_group in a future version of pandas. Pass `(name,)` instead of `name` to silence this warning.\n",
      "\n",
      "c:\\Users\\dhuck\\miniconda3\\envs\\cando\\lib\\site-packages\\seaborn\\_base.py:948: FutureWarning:\n",
      "\n",
      "When grouping with a length-1 list-like, you will need to pass a length-1 tuple to get_group in a future version of pandas. Pass `(name,)` instead of `name` to silence this warning.\n",
      "\n",
      "c:\\Users\\dhuck\\miniconda3\\envs\\cando\\lib\\site-packages\\seaborn\\_base.py:948: FutureWarning:\n",
      "\n",
      "When grouping with a length-1 list-like, you will need to pass a length-1 tuple to get_group in a future version of pandas. Pass `(name,)` instead of `name` to silence this warning.\n",
      "\n",
      "c:\\src\\canadopt\\abetam\\batch.py:665: UserWarning:\n",
      "\n",
      "set_ticklabels() should only be used with a fixed number of ticks, i.e. after set_ticks() or using a FixedLocator.\n",
      "\n"
     ]
    },
    {
     "data": {
      "text/plain": [
       "<Axes: xlabel='year', ylabel='Appliance age'>"
      ]
     },
     "execution_count": 8,
     "metadata": {},
     "output_type": "execute_result"
    },
    {
     "data": {
      "image/png": "[encoded data removed]",
      "text/plain": [
       "<Figure size 640x480 with 1 Axes>"
      ]
     },
     "metadata": {},
     "output_type": "display_data"
    }
   ],
   "source": [
    "res.appliance_age_fig()"
   ]
  },
  {
   "cell_type": "code",
   "execution_count": 13,
   "id": "01J4V8034V0QX0DKM1DWA88GAK",
   "metadata": {},
   "outputs": [
    {
     "data": {
      "application/vnd.plotly.v1+json": {
       "config": {
        "plotlyServerURL": "https://plot.ly"
       },
       "data": [
        {
         "hovertemplate": "tech=Electric furnace<br>was_necessary=False<br>year=%{x}<br>cumulative_amount=%{y}<extra></extra>",
         "legendgroup": "Electric furnace",
         "line": {
          "color": "#e96eb5",
          "dash": "solid"
         },
         "marker": {
          "symbol": "circle"
         },
         "mode": "lines",
         "name": "Electric furnace",
         "orientation": "v",
         "showlegend": true,
         "type": "scatter",
         "x": [
          2020.25,
          2021.25,
          2022.25,
          2023.25,
          2024.25,
          2025.25,
          2026.25,
          2027.25,
          2028.25,
          2029.25,
          2030.25,
          2030.75,
          2031.25,
          2031.5,
          2031.75,
          2032,
          2032.25,
          2032.5,
          2032.75,
          2033,
          2033.25,
          2033.5,
          2033.75,
          2034,
          2034.25,
          2034.5,
          2034.75,
          2035,
          2035.25,
          2035.5,
          2035.75,
          2036,
          2036.25,
          2036.5,
          2036.75,
          2037,
          2037.5,
          2038.5,
          2039,
          2039.5,
          2039.75,
          2040.5,
          2040.75,
          2041,
          2041.25,
          2041.5,
          2042,
          2042.25,
          2042.5,
          2042.75,
          2043,
          2043.25,
          2043.5,
          2043.75,
          2044.25,
          2044.5,
          2044.75,
          2045,
          2045.25,
          2045.5,
          2045.75,
          2046,
          2046.25,
          2046.5,
          2047.25,
          2047.5,
          2047.75,
          2048.5,
          2049,
          2049.25,
          2049.5
         ],
         "xaxis": "x",
         "y": [
          1,
          1,
          5,
          5,
          6.444444444444445,
          10.5,
          15.526315789473685,
          19.6,
          23.764705882352942,
          28.263157894736842,
          32.42857142857143,
          43,
          39.0625,
          43,
          44,
          47,
          44.4,
          51,
          53.5,
          54.5,
          49.42857142857143,
          57,
          58,
          59,
          55.666666666666664,
          58,
          63,
          65,
          66,
          58,
          69,
          66,
          72,
          73,
          67.33333333333333,
          68,
          59,
          61.5,
          59,
          61,
          63.5,
          66.66666666666667,
          70,
          54,
          83,
          68,
          71,
          56,
          74.16666666666667,
          72,
          73,
          81,
          73.66666666666667,
          85,
          80.5,
          81.6,
          88.5,
          82,
          97,
          79.2,
          95,
          62,
          86,
          87,
          76,
          91.4,
          81,
          96.5,
          96,
          84.33333333333333,
          95
         ],
         "yaxis": "y"
        },
        {
         "hovertemplate": "tech=Electric furnace<br>was_necessary=True<br>year=%{x}<br>cumulative_amount=%{y}<extra></extra>",
         "legendgroup": "Electric furnace",
         "line": {
          "color": "#e96eb5",
          "dash": "solid"
         },
         "marker": {
          "symbol": "circle"
         },
         "mode": "lines",
         "name": "Electric furnace",
         "orientation": "v",
         "showlegend": false,
         "type": "scatter",
         "x": [
          2020.25,
          2020.5,
          2020.75,
          2021.25,
          2021.5,
          2021.75,
          2022,
          2022.25,
          2022.5,
          2022.75,
          2023.5,
          2024.25,
          2024.5,
          2024.75,
          2025,
          2025.25,
          2025.5,
          2025.75,
          2026,
          2026.25,
          2026.5,
          2026.75,
          2027,
          2027.25,
          2027.5,
          2027.75,
          2028,
          2028.25,
          2028.5,
          2028.75,
          2029,
          2029.25,
          2029.5,
          2029.75,
          2030,
          2030.25,
          2030.5,
          2030.75,
          2031,
          2031.25,
          2031.5,
          2031.75,
          2032,
          2032.25,
          2032.5,
          2032.75,
          2033,
          2033.25,
          2033.5,
          2034,
          2034.5,
          2034.75,
          2035,
          2035.25,
          2035.5,
          2035.75,
          2036,
          2036.25,
          2036.5,
          2036.75,
          2037,
          2037.25,
          2037.5,
          2037.75,
          2038,
          2038.25,
          2038.5,
          2038.75,
          2039,
          2039.25,
          2039.5,
          2039.75,
          2040,
          2040.25,
          2040.5,
          2040.75,
          2041,
          2041.25,
          2041.5,
          2041.75,
          2042.25,
          2043,
          2043.25,
          2043.5,
          2043.75,
          2044,
          2044.25,
          2044.5,
          2044.75,
          2045,
          2045.25,
          2045.5,
          2045.75,
          2046,
          2046.25,
          2046.5,
          2046.75,
          2047,
          2047.25,
          2047.5,
          2047.75,
          2048,
          2048.25,
          2048.5,
          2048.75,
          2049,
          2049.25,
          2049.5,
          2049.75,
          2050
         ],
         "xaxis": "x2",
         "y": [
          1,
          2,
          1.5,
          1.5,
          2.5,
          2,
          3.5,
          4,
          5,
          5,
          7,
          8,
          7,
          9,
          9.333333333333334,
          10.5,
          12.333333333333334,
          9.333333333333334,
          13.125,
          15.5,
          14.8,
          19.8,
          16.5,
          17,
          20,
          19,
          22,
          24.5,
          29,
          25,
          24.666666666666668,
          33,
          28,
          36.5,
          32,
          32.4,
          38.5,
          39,
          34.4,
          37.6,
          44,
          42.5,
          40,
          42.5,
          44,
          44.42857142857143,
          49,
          48.6,
          48.25,
          43,
          47,
          54.8,
          50.5,
          56,
          53.4,
          56.75,
          54.5,
          56.5,
          56.333333333333336,
          53.5,
          54,
          66.25,
          58.75,
          67,
          65.66666666666667,
          53.5,
          68,
          62.5,
          66,
          70.5,
          62,
          57,
          63,
          66.75,
          73,
          67,
          69.5,
          74.5,
          75,
          70,
          78,
          71,
          73,
          60,
          74,
          80,
          84,
          87.5,
          81,
          91,
          87.5,
          89.75,
          97,
          96,
          85,
          80.2,
          94,
          77.5,
          77.5,
          75.75,
          97,
          88.6,
          90.5,
          97.25,
          99,
          70,
          84,
          96.5,
          93.42857142857143,
          102.5
         ],
         "yaxis": "y2"
        },
        {
         "hovertemplate": "tech=Gas furnace<br>was_necessary=False<br>year=%{x}<br>cumulative_amount=%{y}<extra></extra>",
         "legendgroup": "Gas furnace",
         "line": {
          "color": "#757575",
          "dash": "solid"
         },
         "marker": {
          "symbol": "circle"
         },
         "mode": "lines",
         "name": "Gas furnace",
         "orientation": "v",
         "showlegend": true,
         "type": "scatter",
         "x": [
          2021.25,
          2023.25,
          2024.25,
          2025.25,
          2025.5,
          2025.75,
          2026,
          2026.25,
          2026.5,
          2026.75,
          2027,
          2027.25,
          2027.5,
          2027.75,
          2028,
          2028.25,
          2028.5,
          2028.75,
          2029,
          2029.25,
          2029.5,
          2029.75,
          2030,
          2030.25,
          2030.5,
          2030.75,
          2031,
          2031.25,
          2031.5,
          2031.75,
          2032,
          2032.25,
          2032.5,
          2032.75,
          2033,
          2033.25,
          2033.5,
          2033.75,
          2034,
          2034.25,
          2034.5,
          2034.75,
          2035,
          2035.25,
          2035.5,
          2035.75,
          2036,
          2036.25,
          2036.5,
          2036.75,
          2037,
          2037.25,
          2037.5,
          2037.75,
          2038,
          2038.25,
          2038.5,
          2038.75,
          2039,
          2039.25,
          2039.5,
          2039.75,
          2040,
          2040.25,
          2040.5,
          2040.75,
          2041,
          2041.25,
          2041.5,
          2041.75,
          2042,
          2042.25,
          2042.5,
          2042.75,
          2043,
          2043.25,
          2043.5,
          2043.75,
          2044,
          2044.25,
          2044.5,
          2044.75,
          2045,
          2045.25,
          2045.5,
          2045.75,
          2046,
          2046.25,
          2046.5,
          2046.75,
          2047,
          2047.25,
          2047.5,
          2047.75,
          2048,
          2048.25,
          2048.5,
          2048.75,
          2049,
          2049.25,
          2049.5,
          2049.75,
          2050
         ],
         "xaxis": "x",
         "y": [
          1,
          5,
          7.5,
          8.8,
          12,
          13,
          14,
          12.9,
          17,
          18,
          19,
          16,
          18.25,
          19.25,
          20.75,
          20.7,
          25,
          26,
          27.333333333333332,
          24.428571428571427,
          27.166666666666668,
          28.833333333333332,
          30.5,
          33.57142857142857,
          35.714285714285715,
          37.857142857142854,
          40,
          40.44444444444444,
          43.44444444444444,
          46.44444444444444,
          49.44444444444444,
          47.54545454545455,
          50.36363636363637,
          53.18181818181818,
          55.3,
          59.63636363636363,
          62.45454545454545,
          65.27272727272727,
          68.0909090909091,
          70.9090909090909,
          73.72727272727273,
          78.9,
          81.7,
          82.27272727272727,
          85.0909090909091,
          87.9090909090909,
          90.72727272727273,
          92.8,
          95.4,
          99.3,
          102.3,
          105.3,
          108.3,
          111.3,
          114.3,
          117.3,
          120.3,
          118.44444444444444,
          121,
          123.55555555555556,
          126.11111111111111,
          128.66666666666666,
          131.22222222222223,
          133.77777777777777,
          136.33333333333334,
          138.88888888888889,
          141.44444444444446,
          144,
          145,
          148,
          151,
          154,
          157,
          154,
          156.77777777777777,
          159.55555555555554,
          162.33333333333334,
          165.11111111111111,
          167.88888888888889,
          171.5,
          174.25,
          177,
          179.75,
          181.28571428571428,
          183.42857142857142,
          185.57142857142858,
          187.71428571428572,
          193,
          195.33333333333334,
          197.66666666666666,
          200,
          202.33333333333334,
          204.66666666666666,
          207,
          209.33333333333334,
          211.66666666666666,
          214,
          216.33333333333334,
          218.66666666666666,
          221,
          223.33333333333334,
          222,
          223.8
         ],
         "yaxis": "y"
        },
        {
         "hovertemplate": "tech=Gas furnace<br>was_necessary=True<br>year=%{x}<br>cumulative_amount=%{y}<extra></extra>",
         "legendgroup": "Gas furnace",
         "line": {
          "color": "#757575",
          "dash": "solid"
         },
         "marker": {
          "symbol": "circle"
         },
         "mode": "lines",
         "name": "Gas furnace",
         "orientation": "v",
         "showlegend": false,
         "type": "scatter",
         "x": [
          2020.25,
          2020.5,
          2020.75,
          2021,
          2021.25,
          2021.5,
          2021.75,
          2022.25,
          2022.5,
          2022.75,
          2023,
          2023.25,
          2023.5,
          2024,
          2024.25,
          2024.5,
          2024.75,
          2025.25,
          2025.75,
          2026,
          2026.25,
          2027,
          2027.5,
          2027.75,
          2028,
          2028.25,
          2028.75,
          2029,
          2029.25,
          2029.5
         ],
         "xaxis": "x2",
         "y": [
          1,
          1.3333333333333333,
          2,
          2,
          3,
          3,
          3,
          4,
          5,
          5,
          3,
          5,
          7,
          5.5,
          6,
          8,
          9,
          9,
          11,
          15,
          11.5,
          14,
          19,
          25,
          21,
          28,
          14,
          24,
          19,
          20
         ],
         "yaxis": "y2"
        },
        {
         "hovertemplate": "tech=Heat pump<br>was_necessary=False<br>year=%{x}<br>cumulative_amount=%{y}<extra></extra>",
         "legendgroup": "Heat pump",
         "line": {
          "color": "#00ae00",
          "dash": "solid"
         },
         "marker": {
          "symbol": "circle"
         },
         "mode": "lines",
         "name": "Heat pump",
         "orientation": "v",
         "showlegend": true,
         "type": "scatter",
         "x": [
          2020.25,
          2021.25,
          2022.25,
          2023.25,
          2024.25,
          2025.25,
          2026.25,
          2027.25,
          2027.5,
          2027.75,
          2028,
          2028.25,
          2028.5,
          2028.75,
          2029,
          2029.25,
          2029.5,
          2029.75,
          2030,
          2030.25,
          2030.5,
          2030.75,
          2031,
          2031.25,
          2031.5,
          2031.75,
          2032,
          2032.25,
          2032.5,
          2032.75,
          2033,
          2033.25,
          2033.5,
          2033.75,
          2034,
          2034.25,
          2034.5,
          2034.75,
          2035.25,
          2035.5,
          2035.75,
          2036,
          2036.25,
          2036.5,
          2036.75,
          2037,
          2037.25,
          2037.5,
          2037.75,
          2038,
          2038.25,
          2038.5,
          2038.75,
          2039,
          2039.25,
          2039.5,
          2039.75,
          2040,
          2040.25,
          2040.5,
          2040.75,
          2041,
          2041.25,
          2041.5,
          2041.75,
          2042,
          2042.25,
          2042.5,
          2042.75,
          2043,
          2043.25,
          2043.5,
          2043.75,
          2044,
          2044.25,
          2044.5,
          2044.75,
          2045,
          2045.25,
          2045.5,
          2045.75,
          2046,
          2046.25,
          2046.5,
          2046.75,
          2047,
          2047.25,
          2047.5,
          2047.75,
          2048,
          2048.25,
          2048.5,
          2048.75,
          2049,
          2049.25,
          2049.5,
          2049.75,
          2050
         ],
         "xaxis": "x",
         "y": [
          1.3333333333333333,
          2,
          4.5,
          8.333333333333334,
          13.5,
          13.933333333333334,
          20.714285714285715,
          26.227272727272727,
          24,
          25,
          27,
          33.5,
          36,
          38,
          40,
          43.1875,
          47,
          48,
          51,
          50.925925925925924,
          55,
          60,
          61.5,
          57.4,
          65.4,
          61,
          61.5,
          65.3,
          74,
          58,
          66,
          74.16666666666667,
          75.25,
          79,
          82,
          78,
          83.33333333333333,
          85,
          78.5,
          88.4,
          96.5,
          88.2,
          90.5,
          94.27272727272727,
          109.5,
          96,
          104,
          102.93333333333334,
          108.75,
          98.5,
          102.5,
          114.875,
          108.5,
          96.5,
          112.5,
          114.86363636363636,
          113,
          118.5,
          120.75,
          126,
          129.25,
          145.5,
          142.33333333333334,
          120.21428571428571,
          133.5,
          136,
          134.2,
          142.83333333333334,
          137.8,
          140.25,
          140,
          147.58333333333334,
          156,
          168.66666666666666,
          159.5,
          161.83333333333334,
          167.4,
          166.33333333333334,
          156.66666666666666,
          170.2,
          172.36363636363637,
          169.2,
          169.66666666666666,
          180.5,
          181,
          183.75,
          181.8,
          183.5,
          187.36363636363637,
          193.33333333333334,
          206,
          189.66666666666666,
          202.33333333333334,
          211.5,
          211.83333333333334,
          207.33333333333334,
          204.25,
          208.75
         ],
         "yaxis": "y"
        },
        {
         "hovertemplate": "tech=Heat pump<br>was_necessary=True<br>year=%{x}<br>cumulative_amount=%{y}<extra></extra>",
         "legendgroup": "Heat pump",
         "line": {
          "color": "#00ae00",
          "dash": "solid"
         },
         "marker": {
          "symbol": "circle"
         },
         "mode": "lines",
         "name": "Heat pump",
         "orientation": "v",
         "showlegend": false,
         "type": "scatter",
         "x": [
          2020.25,
          2020.5,
          2020.75,
          2021,
          2021.25,
          2021.5,
          2021.75,
          2022,
          2022.5,
          2022.75,
          2023,
          2023.5,
          2023.75,
          2024,
          2024.25,
          2024.5,
          2024.75,
          2025.25,
          2025.5,
          2025.75,
          2026,
          2026.25,
          2026.5,
          2026.75,
          2027,
          2027.25,
          2027.5,
          2027.75,
          2028,
          2028.25,
          2028.5,
          2028.75,
          2029,
          2029.25,
          2029.5,
          2029.75,
          2030,
          2030.25,
          2030.5,
          2030.75,
          2031,
          2031.25,
          2031.5,
          2031.75,
          2032,
          2032.25,
          2032.5,
          2032.75,
          2033,
          2033.25,
          2033.5,
          2033.75,
          2034,
          2034.25,
          2034.5,
          2034.75,
          2035,
          2035.25,
          2035.5,
          2035.75,
          2036,
          2036.25,
          2036.5,
          2036.75,
          2037,
          2037.25,
          2037.5,
          2037.75,
          2038,
          2038.25,
          2038.5,
          2038.75,
          2039,
          2039.25,
          2039.5,
          2039.75,
          2040,
          2040.25,
          2040.5,
          2040.75,
          2041,
          2041.25,
          2041.5,
          2041.75,
          2042,
          2042.25,
          2042.5,
          2042.75,
          2043,
          2043.25,
          2043.5,
          2043.75,
          2044,
          2044.25,
          2044.5,
          2044.75,
          2045,
          2045.25,
          2045.5,
          2045.75,
          2046,
          2046.25,
          2046.5,
          2046.75,
          2047,
          2047.25,
          2047.5,
          2047.75,
          2048,
          2048.25,
          2048.5,
          2048.75,
          2049,
          2049.25,
          2049.5,
          2049.75,
          2050
         ],
         "xaxis": "x2",
         "y": [
          1,
          2,
          2.5,
          1,
          3.2,
          4.5,
          3,
          4,
          5.5,
          5.333333333333333,
          7.142857142857143,
          10,
          10.5,
          9.333333333333334,
          12,
          10.428571428571429,
          20,
          18,
          14.5,
          17.714285714285715,
          20,
          20,
          23,
          19.857142857142858,
          23.8,
          24.333333333333332,
          34.8,
          25.4,
          32.5,
          28,
          36.5,
          34.5,
          39.75,
          37.666666666666664,
          45,
          44.166666666666664,
          52.4,
          47.333333333333336,
          52.857142857142854,
          57.55555555555556,
          61,
          63.5,
          62.833333333333336,
          65.2,
          66.25,
          70.6,
          70.25,
          74,
          75.6,
          74.57142857142857,
          76.25,
          81.2,
          74,
          85,
          78,
          89,
          84.8,
          89,
          87.66666666666667,
          89.28571428571429,
          94.57142857142857,
          101.33333333333333,
          95.55555555555556,
          97.22222222222223,
          103.6,
          95,
          105.14285714285714,
          105.25,
          111.33333333333333,
          106.33333333333333,
          122,
          125.5,
          115.77777777777777,
          105.25,
          120.33333333333333,
          118,
          125.33333333333333,
          124.54545454545455,
          126.75,
          134,
          137.71428571428572,
          141.25,
          136.1,
          126,
          142.83333333333334,
          132.75,
          143.33333333333334,
          133.66666666666666,
          139.33333333333334,
          148.28571428571428,
          151.2,
          154.6,
          143.16666666666666,
          163,
          162,
          156.5,
          152.5,
          168.75,
          163,
          166.14285714285714,
          170.3,
          172.27272727272728,
          176.42857142857142,
          171.55555555555554,
          183.16666666666666,
          169.16666666666666,
          188.66666666666666,
          193.53333333333333,
          196.2,
          195,
          182.66666666666666,
          200.33333333333334,
          193,
          200.88888888888889,
          202.5,
          200,
          209.9
         ],
         "yaxis": "y2"
        },
        {
         "hovertemplate": "tech=Oil furnace<br>was_necessary=False<br>year=%{x}<br>cumulative_amount=%{y}<extra></extra>",
         "legendgroup": "Oil furnace",
         "line": {
          "color": "#772700",
          "dash": "solid"
         },
         "marker": {
          "symbol": "circle"
         },
         "mode": "lines",
         "name": "Oil furnace",
         "orientation": "v",
         "showlegend": true,
         "type": "scatter",
         "x": [
          2024.25,
          2029.25,
          2029.5,
          2029.75,
          2030,
          2030.25,
          2030.5,
          2030.75,
          2031,
          2031.25,
          2031.5,
          2031.75,
          2032,
          2032.25,
          2032.5,
          2032.75,
          2033,
          2033.25,
          2033.5,
          2033.75,
          2034,
          2034.25,
          2034.5,
          2034.75,
          2035,
          2035.25,
          2035.5,
          2035.75,
          2036,
          2036.25,
          2036.5,
          2036.75,
          2037,
          2037.25,
          2037.5,
          2037.75,
          2038,
          2038.25,
          2038.5,
          2038.75
         ],
         "xaxis": "x",
         "y": [
          1,
          2,
          3,
          4,
          5,
          3.5,
          4.5,
          5.5,
          6.5,
          7.5,
          6,
          7,
          8,
          9,
          10,
          11,
          12,
          13,
          14,
          15,
          16,
          17,
          18,
          19,
          20,
          21,
          22,
          23,
          24,
          25,
          26,
          27,
          28,
          29,
          30,
          31,
          32,
          33,
          34,
          35
         ],
         "yaxis": "y"
        },
        {
         "hovertemplate": "tech=Wood or wood pellets furnace<br>was_necessary=False<br>year=%{x}<br>cumulative_amount=%{y}<extra></extra>",
         "legendgroup": "Wood or wood pellets furnace",
         "line": {
          "color": "#00b9ba",
          "dash": "solid"
         },
         "marker": {
          "symbol": "circle"
         },
         "mode": "lines",
         "name": "Wood or wood pellets furnace",
         "orientation": "v",
         "showlegend": true,
         "type": "scatter",
         "x": [
          2034.5,
          2040
         ],
         "xaxis": "x",
         "y": [
          1,
          1
         ],
         "yaxis": "y"
        },
        {
         "hovertemplate": "tech=Wood or wood pellets furnace<br>was_necessary=True<br>year=%{x}<br>cumulative_amount=%{y}<extra></extra>",
         "legendgroup": "Wood or wood pellets furnace",
         "line": {
          "color": "#00b9ba",
          "dash": "solid"
         },
         "marker": {
          "symbol": "circle"
         },
         "mode": "lines",
         "name": "Wood or wood pellets furnace",
         "orientation": "v",
         "showlegend": false,
         "type": "scatter",
         "x": [
          2039,
          2039.25,
          2039.5,
          2041,
          2043.75
         ],
         "xaxis": "x2",
         "y": [
          1,
          2,
          2,
          3,
          4
         ],
         "yaxis": "y2"
        }
       ],
       "layout": {
        "annotations": [
         {
          "font": {},
          "showarrow": false,
          "text": "was_necessary=False",
          "x": 0.245,
          "xanchor": "center",
          "xref": "paper",
          "y": 1,
          "yanchor": "bottom",
          "yref": "paper"
         },
         {
          "font": {},
          "showarrow": false,
          "text": "was_necessary=True",
          "x": 0.755,
          "xanchor": "center",
          "xref": "paper",
          "y": 1,
          "yanchor": "bottom",
          "yref": "paper"
         }
        ],
        "legend": {
         "title": {
          "text": "tech"
         },
         "tracegroupgap": 0
        },
        "margin": {
         "t": 60
        },
        "template": {
         "data": {
          "bar": [
           {
            "error_x": {
             "color": "#2a3f5f"
            },
            "error_y": {
             "color": "#2a3f5f"
            },
            "marker": {
             "line": {
              "color": "#E5ECF6",
              "width": 0.5
             },
             "pattern": {
              "fillmode": "overlay",
              "size": 10,
              "solidity": 0.2
             }
            },
            "type": "bar"
           }
          ],
          "barpolar": [
           {
            "marker": {
             "line": {
              "color": "#E5ECF6",
              "width": 0.5
             },
             "pattern": {
              "fillmode": "overlay",
              "size": 10,
              "solidity": 0.2
             }
            },
            "type": "barpolar"
           }
          ],
          "carpet": [
           {
            "aaxis": {
             "endlinecolor": "#2a3f5f",
             "gridcolor": "white",
             "linecolor": "white",
             "minorgridcolor": "white",
             "startlinecolor": "#2a3f5f"
            },
            "baxis": {
             "endlinecolor": "#2a3f5f",
             "gridcolor": "white",
             "linecolor": "white",
             "minorgridcolor": "white",
             "startlinecolor": "#2a3f5f"
            },
            "type": "carpet"
           }
          ],
          "choropleth": [
           {
            "colorbar": {
             "outlinewidth": 0,
             "ticks": ""
            },
            "type": "choropleth"
           }
          ],
          "contour": [
           {
            "colorbar": {
             "outlinewidth": 0,
             "ticks": ""
            },
            "colorscale": [
             [
              0,
              "#0d0887"
             ],
             [
              0.1111111111111111,
              "#46039f"
             ],
             [
              0.2222222222222222,
              "#7201a8"
             ],
             [
              0.3333333333333333,
              "#9c179e"
             ],
             [
              0.4444444444444444,
              "#bd3786"
             ],
             [
              0.5555555555555556,
              "#d8576b"
             ],
             [
              0.6666666666666666,
              "#ed7953"
             ],
             [
              0.7777777777777778,
              "#fb9f3a"
             ],
             [
              0.8888888888888888,
              "#fdca26"
             ],
             [
              1,
              "#f0f921"
             ]
            ],
            "type": "contour"
           }
          ],
          "contourcarpet": [
           {
            "colorbar": {
             "outlinewidth": 0,
             "ticks": ""
            },
            "type": "contourcarpet"
           }
          ],
          "heatmap": [
           {
            "colorbar": {
             "outlinewidth": 0,
             "ticks": ""
            },
            "colorscale": [
             [
              0,
              "#0d0887"
             ],
             [
              0.1111111111111111,
              "#46039f"
             ],
             [
              0.2222222222222222,
              "#7201a8"
             ],
             [
              0.3333333333333333,
              "#9c179e"
             ],
             [
              0.4444444444444444,
              "#bd3786"
             ],
             [
              0.5555555555555556,
              "#d8576b"
             ],
             [
              0.6666666666666666,
              "#ed7953"
             ],
             [
              0.7777777777777778,
              "#fb9f3a"
             ],
             [
              0.8888888888888888,
              "#fdca26"
             ],
             [
              1,
              "#f0f921"
             ]
            ],
            "type": "heatmap"
           }
          ],
          "heatmapgl": [
           {
            "colorbar": {
             "outlinewidth": 0,
             "ticks": ""
            },
            "colorscale": [
             [
              0,
              "#0d0887"
             ],
             [
              0.1111111111111111,
              "#46039f"
             ],
             [
              0.2222222222222222,
              "#7201a8"
             ],
             [
              0.3333333333333333,
              "#9c179e"
             ],
             [
              0.4444444444444444,
              "#bd3786"
             ],
             [
              0.5555555555555556,
              "#d8576b"
             ],
             [
              0.6666666666666666,
              "#ed7953"
             ],
             [
              0.7777777777777778,
              "#fb9f3a"
             ],
             [
              0.8888888888888888,
              "#fdca26"
             ],
             [
              1,
              "#f0f921"
             ]
            ],
            "type": "heatmapgl"
           }
          ],
          "histogram": [
           {
            "marker": {
             "pattern": {
              "fillmode": "overlay",
              "size": 10,
              "solidity": 0.2
             }
            },
            "type": "histogram"
           }
          ],
          "histogram2d": [
           {
            "colorbar": {
             "outlinewidth": 0,
             "ticks": ""
            },
            "colorscale": [
             [
              0,
              "#0d0887"
             ],
             [
              0.1111111111111111,
              "#46039f"
             ],
             [
              0.2222222222222222,
              "#7201a8"
             ],
             [
              0.3333333333333333,
              "#9c179e"
             ],
             [
              0.4444444444444444,
              "#bd3786"
             ],
             [
              0.5555555555555556,
              "#d8576b"
             ],
             [
              0.6666666666666666,
              "#ed7953"
             ],
             [
              0.7777777777777778,
              "#fb9f3a"
             ],
             [
              0.8888888888888888,
              "#fdca26"
             ],
             [
              1,
              "#f0f921"
             ]
            ],
            "type": "histogram2d"
           }
          ],
          "histogram2dcontour": [
           {
            "colorbar": {
             "outlinewidth": 0,
             "ticks": ""
            },
            "colorscale": [
             [
              0,
              "#0d0887"
             ],
             [
              0.1111111111111111,
              "#46039f"
             ],
             [
              0.2222222222222222,
              "#7201a8"
             ],
             [
              0.3333333333333333,
              "#9c179e"
             ],
             [
              0.4444444444444444,
              "#bd3786"
             ],
             [
              0.5555555555555556,
              "#d8576b"
             ],
             [
              0.6666666666666666,
              "#ed7953"
             ],
             [
              0.7777777777777778,
              "#fb9f3a"
             ],
             [
              0.8888888888888888,
              "#fdca26"
             ],
             [
              1,
              "#f0f921"
             ]
            ],
            "type": "histogram2dcontour"
           }
          ],
          "mesh3d": [
           {
            "colorbar": {
             "outlinewidth": 0,
             "ticks": ""
            },
            "type": "mesh3d"
           }
          ],
          "parcoords": [
           {
            "line": {
             "colorbar": {
              "outlinewidth": 0,
              "ticks": ""
             }
            },
            "type": "parcoords"
           }
          ],
          "pie": [
           {
            "automargin": true,
            "type": "pie"
           }
          ],
          "scatter": [
           {
            "fillpattern": {
             "fillmode": "overlay",
             "size": 10,
             "solidity": 0.2
            },
            "type": "scatter"
           }
          ],
          "scatter3d": [
           {
            "line": {
             "colorbar": {
              "outlinewidth": 0,
              "ticks": ""
             }
            },
            "marker": {
             "colorbar": {
              "outlinewidth": 0,
              "ticks": ""
             }
            },
            "type": "scatter3d"
           }
          ],
          "scattercarpet": [
           {
            "marker": {
             "colorbar": {
              "outlinewidth": 0,
              "ticks": ""
             }
            },
            "type": "scattercarpet"
           }
          ],
          "scattergeo": [
           {
            "marker": {
             "colorbar": {
              "outlinewidth": 0,
              "ticks": ""
             }
            },
            "type": "scattergeo"
           }
          ],
          "scattergl": [
           {
            "marker": {
             "colorbar": {
              "outlinewidth": 0,
              "ticks": ""
             }
            },
            "type": "scattergl"
           }
          ],
          "scattermapbox": [
           {
            "marker": {
             "colorbar": {
              "outlinewidth": 0,
              "ticks": ""
             }
            },
            "type": "scattermapbox"
           }
          ],
          "scatterpolar": [
           {
            "marker": {
             "colorbar": {
              "outlinewidth": 0,
              "ticks": ""
             }
            },
            "type": "scatterpolar"
           }
          ],
          "scatterpolargl": [
           {
            "marker": {
             "colorbar": {
              "outlinewidth": 0,
              "ticks": ""
             }
            },
            "type": "scatterpolargl"
           }
          ],
          "scatterternary": [
           {
            "marker": {
             "colorbar": {
              "outlinewidth": 0,
              "ticks": ""
             }
            },
            "type": "scatterternary"
           }
          ],
          "surface": [
           {
            "colorbar": {
             "outlinewidth": 0,
             "ticks": ""
            },
            "colorscale": [
             [
              0,
              "#0d0887"
             ],
             [
              0.1111111111111111,
              "#46039f"
             ],
             [
              0.2222222222222222,
              "#7201a8"
             ],
             [
              0.3333333333333333,
              "#9c179e"
             ],
             [
              0.4444444444444444,
              "#bd3786"
             ],
             [
              0.5555555555555556,
              "#d8576b"
             ],
             [
              0.6666666666666666,
              "#ed7953"
             ],
             [
              0.7777777777777778,
              "#fb9f3a"
             ],
             [
              0.8888888888888888,
              "#fdca26"
             ],
             [
              1,
              "#f0f921"
             ]
            ],
            "type": "surface"
           }
          ],
          "table": [
           {
            "cells": {
             "fill": {
              "color": "#EBF0F8"
             },
             "line": {
              "color": "white"
             }
            },
            "header": {
             "fill": {
              "color": "#C8D4E3"
             },
             "line": {
              "color": "white"
             }
            },
            "type": "table"
           }
          ]
         },
         "layout": {
          "annotationdefaults": {
           "arrowcolor": "#2a3f5f",
           "arrowhead": 0,
           "arrowwidth": 1
          },
          "autotypenumbers": "strict",
          "coloraxis": {
           "colorbar": {
            "outlinewidth": 0,
            "ticks": ""
           }
          },
          "colorscale": {
           "diverging": [
            [
             0,
             "#8e0152"
            ],
            [
             0.1,
             "#c51b7d"
            ],
            [
             0.2,
             "#de77ae"
            ],
            [
             0.3,
             "#f1b6da"
            ],
            [
             0.4,
             "#fde0ef"
            ],
            [
             0.5,
             "#f7f7f7"
            ],
            [
             0.6,
             "#e6f5d0"
            ],
            [
             0.7,
             "#b8e186"
            ],
            [
             0.8,
             "#7fbc41"
            ],
            [
             0.9,
             "#4d9221"
            ],
            [
             1,
             "#276419"
            ]
           ],
           "sequential": [
            [
             0,
             "#0d0887"
            ],
            [
             0.1111111111111111,
             "#46039f"
            ],
            [
             0.2222222222222222,
             "#7201a8"
            ],
            [
             0.3333333333333333,
             "#9c179e"
            ],
            [
             0.4444444444444444,
             "#bd3786"
            ],
            [
             0.5555555555555556,
             "#d8576b"
            ],
            [
             0.6666666666666666,
             "#ed7953"
            ],
            [
             0.7777777777777778,
             "#fb9f3a"
            ],
            [
             0.8888888888888888,
             "#fdca26"
            ],
            [
             1,
             "#f0f921"
            ]
           ],
           "sequentialminus": [
            [
             0,
             "#0d0887"
            ],
            [
             0.1111111111111111,
             "#46039f"
            ],
            [
             0.2222222222222222,
             "#7201a8"
            ],
            [
             0.3333333333333333,
             "#9c179e"
            ],
            [
             0.4444444444444444,
             "#bd3786"
            ],
            [
             0.5555555555555556,
             "#d8576b"
            ],
            [
             0.6666666666666666,
             "#ed7953"
            ],
            [
             0.7777777777777778,
             "#fb9f3a"
            ],
            [
             0.8888888888888888,
             "#fdca26"
            ],
            [
             1,
             "#f0f921"
            ]
           ]
          },
          "colorway": [
           "#636efa",
           "#EF553B",
           "#00cc96",
           "#ab63fa",
           "#FFA15A",
           "#19d3f3",
           "#FF6692",
           "#B6E880",
           "#FF97FF",
           "#FECB52"
          ],
          "font": {
           "color": "#2a3f5f"
          },
          "geo": {
           "bgcolor": "white",
           "lakecolor": "white",
           "landcolor": "#E5ECF6",
           "showlakes": true,
           "showland": true,
           "subunitcolor": "white"
          },
          "hoverlabel": {
           "align": "left"
          },
          "hovermode": "closest",
          "mapbox": {
           "style": "light"
          },
          "paper_bgcolor": "white",
          "plot_bgcolor": "#E5ECF6",
          "polar": {
           "angularaxis": {
            "gridcolor": "white",
            "linecolor": "white",
            "ticks": ""
           },
           "bgcolor": "#E5ECF6",
           "radialaxis": {
            "gridcolor": "white",
            "linecolor": "white",
            "ticks": ""
           }
          },
          "scene": {
           "xaxis": {
            "backgroundcolor": "#E5ECF6",
            "gridcolor": "white",
            "gridwidth": 2,
            "linecolor": "white",
            "showbackground": true,
            "ticks": "",
            "zerolinecolor": "white"
           },
           "yaxis": {
            "backgroundcolor": "#E5ECF6",
            "gridcolor": "white",
            "gridwidth": 2,
            "linecolor": "white",
            "showbackground": true,
            "ticks": "",
            "zerolinecolor": "white"
           },
           "zaxis": {
            "backgroundcolor": "#E5ECF6",
            "gridcolor": "white",
            "gridwidth": 2,
            "linecolor": "white",
            "showbackground": true,
            "ticks": "",
            "zerolinecolor": "white"
           }
          },
          "shapedefaults": {
           "line": {
            "color": "#2a3f5f"
           }
          },
          "ternary": {
           "aaxis": {
            "gridcolor": "white",
            "linecolor": "white",
            "ticks": ""
           },
           "baxis": {
            "gridcolor": "white",
            "linecolor": "white",
            "ticks": ""
           },
           "bgcolor": "#E5ECF6",
           "caxis": {
            "gridcolor": "white",
            "linecolor": "white",
            "ticks": ""
           }
          },
          "title": {
           "x": 0.05
          },
          "xaxis": {
           "automargin": true,
           "gridcolor": "white",
           "linecolor": "white",
           "ticks": "",
           "title": {
            "standoff": 15
           },
           "zerolinecolor": "white",
           "zerolinewidth": 2
          },
          "yaxis": {
           "automargin": true,
           "gridcolor": "white",
           "linecolor": "white",
           "ticks": "",
           "title": {
            "standoff": 15
           },
           "zerolinecolor": "white",
           "zerolinewidth": 2
          }
         }
        },
        "xaxis": {
         "anchor": "y",
         "domain": [
          0,
          0.49
         ],
         "title": {
          "text": "year"
         }
        },
        "xaxis2": {
         "anchor": "y2",
         "domain": [
          0.51,
          1
         ],
         "matches": "x",
         "title": {
          "text": "year"
         }
        },
        "yaxis": {
         "anchor": "x",
         "domain": [
          0,
          1
         ],
         "title": {
          "text": "cumulative_amount"
         }
        },
        "yaxis2": {
         "anchor": "x2",
         "domain": [
          0,
          1
         ],
         "matches": "y",
         "showticklabels": false
        }
       }
      }
     },
     "metadata": {},
     "output_type": "display_data"
    }
   ],
   "source": [
    "from config import TECHNOLOGY_COLORS\n",
    "adopt_det_df =res.adoption_details_df.groupby([\"year\",\"tech\",\"was_necessary\"])[\"cumulative_amount\"].mean().reset_index()\n",
    "px.line(adopt_det_df, x=\"year\", y=\"cumulative_amount\", color=\"tech\", facet_col=\"was_necessary\", color_discrete_map=TECHNOLOGY_COLORS, template=\"plotly\")"
   ]
  },
  {
   "cell_type": "code",
   "execution_count": 2,
   "id": "01HXHHPGYR4HKTD92TYGVZWKHA",
   "metadata": {},
   "outputs": [
    {
     "data": {
      "text/plain": [
       "Index(['RunId', 'iteration', 'Step', 'N', 'province', 'random_seed',\n",
       "       'n_segregation_steps', 'global_util_thresh', 'price_weight_mode',\n",
       "       'ts_step_length', 'start_year', 'refurbishment_rate', 'hp_subsidy',\n",
       "       'fossil_ban_year', 'Technology shares', 'Energy demand time series',\n",
       "       'AgentID', 'Attitudes', 'Adoption details', 'Appliance age',\n",
       "       'Appliance name', 'Technology annual_cost', 'Heat pump specific_cost',\n",
       "       'Refurbished', 'Required heating size', 'Heat demand', 'LCOH',\n",
       "       'Cost components', 'year'],\n",
       "      dtype='object')"
      ]
     },
     "execution_count": 2,
     "metadata": {},
     "output_type": "execute_result"
    }
   ],
   "source": [
    "res.results_df.columns\n",
    "# ['RunId', 'iteration', 'Step', 'N', 'province', 'random_seed',\n",
    "#        'n_segregation_steps', 'global_util_thresh', 'price_weight_mode',\n",
    "#        'ts_step_length', 'start_year', 'refurbishment_rate', 'hp_subsidy',\n",
    "#        'fossil_ban_year', 'Technology shares', 'Energy demand time series',\n",
    "#        'AgentID', 'Attitudes', 'Adoption details', 'Appliance age',\n",
    "#        'Appliance name', 'Technology annual_cost', 'Heat pump specific_cost',\n",
    "#        'Refurbished', 'Required heating size', 'year','Heat demand']"
   ]
  },
  {
   "cell_type": "code",
   "execution_count": 5,
   "id": "01HXHHPGYRAZW5R8CD7D3X3RHW",
   "metadata": {},
   "outputs": [
    {
     "data": {
      "application/vnd.plotly.v1+json": {
       "config": {
        "plotlyServerURL": "https://plot.ly"
       },
       "data": [
        {
         "hovertemplate": "variable=Electric furnace<br>Refurbished=False<br>year=%{x}<br>value=%{y}<extra></extra>",
         "legendgroup": "Electric furnace, False",
         "line": {
          "color": "#636efa",
          "dash": "solid"
         },
         "marker": {
          "symbol": "circle"
         },
         "mode": "lines",
         "name": "Electric furnace, False",
         "showlegend": true,
         "type": "scattergl",
         "x": [
          2020,
          2020.25,
          2020.5,
          2020.75,
          2021,
          2021.25,
          2021.5,
          2021.75,
          2022,
          2022.25,
          2022.5,
          2022.75,
          2023,
          2023.25,
          2023.5,
          2023.75,
          2024,
          2024.25,
          2024.5,
          2024.75,
          2025,
          2025.25,
          2025.5,
          2025.75,
          2026,
          2026.25,
          2026.5,
          2026.75,
          2027,
          2027.25,
          2027.5,
          2027.75,
          2028,
          2028.25,
          2028.5,
          2028.75,
          2029,
          2029.25,
          2029.5,
          2029.75,
          2030,
          2030.25,
          2030.5,
          2030.75,
          2031,
          2031.25,
          2031.5,
          2031.75,
          2032,
          2032.25,
          2032.5,
          2032.75,
          2033,
          2033.25,
          2033.5,
          2033.75,
          2034,
          2034.25,
          2034.5,
          2034.75,
          2035,
          2035.25,
          2035.5,
          2035.75,
          2036,
          2036.25,
          2036.5,
          2036.75,
          2037,
          2037.25,
          2037.5,
          2037.75,
          2038,
          2038.25,
          2038.5,
          2038.75,
          2039,
          2039.25,
          2039.5,
          2039.75,
          2040,
          2040.25,
          2040.5,
          2040.75,
          2041,
          2041.25,
          2041.5,
          2041.75,
          2042,
          2042.25,
          2042.5,
          2042.75,
          2043,
          2043.25,
          2043.5,
          2043.75,
          2044,
          2044.25,
          2044.5,
          2044.75,
          2045
         ],
         "xaxis": "x",
         "y": [
          0.18000000000000002,
          0.18000000000000002,
          0.18000000000000002,
          0.18000000000000002,
          0.18000000000000002,
          0.172,
          0.17,
          0.17,
          0.17,
          0.16999999999999998,
          0.17,
          0.17,
          0.17058823529411765,
          0.17058823529411765,
          0.17058823529411765,
          0.17058823529411765,
          0.17058823529411765,
          0.17058823529411765,
          0.17125,
          0.17125,
          0.17125,
          0.17125,
          0.17125,
          0.17125,
          0.17125,
          0.17125,
          0.17125,
          0.17125,
          0.17125,
          0.17058823529411765,
          0.17,
          0.17,
          0.17,
          0.17,
          0.17,
          0.17,
          0.17,
          0.17,
          0.17,
          0.17,
          0.17,
          0.17,
          0.17,
          0.17,
          0.17,
          0.17,
          0.17,
          0.17,
          0.17,
          0.16636363636363638,
          0.1656521739130435,
          0.165,
          0.165,
          0.165,
          0.165,
          0.165,
          0.165,
          0.165,
          0.165,
          0.165,
          0.165,
          0.165,
          0.165,
          0.165,
          0.165,
          0.165,
          0.165,
          0.165,
          0.165,
          0.165,
          0.165,
          0.165,
          0.165,
          0.165,
          0.165,
          0.165,
          0.165,
          0.165,
          0.165,
          0.165,
          0.165,
          0.165,
          0.165,
          0.165,
          0.165,
          0.165,
          0.165,
          0.165,
          0.165,
          0.165,
          0.165,
          0.165,
          0.165,
          0.165,
          0.165,
          0.165,
          0.165,
          0.165,
          0.165,
          0.165,
          0.165
         ],
         "yaxis": "y"
        },
        {
         "hovertemplate": "variable=Electric furnace<br>Refurbished=True<br>year=%{x}<br>value=%{y}<extra></extra>",
         "legendgroup": "Electric furnace, True",
         "line": {
          "color": "#636efa",
          "dash": "dot"
         },
         "marker": {
          "symbol": "circle"
         },
         "mode": "lines",
         "name": "Electric furnace, True",
         "showlegend": true,
         "type": "scattergl",
         "x": [
          2020,
          2020.25,
          2020.5,
          2020.75,
          2021,
          2021.25,
          2021.5,
          2021.75,
          2022,
          2022.25,
          2022.5,
          2022.75,
          2023,
          2023.25,
          2023.5,
          2023.75,
          2024,
          2024.25,
          2024.5,
          2024.75,
          2025,
          2025.25,
          2025.5,
          2025.75,
          2026,
          2026.25,
          2026.5,
          2026.75,
          2027,
          2027.25,
          2027.5,
          2027.75,
          2028,
          2028.25,
          2028.5,
          2028.75,
          2029,
          2029.25,
          2029.5,
          2029.75,
          2030,
          2030.25,
          2030.5,
          2030.75,
          2031,
          2031.25,
          2031.5,
          2031.75,
          2032,
          2032.25,
          2032.5,
          2032.75,
          2033,
          2033.25,
          2033.5,
          2033.75,
          2034,
          2034.25,
          2034.5,
          2034.75,
          2035,
          2035.25,
          2035.5,
          2035.75,
          2036,
          2036.25,
          2036.5,
          2036.75,
          2037,
          2037.25,
          2037.5,
          2037.75,
          2038,
          2038.25,
          2038.5,
          2038.75,
          2039,
          2039.25,
          2039.5,
          2039.75,
          2040,
          2040.25,
          2040.5,
          2040.75,
          2041,
          2041.25,
          2041.5,
          2041.75,
          2042,
          2042.25,
          2042.5,
          2042.75,
          2043,
          2043.25,
          2043.5,
          2043.75,
          2044,
          2044.25,
          2044.5,
          2044.75,
          2045
         ],
         "xaxis": "x",
         "y": [
          0.18000000000000002,
          0.18000000000000002,
          0.18000000000000002,
          0.18000000000000002,
          0.17,
          0.17,
          0.17,
          0.17,
          0.17,
          0.17,
          0.17,
          0.17,
          0.17,
          0.17,
          0.17,
          0.17,
          0.17,
          0.17,
          0.17,
          0.17,
          0.17,
          0.17,
          0.17058823529411765,
          0.17058823529411765,
          0.17058823529411765,
          0.17058823529411765,
          0.17058823529411765,
          0.17058823529411765,
          0.17,
          0.17,
          0.17,
          0.17,
          0.17,
          0.17,
          0.17,
          0.17,
          0.16941176470588235,
          0.16941176470588235,
          0.16941176470588235,
          0.16941176470588235,
          0.16941176470588235,
          0.16941176470588235,
          0.16941176470588235,
          0.16941176470588235,
          0.16941176470588235,
          0.16941176470588235,
          0.16941176470588235,
          0.16941176470588235,
          0.16434782608695653,
          0.16434782608695653,
          0.16434782608695653,
          0.16434782608695653,
          0.16434782608695653,
          0.16434782608695653,
          0.16434782608695653,
          0.16434782608695653,
          0.16434782608695653,
          0.16434782608695653,
          0.16434782608695653,
          0.16434782608695653,
          0.16434782608695653,
          0.16434782608695653,
          0.16434782608695653,
          0.16434782608695653,
          0.16434782608695653,
          0.16434782608695653,
          0.16434782608695653,
          0.16434782608695653,
          0.16434782608695653,
          0.16434782608695653,
          0.16434782608695653,
          0.16363636363636364,
          0.16363636363636364,
          0.16363636363636364,
          0.16363636363636364,
          0.16363636363636364,
          0.16363636363636364,
          0.16363636363636364,
          0.16363636363636364,
          0.16363636363636364,
          0.16363636363636364,
          0.16363636363636364,
          0.16363636363636364,
          0.16363636363636364,
          0.16363636363636364,
          0.16363636363636364,
          0.16363636363636364,
          0.16363636363636364,
          0.16363636363636364,
          0.16363636363636364,
          0.16363636363636364,
          0.16363636363636364,
          0.16363636363636364,
          0.16363636363636364,
          0.16363636363636364,
          0.16363636363636364,
          0.16363636363636364,
          0.16363636363636364,
          0.16363636363636364,
          0.16363636363636364,
          0.16363636363636364
         ],
         "yaxis": "y"
        },
        {
         "hovertemplate": "variable=Gas furnace<br>Refurbished=False<br>year=%{x}<br>value=%{y}<extra></extra>",
         "legendgroup": "Gas furnace, False",
         "line": {
          "color": "#EF553B",
          "dash": "solid"
         },
         "marker": {
          "symbol": "circle"
         },
         "mode": "lines",
         "name": "Gas furnace, False",
         "showlegend": true,
         "type": "scattergl",
         "x": [
          2020,
          2020.25,
          2020.5,
          2020.75,
          2021,
          2021.25,
          2021.5,
          2021.75,
          2022,
          2022.25,
          2022.5,
          2022.75,
          2023,
          2023.25,
          2023.5,
          2023.75,
          2024,
          2024.25,
          2024.5,
          2024.75,
          2025,
          2025.25,
          2025.5,
          2025.75,
          2026,
          2026.25,
          2026.5,
          2026.75,
          2027,
          2027.25,
          2027.5,
          2027.75,
          2028,
          2028.25,
          2028.5,
          2028.75,
          2029,
          2029.25,
          2029.5,
          2029.75,
          2030,
          2030.25,
          2030.5,
          2030.75,
          2031,
          2031.25,
          2031.5,
          2031.75,
          2032,
          2032.25,
          2032.5,
          2032.75,
          2033,
          2033.25,
          2033.5,
          2033.75,
          2034,
          2034.25,
          2034.5,
          2034.75,
          2035,
          2035.25,
          2035.5,
          2035.75,
          2036,
          2036.25,
          2036.5,
          2036.75,
          2037,
          2037.25,
          2037.5,
          2037.75,
          2038,
          2038.25,
          2038.5,
          2038.75,
          2039,
          2039.25,
          2039.5,
          2039.75,
          2040,
          2040.25,
          2040.5,
          2040.75,
          2041,
          2041.25,
          2041.5,
          2041.75,
          2042,
          2042.25,
          2042.5,
          2042.75,
          2043,
          2043.25,
          2043.5,
          2043.75,
          2044,
          2044.25,
          2044.5,
          2044.75,
          2045
         ],
         "xaxis": "x",
         "y": [
          0.05000000000000001,
          0.05000000000000001,
          0.05000000000000001,
          0.05000000000000001,
          0.05000000000000001,
          0.054000000000000006,
          0.055,
          0.055,
          0.055,
          0.060000000000000005,
          0.06235294117647059,
          0.06235294117647059,
          0.06352941176470589,
          0.065,
          0.06521739130434782,
          0.06521739130434782,
          0.06521739130434782,
          0.06521739130434782,
          0.06545454545454545,
          0.06545454545454545,
          0.06545454545454545,
          0.06545454545454545,
          0.06545454545454545,
          0.06545454545454545,
          0.06545454545454545,
          0.06545454545454545,
          0.06545454545454545,
          0.06545454545454545,
          0.06545454545454545,
          0.06545454545454545,
          0.06545454545454545,
          0.06545454545454545,
          0.06545454545454545,
          0.06545454545454545,
          0.06545454545454545,
          0.06545454545454545,
          0.06571428571428573,
          0.06571428571428573,
          0.06571428571428573,
          0.06571428571428573,
          0.06571428571428573,
          0.06571428571428573,
          0.06571428571428573,
          0.06571428571428573,
          0.06571428571428573,
          0.06782608695652174,
          0.0696,
          0.0696,
          0.07111111111111111,
          0.07111111111111111,
          0.07111111111111111,
          0.07111111111111111,
          0.07115384615384615,
          0.07413793103448275,
          0.07413793103448275,
          0.075,
          0.07580645161290323,
          0.0765625,
          0.0765625,
          0.0765625,
          0.0765625,
          0.0765625,
          0.0765625,
          0.0765625,
          0.0765625,
          0.07852941176470588,
          0.08027777777777778,
          0.0818421052631579,
          0.0818421052631579,
          0.0818421052631579,
          0.08216216216216217,
          0.08216216216216217,
          0.08216216216216217,
          0.08538461538461539,
          0.08707317073170731,
          0.08785714285714286,
          0.0878048780487805,
          0.0878048780487805,
          0.0878048780487805,
          0.0878048780487805,
          0.0882051282051282,
          0.0902439024390244,
          0.09295454545454546,
          0.09377777777777777,
          0.09295454545454546,
          0.09377777777777777,
          0.09377777777777777,
          0.09377777777777777,
          0.09377777777777777,
          0.09377777777777777,
          0.09377777777777777,
          0.09377777777777777,
          0.0941860465116279,
          0.0941860465116279,
          0.0941860465116279,
          0.0941860465116279,
          0.0941860465116279,
          0.09717391304347825,
          0.09808510638297872,
          0.09808510638297872,
          0.09895833333333333
         ],
         "yaxis": "y"
        },
        {
         "hovertemplate": "variable=Gas furnace<br>Refurbished=True<br>year=%{x}<br>value=%{y}<extra></extra>",
         "legendgroup": "Gas furnace, True",
         "line": {
          "color": "#EF553B",
          "dash": "dot"
         },
         "marker": {
          "symbol": "circle"
         },
         "mode": "lines",
         "name": "Gas furnace, True",
         "showlegend": true,
         "type": "scattergl",
         "x": [
          2020,
          2020.25,
          2020.5,
          2020.75,
          2021,
          2021.25,
          2021.5,
          2021.75,
          2022,
          2022.25,
          2022.5,
          2022.75,
          2023,
          2023.25,
          2023.5,
          2023.75,
          2024,
          2024.25,
          2024.5,
          2024.75,
          2025,
          2025.25,
          2025.5,
          2025.75,
          2026,
          2026.25,
          2026.5,
          2026.75,
          2027,
          2027.25,
          2027.5,
          2027.75,
          2028,
          2028.25,
          2028.5,
          2028.75,
          2029,
          2029.25,
          2029.5,
          2029.75,
          2030,
          2030.25,
          2030.5,
          2030.75,
          2031,
          2031.25,
          2031.5,
          2031.75,
          2032,
          2032.25,
          2032.5,
          2032.75,
          2033,
          2033.25,
          2033.5,
          2033.75,
          2034,
          2034.25,
          2034.5,
          2034.75,
          2035,
          2035.25,
          2035.5,
          2035.75,
          2036,
          2036.25,
          2036.5,
          2036.75,
          2037,
          2037.25,
          2037.5,
          2037.75,
          2038,
          2038.25,
          2038.5,
          2038.75,
          2039,
          2039.25,
          2039.5,
          2039.75,
          2040,
          2040.25,
          2040.5,
          2040.75,
          2041,
          2041.25,
          2041.5,
          2041.75,
          2042,
          2042.25,
          2042.5,
          2042.75,
          2043,
          2043.25,
          2043.5,
          2043.75,
          2044,
          2044.25,
          2044.5,
          2044.75,
          2045
         ],
         "xaxis": "x",
         "y": [
          0.05000000000000001,
          0.05000000000000001,
          0.05000000000000001,
          0.05000000000000001,
          0.055,
          0.055,
          0.055,
          0.055,
          0.06333333333333334,
          0.06333333333333334,
          0.06333333333333334,
          0.06333333333333334,
          0.065,
          0.065,
          0.065,
          0.065,
          0.065,
          0.065,
          0.065,
          0.065,
          0.065,
          0.065,
          0.06521739130434782,
          0.06521739130434782,
          0.06521739130434782,
          0.06521739130434782,
          0.06521739130434782,
          0.06521739130434782,
          0.06521739130434782,
          0.06521739130434782,
          0.06521739130434782,
          0.06521739130434782,
          0.06521739130434782,
          0.06521739130434782,
          0.06521739130434782,
          0.06521739130434782,
          0.0659090909090909,
          0.0659090909090909,
          0.0659090909090909,
          0.0659090909090909,
          0.0659090909090909,
          0.0659090909090909,
          0.0659090909090909,
          0.0659090909090909,
          0.07107142857142858,
          0.07107142857142858,
          0.07107142857142858,
          0.07107142857142858,
          0.07107142857142858,
          0.07107142857142858,
          0.07107142857142858,
          0.07107142857142858,
          0.07617647058823529,
          0.07617647058823529,
          0.07617647058823529,
          0.07617647058823529,
          0.07617647058823529,
          0.07617647058823529,
          0.07617647058823529,
          0.07617647058823529,
          0.07617647058823529,
          0.07617647058823529,
          0.07617647058823529,
          0.07617647058823529,
          0.08125,
          0.08125,
          0.08125,
          0.08125,
          0.08125,
          0.08125,
          0.08125,
          0.08205128205128205,
          0.08711111111111111,
          0.08711111111111111,
          0.08711111111111111,
          0.08711111111111111,
          0.08711111111111111,
          0.08711111111111111,
          0.08711111111111111,
          0.08711111111111111,
          0.09215686274509804,
          0.09215686274509804,
          0.09215686274509804,
          0.09346938775510204,
          0.09346938775510204,
          0.09346938775510204,
          0.09346938775510204,
          0.09346938775510204,
          0.09346938775510204,
          0.09346938775510204,
          0.09346938775510204,
          0.09346938775510204,
          0.09346938775510204,
          0.09346938775510204,
          0.09395833333333332,
          0.09395833333333332,
          0.09907407407407408,
          0.09907407407407408,
          0.09907407407407408,
          0.09907407407407408,
          0.09907407407407408
         ],
         "yaxis": "y"
        },
        {
         "hovertemplate": "variable=Heat pump<br>Refurbished=False<br>year=%{x}<br>value=%{y}<extra></extra>",
         "legendgroup": "Heat pump, False",
         "line": {
          "color": "#00cc96",
          "dash": "solid"
         },
         "marker": {
          "symbol": "circle"
         },
         "mode": "lines",
         "name": "Heat pump, False",
         "showlegend": true,
         "type": "scattergl",
         "x": [
          2020,
          2020.25,
          2020.5,
          2020.75,
          2021,
          2021.25,
          2021.5,
          2021.75,
          2022,
          2022.25,
          2022.5,
          2022.75,
          2023,
          2023.25,
          2023.5,
          2023.75,
          2024,
          2024.25,
          2024.5,
          2024.75,
          2025,
          2025.25,
          2025.5,
          2025.75,
          2026,
          2026.25,
          2026.5,
          2026.75,
          2027,
          2027.25,
          2027.5,
          2027.75,
          2028,
          2028.25,
          2028.5,
          2028.75,
          2029,
          2029.25,
          2029.5,
          2029.75,
          2030,
          2030.25,
          2030.5,
          2030.75,
          2031,
          2031.25,
          2031.5,
          2031.75,
          2032,
          2032.25,
          2032.5,
          2032.75,
          2033,
          2033.25,
          2033.5,
          2033.75,
          2034,
          2034.25,
          2034.5,
          2034.75,
          2035,
          2035.25,
          2035.5,
          2035.75,
          2036,
          2036.25,
          2036.5,
          2036.75,
          2037,
          2037.25,
          2037.5,
          2037.75,
          2038,
          2038.25,
          2038.5,
          2038.75,
          2039,
          2039.25,
          2039.5,
          2039.75,
          2040,
          2040.25,
          2040.5,
          2040.75,
          2041,
          2041.25,
          2041.5,
          2041.75,
          2042,
          2042.25,
          2042.5,
          2042.75,
          2043,
          2043.25,
          2043.5,
          2043.75,
          2044,
          2044.25,
          2044.5,
          2044.75,
          2045
         ],
         "xaxis": "x",
         "y": [
          0.08,
          0.08,
          0.08,
          0.08,
          0.08,
          0.08,
          0.08,
          0.08,
          0.08,
          0.08,
          0.08,
          0.08,
          0.08,
          0.08,
          0.08,
          0.08,
          0.08,
          0.08,
          0.08,
          0.08,
          0.08,
          0.08,
          0.08,
          0.08,
          0.08,
          0.08,
          0.08,
          0.08,
          0.08,
          0.08,
          0.08,
          0.08,
          0.08,
          0.08,
          0.08,
          0.08,
          0.08,
          0.08,
          0.08,
          0.08,
          0.08,
          0.08,
          0.08,
          0.08,
          0.08,
          0.08,
          0.08,
          0.08,
          0.08,
          0.08,
          0.08,
          0.08,
          0.08,
          0.08666666666666667,
          0.08666666666666667,
          0.088,
          0.0890909090909091,
          0.09000000000000001,
          0.09000000000000001,
          0.09000000000000001,
          0.09000000000000001,
          0.09000000000000001,
          0.09000000000000001,
          0.09000000000000001,
          0.09000000000000001,
          0.09000000000000001,
          0.09000000000000001,
          0.09000000000000001,
          0.09000000000000001,
          0.09,
          0.09,
          0.09000000000000001,
          0.09000000000000001,
          0.08714285714285715,
          0.08565217391304347,
          0.085,
          0.085,
          0.085,
          0.085,
          0.085,
          0.085,
          0.085,
          0.085,
          0.085,
          0.085,
          0.085,
          0.08478260869565218,
          0.08478260869565218,
          0.08478260869565218,
          0.08478260869565218,
          0.08478260869565218,
          0.08478260869565218,
          0.08478260869565218,
          0.08478260869565218,
          0.08454545454545455,
          0.08454545454545455,
          0.08454545454545455,
          0.08454545454545455,
          0.08454545454545455,
          0.08454545454545455,
          0.08454545454545455
         ],
         "yaxis": "y"
        },
        {
         "hovertemplate": "variable=Heat pump<br>Refurbished=True<br>year=%{x}<br>value=%{y}<extra></extra>",
         "legendgroup": "Heat pump, True",
         "line": {
          "color": "#00cc96",
          "dash": "dot"
         },
         "marker": {
          "symbol": "circle"
         },
         "mode": "lines",
         "name": "Heat pump, True",
         "showlegend": true,
         "type": "scattergl",
         "x": [
          2020,
          2020.25,
          2020.5,
          2020.75,
          2021,
          2021.25,
          2021.5,
          2021.75,
          2022,
          2022.25,
          2022.5,
          2022.75,
          2023,
          2023.25,
          2023.5,
          2023.75,
          2024,
          2024.25,
          2024.5,
          2024.75,
          2025,
          2025.25,
          2025.5,
          2025.75,
          2026,
          2026.25,
          2026.5,
          2026.75,
          2027,
          2027.25,
          2027.5,
          2027.75,
          2028,
          2028.25,
          2028.5,
          2028.75,
          2029,
          2029.25,
          2029.5,
          2029.75,
          2030,
          2030.25,
          2030.5,
          2030.75,
          2031,
          2031.25,
          2031.5,
          2031.75,
          2032,
          2032.25,
          2032.5,
          2032.75,
          2033,
          2033.25,
          2033.5,
          2033.75,
          2034,
          2034.25,
          2034.5,
          2034.75,
          2035,
          2035.25,
          2035.5,
          2035.75,
          2036,
          2036.25,
          2036.5,
          2036.75,
          2037,
          2037.25,
          2037.5,
          2037.75,
          2038,
          2038.25,
          2038.5,
          2038.75,
          2039,
          2039.25,
          2039.5,
          2039.75,
          2040,
          2040.25,
          2040.5,
          2040.75,
          2041,
          2041.25,
          2041.5,
          2041.75,
          2042,
          2042.25,
          2042.5,
          2042.75,
          2043,
          2043.25,
          2043.5,
          2043.75,
          2044,
          2044.25,
          2044.5,
          2044.75,
          2045
         ],
         "xaxis": "x",
         "y": [
          0.07666666666666667,
          0.07666666666666667,
          0.07666666666666667,
          0.07666666666666667,
          0.075,
          0.075,
          0.075,
          0.075,
          0.075,
          0.075,
          0.075,
          0.075,
          0.075,
          0.075,
          0.075,
          0.075,
          0.075,
          0.075,
          0.075,
          0.075,
          0.075,
          0.075,
          0.075,
          0.075,
          0.075,
          0.075,
          0.07454545454545455,
          0.07454545454545455,
          0.075,
          0.075,
          0.075,
          0.075,
          0.075,
          0.075,
          0.075,
          0.075,
          0.075,
          0.075,
          0.075,
          0.075,
          0.075,
          0.075,
          0.075,
          0.075,
          0.075,
          0.075,
          0.075,
          0.075,
          0.075,
          0.075,
          0.075,
          0.075,
          0.08,
          0.08,
          0.08,
          0.08,
          0.08,
          0.08,
          0.08,
          0.08,
          0.08,
          0.08,
          0.08,
          0.08,
          0.08,
          0.08,
          0.08,
          0.08,
          0.08,
          0.08,
          0.08,
          0.08,
          0.07636363636363636,
          0.07636363636363636,
          0.07636363636363636,
          0.07636363636363636,
          0.07636363636363636,
          0.07636363636363636,
          0.07636363636363636,
          0.07636363636363636,
          0.07565217391304348,
          0.07636363636363636,
          0.07636363636363636,
          0.07636363636363636,
          0.07636363636363636,
          0.07636363636363636,
          0.07636363636363636,
          0.07636363636363636,
          0.07636363636363636,
          0.07636363636363636,
          0.07636363636363636,
          0.07636363636363636,
          0.075,
          0.075,
          0.075,
          0.075,
          0.075,
          0.075,
          0.075,
          0.075,
          0.075
         ],
         "yaxis": "y"
        },
        {
         "hovertemplate": "variable=Oil furnace<br>Refurbished=False<br>year=%{x}<br>value=%{y}<extra></extra>",
         "legendgroup": "Oil furnace, False",
         "line": {
          "color": "#ab63fa",
          "dash": "solid"
         },
         "marker": {
          "symbol": "circle"
         },
         "mode": "lines",
         "name": "Oil furnace, False",
         "showlegend": true,
         "type": "scattergl",
         "x": [
          2020,
          2020.25,
          2020.5,
          2020.75,
          2021,
          2021.25,
          2021.5,
          2021.75,
          2022,
          2022.25,
          2022.5,
          2022.75,
          2023,
          2023.25,
          2023.5,
          2023.75,
          2024,
          2024.25,
          2024.5,
          2024.75,
          2025,
          2025.25,
          2025.5,
          2025.75,
          2026,
          2026.25,
          2026.5,
          2026.75,
          2027,
          2027.25,
          2027.5,
          2027.75,
          2028,
          2028.25,
          2028.5,
          2028.75,
          2029,
          2029.25,
          2029.5,
          2029.75,
          2030,
          2030.25,
          2030.5,
          2030.75,
          2031,
          2031.25,
          2031.5,
          2031.75,
          2032,
          2032.25,
          2032.5,
          2032.75,
          2033,
          2033.25,
          2033.5,
          2033.75,
          2034,
          2034.25,
          2034.5,
          2034.75,
          2035,
          2035.25,
          2035.5,
          2035.75,
          2036,
          2036.25,
          2036.5,
          2036.75,
          2037,
          2037.25,
          2037.5,
          2037.75,
          2038,
          2038.25,
          2038.5,
          2038.75,
          2039,
          2039.25,
          2039.5,
          2039.75,
          2040,
          2040.25,
          2040.5,
          2040.75,
          2041,
          2041.25,
          2041.5,
          2041.75,
          2042,
          2042.25,
          2042.5,
          2042.75,
          2043,
          2043.25,
          2043.5,
          2043.75,
          2044,
          2044.25,
          2044.5,
          2044.75,
          2045
         ],
         "xaxis": "x",
         "y": [
          0.16,
          0.16,
          0.16,
          0.16,
          0.16,
          0.172,
          0.17500000000000002,
          0.17500000000000002,
          0.17500000000000002,
          0.186,
          0.19117647058823528,
          0.19117647058823528,
          0.1935294117647059,
          0.19954545454545453,
          0.20043478260869566,
          0.20043478260869566,
          0.20043478260869566,
          0.20153846153846156,
          0.20285714285714285,
          0.20285714285714285,
          0.20285714285714285,
          0.20285714285714285,
          0.20285714285714285,
          0.20285714285714285,
          0.20285714285714285,
          0.20285714285714285,
          0.20285714285714285,
          0.20285714285714285,
          0.20285714285714285,
          0.20285714285714285,
          0.20285714285714285,
          0.20285714285714285,
          0.20285714285714285,
          0.20242424242424242,
          0.20242424242424242,
          0.20242424242424242,
          0.2028125,
          0.20272727272727273,
          0.20272727272727273,
          0.20272727272727273,
          0.2021875,
          0.20147058823529412,
          0.20114285714285715,
          0.20114285714285715,
          0.20058823529411765,
          0.20058823529411765,
          0.20058823529411765,
          0.2009090909090909,
          0.2009090909090909,
          0.2009090909090909,
          0.2009090909090909,
          0.2009090909090909,
          0.2009090909090909,
          0.20147058823529412,
          0.20147058823529412,
          0.20147058823529412,
          0.20147058823529412,
          0.202,
          0.202,
          0.202,
          0.202,
          0.202,
          0.202,
          0.202,
          0.202,
          0.20405405405405405,
          0.2058974358974359,
          0.2075609756097561,
          0.207,
          0.207,
          0.207,
          0.207,
          0.207,
          0.21,
          0.21177777777777776,
          0.2126086956521739,
          0.2126086956521739,
          0.2126086956521739,
          0.2126086956521739,
          0.2126086956521739,
          0.2126086956521739,
          0.21458333333333335,
          0.2172549019607843,
          0.21807692307692308,
          0.217,
          0.21784313725490195,
          0.21784313725490195,
          0.21784313725490195,
          0.2182,
          0.22203703703703703,
          0.22290909090909092,
          0.22290909090909092,
          0.22333333333333336,
          0.22631578947368422,
          0.228135593220339,
          0.228135593220339,
          0.228135593220339,
          0.229,
          0.229,
          0.229,
          0.22898305084745763
         ],
         "yaxis": "y"
        },
        {
         "hovertemplate": "variable=Oil furnace<br>Refurbished=True<br>year=%{x}<br>value=%{y}<extra></extra>",
         "legendgroup": "Oil furnace, True",
         "line": {
          "color": "#ab63fa",
          "dash": "dot"
         },
         "marker": {
          "symbol": "circle"
         },
         "mode": "lines",
         "name": "Oil furnace, True",
         "showlegend": true,
         "type": "scattergl",
         "x": [
          2020,
          2020.25,
          2020.5,
          2020.75,
          2021,
          2021.25,
          2021.5,
          2021.75,
          2022,
          2022.25,
          2022.5,
          2022.75,
          2023,
          2023.25,
          2023.5,
          2023.75,
          2024,
          2024.25,
          2024.5,
          2024.75,
          2025,
          2025.25,
          2025.5,
          2025.75,
          2026,
          2026.25,
          2026.5,
          2026.75,
          2027,
          2027.25,
          2027.5,
          2027.75,
          2028,
          2028.25,
          2028.5,
          2028.75,
          2029,
          2029.25,
          2029.5,
          2029.75,
          2030,
          2030.25,
          2030.5,
          2030.75,
          2031,
          2031.25,
          2031.5,
          2031.75,
          2032,
          2032.25,
          2032.5,
          2032.75,
          2033,
          2033.25,
          2033.5,
          2033.75,
          2034,
          2034.25,
          2034.5,
          2034.75,
          2035,
          2035.25,
          2035.5,
          2035.75,
          2036,
          2036.25,
          2036.5,
          2036.75,
          2037,
          2037.25,
          2037.5,
          2037.75,
          2038,
          2038.25,
          2038.5,
          2038.75,
          2039,
          2039.25,
          2039.5,
          2039.75,
          2040,
          2040.25,
          2040.5,
          2040.75,
          2041,
          2041.25,
          2041.5,
          2041.75,
          2042,
          2042.25,
          2042.5,
          2042.75,
          2043,
          2043.25,
          2043.5,
          2043.75,
          2044,
          2044.25,
          2044.5,
          2044.75,
          2045
         ],
         "xaxis": "x",
         "y": [
          0.16,
          0.16,
          0.16,
          0.16,
          0.17500000000000002,
          0.17500000000000002,
          0.17500000000000002,
          0.17500000000000002,
          0.19333333333333333,
          0.19333333333333333,
          0.19333333333333333,
          0.19333333333333333,
          0.19999999999999998,
          0.19999999999999998,
          0.19999999999999998,
          0.19999999999999998,
          0.202,
          0.202,
          0.202,
          0.202,
          0.202,
          0.202,
          0.2024137931034483,
          0.2024137931034483,
          0.2024137931034483,
          0.2024137931034483,
          0.2024137931034483,
          0.2024137931034483,
          0.2024137931034483,
          0.2024137931034483,
          0.2024137931034483,
          0.2024137931034483,
          0.202,
          0.202,
          0.202,
          0.202,
          0.20323529411764707,
          0.20323529411764707,
          0.20323529411764707,
          0.20323529411764707,
          0.20285714285714287,
          0.20285714285714287,
          0.20285714285714287,
          0.20285714285714287,
          0.20285714285714287,
          0.20285714285714287,
          0.20285714285714287,
          0.20285714285714287,
          0.20285714285714287,
          0.20285714285714287,
          0.20285714285714287,
          0.20285714285714287,
          0.20285714285714287,
          0.20285714285714287,
          0.20285714285714287,
          0.20285714285714287,
          0.20285714285714287,
          0.20285714285714287,
          0.20285714285714287,
          0.20285714285714287,
          0.20285714285714287,
          0.20285714285714287,
          0.20285714285714287,
          0.20285714285714287,
          0.2082926829268293,
          0.2082926829268293,
          0.2082926829268293,
          0.2082926829268293,
          0.2082926829268293,
          0.2082926829268293,
          0.2082926829268293,
          0.20950000000000002,
          0.2147826086956522,
          0.2147826086956522,
          0.2147826086956522,
          0.2147826086956522,
          0.2147826086956522,
          0.2147826086956522,
          0.2147826086956522,
          0.2147826086956522,
          0.22,
          0.22,
          0.22,
          0.22,
          0.22,
          0.22,
          0.22,
          0.22,
          0.22517241379310346,
          0.22517241379310346,
          0.22517241379310346,
          0.22517241379310346,
          0.2303125,
          0.2303125,
          0.2303125,
          0.2303125,
          0.2303125,
          0.2303125,
          0.2303125,
          0.2303125,
          0.23542857142857143
         ],
         "yaxis": "y"
        },
        {
         "hovertemplate": "variable=Wood or wood pellets furnace<br>Refurbished=False<br>year=%{x}<br>value=%{y}<extra></extra>",
         "legendgroup": "Wood or wood pellets furnace, False",
         "line": {
          "color": "#FFA15A",
          "dash": "solid"
         },
         "marker": {
          "symbol": "circle"
         },
         "mode": "lines",
         "name": "Wood or wood pellets furnace, False",
         "showlegend": true,
         "type": "scattergl",
         "x": [
          2020,
          2020.25,
          2020.5,
          2020.75,
          2021,
          2021.25,
          2021.5,
          2021.75,
          2022,
          2022.25,
          2022.5,
          2022.75,
          2023,
          2023.25,
          2023.5,
          2023.75,
          2024,
          2024.25,
          2024.5,
          2024.75,
          2025,
          2025.25,
          2025.5,
          2025.75,
          2026,
          2026.25,
          2026.5,
          2026.75,
          2027,
          2027.25,
          2027.5,
          2027.75,
          2028,
          2028.25,
          2028.5,
          2028.75,
          2029,
          2029.25,
          2029.5,
          2029.75,
          2030,
          2030.25,
          2030.5,
          2030.75,
          2031,
          2031.25,
          2031.5,
          2031.75,
          2032,
          2032.25,
          2032.5,
          2032.75,
          2033,
          2033.25,
          2033.5,
          2033.75,
          2034,
          2034.25,
          2034.5,
          2034.75,
          2035,
          2035.25,
          2035.5,
          2035.75,
          2036,
          2036.25,
          2036.5,
          2036.75,
          2037,
          2037.25,
          2037.5,
          2037.75,
          2038,
          2038.25,
          2038.5,
          2038.75,
          2039,
          2039.25,
          2039.5,
          2039.75,
          2040,
          2040.25,
          2040.5,
          2040.75,
          2041,
          2041.25,
          2041.5,
          2041.75,
          2042,
          2042.25,
          2042.5,
          2042.75,
          2043,
          2043.25,
          2043.5,
          2043.75,
          2044,
          2044.25,
          2044.5,
          2044.75,
          2045
         ],
         "xaxis": "x",
         "y": [
          0.7200000000000001,
          0.7200000000000001,
          0.7200000000000001,
          0.7200000000000001,
          0.7200000000000001,
          0.732,
          0.735,
          0.735,
          0.735,
          0.752,
          0.76,
          0.76,
          0.7641176470588236,
          0.7972727272727272,
          0.8021739130434782,
          0.8021739130434782,
          0.8021739130434782,
          0.8021739130434782,
          0.8045454545454546,
          0.8045454545454546,
          0.8045454545454546,
          0.8045454545454546,
          0.8045454545454546,
          0.8045454545454546,
          0.8045454545454546,
          0.8045454545454546,
          0.8045454545454546,
          0.8045454545454546,
          0.8045454545454546,
          0.8045454545454546,
          0.8045454545454546,
          0.8045454545454546,
          0.8045454545454546,
          0.8045454545454546,
          0.8045454545454546,
          0.8045454545454546,
          0.8071428571428572,
          0.8071428571428572,
          0.8071428571428572,
          0.8071428571428572,
          0.8071428571428572,
          0.8071428571428572,
          0.8071428571428572,
          0.8071428571428572,
          0.8071428571428572,
          0.8071428571428572,
          0.8071428571428572,
          0.8071428571428572,
          0.8071428571428572,
          0.8071428571428572,
          0.8071428571428572,
          0.8071428571428572,
          0.8071428571428572,
          0.8071428571428572,
          0.8071428571428572,
          0.8071428571428572,
          0.8071428571428572,
          0.8071428571428572,
          0.8071428571428572,
          0.8071428571428572,
          0.8071428571428572,
          0.8071428571428572,
          0.8071428571428572,
          0.8071428571428572,
          0.8071428571428572,
          0.8071428571428572,
          0.8071428571428572,
          0.8071428571428572,
          0.8065,
          0.8065,
          0.8065,
          0.8065,
          0.8065,
          0.8057894736842105,
          0.8057894736842105,
          0.8057894736842105,
          0.8057894736842105,
          0.8057894736842105,
          0.8057894736842105,
          0.8057894736842105,
          0.805,
          0.805,
          0.805,
          0.805,
          0.805,
          0.805,
          0.805,
          0.805,
          0.805,
          0.805,
          0.805,
          0.805,
          0.8075,
          0.8066666666666666,
          0.8066666666666666,
          0.8066666666666666,
          0.8066666666666666,
          0.8066666666666666,
          0.8066666666666666,
          0.8066666666666666,
          0.8057142857142857
         ],
         "yaxis": "y"
        },
        {
         "hovertemplate": "variable=Wood or wood pellets furnace<br>Refurbished=True<br>year=%{x}<br>value=%{y}<extra></extra>",
         "legendgroup": "Wood or wood pellets furnace, True",
         "line": {
          "color": "#FFA15A",
          "dash": "dot"
         },
         "marker": {
          "symbol": "circle"
         },
         "mode": "lines",
         "name": "Wood or wood pellets furnace, True",
         "showlegend": true,
         "type": "scattergl",
         "x": [
          2020,
          2020.25,
          2020.5,
          2020.75,
          2021,
          2021.25,
          2021.5,
          2021.75,
          2022,
          2022.25,
          2022.5,
          2022.75,
          2023,
          2023.25,
          2023.5,
          2023.75,
          2024,
          2024.25,
          2024.5,
          2024.75,
          2025,
          2025.25,
          2025.5,
          2025.75,
          2026,
          2026.25,
          2026.5,
          2026.75,
          2027,
          2027.25,
          2027.5,
          2027.75,
          2028,
          2028.25,
          2028.5,
          2028.75,
          2029,
          2029.25,
          2029.5,
          2029.75,
          2030,
          2030.25,
          2030.5,
          2030.75,
          2031,
          2031.25,
          2031.5,
          2031.75,
          2032,
          2032.25,
          2032.5,
          2032.75,
          2033,
          2033.25,
          2033.5,
          2033.75,
          2034,
          2034.25,
          2034.5,
          2034.75,
          2035,
          2035.25,
          2035.5,
          2035.75,
          2036,
          2036.25,
          2036.5,
          2036.75,
          2037,
          2037.25,
          2037.5,
          2037.75,
          2038,
          2038.25,
          2038.5,
          2038.75,
          2039,
          2039.25,
          2039.5,
          2039.75,
          2040,
          2040.25,
          2040.5,
          2040.75,
          2041,
          2041.25,
          2041.5,
          2041.75,
          2042,
          2042.25,
          2042.5,
          2042.75,
          2043,
          2043.25,
          2043.5,
          2043.75,
          2044,
          2044.25,
          2044.5,
          2044.75,
          2045
         ],
         "xaxis": "x",
         "y": [
          0.7200000000000001,
          0.7200000000000001,
          0.7200000000000001,
          0.7200000000000001,
          0.735,
          0.735,
          0.735,
          0.735,
          0.7633333333333333,
          0.7633333333333333,
          0.7633333333333333,
          0.7633333333333333,
          0.7999999999999999,
          0.7999999999999999,
          0.7999999999999999,
          0.7999999999999999,
          0.7999999999999999,
          0.7999999999999999,
          0.7999999999999999,
          0.7999999999999999,
          0.7999999999999999,
          0.7999999999999999,
          0.8021739130434782,
          0.8021739130434782,
          0.8021739130434782,
          0.8021739130434782,
          0.8021739130434782,
          0.8021739130434782,
          0.8021739130434782,
          0.8021739130434782,
          0.8021739130434782,
          0.8021739130434782,
          0.8021739130434782,
          0.8021739130434782,
          0.8021739130434782,
          0.8021739130434782,
          0.8059090909090909,
          0.8059090909090909,
          0.8059090909090909,
          0.8059090909090909,
          0.8059090909090909,
          0.8059090909090909,
          0.8059090909090909,
          0.8059090909090909,
          0.8059090909090909,
          0.8059090909090909,
          0.8059090909090909,
          0.8059090909090909,
          0.8059090909090909,
          0.8059090909090909,
          0.8059090909090909,
          0.8059090909090909,
          0.8059090909090909,
          0.8059090909090909,
          0.8059090909090909,
          0.8059090909090909,
          0.8059090909090909,
          0.8059090909090909,
          0.8059090909090909,
          0.8059090909090909,
          0.8059090909090909,
          0.8059090909090909,
          0.8059090909090909,
          0.8059090909090909,
          0.8059090909090909,
          0.8059090909090909,
          0.8059090909090909,
          0.8059090909090909,
          0.8059090909090909,
          0.8059090909090909,
          0.8052380952380952,
          0.8095000000000001,
          0.8095000000000001,
          0.8095000000000001,
          0.8089473684210526,
          0.8089473684210526,
          0.8089473684210526,
          0.8089473684210526,
          0.8089473684210526,
          0.8089473684210526,
          0.8089473684210526,
          0.8089473684210526,
          0.8089473684210526,
          0.8158823529411764,
          0.8158823529411764,
          0.8158823529411764,
          0.8158823529411764,
          0.8158823529411764,
          0.8158823529411764,
          0.815625,
          0.815625,
          0.815625,
          0.815625,
          0.815625,
          0.815625,
          0.815625,
          0.815625,
          0.8153333333333334,
          0.8153333333333334,
          0.8153333333333334,
          0.8153333333333334
         ],
         "yaxis": "y"
        }
       ],
       "layout": {
        "legend": {
         "title": {
          "text": "variable, Refurbished"
         },
         "tracegroupgap": 0
        },
        "margin": {
         "t": 60
        },
        "template": {
         "data": {
          "bar": [
           {
            "error_x": {
             "color": "#2a3f5f"
            },
            "error_y": {
             "color": "#2a3f5f"
            },
            "marker": {
             "line": {
              "color": "#E5ECF6",
              "width": 0.5
             },
             "pattern": {
              "fillmode": "overlay",
              "size": 10,
              "solidity": 0.2
             }
            },
            "type": "bar"
           }
          ],
          "barpolar": [
           {
            "marker": {
             "line": {
              "color": "#E5ECF6",
              "width": 0.5
             },
             "pattern": {
              "fillmode": "overlay",
              "size": 10,
              "solidity": 0.2
             }
            },
            "type": "barpolar"
           }
          ],
          "carpet": [
           {
            "aaxis": {
             "endlinecolor": "#2a3f5f",
             "gridcolor": "white",
             "linecolor": "white",
             "minorgridcolor": "white",
             "startlinecolor": "#2a3f5f"
            },
            "baxis": {
             "endlinecolor": "#2a3f5f",
             "gridcolor": "white",
             "linecolor": "white",
             "minorgridcolor": "white",
             "startlinecolor": "#2a3f5f"
            },
            "type": "carpet"
           }
          ],
          "choropleth": [
           {
            "colorbar": {
             "outlinewidth": 0,
             "ticks": ""
            },
            "type": "choropleth"
           }
          ],
          "contour": [
           {
            "colorbar": {
             "outlinewidth": 0,
             "ticks": ""
            },
            "colorscale": [
             [
              0,
              "#0d0887"
             ],
             [
              0.1111111111111111,
              "#46039f"
             ],
             [
              0.2222222222222222,
              "#7201a8"
             ],
             [
              0.3333333333333333,
              "#9c179e"
             ],
             [
              0.4444444444444444,
              "#bd3786"
             ],
             [
              0.5555555555555556,
              "#d8576b"
             ],
             [
              0.6666666666666666,
              "#ed7953"
             ],
             [
              0.7777777777777778,
              "#fb9f3a"
             ],
             [
              0.8888888888888888,
              "#fdca26"
             ],
             [
              1,
              "#f0f921"
             ]
            ],
            "type": "contour"
           }
          ],
          "contourcarpet": [
           {
            "colorbar": {
             "outlinewidth": 0,
             "ticks": ""
            },
            "type": "contourcarpet"
           }
          ],
          "heatmap": [
           {
            "colorbar": {
             "outlinewidth": 0,
             "ticks": ""
            },
            "colorscale": [
             [
              0,
              "#0d0887"
             ],
             [
              0.1111111111111111,
              "#46039f"
             ],
             [
              0.2222222222222222,
              "#7201a8"
             ],
             [
              0.3333333333333333,
              "#9c179e"
             ],
             [
              0.4444444444444444,
              "#bd3786"
             ],
             [
              0.5555555555555556,
              "#d8576b"
             ],
             [
              0.6666666666666666,
              "#ed7953"
             ],
             [
              0.7777777777777778,
              "#fb9f3a"
             ],
             [
              0.8888888888888888,
              "#fdca26"
             ],
             [
              1,
              "#f0f921"
             ]
            ],
            "type": "heatmap"
           }
          ],
          "heatmapgl": [
           {
            "colorbar": {
             "outlinewidth": 0,
             "ticks": ""
            },
            "colorscale": [
             [
              0,
              "#0d0887"
             ],
             [
              0.1111111111111111,
              "#46039f"
             ],
             [
              0.2222222222222222,
              "#7201a8"
             ],
             [
              0.3333333333333333,
              "#9c179e"
             ],
             [
              0.4444444444444444,
              "#bd3786"
             ],
             [
              0.5555555555555556,
              "#d8576b"
             ],
             [
              0.6666666666666666,
              "#ed7953"
             ],
             [
              0.7777777777777778,
              "#fb9f3a"
             ],
             [
              0.8888888888888888,
              "#fdca26"
             ],
             [
              1,
              "#f0f921"
             ]
            ],
            "type": "heatmapgl"
           }
          ],
          "histogram": [
           {
            "marker": {
             "pattern": {
              "fillmode": "overlay",
              "size": 10,
              "solidity": 0.2
             }
            },
            "type": "histogram"
           }
          ],
          "histogram2d": [
           {
            "colorbar": {
             "outlinewidth": 0,
             "ticks": ""
            },
            "colorscale": [
             [
              0,
              "#0d0887"
             ],
             [
              0.1111111111111111,
              "#46039f"
             ],
             [
              0.2222222222222222,
              "#7201a8"
             ],
             [
              0.3333333333333333,
              "#9c179e"
             ],
             [
              0.4444444444444444,
              "#bd3786"
             ],
             [
              0.5555555555555556,
              "#d8576b"
             ],
             [
              0.6666666666666666,
              "#ed7953"
             ],
             [
              0.7777777777777778,
              "#fb9f3a"
             ],
             [
              0.8888888888888888,
              "#fdca26"
             ],
             [
              1,
              "#f0f921"
             ]
            ],
            "type": "histogram2d"
           }
          ],
          "histogram2dcontour": [
           {
            "colorbar": {
             "outlinewidth": 0,
             "ticks": ""
            },
            "colorscale": [
             [
              0,
              "#0d0887"
             ],
             [
              0.1111111111111111,
              "#46039f"
             ],
             [
              0.2222222222222222,
              "#7201a8"
             ],
             [
              0.3333333333333333,
              "#9c179e"
             ],
             [
              0.4444444444444444,
              "#bd3786"
             ],
             [
              0.5555555555555556,
              "#d8576b"
             ],
             [
              0.6666666666666666,
              "#ed7953"
             ],
             [
              0.7777777777777778,
              "#fb9f3a"
             ],
             [
              0.8888888888888888,
              "#fdca26"
             ],
             [
              1,
              "#f0f921"
             ]
            ],
            "type": "histogram2dcontour"
           }
          ],
          "mesh3d": [
           {
            "colorbar": {
             "outlinewidth": 0,
             "ticks": ""
            },
            "type": "mesh3d"
           }
          ],
          "parcoords": [
           {
            "line": {
             "colorbar": {
              "outlinewidth": 0,
              "ticks": ""
             }
            },
            "type": "parcoords"
           }
          ],
          "pie": [
           {
            "automargin": true,
            "type": "pie"
           }
          ],
          "scatter": [
           {
            "fillpattern": {
             "fillmode": "overlay",
             "size": 10,
             "solidity": 0.2
            },
            "type": "scatter"
           }
          ],
          "scatter3d": [
           {
            "line": {
             "colorbar": {
              "outlinewidth": 0,
              "ticks": ""
             }
            },
            "marker": {
             "colorbar": {
              "outlinewidth": 0,
              "ticks": ""
             }
            },
            "type": "scatter3d"
           }
          ],
          "scattercarpet": [
           {
            "marker": {
             "colorbar": {
              "outlinewidth": 0,
              "ticks": ""
             }
            },
            "type": "scattercarpet"
           }
          ],
          "scattergeo": [
           {
            "marker": {
             "colorbar": {
              "outlinewidth": 0,
              "ticks": ""
             }
            },
            "type": "scattergeo"
           }
          ],
          "scattergl": [
           {
            "marker": {
             "colorbar": {
              "outlinewidth": 0,
              "ticks": ""
             }
            },
            "type": "scattergl"
           }
          ],
          "scattermapbox": [
           {
            "marker": {
             "colorbar": {
              "outlinewidth": 0,
              "ticks": ""
             }
            },
            "type": "scattermapbox"
           }
          ],
          "scatterpolar": [
           {
            "marker": {
             "colorbar": {
              "outlinewidth": 0,
              "ticks": ""
             }
            },
            "type": "scatterpolar"
           }
          ],
          "scatterpolargl": [
           {
            "marker": {
             "colorbar": {
              "outlinewidth": 0,
              "ticks": ""
             }
            },
            "type": "scatterpolargl"
           }
          ],
          "scatterternary": [
           {
            "marker": {
             "colorbar": {
              "outlinewidth": 0,
              "ticks": ""
             }
            },
            "type": "scatterternary"
           }
          ],
          "surface": [
           {
            "colorbar": {
             "outlinewidth": 0,
             "ticks": ""
            },
            "colorscale": [
             [
              0,
              "#0d0887"
             ],
             [
              0.1111111111111111,
              "#46039f"
             ],
             [
              0.2222222222222222,
              "#7201a8"
             ],
             [
              0.3333333333333333,
              "#9c179e"
             ],
             [
              0.4444444444444444,
              "#bd3786"
             ],
             [
              0.5555555555555556,
              "#d8576b"
             ],
             [
              0.6666666666666666,
              "#ed7953"
             ],
             [
              0.7777777777777778,
              "#fb9f3a"
             ],
             [
              0.8888888888888888,
              "#fdca26"
             ],
             [
              1,
              "#f0f921"
             ]
            ],
            "type": "surface"
           }
          ],
          "table": [
           {
            "cells": {
             "fill": {
              "color": "#EBF0F8"
             },
             "line": {
              "color": "white"
             }
            },
            "header": {
             "fill": {
              "color": "#C8D4E3"
             },
             "line": {
              "color": "white"
             }
            },
            "type": "table"
           }
          ]
         },
         "layout": {
          "annotationdefaults": {
           "arrowcolor": "#2a3f5f",
           "arrowhead": 0,
           "arrowwidth": 1
          },
          "autotypenumbers": "strict",
          "coloraxis": {
           "colorbar": {
            "outlinewidth": 0,
            "ticks": ""
           }
          },
          "colorscale": {
           "diverging": [
            [
             0,
             "#8e0152"
            ],
            [
             0.1,
             "#c51b7d"
            ],
            [
             0.2,
             "#de77ae"
            ],
            [
             0.3,
             "#f1b6da"
            ],
            [
             0.4,
             "#fde0ef"
            ],
            [
             0.5,
             "#f7f7f7"
            ],
            [
             0.6,
             "#e6f5d0"
            ],
            [
             0.7,
             "#b8e186"
            ],
            [
             0.8,
             "#7fbc41"
            ],
            [
             0.9,
             "#4d9221"
            ],
            [
             1,
             "#276419"
            ]
           ],
           "sequential": [
            [
             0,
             "#0d0887"
            ],
            [
             0.1111111111111111,
             "#46039f"
            ],
            [
             0.2222222222222222,
             "#7201a8"
            ],
            [
             0.3333333333333333,
             "#9c179e"
            ],
            [
             0.4444444444444444,
             "#bd3786"
            ],
            [
             0.5555555555555556,
             "#d8576b"
            ],
            [
             0.6666666666666666,
             "#ed7953"
            ],
            [
             0.7777777777777778,
             "#fb9f3a"
            ],
            [
             0.8888888888888888,
             "#fdca26"
            ],
            [
             1,
             "#f0f921"
            ]
           ],
           "sequentialminus": [
            [
             0,
             "#0d0887"
            ],
            [
             0.1111111111111111,
             "#46039f"
            ],
            [
             0.2222222222222222,
             "#7201a8"
            ],
            [
             0.3333333333333333,
             "#9c179e"
            ],
            [
             0.4444444444444444,
             "#bd3786"
            ],
            [
             0.5555555555555556,
             "#d8576b"
            ],
            [
             0.6666666666666666,
             "#ed7953"
            ],
            [
             0.7777777777777778,
             "#fb9f3a"
            ],
            [
             0.8888888888888888,
             "#fdca26"
            ],
            [
             1,
             "#f0f921"
            ]
           ]
          },
          "colorway": [
           "#636efa",
           "#EF553B",
           "#00cc96",
           "#ab63fa",
           "#FFA15A",
           "#19d3f3",
           "#FF6692",
           "#B6E880",
           "#FF97FF",
           "#FECB52"
          ],
          "font": {
           "color": "#2a3f5f"
          },
          "geo": {
           "bgcolor": "white",
           "lakecolor": "white",
           "landcolor": "#E5ECF6",
           "showlakes": true,
           "showland": true,
           "subunitcolor": "white"
          },
          "hoverlabel": {
           "align": "left"
          },
          "hovermode": "closest",
          "mapbox": {
           "style": "light"
          },
          "paper_bgcolor": "white",
          "plot_bgcolor": "#E5ECF6",
          "polar": {
           "angularaxis": {
            "gridcolor": "white",
            "linecolor": "white",
            "ticks": ""
           },
           "bgcolor": "#E5ECF6",
           "radialaxis": {
            "gridcolor": "white",
            "linecolor": "white",
            "ticks": ""
           }
          },
          "scene": {
           "xaxis": {
            "backgroundcolor": "#E5ECF6",
            "gridcolor": "white",
            "gridwidth": 2,
            "linecolor": "white",
            "showbackground": true,
            "ticks": "",
            "zerolinecolor": "white"
           },
           "yaxis": {
            "backgroundcolor": "#E5ECF6",
            "gridcolor": "white",
            "gridwidth": 2,
            "linecolor": "white",
            "showbackground": true,
            "ticks": "",
            "zerolinecolor": "white"
           },
           "zaxis": {
            "backgroundcolor": "#E5ECF6",
            "gridcolor": "white",
            "gridwidth": 2,
            "linecolor": "white",
            "showbackground": true,
            "ticks": "",
            "zerolinecolor": "white"
           }
          },
          "shapedefaults": {
           "line": {
            "color": "#2a3f5f"
           }
          },
          "ternary": {
           "aaxis": {
            "gridcolor": "white",
            "linecolor": "white",
            "ticks": ""
           },
           "baxis": {
            "gridcolor": "white",
            "linecolor": "white",
            "ticks": ""
           },
           "bgcolor": "#E5ECF6",
           "caxis": {
            "gridcolor": "white",
            "linecolor": "white",
            "ticks": ""
           }
          },
          "title": {
           "x": 0.05
          },
          "xaxis": {
           "automargin": true,
           "gridcolor": "white",
           "linecolor": "white",
           "ticks": "",
           "title": {
            "standoff": 15
           },
           "zerolinecolor": "white",
           "zerolinewidth": 2
          },
          "yaxis": {
           "automargin": true,
           "gridcolor": "white",
           "linecolor": "white",
           "ticks": "",
           "title": {
            "standoff": 15
           },
           "zerolinecolor": "white",
           "zerolinewidth": 2
          }
         }
        },
        "xaxis": {
         "anchor": "y",
         "domain": [
          0,
          1
         ],
         "title": {
          "text": "year"
         }
        },
        "yaxis": {
         "anchor": "x",
         "domain": [
          0,
          1
         ],
         "title": {
          "text": "value"
         }
        }
       }
      }
     },
     "metadata": {},
     "output_type": "display_data"
    }
   ],
   "source": [
    "import plotly.express as px\n",
    "lcohs = pd.DataFrame.from_records(res.results_df[\"LCOH\"])\n",
    "lcohs[['year','RunId','AgentID',\"Refurbished\"]] = res.results_df[['year','RunId','AgentID',\"Refurbished\"]]\n",
    "long_lcohs = lcohs.set_index([\"year\",\"RunId\",\"AgentID\",\"Refurbished\"]).melt(ignore_index=False).reset_index().drop(\"AgentID\", axis=1)\n",
    "long_lcohs = long_lcohs.round(2).drop_duplicates().groupby([\"year\",\"variable\",\"Refurbished\"]).mean().reset_index()\n",
    "# long_lcohs\n",
    "px.line(long_lcohs, x=\"year\", y=\"value\", color=\"variable\",  template=\"plotly\", line_dash=\"Refurbished\")\n",
    "# px.scatter(adopt_df.reset_index(), x=\"year\", y=\"LCOH (CAD/kWh)\", color=\"tech\", template=\"plotly\")"
   ]
  },
  {
   "cell_type": "code",
   "execution_count": 6,
   "id": "01HXHHPGYSRTZT1HFYZBVRPD9A",
   "metadata": {},
   "outputs": [
    {
     "data": {
      "text/plain": [
       "<seaborn.axisgrid.FacetGrid at 0x1d8cfa0e080>"
      ]
     },
     "execution_count": 6,
     "metadata": {},
     "output_type": "execute_result"
    },
    {
     "data": {
      "image/png": "[encoded data removed]",
      "text/plain": [
       "<Figure size 756.875x500 with 1 Axes>"
      ]
     },
     "metadata": {},
     "output_type": "display_data"
    }
   ],
   "source": [
    "res.tech_shares_fig()"
   ]
  },
  {
   "cell_type": "code",
   "execution_count": 7,
   "id": "01HXHHPGYSY1WW3N9RD4N27DWN",
   "metadata": {},
   "outputs": [
    {
     "ename": "ValueError",
     "evalue": "Could not interpret value `reason` for `col`. An entry with this name does not appear in `data`.",
     "output_type": "error",
     "traceback": [
      "\u001b[1;31m---------------------------------------------------------------------------\u001b[0m",
      "\u001b[1;31mValueError\u001b[0m                                Traceback (most recent call last)",
      "Cell \u001b[1;32mIn[7], line 1\u001b[0m\n\u001b[1;32m----> 1\u001b[0m \u001b[43mres\u001b[49m\u001b[38;5;241;43m.\u001b[39;49m\u001b[43madoption_details_fig\u001b[49m\u001b[43m(\u001b[49m\u001b[43m)\u001b[49m\n",
      "File \u001b[1;32mc:\\src\\canadopt\\abetam\\batch.py:542\u001b[0m, in \u001b[0;36mBatchResult.adoption_details_fig\u001b[1;34m(self, colors)\u001b[0m\n\u001b[0;32m    538\u001b[0m     colors \u001b[38;5;241m=\u001b[39m TECHNOLOGY_COLORS\n\u001b[0;32m    540\u001b[0m adoption_detail \u001b[38;5;241m=\u001b[39m \u001b[38;5;28mself\u001b[39m\u001b[38;5;241m.\u001b[39madoption_details_df\n\u001b[1;32m--> 542\u001b[0m ax \u001b[38;5;241m=\u001b[39m \u001b[43msns\u001b[49m\u001b[38;5;241;43m.\u001b[39;49m\u001b[43mrelplot\u001b[49m\u001b[43m(\u001b[49m\n\u001b[0;32m    543\u001b[0m \u001b[43m    \u001b[49m\u001b[43madoption_detail\u001b[49m\u001b[43m,\u001b[49m\n\u001b[0;32m    544\u001b[0m \u001b[43m    \u001b[49m\u001b[43mkind\u001b[49m\u001b[38;5;241;43m=\u001b[39;49m\u001b[38;5;124;43m\"\u001b[39;49m\u001b[38;5;124;43mline\u001b[39;49m\u001b[38;5;124;43m\"\u001b[39;49m\u001b[43m,\u001b[49m\n\u001b[0;32m    545\u001b[0m \u001b[43m    \u001b[49m\u001b[43mx\u001b[49m\u001b[38;5;241;43m=\u001b[39;49m\u001b[38;5;124;43m\"\u001b[39;49m\u001b[38;5;124;43myear\u001b[39;49m\u001b[38;5;124;43m\"\u001b[39;49m\u001b[43m,\u001b[49m\n\u001b[0;32m    546\u001b[0m \u001b[43m    \u001b[49m\u001b[43my\u001b[49m\u001b[38;5;241;43m=\u001b[39;49m\u001b[38;5;124;43m\"\u001b[39;49m\u001b[38;5;124;43mcumulative_amount\u001b[39;49m\u001b[38;5;124;43m\"\u001b[39;49m\u001b[43m,\u001b[49m\n\u001b[0;32m    547\u001b[0m \u001b[43m    \u001b[49m\u001b[43mhue\u001b[49m\u001b[38;5;241;43m=\u001b[39;49m\u001b[38;5;124;43m\"\u001b[39;49m\u001b[38;5;124;43mtech\u001b[39;49m\u001b[38;5;124;43m\"\u001b[39;49m\u001b[43m,\u001b[49m\n\u001b[0;32m    548\u001b[0m \u001b[43m    \u001b[49m\u001b[43mcol\u001b[49m\u001b[38;5;241;43m=\u001b[39;49m\u001b[38;5;124;43m\"\u001b[39;49m\u001b[38;5;124;43mreason\u001b[39;49m\u001b[38;5;124;43m\"\u001b[39;49m\u001b[43m,\u001b[49m\n\u001b[0;32m    549\u001b[0m \u001b[43m    \u001b[49m\u001b[43mpalette\u001b[49m\u001b[38;5;241;43m=\u001b[39;49m\u001b[43mcolors\u001b[49m\u001b[43m,\u001b[49m\n\u001b[0;32m    550\u001b[0m \u001b[43m\u001b[49m\u001b[43m)\u001b[49m\n\u001b[0;32m    551\u001b[0m ax\u001b[38;5;241m.\u001b[39mset_xticklabels(rotation\u001b[38;5;241m=\u001b[39m\u001b[38;5;241m45\u001b[39m)\n\u001b[0;32m    552\u001b[0m \u001b[38;5;28;01mreturn\u001b[39;00m ax\n",
      "File \u001b[1;32mc:\\Users\\dhuck\\miniconda3\\envs\\cando\\lib\\site-packages\\seaborn\\relational.py:788\u001b[0m, in \u001b[0;36mrelplot\u001b[1;34m(data, x, y, hue, size, style, units, row, col, col_wrap, row_order, col_order, palette, hue_order, hue_norm, sizes, size_order, size_norm, markers, dashes, style_order, legend, kind, height, aspect, facet_kws, **kwargs)\u001b[0m\n\u001b[0;32m    786\u001b[0m \u001b[38;5;28;01mif\u001b[39;00m kind \u001b[38;5;241m==\u001b[39m \u001b[38;5;124m\"\u001b[39m\u001b[38;5;124mline\u001b[39m\u001b[38;5;124m\"\u001b[39m:\n\u001b[0;32m    787\u001b[0m     grid_variables[\u001b[38;5;124m\"\u001b[39m\u001b[38;5;124munits\u001b[39m\u001b[38;5;124m\"\u001b[39m] \u001b[38;5;241m=\u001b[39m units\n\u001b[1;32m--> 788\u001b[0m \u001b[43mp\u001b[49m\u001b[38;5;241;43m.\u001b[39;49m\u001b[43massign_variables\u001b[49m\u001b[43m(\u001b[49m\u001b[43mdata\u001b[49m\u001b[43m,\u001b[49m\u001b[43m \u001b[49m\u001b[43mgrid_variables\u001b[49m\u001b[43m)\u001b[49m\n\u001b[0;32m    790\u001b[0m \u001b[38;5;66;03m# Define the named variables for plotting on each facet\u001b[39;00m\n\u001b[0;32m    791\u001b[0m \u001b[38;5;66;03m# Rename the variables with a leading underscore to avoid\u001b[39;00m\n\u001b[0;32m    792\u001b[0m \u001b[38;5;66;03m# collisions with faceting variable names\u001b[39;00m\n\u001b[0;32m    793\u001b[0m plot_variables \u001b[38;5;241m=\u001b[39m {v: \u001b[38;5;124mf\u001b[39m\u001b[38;5;124m\"\u001b[39m\u001b[38;5;124m_\u001b[39m\u001b[38;5;132;01m{\u001b[39;00mv\u001b[38;5;132;01m}\u001b[39;00m\u001b[38;5;124m\"\u001b[39m \u001b[38;5;28;01mfor\u001b[39;00m v \u001b[38;5;129;01min\u001b[39;00m variables}\n",
      "File \u001b[1;32mc:\\Users\\dhuck\\miniconda3\\envs\\cando\\lib\\site-packages\\seaborn\\_base.py:679\u001b[0m, in \u001b[0;36mVectorPlotter.assign_variables\u001b[1;34m(self, data, variables)\u001b[0m\n\u001b[0;32m    674\u001b[0m \u001b[38;5;28;01melse\u001b[39;00m:\n\u001b[0;32m    675\u001b[0m     \u001b[38;5;66;03m# When dealing with long-form input, use the newer PlotData\u001b[39;00m\n\u001b[0;32m    676\u001b[0m     \u001b[38;5;66;03m# object (internal but introduced for the objects interface)\u001b[39;00m\n\u001b[0;32m    677\u001b[0m     \u001b[38;5;66;03m# to centralize / standardize data consumption logic.\u001b[39;00m\n\u001b[0;32m    678\u001b[0m     \u001b[38;5;28mself\u001b[39m\u001b[38;5;241m.\u001b[39minput_format \u001b[38;5;241m=\u001b[39m \u001b[38;5;124m\"\u001b[39m\u001b[38;5;124mlong\u001b[39m\u001b[38;5;124m\"\u001b[39m\n\u001b[1;32m--> 679\u001b[0m     plot_data \u001b[38;5;241m=\u001b[39m \u001b[43mPlotData\u001b[49m\u001b[43m(\u001b[49m\u001b[43mdata\u001b[49m\u001b[43m,\u001b[49m\u001b[43m \u001b[49m\u001b[43mvariables\u001b[49m\u001b[43m)\u001b[49m\n\u001b[0;32m    680\u001b[0m     frame \u001b[38;5;241m=\u001b[39m plot_data\u001b[38;5;241m.\u001b[39mframe\n\u001b[0;32m    681\u001b[0m     names \u001b[38;5;241m=\u001b[39m plot_data\u001b[38;5;241m.\u001b[39mnames\n",
      "File \u001b[1;32mc:\\Users\\dhuck\\miniconda3\\envs\\cando\\lib\\site-packages\\seaborn\\_core\\data.py:58\u001b[0m, in \u001b[0;36mPlotData.__init__\u001b[1;34m(self, data, variables)\u001b[0m\n\u001b[0;32m     51\u001b[0m \u001b[38;5;28;01mdef\u001b[39;00m \u001b[38;5;21m__init__\u001b[39m(\n\u001b[0;32m     52\u001b[0m     \u001b[38;5;28mself\u001b[39m,\n\u001b[0;32m     53\u001b[0m     data: DataSource,\n\u001b[0;32m     54\u001b[0m     variables: \u001b[38;5;28mdict\u001b[39m[\u001b[38;5;28mstr\u001b[39m, VariableSpec],\n\u001b[0;32m     55\u001b[0m ):\n\u001b[0;32m     57\u001b[0m     data \u001b[38;5;241m=\u001b[39m handle_data_source(data)\n\u001b[1;32m---> 58\u001b[0m     frame, names, ids \u001b[38;5;241m=\u001b[39m \u001b[38;5;28;43mself\u001b[39;49m\u001b[38;5;241;43m.\u001b[39;49m\u001b[43m_assign_variables\u001b[49m\u001b[43m(\u001b[49m\u001b[43mdata\u001b[49m\u001b[43m,\u001b[49m\u001b[43m \u001b[49m\u001b[43mvariables\u001b[49m\u001b[43m)\u001b[49m\n\u001b[0;32m     60\u001b[0m     \u001b[38;5;28mself\u001b[39m\u001b[38;5;241m.\u001b[39mframe \u001b[38;5;241m=\u001b[39m frame\n\u001b[0;32m     61\u001b[0m     \u001b[38;5;28mself\u001b[39m\u001b[38;5;241m.\u001b[39mnames \u001b[38;5;241m=\u001b[39m names\n",
      "File \u001b[1;32mc:\\Users\\dhuck\\miniconda3\\envs\\cando\\lib\\site-packages\\seaborn\\_core\\data.py:232\u001b[0m, in \u001b[0;36mPlotData._assign_variables\u001b[1;34m(self, data, variables)\u001b[0m\n\u001b[0;32m    230\u001b[0m     \u001b[38;5;28;01melse\u001b[39;00m:\n\u001b[0;32m    231\u001b[0m         err \u001b[38;5;241m+\u001b[39m\u001b[38;5;241m=\u001b[39m \u001b[38;5;124m\"\u001b[39m\u001b[38;5;124mAn entry with this name does not appear in `data`.\u001b[39m\u001b[38;5;124m\"\u001b[39m\n\u001b[1;32m--> 232\u001b[0m     \u001b[38;5;28;01mraise\u001b[39;00m \u001b[38;5;167;01mValueError\u001b[39;00m(err)\n\u001b[0;32m    234\u001b[0m \u001b[38;5;28;01melse\u001b[39;00m:\n\u001b[0;32m    235\u001b[0m \n\u001b[0;32m    236\u001b[0m     \u001b[38;5;66;03m# Otherwise, assume the value somehow represents data\u001b[39;00m\n\u001b[0;32m    237\u001b[0m \n\u001b[0;32m    238\u001b[0m     \u001b[38;5;66;03m# Ignore empty data structures\u001b[39;00m\n\u001b[0;32m    239\u001b[0m     \u001b[38;5;28;01mif\u001b[39;00m \u001b[38;5;28misinstance\u001b[39m(val, Sized) \u001b[38;5;129;01mand\u001b[39;00m \u001b[38;5;28mlen\u001b[39m(val) \u001b[38;5;241m==\u001b[39m \u001b[38;5;241m0\u001b[39m:\n",
      "\u001b[1;31mValueError\u001b[0m: Could not interpret value `reason` for `col`. An entry with this name does not appear in `data`."
     ]
    }
   ],
   "source": [
    "res.adoption_details_fig()"
   ]
  },
  {
   "cell_type": "code",
   "execution_count": null,
   "id": "01HXHHPGYSY1D72DRB0AW0C71Y",
   "metadata": {},
   "outputs": [
    {
     "name": "stderr",
     "output_type": "stream",
     "text": [
      "c:\\src\\canadopt\\abetam\\batch.py:664: UserWarning: set_ticklabels() should only be used with a fixed number of ticks, i.e. after set_ticks() or using a FixedLocator.\n",
      "  ax.set_xticklabels(labels, rotation=45)\n"
     ]
    },
    {
     "data": {
      "text/plain": [
       "<Axes: xlabel='year', ylabel='Appliance age'>"
      ]
     },
     "execution_count": 10,
     "metadata": {},
     "output_type": "execute_result"
    },
    {
     "data": {
      "image/png": "[encoded data removed]",
      "text/plain": [
       "<Figure size 640x480 with 1 Axes>"
      ]
     },
     "metadata": {},
     "output_type": "display_data"
    }
   ],
   "source": [
    "res.appliance_age_fig()"
   ]
  },
  {
   "cell_type": "code",
   "execution_count": null,
   "id": "01HXHHPGYS1SBK3M0P8FPT8M8Q",
   "metadata": {},
   "outputs": [],
   "source": [
    "# res.adoption_details_df.groupby([\"year\",\"tech\"])[\"amount\"].sum().reset_index().pivot(columns=\"tech\", index=\"year\").fillna(0).plot()"
   ]
  },
  {
   "cell_type": "code",
   "execution_count": null,
   "id": "01J2F2ZJXQCW9CYR4ZEPQN1H0M",
   "metadata": {},
   "outputs": [],
   "source": [
    "if not res.path.exists():\n",
    "    res.save()"
   ]
  },
  {
   "cell_type": "markdown",
   "metadata": {},
   "source": [
    "# Calculation of emissions\n"
   ]
  },
  {
   "cell_type": "code",
   "execution_count": null,
   "id": "01J2F2ZJXQCGNKDJ2M2YR406VP",
   "metadata": {},
   "outputs": [
    {
     "data": {
      "text/html": [
       "<div>\n",
       "<style scoped>\n",
       "    .dataframe tbody tr th:only-of-type {\n",
       "        vertical-align: middle;\n",
       "    }\n",
       "\n",
       "    .dataframe tbody tr th {\n",
       "        vertical-align: top;\n",
       "    }\n",
       "\n",
       "    .dataframe thead th {\n",
       "        text-align: right;\n",
       "    }\n",
       "</style>\n",
       "<table border=\"1\" class=\"dataframe\">\n",
       "  <thead>\n",
       "    <tr style=\"text-align: right;\">\n",
       "      <th></th>\n",
       "      <th>Fuels.ELECTRICITY</th>\n",
       "      <th>Fuels.HEATING_OIL</th>\n",
       "      <th>Fuels.NATURAL_GAS</th>\n",
       "      <th>Fuels.WOOD_OR_WOOD_PELLETS</th>\n",
       "    </tr>\n",
       "  </thead>\n",
       "  <tbody>\n",
       "    <tr>\n",
       "      <th>2020</th>\n",
       "      <td>0.454759</td>\n",
       "      <td>1.449743</td>\n",
       "      <td>18.466009</td>\n",
       "      <td>0.000000</td>\n",
       "    </tr>\n",
       "    <tr>\n",
       "      <th>2021</th>\n",
       "      <td>0.456322</td>\n",
       "      <td>1.451420</td>\n",
       "      <td>17.941902</td>\n",
       "      <td>0.024764</td>\n",
       "    </tr>\n",
       "    <tr>\n",
       "      <th>2022</th>\n",
       "      <td>0.457885</td>\n",
       "      <td>1.453096</td>\n",
       "      <td>17.417794</td>\n",
       "      <td>0.049528</td>\n",
       "    </tr>\n",
       "    <tr>\n",
       "      <th>2023</th>\n",
       "      <td>0.459449</td>\n",
       "      <td>1.454773</td>\n",
       "      <td>16.893686</td>\n",
       "      <td>0.074292</td>\n",
       "    </tr>\n",
       "    <tr>\n",
       "      <th>2024</th>\n",
       "      <td>0.461012</td>\n",
       "      <td>1.456449</td>\n",
       "      <td>16.369578</td>\n",
       "      <td>0.099056</td>\n",
       "    </tr>\n",
       "  </tbody>\n",
       "</table>\n",
       "</div>"
      ],
      "text/plain": [
       "      Fuels.ELECTRICITY  Fuels.HEATING_OIL  Fuels.NATURAL_GAS  \\\n",
       "2020           0.454759           1.449743          18.466009   \n",
       "2021           0.456322           1.451420          17.941902   \n",
       "2022           0.457885           1.453096          17.417794   \n",
       "2023           0.459449           1.454773          16.893686   \n",
       "2024           0.461012           1.456449          16.369578   \n",
       "\n",
       "      Fuels.WOOD_OR_WOOD_PELLETS  \n",
       "2020                    0.000000  \n",
       "2021                    0.024764  \n",
       "2022                    0.049528  \n",
       "2023                    0.074292  \n",
       "2024                    0.099056  "
      ]
     },
     "execution_count": 8,
     "metadata": {},
     "output_type": "execute_result"
    }
   ],
   "source": [
    "res.emissions().head()"
   ]
  },
  {
   "cell_type": "code",
   "execution_count": null,
   "id": "01J2F2ZJXRV46Y0PW7YAFJDFXR",
   "metadata": {},
   "outputs": [
    {
     "data": {
      "application/vnd.plotly.v1+json": {
       "config": {
        "plotlyServerURL": "https://plot.ly"
       },
       "data": [
        {
         "hovertemplate": "variable=Fuels.ELECTRICITY<br>index=%{x}<br>value=%{y}<extra></extra>",
         "legendgroup": "Fuels.ELECTRICITY",
         "line": {
          "color": "#636efa",
          "dash": "solid"
         },
         "marker": {
          "symbol": "circle"
         },
         "mode": "lines",
         "name": "Fuels.ELECTRICITY",
         "orientation": "v",
         "showlegend": true,
         "type": "scatter",
         "x": [
          2020,
          2021,
          2022,
          2023,
          2024,
          2025,
          2026,
          2027,
          2028,
          2029,
          2030,
          2031,
          2032,
          2033,
          2034,
          2035,
          2036,
          2037,
          2038,
          2039,
          2040,
          2041,
          2042,
          2043,
          2044,
          2045,
          2046,
          2047,
          2048,
          2049,
          2050
         ],
         "xaxis": "x",
         "y": [
          0.4685175783589286,
          0.9466595340792143,
          1.4344258671608572,
          1.9318165776038572,
          2.4388316654082143,
          2.9554711305739287,
          3.465852503095643,
          3.969975782973357,
          4.467840970207071,
          4.959448064796785,
          5.444797066742499,
          5.949311215299785,
          6.472990510468642,
          7.015834952249071,
          7.57784454064107,
          8.159019275644642,
          8.756858272538928,
          9.371361531323927,
          10.002529051999641,
          10.650360834566069,
          11.314856879023212,
          11.984085083625283,
          12.658045448372283,
          13.336737973264212,
          14.02016265830107,
          14.708319503482855,
          15.39647634866464,
          16.084633193846425,
          16.772790039028212,
          17.46094688421,
          18.149103729391786
         ],
         "yaxis": "y"
        },
        {
         "hovertemplate": "variable=Fuels.HEATING_OIL<br>index=%{x}<br>value=%{y}<extra></extra>",
         "legendgroup": "Fuels.HEATING_OIL",
         "line": {
          "color": "#EF553B",
          "dash": "solid"
         },
         "marker": {
          "symbol": "circle"
         },
         "mode": "lines",
         "name": "Fuels.HEATING_OIL",
         "orientation": "v",
         "showlegend": true,
         "type": "scatter",
         "x": [
          2020,
          2021,
          2022,
          2023,
          2024,
          2025,
          2026,
          2027,
          2028,
          2029,
          2030,
          2031,
          2032,
          2033,
          2034,
          2035,
          2036,
          2037,
          2038,
          2039,
          2040,
          2041,
          2042,
          2043,
          2044,
          2045,
          2046,
          2047,
          2048,
          2049,
          2050
         ],
         "xaxis": "x",
         "y": [
          1.2366817683437494,
          2.623292405861271,
          4.159831912552566,
          5.846300288417632,
          7.682697533456471,
          9.669023647669082,
          11.764591512906694,
          13.969401129169306,
          16.283452496456917,
          18.706745614769527,
          21.23928048410714,
          23.602269017821875,
          25.795711215913727,
          27.8196070783827,
          29.673956605228792,
          31.358759796452006,
          32.87599240400254,
          34.225654427880386,
          35.40774586808555,
          36.42226672461803,
          37.26921699747782,
          38.0782401096779,
          38.849336061218274,
          39.582504852098936,
          40.27774648231989,
          40.935060951881134,
          41.59237542144238,
          42.24968989100362,
          42.90700436056486,
          43.564318830126105,
          44.22163329968735
         ],
         "yaxis": "y"
        },
        {
         "hovertemplate": "variable=Fuels.NATURAL_GAS<br>index=%{x}<br>value=%{y}<extra></extra>",
         "legendgroup": "Fuels.NATURAL_GAS",
         "line": {
          "color": "#00cc96",
          "dash": "solid"
         },
         "marker": {
          "symbol": "circle"
         },
         "mode": "lines",
         "name": "Fuels.NATURAL_GAS",
         "orientation": "v",
         "showlegend": true,
         "type": "scatter",
         "x": [
          2020,
          2021,
          2022,
          2023,
          2024,
          2025,
          2026,
          2027,
          2028,
          2029,
          2030,
          2031,
          2032,
          2033,
          2034,
          2035,
          2036,
          2037,
          2038,
          2039,
          2040,
          2041,
          2042,
          2043,
          2044,
          2045,
          2046,
          2047,
          2048,
          2049,
          2050
         ],
         "xaxis": "x",
         "y": [
          18.345950192728573,
          36.01509511036571,
          53.00743475291143,
          69.32296912036571,
          84.96169821272856,
          99.92362202999999,
          114.54629386233714,
          128.82971370974,
          142.77388157220855,
          156.37879744974285,
          169.64446134234285,
          182.2326970347157,
          194.14350452686142,
          205.37688381878,
          215.93283491047143,
          225.8113578019357,
          235.19193546927,
          244.07456791247427,
          252.45925513154856,
          260.3459971264928,
          267.7347938973071,
          274.75897642369927,
          281.41854470566926,
          287.71349874321714,
          293.64383853634286,
          299.20956408504645,
          304.77528963375005,
          310.34101518245365,
          315.90674073115724,
          321.47246627986084,
          327.03819182856444
         ],
         "yaxis": "y"
        },
        {
         "hovertemplate": "variable=Fuels.WOOD_OR_WOOD_PELLETS<br>index=%{x}<br>value=%{y}<extra></extra>",
         "legendgroup": "Fuels.WOOD_OR_WOOD_PELLETS",
         "line": {
          "color": "#ab63fa",
          "dash": "solid"
         },
         "marker": {
          "symbol": "circle"
         },
         "mode": "lines",
         "name": "Fuels.WOOD_OR_WOOD_PELLETS",
         "orientation": "v",
         "showlegend": true,
         "type": "scatter",
         "x": [
          2020,
          2021,
          2022,
          2023,
          2024,
          2025,
          2026,
          2027,
          2028,
          2029,
          2030,
          2031,
          2032,
          2033,
          2034,
          2035,
          2036,
          2037,
          2038,
          2039,
          2040,
          2041,
          2042,
          2043,
          2044,
          2045,
          2046,
          2047,
          2048,
          2049,
          2050
         ],
         "xaxis": "x",
         "y": [
          0,
          0.03489230257268973,
          0.10467690771806919,
          0.20935381543613837,
          0.34892302572689726,
          0.523384538590346,
          0.7170652492583035,
          0.9299651577307699,
          1.1620842640077453,
          1.4134225680892296,
          1.683980069975223,
          1.9713648178663725,
          2.2755768117626785,
          2.5966160516641406,
          2.9344825375707586,
          3.289176269482533,
          3.6357664429133534,
          3.974253057863219,
          4.304636114332131,
          4.626915612320088,
          4.941091551827092,
          5.255507389840429,
          5.5701631263601,
          5.885058761386104,
          6.200194294918442,
          6.515569726957114,
          6.830945158995786,
          7.146320591034458,
          7.46169602307313,
          7.777071455111802,
          8.092446887150473
         ],
         "yaxis": "y"
        }
       ],
       "layout": {
        "legend": {
         "title": {
          "text": "variable"
         },
         "tracegroupgap": 0
        },
        "margin": {
         "t": 60
        },
        "template": {
         "data": {
          "bar": [
           {
            "error_x": {
             "color": "#2a3f5f"
            },
            "error_y": {
             "color": "#2a3f5f"
            },
            "marker": {
             "line": {
              "color": "#E5ECF6",
              "width": 0.5
             },
             "pattern": {
              "fillmode": "overlay",
              "size": 10,
              "solidity": 0.2
             }
            },
            "type": "bar"
           }
          ],
          "barpolar": [
           {
            "marker": {
             "line": {
              "color": "#E5ECF6",
              "width": 0.5
             },
             "pattern": {
              "fillmode": "overlay",
              "size": 10,
              "solidity": 0.2
             }
            },
            "type": "barpolar"
           }
          ],
          "carpet": [
           {
            "aaxis": {
             "endlinecolor": "#2a3f5f",
             "gridcolor": "white",
             "linecolor": "white",
             "minorgridcolor": "white",
             "startlinecolor": "#2a3f5f"
            },
            "baxis": {
             "endlinecolor": "#2a3f5f",
             "gridcolor": "white",
             "linecolor": "white",
             "minorgridcolor": "white",
             "startlinecolor": "#2a3f5f"
            },
            "type": "carpet"
           }
          ],
          "choropleth": [
           {
            "colorbar": {
             "outlinewidth": 0,
             "ticks": ""
            },
            "type": "choropleth"
           }
          ],
          "contour": [
           {
            "colorbar": {
             "outlinewidth": 0,
             "ticks": ""
            },
            "colorscale": [
             [
              0,
              "#0d0887"
             ],
             [
              0.1111111111111111,
              "#46039f"
             ],
             [
              0.2222222222222222,
              "#7201a8"
             ],
             [
              0.3333333333333333,
              "#9c179e"
             ],
             [
              0.4444444444444444,
              "#bd3786"
             ],
             [
              0.5555555555555556,
              "#d8576b"
             ],
             [
              0.6666666666666666,
              "#ed7953"
             ],
             [
              0.7777777777777778,
              "#fb9f3a"
             ],
             [
              0.8888888888888888,
              "#fdca26"
             ],
             [
              1,
              "#f0f921"
             ]
            ],
            "type": "contour"
           }
          ],
          "contourcarpet": [
           {
            "colorbar": {
             "outlinewidth": 0,
             "ticks": ""
            },
            "type": "contourcarpet"
           }
          ],
          "heatmap": [
           {
            "colorbar": {
             "outlinewidth": 0,
             "ticks": ""
            },
            "colorscale": [
             [
              0,
              "#0d0887"
             ],
             [
              0.1111111111111111,
              "#46039f"
             ],
             [
              0.2222222222222222,
              "#7201a8"
             ],
             [
              0.3333333333333333,
              "#9c179e"
             ],
             [
              0.4444444444444444,
              "#bd3786"
             ],
             [
              0.5555555555555556,
              "#d8576b"
             ],
             [
              0.6666666666666666,
              "#ed7953"
             ],
             [
              0.7777777777777778,
              "#fb9f3a"
             ],
             [
              0.8888888888888888,
              "#fdca26"
             ],
             [
              1,
              "#f0f921"
             ]
            ],
            "type": "heatmap"
           }
          ],
          "heatmapgl": [
           {
            "colorbar": {
             "outlinewidth": 0,
             "ticks": ""
            },
            "colorscale": [
             [
              0,
              "#0d0887"
             ],
             [
              0.1111111111111111,
              "#46039f"
             ],
             [
              0.2222222222222222,
              "#7201a8"
             ],
             [
              0.3333333333333333,
              "#9c179e"
             ],
             [
              0.4444444444444444,
              "#bd3786"
             ],
             [
              0.5555555555555556,
              "#d8576b"
             ],
             [
              0.6666666666666666,
              "#ed7953"
             ],
             [
              0.7777777777777778,
              "#fb9f3a"
             ],
             [
              0.8888888888888888,
              "#fdca26"
             ],
             [
              1,
              "#f0f921"
             ]
            ],
            "type": "heatmapgl"
           }
          ],
          "histogram": [
           {
            "marker": {
             "pattern": {
              "fillmode": "overlay",
              "size": 10,
              "solidity": 0.2
             }
            },
            "type": "histogram"
           }
          ],
          "histogram2d": [
           {
            "colorbar": {
             "outlinewidth": 0,
             "ticks": ""
            },
            "colorscale": [
             [
              0,
              "#0d0887"
             ],
             [
              0.1111111111111111,
              "#46039f"
             ],
             [
              0.2222222222222222,
              "#7201a8"
             ],
             [
              0.3333333333333333,
              "#9c179e"
             ],
             [
              0.4444444444444444,
              "#bd3786"
             ],
             [
              0.5555555555555556,
              "#d8576b"
             ],
             [
              0.6666666666666666,
              "#ed7953"
             ],
             [
              0.7777777777777778,
              "#fb9f3a"
             ],
             [
              0.8888888888888888,
              "#fdca26"
             ],
             [
              1,
              "#f0f921"
             ]
            ],
            "type": "histogram2d"
           }
          ],
          "histogram2dcontour": [
           {
            "colorbar": {
             "outlinewidth": 0,
             "ticks": ""
            },
            "colorscale": [
             [
              0,
              "#0d0887"
             ],
             [
              0.1111111111111111,
              "#46039f"
             ],
             [
              0.2222222222222222,
              "#7201a8"
             ],
             [
              0.3333333333333333,
              "#9c179e"
             ],
             [
              0.4444444444444444,
              "#bd3786"
             ],
             [
              0.5555555555555556,
              "#d8576b"
             ],
             [
              0.6666666666666666,
              "#ed7953"
             ],
             [
              0.7777777777777778,
              "#fb9f3a"
             ],
             [
              0.8888888888888888,
              "#fdca26"
             ],
             [
              1,
              "#f0f921"
             ]
            ],
            "type": "histogram2dcontour"
           }
          ],
          "mesh3d": [
           {
            "colorbar": {
             "outlinewidth": 0,
             "ticks": ""
            },
            "type": "mesh3d"
           }
          ],
          "parcoords": [
           {
            "line": {
             "colorbar": {
              "outlinewidth": 0,
              "ticks": ""
             }
            },
            "type": "parcoords"
           }
          ],
          "pie": [
           {
            "automargin": true,
            "type": "pie"
           }
          ],
          "scatter": [
           {
            "fillpattern": {
             "fillmode": "overlay",
             "size": 10,
             "solidity": 0.2
            },
            "type": "scatter"
           }
          ],
          "scatter3d": [
           {
            "line": {
             "colorbar": {
              "outlinewidth": 0,
              "ticks": ""
             }
            },
            "marker": {
             "colorbar": {
              "outlinewidth": 0,
              "ticks": ""
             }
            },
            "type": "scatter3d"
           }
          ],
          "scattercarpet": [
           {
            "marker": {
             "colorbar": {
              "outlinewidth": 0,
              "ticks": ""
             }
            },
            "type": "scattercarpet"
           }
          ],
          "scattergeo": [
           {
            "marker": {
             "colorbar": {
              "outlinewidth": 0,
              "ticks": ""
             }
            },
            "type": "scattergeo"
           }
          ],
          "scattergl": [
           {
            "marker": {
             "colorbar": {
              "outlinewidth": 0,
              "ticks": ""
             }
            },
            "type": "scattergl"
           }
          ],
          "scattermapbox": [
           {
            "marker": {
             "colorbar": {
              "outlinewidth": 0,
              "ticks": ""
             }
            },
            "type": "scattermapbox"
           }
          ],
          "scatterpolar": [
           {
            "marker": {
             "colorbar": {
              "outlinewidth": 0,
              "ticks": ""
             }
            },
            "type": "scatterpolar"
           }
          ],
          "scatterpolargl": [
           {
            "marker": {
             "colorbar": {
              "outlinewidth": 0,
              "ticks": ""
             }
            },
            "type": "scatterpolargl"
           }
          ],
          "scatterternary": [
           {
            "marker": {
             "colorbar": {
              "outlinewidth": 0,
              "ticks": ""
             }
            },
            "type": "scatterternary"
           }
          ],
          "surface": [
           {
            "colorbar": {
             "outlinewidth": 0,
             "ticks": ""
            },
            "colorscale": [
             [
              0,
              "#0d0887"
             ],
             [
              0.1111111111111111,
              "#46039f"
             ],
             [
              0.2222222222222222,
              "#7201a8"
             ],
             [
              0.3333333333333333,
              "#9c179e"
             ],
             [
              0.4444444444444444,
              "#bd3786"
             ],
             [
              0.5555555555555556,
              "#d8576b"
             ],
             [
              0.6666666666666666,
              "#ed7953"
             ],
             [
              0.7777777777777778,
              "#fb9f3a"
             ],
             [
              0.8888888888888888,
              "#fdca26"
             ],
             [
              1,
              "#f0f921"
             ]
            ],
            "type": "surface"
           }
          ],
          "table": [
           {
            "cells": {
             "fill": {
              "color": "#EBF0F8"
             },
             "line": {
              "color": "white"
             }
            },
            "header": {
             "fill": {
              "color": "#C8D4E3"
             },
             "line": {
              "color": "white"
             }
            },
            "type": "table"
           }
          ]
         },
         "layout": {
          "annotationdefaults": {
           "arrowcolor": "#2a3f5f",
           "arrowhead": 0,
           "arrowwidth": 1
          },
          "autotypenumbers": "strict",
          "coloraxis": {
           "colorbar": {
            "outlinewidth": 0,
            "ticks": ""
           }
          },
          "colorscale": {
           "diverging": [
            [
             0,
             "#8e0152"
            ],
            [
             0.1,
             "#c51b7d"
            ],
            [
             0.2,
             "#de77ae"
            ],
            [
             0.3,
             "#f1b6da"
            ],
            [
             0.4,
             "#fde0ef"
            ],
            [
             0.5,
             "#f7f7f7"
            ],
            [
             0.6,
             "#e6f5d0"
            ],
            [
             0.7,
             "#b8e186"
            ],
            [
             0.8,
             "#7fbc41"
            ],
            [
             0.9,
             "#4d9221"
            ],
            [
             1,
             "#276419"
            ]
           ],
           "sequential": [
            [
             0,
             "#0d0887"
            ],
            [
             0.1111111111111111,
             "#46039f"
            ],
            [
             0.2222222222222222,
             "#7201a8"
            ],
            [
             0.3333333333333333,
             "#9c179e"
            ],
            [
             0.4444444444444444,
             "#bd3786"
            ],
            [
             0.5555555555555556,
             "#d8576b"
            ],
            [
             0.6666666666666666,
             "#ed7953"
            ],
            [
             0.7777777777777778,
             "#fb9f3a"
            ],
            [
             0.8888888888888888,
             "#fdca26"
            ],
            [
             1,
             "#f0f921"
            ]
           ],
           "sequentialminus": [
            [
             0,
             "#0d0887"
            ],
            [
             0.1111111111111111,
             "#46039f"
            ],
            [
             0.2222222222222222,
             "#7201a8"
            ],
            [
             0.3333333333333333,
             "#9c179e"
            ],
            [
             0.4444444444444444,
             "#bd3786"
            ],
            [
             0.5555555555555556,
             "#d8576b"
            ],
            [
             0.6666666666666666,
             "#ed7953"
            ],
            [
             0.7777777777777778,
             "#fb9f3a"
            ],
            [
             0.8888888888888888,
             "#fdca26"
            ],
            [
             1,
             "#f0f921"
            ]
           ]
          },
          "colorway": [
           "#636efa",
           "#EF553B",
           "#00cc96",
           "#ab63fa",
           "#FFA15A",
           "#19d3f3",
           "#FF6692",
           "#B6E880",
           "#FF97FF",
           "#FECB52"
          ],
          "font": {
           "color": "#2a3f5f"
          },
          "geo": {
           "bgcolor": "white",
           "lakecolor": "white",
           "landcolor": "#E5ECF6",
           "showlakes": true,
           "showland": true,
           "subunitcolor": "white"
          },
          "hoverlabel": {
           "align": "left"
          },
          "hovermode": "closest",
          "mapbox": {
           "style": "light"
          },
          "paper_bgcolor": "white",
          "plot_bgcolor": "#E5ECF6",
          "polar": {
           "angularaxis": {
            "gridcolor": "white",
            "linecolor": "white",
            "ticks": ""
           },
           "bgcolor": "#E5ECF6",
           "radialaxis": {
            "gridcolor": "white",
            "linecolor": "white",
            "ticks": ""
           }
          },
          "scene": {
           "xaxis": {
            "backgroundcolor": "#E5ECF6",
            "gridcolor": "white",
            "gridwidth": 2,
            "linecolor": "white",
            "showbackground": true,
            "ticks": "",
            "zerolinecolor": "white"
           },
           "yaxis": {
            "backgroundcolor": "#E5ECF6",
            "gridcolor": "white",
            "gridwidth": 2,
            "linecolor": "white",
            "showbackground": true,
            "ticks": "",
            "zerolinecolor": "white"
           },
           "zaxis": {
            "backgroundcolor": "#E5ECF6",
            "gridcolor": "white",
            "gridwidth": 2,
            "linecolor": "white",
            "showbackground": true,
            "ticks": "",
            "zerolinecolor": "white"
           }
          },
          "shapedefaults": {
           "line": {
            "color": "#2a3f5f"
           }
          },
          "ternary": {
           "aaxis": {
            "gridcolor": "white",
            "linecolor": "white",
            "ticks": ""
           },
           "baxis": {
            "gridcolor": "white",
            "linecolor": "white",
            "ticks": ""
           },
           "bgcolor": "#E5ECF6",
           "caxis": {
            "gridcolor": "white",
            "linecolor": "white",
            "ticks": ""
           }
          },
          "title": {
           "x": 0.05
          },
          "xaxis": {
           "automargin": true,
           "gridcolor": "white",
           "linecolor": "white",
           "ticks": "",
           "title": {
            "standoff": 15
           },
           "zerolinecolor": "white",
           "zerolinewidth": 2
          },
          "yaxis": {
           "automargin": true,
           "gridcolor": "white",
           "linecolor": "white",
           "ticks": "",
           "title": {
            "standoff": 15
           },
           "zerolinecolor": "white",
           "zerolinewidth": 2
          }
         }
        },
        "width": 500,
        "xaxis": {
         "anchor": "y",
         "domain": [
          0,
          1
         ],
         "title": {
          "text": "index"
         }
        },
        "yaxis": {
         "anchor": "x",
         "domain": [
          0,
          1
         ],
         "title": {
          "text": "CO2 Emissions (Mt)"
         }
        }
       }
      }
     },
     "metadata": {},
     "output_type": "display_data"
    }
   ],
   "source": [
    "import plotly.express as px\n",
    "\n",
    "fig = px.line(res.emissions().cumsum(), template=\"plotly\")\n",
    "fig.update_layout(yaxis_title=\"CO2 Emissions (Mt)\", width=500)"
   ]
  },
  {
   "cell_type": "code",
   "execution_count": null,
   "metadata": {},
   "outputs": [],
   "source": []
  },
  {
   "cell_type": "code",
   "execution_count": null,
   "metadata": {},
   "outputs": [
    {
     "data": {
      "text/plain": [
       "0        {'Fuels.NATURAL_GAS': [2769763328.0, 243785190...\n",
       "1        {'Fuels.NATURAL_GAS': [2769763328.0, 243785190...\n",
       "2        {'Fuels.NATURAL_GAS': [2769763328.0, 243785190...\n",
       "3        {'Fuels.NATURAL_GAS': [2769763328.0, 243785190...\n",
       "4        {'Fuels.NATURAL_GAS': [2769763328.0, 243785190...\n",
       "                               ...                        \n",
       "70695    {'Fuels.NATURAL_GAS': [1015288704.0, 893622656...\n",
       "70696    {'Fuels.NATURAL_GAS': [1015288704.0, 893622656...\n",
       "70697    {'Fuels.NATURAL_GAS': [1015288704.0, 893622656...\n",
       "70698    {'Fuels.NATURAL_GAS': [1015288704.0, 893622656...\n",
       "70699    {'Fuels.NATURAL_GAS': [1015288704.0, 893622656...\n",
       "Name: Energy demand time series, Length: 70700, dtype: object"
      ]
     },
     "execution_count": 10,
     "metadata": {},
     "output_type": "execute_result"
    }
   ],
   "source": [
    "res.results_df[\"Energy demand time series\"]"
   ]
  },
  {
   "cell_type": "code",
   "execution_count": null,
   "metadata": {},
   "outputs": [],
   "source": []
  }
 ],
 "metadata": {
  "kernelspec": {
   "display_name": "cando",
   "language": "python",
   "name": "python3"
  },
  "language_info": {
   "codemirror_mode": {
    "name": "ipython",
    "version": 3
   },
   "file_extension": ".py",
   "mimetype": "text/x-python",
   "name": "python",
   "nbconvert_exporter": "python",
   "pygments_lexer": "ipython3",
   "version": "3.10.14"
  }
 },
 "nbformat": 4,
 "nbformat_minor": 2
}
