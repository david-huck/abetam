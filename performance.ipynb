{
 "cells": [
  {
   "cell_type": "code",
   "execution_count": 1,
   "metadata": {},
   "outputs": [],
   "source": [
    "from components.model import TechnologyAdoptionModel\n",
    "\n",
    "model = TechnologyAdoptionModel(100, \"Ontario\")"
   ]
  },
  {
   "cell_type": "code",
   "execution_count": 2,
   "metadata": {},
   "outputs": [
    {
     "name": "stdout",
     "output_type": "stream",
     "text": [
      "94.3 ms ± 14.4 ms per loop (mean ± std. dev. of 7 runs, 10 loops each)\n"
     ]
    }
   ],
   "source": [
    "# 50% of all time is spent here which further breaks down by\n",
    "#   35% in the actual agents' step and\n",
    "#   11% in data collection, most of which in \"energy_demand_ts\"\n",
    "\n",
    "%timeit model.step()"
   ]
  },
  {
   "cell_type": "code",
   "execution_count": 98,
   "metadata": {},
   "outputs": [],
   "source": [
    "# from decision_making.mcda import calc_score, normalize\n",
    "import pandas as pd\n",
    "import numpy as np\n",
    "from functools import partial\n",
    "import numba\n",
    "\n",
    "\n",
    "# @numba.njit\n",
    "def normalize(var: np.array, direction=1):\n",
    "    \"\"\"normalizes the values to the interval [0, 1].\n",
    "\n",
    "    Args:\n",
    "        `var` (np.array): The array to be normalised.\n",
    "        `direction` (int, optional): indicates wether higher is better (1) or lower is better (-1). Defaults to 1.\n",
    "\n",
    "    Returns:\n",
    "        pd.Series: The normalised series.\n",
    "    \"\"\"\n",
    "    # if direction:\n",
    "    max_ = var.max()\n",
    "    min_ = var.min()\n",
    "    if direction == 1:\n",
    "        norm = (var - min_) / (max_ - min_)\n",
    "    elif direction == -1:\n",
    "        norm = (max_ - var) / (max_ - min_)\n",
    "\n",
    "    return norm\n",
    "\n",
    "def calc_scores(\n",
    "    agent,\n",
    "):\n",
    "    techs_df = agent.heat_techs_df.loc[agent.model.available_techs, :]\n",
    "    techs_df[\"attitude\"] = agent.tech_attitudes\n",
    "\n",
    "    # normalize values\n",
    "    cost_norm = normalize(techs_df[\"annual_cost\"].values, direction=-1)\n",
    "    emissions_norm = normalize(techs_df[\"emissions[kg_CO2/kWh_th]\"].values, direction=-1)\n",
    "    att_norm = normalize(techs_df[\"attitude\"].values)\n",
    "\n",
    "    np_weights = np.array(list(map(agent.criteria_weights.get,[\"cost_norm\",\"emissions_norm\",\"attitude_norm\"])))\n",
    "    scores = np.vstack([cost_norm, emissions_norm, att_norm]).T @ np_weights\n",
    "    return pd.Series(scores, index=techs_df.index)"
   ]
  },
  {
   "cell_type": "code",
   "execution_count": 99,
   "metadata": {},
   "outputs": [
    {
     "name": "stdout",
     "output_type": "stream",
     "text": [
      "1.13 ms ± 84.2 µs per loop (mean ± std. dev. of 7 runs, 1,000 loops each)\n"
     ]
    }
   ],
   "source": [
    "\n",
    "\n",
    "agent = model.schedule.agents[0]\n",
    "\n",
    "%timeit -n 1000 calc_scores(agent)\n",
    "# 6.57 ms ± 707 µs\n",
    "\n",
    "# after numba normalization:\n",
    "# 5.47 ms ± 978 µs\n",
    "\n",
    "# after removal of sorting and numpying calc_score function\n",
    "# 2.49 ms ± 287 µs\n",
    "\n",
    "# after removing some dataframe write operations\n",
    "# 1.11 ms ± 122\n",
    "# returning the numpy array or the df doesn't appear to make a big difference\n",
    "\n",
    "# returning techs_df[\"total_score\"] slows things down\n",
    "# 1.56 ms ± 186 µs"
   ]
  },
  {
   "cell_type": "code",
   "execution_count": 69,
   "metadata": {},
   "outputs": [],
   "source": [
    "techs_df = agent.heat_techs_df.loc[agent.model.available_techs, :]\n",
    "techs_df[\"attitude\"] = agent.tech_attitudes\n",
    "\n",
    "# normalize values\n",
    "cost_norm = normalize(techs_df[\"annual_cost\"].values, direction=-1)\n",
    "emissions_norm = normalize(techs_df[\"emissions[kg_CO2/kWh_th]\"].values, direction=-1)\n",
    "att_norm = normalize(techs_df[\"attitude\"].values)\n",
    "\n",
    "np_weights = np.array(list(map(agent.criteria_weights.get,[\"cost_norm\",\"emissions_norm\",\"attitude_norm\"])))\n",
    "# techs_df[\"total_score\"] = np.vstack([cost_norm, emissions_norm, att_norm]) @ np_weights"
   ]
  },
  {
   "cell_type": "code",
   "execution_count": 97,
   "metadata": {},
   "outputs": [
    {
     "data": {
      "text/plain": [
       "Gas furnace         0.970432\n",
       "Oil furnace         0.793876\n",
       "Biomass furnace     0.059073\n",
       "Electric furnace    0.901087\n",
       "Heat pump           0.970620\n",
       "dtype: float64"
      ]
     },
     "execution_count": 97,
     "metadata": {},
     "output_type": "execute_result"
    }
   ],
   "source": [
    "scores = calc_scores(agent)\n",
    "scores"
   ]
  },
  {
   "cell_type": "code",
   "execution_count": 79,
   "metadata": {},
   "outputs": [
    {
     "data": {
      "text/html": [
       "<div>\n",
       "<style scoped>\n",
       "    .dataframe tbody tr th:only-of-type {\n",
       "        vertical-align: middle;\n",
       "    }\n",
       "\n",
       "    .dataframe tbody tr th {\n",
       "        vertical-align: top;\n",
       "    }\n",
       "\n",
       "    .dataframe thead th {\n",
       "        text-align: right;\n",
       "    }\n",
       "</style>\n",
       "<table border=\"1\" class=\"dataframe\">\n",
       "  <thead>\n",
       "    <tr style=\"text-align: right;\">\n",
       "      <th>variable</th>\n",
       "      <th>emissions_norm</th>\n",
       "      <th>total_score</th>\n",
       "    </tr>\n",
       "  </thead>\n",
       "  <tbody>\n",
       "    <tr>\n",
       "      <th>Gas furnace</th>\n",
       "      <td>0.704463</td>\n",
       "      <td>0.970432</td>\n",
       "    </tr>\n",
       "    <tr>\n",
       "      <th>Oil furnace</th>\n",
       "      <td>0.000000</td>\n",
       "      <td>0.793876</td>\n",
       "    </tr>\n",
       "    <tr>\n",
       "      <th>Biomass furnace</th>\n",
       "      <td>0.682828</td>\n",
       "      <td>0.059073</td>\n",
       "    </tr>\n",
       "    <tr>\n",
       "      <th>Electric furnace</th>\n",
       "      <td>0.670346</td>\n",
       "      <td>0.901087</td>\n",
       "    </tr>\n",
       "    <tr>\n",
       "      <th>Heat pump</th>\n",
       "      <td>1.000000</td>\n",
       "      <td>0.970620</td>\n",
       "    </tr>\n",
       "  </tbody>\n",
       "</table>\n",
       "</div>"
      ],
      "text/plain": [
       "variable          emissions_norm  total_score\n",
       "Gas furnace             0.704463     0.970432\n",
       "Oil furnace             0.000000     0.793876\n",
       "Biomass furnace         0.682828     0.059073\n",
       "Electric furnace        0.670346     0.901087\n",
       "Heat pump               1.000000     0.970620"
      ]
     },
     "execution_count": 79,
     "metadata": {},
     "output_type": "execute_result"
    }
   ],
   "source": [
    "score_df = calc_scores(agent)\n",
    "relevant_cols = filter(lambda x: \"norm\" in x or \"score\" in x, score_df.columns)\n",
    "score_df.loc[:, relevant_cols]"
   ]
  },
  {
   "cell_type": "code",
   "execution_count": 63,
   "metadata": {},
   "outputs": [
    {
     "data": {
      "text/html": [
       "<div>\n",
       "<style scoped>\n",
       "    .dataframe tbody tr th:only-of-type {\n",
       "        vertical-align: middle;\n",
       "    }\n",
       "\n",
       "    .dataframe tbody tr th {\n",
       "        vertical-align: top;\n",
       "    }\n",
       "\n",
       "    .dataframe thead th {\n",
       "        text-align: right;\n",
       "    }\n",
       "</style>\n",
       "<table border=\"1\" class=\"dataframe\">\n",
       "  <thead>\n",
       "    <tr style=\"text-align: right;\">\n",
       "      <th>variable</th>\n",
       "      <th>emissions_norm</th>\n",
       "      <th>attitude_norm</th>\n",
       "      <th>cost_norm</th>\n",
       "      <th>total_score</th>\n",
       "    </tr>\n",
       "  </thead>\n",
       "  <tbody>\n",
       "    <tr>\n",
       "      <th>Gas furnace</th>\n",
       "      <td>0.704463</td>\n",
       "      <td>1.000000</td>\n",
       "      <td>0.995301</td>\n",
       "      <td>0.970432</td>\n",
       "    </tr>\n",
       "    <tr>\n",
       "      <th>Oil furnace</th>\n",
       "      <td>0.000000</td>\n",
       "      <td>0.171462</td>\n",
       "      <td>0.920022</td>\n",
       "      <td>0.793876</td>\n",
       "    </tr>\n",
       "    <tr>\n",
       "      <th>Biomass furnace</th>\n",
       "      <td>0.682828</td>\n",
       "      <td>0.000000</td>\n",
       "      <td>0.000000</td>\n",
       "      <td>0.059073</td>\n",
       "    </tr>\n",
       "    <tr>\n",
       "      <th>Electric furnace</th>\n",
       "      <td>0.670346</td>\n",
       "      <td>0.774030</td>\n",
       "      <td>0.933818</td>\n",
       "      <td>0.901087</td>\n",
       "    </tr>\n",
       "    <tr>\n",
       "      <th>Heat pump</th>\n",
       "      <td>1.000000</td>\n",
       "      <td>0.527568</td>\n",
       "      <td>1.000000</td>\n",
       "      <td>0.970620</td>\n",
       "    </tr>\n",
       "  </tbody>\n",
       "</table>\n",
       "</div>"
      ],
      "text/plain": [
       "variable          emissions_norm  attitude_norm  cost_norm  total_score\n",
       "Gas furnace             0.704463       1.000000   0.995301     0.970432\n",
       "Oil furnace             0.000000       0.171462   0.920022     0.793876\n",
       "Biomass furnace         0.682828       0.000000   0.000000     0.059073\n",
       "Electric furnace        0.670346       0.774030   0.933818     0.901087\n",
       "Heat pump               1.000000       0.527568   1.000000     0.970620"
      ]
     },
     "execution_count": 63,
     "metadata": {},
     "output_type": "execute_result"
    }
   ],
   "source": [
    "score_df = calc_scores(agent)\n",
    "relevant_cols = filter(lambda x: \"norm\" in x or \"score\" in x, score_df.columns)\n",
    "score_df.loc[:, relevant_cols]"
   ]
  },
  {
   "cell_type": "code",
   "execution_count": 62,
   "metadata": {},
   "outputs": [
    {
     "name": "stdout",
     "output_type": "stream",
     "text": [
      "6.44 µs ± 696 ns per loop (mean ± std. dev. of 7 runs, 100,000 loops each)\n"
     ]
    }
   ],
   "source": [
    "# %timeit techs_df[\"attitude_norm\"] = normalize(techs_df[\"attitude\"].values)\n",
    "# 71.4 µs ± 7.63 µs\n",
    "%timeit normalize(techs_df[\"attitude\"].values)\n",
    "# 6.44 µs ± 696 ! 10x faster without writing to dataframe"
   ]
  },
  {
   "cell_type": "code",
   "execution_count": 60,
   "metadata": {},
   "outputs": [
    {
     "name": "stdout",
     "output_type": "stream",
     "text": [
      "6.87 µs ± 505 ns per loop (mean ± std. dev. of 7 runs, 100,000 loops each)\n"
     ]
    }
   ],
   "source": [
    "# %timeit techs_df.loc[:, [\"cost_norm\"]] = normalize(techs_df[\"annual_cost\"].values, direction=-1)\n",
    "# 703 µs ± 66.8 µs \n",
    "%timeit normalize(techs_df[\"annual_cost\"].values, direction=-1)\n",
    "# 6.87 µs ± 505 ns !!! 100x faster without writing to dataframe!"
   ]
  },
  {
   "cell_type": "code",
   "execution_count": null,
   "metadata": {},
   "outputs": [],
   "source": [
    "%timeit np.array(list(map(agent.criteria_weights.get,[\"cost_norm\",\"emissions_norm\",\"attitude_norm\"])))"
   ]
  },
  {
   "cell_type": "code",
   "execution_count": 57,
   "metadata": {},
   "outputs": [
    {
     "name": "stdout",
     "output_type": "stream",
     "text": [
      "438 µs ± 50.5 µs per loop (mean ± std. dev. of 7 runs, 1,000 loops each)\n"
     ]
    }
   ],
   "source": [
    "%timeit techs_df[[\"cost_norm\", \"emissions_norm\", \"attitude_norm\"]].values @ np_weights"
   ]
  },
  {
   "cell_type": "code",
   "execution_count": null,
   "metadata": {},
   "outputs": [],
   "source": []
  },
  {
   "cell_type": "code",
   "execution_count": 126,
   "metadata": {},
   "outputs": [],
   "source": [
    "from components.technologies import Fuels,tech_fuel_map\n",
    "# from components.technologies import \n",
    "def energy_demand_ts(model):\n",
    "    energy_carrier_demand = dict(zip(Fuels, [0] * len(Fuels)))\n",
    "\n",
    "    zero_demand_fuels = list(Fuels)\n",
    "    # retrieve the energy demand from each agent\n",
    "    for a in model.schedule.agents:\n",
    "        # get fueltype of agent\n",
    "        fuel = a.heating_tech.fuel\n",
    "        if fuel in zero_demand_fuels:\n",
    "            zero_demand_fuels.remove(fuel)\n",
    "        energy_carrier_demand[fuel] += a.current_fuel_demand.values\n",
    "\n",
    "    any_demand_fuel = set(Fuels).difference(zero_demand_fuels).pop()\n",
    "    for fuel in zero_demand_fuels:\n",
    "        energy_carrier_demand[fuel] = energy_carrier_demand[any_demand_fuel] * 0\n",
    "\n",
    "    return energy_carrier_demand\n",
    "\n",
    "\n",
    "# def energy_demand_ts(model):\n",
    "#     demand_srs = list(map(lambda a: a.current_fuel_demand, model.schedule.agents))\n",
    "#     demand_df = pd.concat(demand_srs, axis=1)\n",
    "#     # replace techs with fuels\n",
    "#     demand_df.columns = [tech_fuel_map[tech] for tech in demand_df.columns]\n",
    "#     demand_df = demand_df.T.reset_index().groupby(\"index\").sum().T\n",
    "\n",
    "#     missing_fuels = set(Fuels).difference(demand_df.columns)\n",
    "\n",
    "#     # add missing fuel\n",
    "#     demand_df[[*missing_fuels]] = 0\n",
    "    \n",
    "#     return {col:demand_df[col] for col in demand_df}"
   ]
  },
  {
   "cell_type": "code",
   "execution_count": 122,
   "metadata": {},
   "outputs": [
    {
     "data": {
      "text/plain": [
       "{<Fuels.ELECTRICITY: 'Electricity'>: time\n",
       " 2013-01-01 00:00:00    1164414.625\n",
       " 2013-01-01 01:00:00    1165024.250\n",
       " 2013-01-01 02:00:00    1171121.750\n",
       " 2013-01-01 03:00:00    1188204.875\n",
       " 2013-01-01 04:00:00    1225472.375\n",
       "                           ...     \n",
       " 2013-12-31 19:00:00    1631531.000\n",
       " 2013-12-31 20:00:00    1653415.375\n",
       " 2013-12-31 21:00:00    1694129.000\n",
       " 2013-12-31 22:00:00    1743738.000\n",
       " 2013-12-31 23:00:00    1787181.750\n",
       " Name: Fuels.ELECTRICITY, Length: 8760, dtype: float32,\n",
       " <Fuels.HEATING_OIL: 'Heating oil'>: time\n",
       " 2013-01-01 00:00:00    247126.921875\n",
       " 2013-01-01 01:00:00    247252.984375\n",
       " 2013-01-01 02:00:00    248513.843750\n",
       " 2013-01-01 03:00:00    252044.234375\n",
       " 2013-01-01 04:00:00    259735.437500\n",
       "                            ...      \n",
       " 2013-12-31 19:00:00    342573.375000\n",
       " 2013-12-31 20:00:00    346986.343750\n",
       " 2013-12-31 21:00:00    355181.937500\n",
       " 2013-12-31 22:00:00    365142.593750\n",
       " 2013-12-31 23:00:00    373842.531250\n",
       " Name: Fuels.HEATING_OIL, Length: 8760, dtype: float32,\n",
       " <Fuels.NATURAL_GAS: 'Natural gas'>: time\n",
       " 2013-01-01 00:00:00    26482390.0\n",
       " 2013-01-01 01:00:00    26495902.0\n",
       " 2013-01-01 02:00:00    26631016.0\n",
       " 2013-01-01 03:00:00    27009336.0\n",
       " 2013-01-01 04:00:00    27833532.0\n",
       "                           ...    \n",
       " 2013-12-31 19:00:00    36710536.0\n",
       " 2013-12-31 20:00:00    37183436.0\n",
       " 2013-12-31 21:00:00    38061680.0\n",
       " 2013-12-31 22:00:00    39129084.0\n",
       " 2013-12-31 23:00:00    40061372.0\n",
       " Name: Fuels.NATURAL_GAS, Length: 8760, dtype: float32,\n",
       " <Fuels.BIOMASS: 'Biomass'>: time\n",
       " 2013-01-01 00:00:00    0\n",
       " 2013-01-01 01:00:00    0\n",
       " 2013-01-01 02:00:00    0\n",
       " 2013-01-01 03:00:00    0\n",
       " 2013-01-01 04:00:00    0\n",
       "                       ..\n",
       " 2013-12-31 19:00:00    0\n",
       " 2013-12-31 20:00:00    0\n",
       " 2013-12-31 21:00:00    0\n",
       " 2013-12-31 22:00:00    0\n",
       " 2013-12-31 23:00:00    0\n",
       " Name: Fuels.BIOMASS, Length: 8760, dtype: int64}"
      ]
     },
     "execution_count": 122,
     "metadata": {},
     "output_type": "execute_result"
    }
   ],
   "source": [
    "from components.technologies import tech_fuel_map\n",
    "demand_srs = list(map(lambda a: a.current_fuel_demand, model.schedule.agents))\n",
    "demand_df = pd.concat(demand_srs, axis=1)\n",
    "# replace techs with fuels\n",
    "demand_df.columns = [tech_fuel_map[tech] for tech in demand_df.columns]\n",
    "demand_df = demand_df.T.reset_index().groupby(\"index\").sum().T\n",
    "\n",
    "missing_fuels = set(Fuels).difference(demand_df.columns)\n",
    "\n",
    "# add missing fuel\n",
    "demand_df[[*missing_fuels]] = 0\n",
    "{col:demand_df[col] for col in demand_df}"
   ]
  },
  {
   "cell_type": "code",
   "execution_count": 127,
   "metadata": {},
   "outputs": [
    {
     "name": "stdout",
     "output_type": "stream",
     "text": [
      "459 µs ± 23.9 µs per loop (mean ± std. dev. of 7 runs, 1,000 loops each)\n"
     ]
    }
   ],
   "source": [
    "%timeit energy_demand_ts(model)\n",
    "# 13.5 ms ± 797 µs # status quo\n"
   ]
  },
  {
   "cell_type": "code",
   "execution_count": 128,
   "metadata": {},
   "outputs": [
    {
     "data": {
      "text/plain": [
       "{<Fuels.NATURAL_GAS: 'Natural gas'>: array([26482388., 26495904., 26631016., ..., 38061684., 39129068.,\n",
       "        40061376.], dtype=float32),\n",
       " <Fuels.HEATING_OIL: 'Heating oil'>: array([247126.92, 247252.98, 248513.84, ..., 355181.94, 365142.6 ,\n",
       "        373842.53], dtype=float32),\n",
       " <Fuels.BIOMASS: 'Biomass'>: array([0., 0., 0., ..., 0., 0., 0.], dtype=float32),\n",
       " <Fuels.ELECTRICITY: 'Electricity'>: array([1164414.6, 1165024.2, 1171121.8, ..., 1694129.1, 1743738. ,\n",
       "        1787181.8], dtype=float32)}"
      ]
     },
     "execution_count": 128,
     "metadata": {},
     "output_type": "execute_result"
    }
   ],
   "source": [
    "energy_demand_ts(model)"
   ]
  },
  {
   "cell_type": "code",
   "execution_count": 102,
   "metadata": {},
   "outputs": [
    {
     "data": {
      "text/plain": [
       "{<Fuels.NATURAL_GAS: 'Natural gas'>: time\n",
       " 2013-01-01 00:00:00    26482388.0\n",
       " 2013-01-01 01:00:00    26495904.0\n",
       " 2013-01-01 02:00:00    26631016.0\n",
       " 2013-01-01 03:00:00    27009336.0\n",
       " 2013-01-01 04:00:00    27833544.0\n",
       "                           ...    \n",
       " 2013-12-31 19:00:00    36710540.0\n",
       " 2013-12-31 20:00:00    37183444.0\n",
       " 2013-12-31 21:00:00    38061684.0\n",
       " 2013-12-31 22:00:00    39129068.0\n",
       " 2013-12-31 23:00:00    40061376.0\n",
       " Freq: h, Name: Gas furnace, Length: 8760, dtype: float32,\n",
       " <Fuels.HEATING_OIL: 'Heating oil'>: time\n",
       " 2013-01-01 00:00:00    247126.921875\n",
       " 2013-01-01 01:00:00    247252.984375\n",
       " 2013-01-01 02:00:00    248513.843750\n",
       " 2013-01-01 03:00:00    252044.234375\n",
       " 2013-01-01 04:00:00    259735.437500\n",
       "                            ...      \n",
       " 2013-12-31 19:00:00    342573.375000\n",
       " 2013-12-31 20:00:00    346986.343750\n",
       " 2013-12-31 21:00:00    355181.937500\n",
       " 2013-12-31 22:00:00    365142.593750\n",
       " 2013-12-31 23:00:00    373842.531250\n",
       " Freq: h, Name: Oil furnace, Length: 8760, dtype: float32,\n",
       " <Fuels.BIOMASS: 'Biomass'>: time\n",
       " 2013-01-01 00:00:00    0.0\n",
       " 2013-01-01 01:00:00    0.0\n",
       " 2013-01-01 02:00:00    0.0\n",
       " 2013-01-01 03:00:00    0.0\n",
       " 2013-01-01 04:00:00    0.0\n",
       "                       ... \n",
       " 2013-12-31 19:00:00    0.0\n",
       " 2013-12-31 20:00:00    0.0\n",
       " 2013-12-31 21:00:00    0.0\n",
       " 2013-12-31 22:00:00    0.0\n",
       " 2013-12-31 23:00:00    0.0\n",
       " Freq: h, Name: Heat pump, Length: 8760, dtype: float32,\n",
       " <Fuels.ELECTRICITY: 'Electricity'>: time\n",
       " 2013-01-01 00:00:00    1164414.625\n",
       " 2013-01-01 01:00:00    1165024.250\n",
       " 2013-01-01 02:00:00    1171121.750\n",
       " 2013-01-01 03:00:00    1188204.875\n",
       " 2013-01-01 04:00:00    1225472.375\n",
       "                           ...     \n",
       " 2013-12-31 19:00:00    1631531.000\n",
       " 2013-12-31 20:00:00    1653415.250\n",
       " 2013-12-31 21:00:00    1694129.125\n",
       " 2013-12-31 22:00:00    1743738.000\n",
       " 2013-12-31 23:00:00    1787181.750\n",
       " Freq: h, Name: Heat pump, Length: 8760, dtype: float32}"
      ]
     },
     "execution_count": 102,
     "metadata": {},
     "output_type": "execute_result"
    }
   ],
   "source": [
    "result_pre_optim = energy_demand_ts(model)\n",
    "result_pre_optim"
   ]
  },
  {
   "cell_type": "code",
   "execution_count": null,
   "metadata": {},
   "outputs": [],
   "source": []
  }
 ],
 "metadata": {
  "kernelspec": {
   "display_name": "cando",
   "language": "python",
   "name": "python3"
  },
  "language_info": {
   "codemirror_mode": {
    "name": "ipython",
    "version": 3
   },
   "file_extension": ".py",
   "mimetype": "text/x-python",
   "name": "python",
   "nbconvert_exporter": "python",
   "pygments_lexer": "ipython3",
   "version": "3.10.14"
  }
 },
 "nbformat": 4,
 "nbformat_minor": 2
}
