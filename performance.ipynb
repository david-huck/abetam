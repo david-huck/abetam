{
 "cells": [
  {
   "cell_type": "code",
   "execution_count": 1,
   "metadata": {},
   "outputs": [],
   "source": [
    "from components.model import TechnologyAdoptionModel\n",
    "\n",
    "\n",
    "def define_and_run_model():\n",
    "    model = TechnologyAdoptionModel(100, \"Ontario\")\n",
    "    for i in range(80):\n",
    "        model.step()"
   ]
  },
  {
   "cell_type": "code",
   "execution_count": 2,
   "metadata": {},
   "outputs": [
    {
     "name": "stdout",
     "output_type": "stream",
     "text": [
      "7.38 s ± 323 ms per loop (mean ± std. dev. of 7 runs, 1 loop each)\n"
     ]
    }
   ],
   "source": [
    "# 50% of all time is spent here which further breaks down by\n",
    "#   35% in the actual agents' step and\n",
    "#   11% in data collection, most of which in \"energy_demand_ts\"\n",
    "\n",
    "%timeit define_and_run_model()\n",
    "# 7.38 s ± 323 ms (after optimisation - 79f10fa)"
   ]
  },
  {
   "cell_type": "code",
   "execution_count": 4,
   "metadata": {},
   "outputs": [
    {
     "data": {
      "application/vnd.jupyter.widget-view+json": {
       "model_id": "6fe09cb91d7d46cb8bb76864991f06f5",
       "version_major": 2,
       "version_minor": 0
      },
      "text/plain": [
       "  0%|          | 0/5 [00:00<?, ?it/s]"
      ]
     },
     "metadata": {},
     "output_type": "display_data"
    },
    {
     "data": {
      "application/vnd.jupyter.widget-view+json": {
       "model_id": "34b560a83e374a31aba22c8fa088f0e4",
       "version_major": 2,
       "version_minor": 0
      },
      "text/plain": [
       "  0%|          | 0/5 [00:00<?, ?it/s]"
      ]
     },
     "metadata": {},
     "output_type": "display_data"
    },
    {
     "data": {
      "application/vnd.jupyter.widget-view+json": {
       "model_id": "8477a0cf199b48de8add610d95169e24",
       "version_major": 2,
       "version_minor": 0
      },
      "text/plain": [
       "  0%|          | 0/5 [00:00<?, ?it/s]"
      ]
     },
     "metadata": {},
     "output_type": "display_data"
    },
    {
     "data": {
      "application/vnd.jupyter.widget-view+json": {
       "model_id": "c8df6207c096417eba998cb3a50a74b5",
       "version_major": 2,
       "version_minor": 0
      },
      "text/plain": [
       "  0%|          | 0/5 [00:00<?, ?it/s]"
      ]
     },
     "metadata": {},
     "output_type": "display_data"
    },
    {
     "data": {
      "application/vnd.jupyter.widget-view+json": {
       "model_id": "f2770a6b74ba4fbe8c2e3e53fdaf0f28",
       "version_major": 2,
       "version_minor": 0
      },
      "text/plain": [
       "  0%|          | 0/5 [00:00<?, ?it/s]"
      ]
     },
     "metadata": {},
     "output_type": "display_data"
    },
    {
     "data": {
      "application/vnd.jupyter.widget-view+json": {
       "model_id": "15e4fecb220b4f84ae9dfc6d902203b8",
       "version_major": 2,
       "version_minor": 0
      },
      "text/plain": [
       "  0%|          | 0/5 [00:00<?, ?it/s]"
      ]
     },
     "metadata": {},
     "output_type": "display_data"
    },
    {
     "data": {
      "application/vnd.jupyter.widget-view+json": {
       "model_id": "2c6eb1c0280a4d92b4df55902ef22aac",
       "version_major": 2,
       "version_minor": 0
      },
      "text/plain": [
       "  0%|          | 0/5 [00:00<?, ?it/s]"
      ]
     },
     "metadata": {},
     "output_type": "display_data"
    },
    {
     "data": {
      "application/vnd.jupyter.widget-view+json": {
       "model_id": "f67e84b89cec4bd0a38a4a24574d0647",
       "version_major": 2,
       "version_minor": 0
      },
      "text/plain": [
       "  0%|          | 0/5 [00:00<?, ?it/s]"
      ]
     },
     "metadata": {},
     "output_type": "display_data"
    },
    {
     "name": "stdout",
     "output_type": "stream",
     "text": [
      "17.6 s ± 977 ms per loop (mean ± std. dev. of 7 runs, 1 loop each)\n"
     ]
    }
   ],
   "source": [
    "from batch import BatchResult\n",
    "batch_parameters = {\n",
    "    \"N\": [41],\n",
    "    \"province\": [\"Ontario\"],\n",
    "    \"random_seed\": range(20, 25),\n",
    "    \"start_year\": 2000,\n",
    "    \"n_segregation_steps\": [40],\n",
    "    \"interact\": [False],\n",
    "    # \"tech_att_mode_table\": [tech_attitude_scenario],\n",
    "    \"ts_step_length\": [\"W\"],\n",
    "    \"hp_subsidy\": [0.3]\n",
    "}\n",
    "%timeit BatchResult.from_parameters(batch_parameters, display_progress=True, force_rerun=True)\n",
    "# 17.6 s ± 977 ms (after optimisation - 79f10fa)"
   ]
  },
  {
   "cell_type": "code",
   "execution_count": 98,
   "metadata": {},
   "outputs": [],
   "source": [
    "# from decision_making.mcda import calc_score, normalize\n",
    "import pandas as pd\n",
    "import numpy as np\n",
    "from functools import partial\n",
    "import numba\n",
    "\n",
    "\n",
    "# @numba.njit\n",
    "def normalize(var: np.array, direction=1):\n",
    "    \"\"\"normalizes the values to the interval [0, 1].\n",
    "\n",
    "    Args:\n",
    "        `var` (np.array): The array to be normalised.\n",
    "        `direction` (int, optional): indicates wether higher is better (1) or lower is better (-1). Defaults to 1.\n",
    "\n",
    "    Returns:\n",
    "        pd.Series: The normalised series.\n",
    "    \"\"\"\n",
    "    # if direction:\n",
    "    max_ = var.max()\n",
    "    min_ = var.min()\n",
    "    if direction == 1:\n",
    "        norm = (var - min_) / (max_ - min_)\n",
    "    elif direction == -1:\n",
    "        norm = (max_ - var) / (max_ - min_)\n",
    "\n",
    "    return norm\n",
    "\n",
    "def calc_scores(\n",
    "    agent,\n",
    "):\n",
    "    techs_df = agent.heat_techs_df.loc[agent.model.available_techs, :]\n",
    "    techs_df[\"attitude\"] = agent.tech_attitudes\n",
    "\n",
    "    # normalize values\n",
    "    cost_norm = normalize(techs_df[\"annual_cost\"].values, direction=-1)\n",
    "    emissions_norm = normalize(techs_df[\"emissions[kg_CO2/kWh_th]\"].values, direction=-1)\n",
    "    att_norm = normalize(techs_df[\"attitude\"].values)\n",
    "\n",
    "    np_weights = np.array(list(map(agent.criteria_weights.get,[\"cost_norm\",\"emissions_norm\",\"attitude_norm\"])))\n",
    "    scores = np.vstack([cost_norm, emissions_norm, att_norm]).T @ np_weights\n",
    "    return pd.Series(scores, index=techs_df.index)"
   ]
  },
  {
   "cell_type": "code",
   "execution_count": 99,
   "metadata": {},
   "outputs": [
    {
     "name": "stdout",
     "output_type": "stream",
     "text": [
      "1.13 ms ± 84.2 µs per loop (mean ± std. dev. of 7 runs, 1,000 loops each)\n"
     ]
    }
   ],
   "source": [
    "\n",
    "\n",
    "agent = model.schedule.agents[0]\n",
    "\n",
    "%timeit -n 1000 calc_scores(agent)\n",
    "# 6.57 ms ± 707 µs\n",
    "\n",
    "# after numba normalization:\n",
    "# 5.47 ms ± 978 µs\n",
    "\n",
    "# after removal of sorting and numpying calc_score function\n",
    "# 2.49 ms ± 287 µs\n",
    "\n",
    "# after removing some dataframe write operations\n",
    "# 1.11 ms ± 122\n",
    "# returning the numpy array or the df doesn't appear to make a big difference\n",
    "\n",
    "# returning techs_df[\"total_score\"] slows things down\n",
    "# 1.56 ms ± 186 µs"
   ]
  },
  {
   "cell_type": "code",
   "execution_count": 69,
   "metadata": {},
   "outputs": [],
   "source": [
    "techs_df = agent.heat_techs_df.loc[agent.model.available_techs, :]\n",
    "techs_df[\"attitude\"] = agent.tech_attitudes\n",
    "\n",
    "# normalize values\n",
    "cost_norm = normalize(techs_df[\"annual_cost\"].values, direction=-1)\n",
    "emissions_norm = normalize(techs_df[\"emissions[kg_CO2/kWh_th]\"].values, direction=-1)\n",
    "att_norm = normalize(techs_df[\"attitude\"].values)\n",
    "\n",
    "np_weights = np.array(list(map(agent.criteria_weights.get,[\"cost_norm\",\"emissions_norm\",\"attitude_norm\"])))\n",
    "# techs_df[\"total_score\"] = np.vstack([cost_norm, emissions_norm, att_norm]) @ np_weights"
   ]
  },
  {
   "cell_type": "code",
   "execution_count": 97,
   "metadata": {},
   "outputs": [
    {
     "data": {
      "text/plain": [
       "Gas furnace         0.970432\n",
       "Oil furnace         0.793876\n",
       "Biomass furnace     0.059073\n",
       "Electric furnace    0.901087\n",
       "Heat pump           0.970620\n",
       "dtype: float64"
      ]
     },
     "execution_count": 97,
     "metadata": {},
     "output_type": "execute_result"
    }
   ],
   "source": [
    "scores = calc_scores(agent)\n",
    "scores"
   ]
  },
  {
   "cell_type": "code",
   "execution_count": 79,
   "metadata": {},
   "outputs": [
    {
     "data": {
      "text/html": [
       "<div>\n",
       "<style scoped>\n",
       "    .dataframe tbody tr th:only-of-type {\n",
       "        vertical-align: middle;\n",
       "    }\n",
       "\n",
       "    .dataframe tbody tr th {\n",
       "        vertical-align: top;\n",
       "    }\n",
       "\n",
       "    .dataframe thead th {\n",
       "        text-align: right;\n",
       "    }\n",
       "</style>\n",
       "<table border=\"1\" class=\"dataframe\">\n",
       "  <thead>\n",
       "    <tr style=\"text-align: right;\">\n",
       "      <th>variable</th>\n",
       "      <th>emissions_norm</th>\n",
       "      <th>total_score</th>\n",
       "    </tr>\n",
       "  </thead>\n",
       "  <tbody>\n",
       "    <tr>\n",
       "      <th>Gas furnace</th>\n",
       "      <td>0.704463</td>\n",
       "      <td>0.970432</td>\n",
       "    </tr>\n",
       "    <tr>\n",
       "      <th>Oil furnace</th>\n",
       "      <td>0.000000</td>\n",
       "      <td>0.793876</td>\n",
       "    </tr>\n",
       "    <tr>\n",
       "      <th>Biomass furnace</th>\n",
       "      <td>0.682828</td>\n",
       "      <td>0.059073</td>\n",
       "    </tr>\n",
       "    <tr>\n",
       "      <th>Electric furnace</th>\n",
       "      <td>0.670346</td>\n",
       "      <td>0.901087</td>\n",
       "    </tr>\n",
       "    <tr>\n",
       "      <th>Heat pump</th>\n",
       "      <td>1.000000</td>\n",
       "      <td>0.970620</td>\n",
       "    </tr>\n",
       "  </tbody>\n",
       "</table>\n",
       "</div>"
      ],
      "text/plain": [
       "variable          emissions_norm  total_score\n",
       "Gas furnace             0.704463     0.970432\n",
       "Oil furnace             0.000000     0.793876\n",
       "Biomass furnace         0.682828     0.059073\n",
       "Electric furnace        0.670346     0.901087\n",
       "Heat pump               1.000000     0.970620"
      ]
     },
     "execution_count": 79,
     "metadata": {},
     "output_type": "execute_result"
    }
   ],
   "source": [
    "score_df = calc_scores(agent)\n",
    "relevant_cols = filter(lambda x: \"norm\" in x or \"score\" in x, score_df.columns)\n",
    "score_df.loc[:, relevant_cols]"
   ]
  },
  {
   "cell_type": "code",
   "execution_count": 63,
   "metadata": {},
   "outputs": [
    {
     "data": {
      "text/html": [
       "<div>\n",
       "<style scoped>\n",
       "    .dataframe tbody tr th:only-of-type {\n",
       "        vertical-align: middle;\n",
       "    }\n",
       "\n",
       "    .dataframe tbody tr th {\n",
       "        vertical-align: top;\n",
       "    }\n",
       "\n",
       "    .dataframe thead th {\n",
       "        text-align: right;\n",
       "    }\n",
       "</style>\n",
       "<table border=\"1\" class=\"dataframe\">\n",
       "  <thead>\n",
       "    <tr style=\"text-align: right;\">\n",
       "      <th>variable</th>\n",
       "      <th>emissions_norm</th>\n",
       "      <th>attitude_norm</th>\n",
       "      <th>cost_norm</th>\n",
       "      <th>total_score</th>\n",
       "    </tr>\n",
       "  </thead>\n",
       "  <tbody>\n",
       "    <tr>\n",
       "      <th>Gas furnace</th>\n",
       "      <td>0.704463</td>\n",
       "      <td>1.000000</td>\n",
       "      <td>0.995301</td>\n",
       "      <td>0.970432</td>\n",
       "    </tr>\n",
       "    <tr>\n",
       "      <th>Oil furnace</th>\n",
       "      <td>0.000000</td>\n",
       "      <td>0.171462</td>\n",
       "      <td>0.920022</td>\n",
       "      <td>0.793876</td>\n",
       "    </tr>\n",
       "    <tr>\n",
       "      <th>Biomass furnace</th>\n",
       "      <td>0.682828</td>\n",
       "      <td>0.000000</td>\n",
       "      <td>0.000000</td>\n",
       "      <td>0.059073</td>\n",
       "    </tr>\n",
       "    <tr>\n",
       "      <th>Electric furnace</th>\n",
       "      <td>0.670346</td>\n",
       "      <td>0.774030</td>\n",
       "      <td>0.933818</td>\n",
       "      <td>0.901087</td>\n",
       "    </tr>\n",
       "    <tr>\n",
       "      <th>Heat pump</th>\n",
       "      <td>1.000000</td>\n",
       "      <td>0.527568</td>\n",
       "      <td>1.000000</td>\n",
       "      <td>0.970620</td>\n",
       "    </tr>\n",
       "  </tbody>\n",
       "</table>\n",
       "</div>"
      ],
      "text/plain": [
       "variable          emissions_norm  attitude_norm  cost_norm  total_score\n",
       "Gas furnace             0.704463       1.000000   0.995301     0.970432\n",
       "Oil furnace             0.000000       0.171462   0.920022     0.793876\n",
       "Biomass furnace         0.682828       0.000000   0.000000     0.059073\n",
       "Electric furnace        0.670346       0.774030   0.933818     0.901087\n",
       "Heat pump               1.000000       0.527568   1.000000     0.970620"
      ]
     },
     "execution_count": 63,
     "metadata": {},
     "output_type": "execute_result"
    }
   ],
   "source": [
    "score_df = calc_scores(agent)\n",
    "relevant_cols = filter(lambda x: \"norm\" in x or \"score\" in x, score_df.columns)\n",
    "score_df.loc[:, relevant_cols]"
   ]
  },
  {
   "cell_type": "code",
   "execution_count": 62,
   "metadata": {},
   "outputs": [
    {
     "name": "stdout",
     "output_type": "stream",
     "text": [
      "6.44 µs ± 696 ns per loop (mean ± std. dev. of 7 runs, 100,000 loops each)\n"
     ]
    }
   ],
   "source": [
    "# %timeit techs_df[\"attitude_norm\"] = normalize(techs_df[\"attitude\"].values)\n",
    "# 71.4 µs ± 7.63 µs\n",
    "%timeit normalize(techs_df[\"attitude\"].values)\n",
    "# 6.44 µs ± 696 ! 10x faster without writing to dataframe"
   ]
  },
  {
   "cell_type": "code",
   "execution_count": 60,
   "metadata": {},
   "outputs": [
    {
     "name": "stdout",
     "output_type": "stream",
     "text": [
      "6.87 µs ± 505 ns per loop (mean ± std. dev. of 7 runs, 100,000 loops each)\n"
     ]
    }
   ],
   "source": [
    "# %timeit techs_df.loc[:, [\"cost_norm\"]] = normalize(techs_df[\"annual_cost\"].values, direction=-1)\n",
    "# 703 µs ± 66.8 µs \n",
    "%timeit normalize(techs_df[\"annual_cost\"].values, direction=-1)\n",
    "# 6.87 µs ± 505 ns !!! 100x faster without writing to dataframe!"
   ]
  },
  {
   "cell_type": "code",
   "execution_count": null,
   "metadata": {},
   "outputs": [],
   "source": [
    "%timeit np.array(list(map(agent.criteria_weights.get,[\"cost_norm\",\"emissions_norm\",\"attitude_norm\"])))"
   ]
  },
  {
   "cell_type": "code",
   "execution_count": 57,
   "metadata": {},
   "outputs": [
    {
     "name": "stdout",
     "output_type": "stream",
     "text": [
      "438 µs ± 50.5 µs per loop (mean ± std. dev. of 7 runs, 1,000 loops each)\n"
     ]
    }
   ],
   "source": [
    "%timeit techs_df[[\"cost_norm\", \"emissions_norm\", \"attitude_norm\"]].values @ np_weights"
   ]
  },
  {
   "cell_type": "code",
   "execution_count": null,
   "metadata": {},
   "outputs": [],
   "source": []
  },
  {
   "cell_type": "code",
   "execution_count": 126,
   "metadata": {},
   "outputs": [],
   "source": [
    "from components.technologies import Fuels,tech_fuel_map\n",
    "# from components.technologies import \n",
    "def energy_demand_ts(model):\n",
    "    energy_carrier_demand = dict(zip(Fuels, [0] * len(Fuels)))\n",
    "\n",
    "    zero_demand_fuels = list(Fuels)\n",
    "    # retrieve the energy demand from each agent\n",
    "    for a in model.schedule.agents:\n",
    "        # get fueltype of agent\n",
    "        fuel = a.heating_tech.fuel\n",
    "        if fuel in zero_demand_fuels:\n",
    "            zero_demand_fuels.remove(fuel)\n",
    "        energy_carrier_demand[fuel] += a.current_fuel_demand.values\n",
    "\n",
    "    any_demand_fuel = set(Fuels).difference(zero_demand_fuels).pop()\n",
    "    for fuel in zero_demand_fuels:\n",
    "        energy_carrier_demand[fuel] = energy_carrier_demand[any_demand_fuel] * 0\n",
    "\n",
    "    return energy_carrier_demand\n",
    "\n",
    "\n",
    "# def energy_demand_ts(model):\n",
    "#     demand_srs = list(map(lambda a: a.current_fuel_demand, model.schedule.agents))\n",
    "#     demand_df = pd.concat(demand_srs, axis=1)\n",
    "#     # replace techs with fuels\n",
    "#     demand_df.columns = [tech_fuel_map[tech] for tech in demand_df.columns]\n",
    "#     demand_df = demand_df.T.reset_index().groupby(\"index\").sum().T\n",
    "\n",
    "#     missing_fuels = set(Fuels).difference(demand_df.columns)\n",
    "\n",
    "#     # add missing fuel\n",
    "#     demand_df[[*missing_fuels]] = 0\n",
    "    \n",
    "#     return {col:demand_df[col] for col in demand_df}"
   ]
  },
  {
   "cell_type": "code",
   "execution_count": null,
   "metadata": {},
   "outputs": [],
   "source": []
  }
 ],
 "metadata": {
  "kernelspec": {
   "display_name": "cando",
   "language": "python",
   "name": "python3"
  },
  "language_info": {
   "codemirror_mode": {
    "name": "ipython",
    "version": 3
   },
   "file_extension": ".py",
   "mimetype": "text/x-python",
   "name": "python",
   "nbconvert_exporter": "python",
   "pygments_lexer": "ipython3",
   "version": "3.10.14"
  }
 },
 "nbformat": 4,
 "nbformat_minor": 2
}
